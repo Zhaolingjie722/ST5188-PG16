{
 "cells": [
  {
   "cell_type": "code",
   "execution_count": 22,
   "id": "2c9ef1c8-4598-4b37-b72c-cce7d190c585",
   "metadata": {},
   "outputs": [
    {
     "name": "stdout",
     "output_type": "stream",
     "text": [
      "Collecting pydub\n",
      "  Downloading pydub-0.25.1-py2.py3-none-any.whl.metadata (1.4 kB)\n",
      "Downloading pydub-0.25.1-py2.py3-none-any.whl (32 kB)\n",
      "Installing collected packages: pydub\n",
      "Successfully installed pydub-0.25.1\n"
     ]
    }
   ],
   "source": [
    "!pip install pydub"
   ]
  },
  {
   "cell_type": "code",
   "execution_count": 10,
   "id": "f90f01fb-45c8-4396-941a-31c24af939be",
   "metadata": {},
   "outputs": [],
   "source": [
    "import os\n",
    "import pandas as pd\n",
    "from pydub import AudioSegment\n",
    "from tqdm import tqdm"
   ]
  },
  {
   "cell_type": "code",
   "execution_count": 9,
   "id": "12b27db7-d026-4392-b697-7494e82e9350",
   "metadata": {},
   "outputs": [
    {
     "name": "stdout",
     "output_type": "stream",
     "text": [
      "640\n"
     ]
    }
   ],
   "source": [
    "# !rm -rf ../Data/11lab\n",
    "# !find ../Data/11lab -type f | wc -l"
   ]
  },
  {
   "cell_type": "code",
   "execution_count": 11,
   "id": "3cb9e074-459c-4c8a-b9e3-ab2d0dab6733",
   "metadata": {},
   "outputs": [],
   "source": [
    "def convert_mp3_to_wav(file_path, target_ext='.wav'):\n",
    "    base, ext = os.path.splitext(file_path)\n",
    "    if ext.lower() == '.wav':\n",
    "        return file_path  # 已经是 wav 格式，无需转换\n",
    "    try:\n",
    "        # 使用 AudioSegment.from_mp3 读取 mp3 文件\n",
    "        audio = AudioSegment.from_mp3(file_path)\n",
    "        # 构建新文件路径（将扩展名改为 .wav）\n",
    "        new_file = base + target_ext\n",
    "        # 导出为 wav 格式\n",
    "        audio.export(new_file, format='wav')\n",
    "        # print(f\"Converted {file_path} -> {new_file}\")\n",
    "        return new_file\n",
    "    except Exception as e:\n",
    "        print(f\"转换文件 {file_path} 失败：{e}\")\n",
    "        # 如果转换失败，返回原路径（后续可以根据需要过滤）\n",
    "        return file_path\n",
    "\n",
    "\n",
    "def generate_wav_csv(folder, csv_output):\n",
    "    \"\"\"\n",
    "    遍历指定文件夹下所有 mp3 文件，转换为 wav 格式后生成 CSV 文件。\n",
    "    \n",
    "    CSV 文件格式：\n",
    "      - data_source：固定为 \"11lab\"\n",
    "      - speaker：固定为 \"11lab\"\n",
    "      - absolute_path：wav 文件的绝对路径\n",
    "      - relative_path：相对于 folder 的路径\n",
    "      - label：固定为 0\n",
    "      - Set：固定为 \"test\"\n",
    "    \"\"\"\n",
    "    rows = []\n",
    "    # 遍历目录（递归查找）\n",
    "    for root, dirs, files in os.walk(folder):\n",
    "        for filename in tqdm(files):\n",
    "            # 仅处理 mp3 文件\n",
    "            if filename.lower().endswith('.mp3'):\n",
    "                original_path = os.path.join(root, filename)\n",
    "                # 将 mp3 转换为 wav\n",
    "                wav_path = convert_mp3_to_wav(original_path)\n",
    "                # 获取绝对路径\n",
    "                abs_path = os.path.abspath(wav_path)\n",
    "                # 获取相对于目标文件夹的相对路径\n",
    "                rel_path = os.path.relpath(abs_path, os.path.abspath(folder))\n",
    "                row = {\n",
    "                    \"data_source\": \"11lab\",\n",
    "                    \"speaker\": \"11lab\",\n",
    "                    \"absolute_path\": abs_path,\n",
    "                    \"relative_path\": rel_path,\n",
    "                    \"label\": 0,\n",
    "                    \"Set\": \"test\"\n",
    "                }\n",
    "                rows.append(row)\n",
    "\n",
    "    df = pd.DataFrame(rows)\n",
    "    df.to_csv(csv_output, index=False)\n",
    "    print(f\"CSV 文件已生成：{csv_output}\")"
   ]
  },
  {
   "cell_type": "code",
   "execution_count": null,
   "id": "82ec5742-777b-40bf-be03-3d80b34d742f",
   "metadata": {
    "scrolled": true
   },
   "outputs": [
    {
     "name": "stderr",
     "output_type": "stream",
     "text": [
      " 27%|██▋       | 170/640 [00:57<02:35,  3.02it/s]"
     ]
    },
    {
     "name": "stdout",
     "output_type": "stream",
     "text": [
      "转换文件 ../Data/11lab/7f72624a-9e80-4962-b048-a16fa203197d.mp3 失败：Decoding failed. ffmpeg returned error code: 1\n",
      "\n",
      "Output from ffmpeg/avlib:\n",
      "\n",
      "ffmpeg version 4.3.8-0+deb11u3 Copyright (c) 2000-2024 the FFmpeg developers\n",
      "  built with gcc 10 (Debian 10.2.1-6)\n",
      "  configuration: --prefix=/usr --extra-version=0+deb11u3 --toolchain=hardened --libdir=/usr/lib/x86_64-linux-gnu --incdir=/usr/include/x86_64-linux-gnu --arch=amd64 --enable-gpl --disable-stripping --enable-avresample --disable-filter=resample --enable-gnutls --enable-ladspa --enable-libaom --enable-libass --enable-libbluray --enable-libbs2b --enable-libcaca --enable-libcdio --enable-libcodec2 --enable-libdav1d --enable-libflite --enable-libfontconfig --enable-libfreetype --enable-libfribidi --enable-libgme --enable-libgsm --enable-libjack --enable-libmp3lame --enable-libmysofa --enable-libopenjpeg --enable-libopenmpt --enable-libopus --enable-libpulse --enable-librabbitmq --enable-librsvg --enable-librubberband --enable-libshine --enable-libsnappy --enable-libsoxr --enable-libspeex --enable-libsrt --enable-libssh --enable-libtheora --enable-libtwolame --enable-libvidstab --enable-libvorbis --enable-libvpx --enable-libwavpack --enable-libwebp --enable-libx265 --enable-libxml2 --enable-libxvid --enable-libzmq --enable-libzvbi --enable-lv2 --enable-omx --enable-openal --enable-opencl --enable-opengl --enable-sdl2 --enable-pocketsphinx --enable-libmfx --enable-libdc1394 --enable-libdrm --enable-libiec61883 --enable-chromaprint --enable-frei0r --enable-libx264 --enable-shared\n",
      "  libavutil      56. 51.100 / 56. 51.100\n",
      "  libavcodec     58. 91.100 / 58. 91.100\n",
      "  libavformat    58. 45.100 / 58. 45.100\n",
      "  libavdevice    58. 10.100 / 58. 10.100\n",
      "  libavfilter     7. 85.100 /  7. 85.100\n",
      "  libavresample   4.  0.  0 /  4.  0.  0\n",
      "  libswscale      5.  7.100 /  5.  7.100\n",
      "  libswresample   3.  7.100 /  3.  7.100\n",
      "  libpostproc    55.  7.100 / 55.  7.100\n",
      "[mp3 @ 0x55aabc961880] Failed to read frame size: Could not seek to 1026.\n",
      "../Data/11lab/7f72624a-9e80-4962-b048-a16fa203197d.mp3: Invalid argument\n",
      "\n"
     ]
    },
    {
     "name": "stderr",
     "output_type": "stream",
     "text": [
      " 29%|██▉       | 186/640 [01:03<02:19,  3.25it/s]"
     ]
    },
    {
     "name": "stdout",
     "output_type": "stream",
     "text": [
      "转换文件 ../Data/11lab/f0754c4a-ee8f-4ecb-8e48-2ffce652da48.mp3 失败：Decoding failed. ffmpeg returned error code: 1\n",
      "\n",
      "Output from ffmpeg/avlib:\n",
      "\n",
      "ffmpeg version 4.3.8-0+deb11u3 Copyright (c) 2000-2024 the FFmpeg developers\n",
      "  built with gcc 10 (Debian 10.2.1-6)\n",
      "  configuration: --prefix=/usr --extra-version=0+deb11u3 --toolchain=hardened --libdir=/usr/lib/x86_64-linux-gnu --incdir=/usr/include/x86_64-linux-gnu --arch=amd64 --enable-gpl --disable-stripping --enable-avresample --disable-filter=resample --enable-gnutls --enable-ladspa --enable-libaom --enable-libass --enable-libbluray --enable-libbs2b --enable-libcaca --enable-libcdio --enable-libcodec2 --enable-libdav1d --enable-libflite --enable-libfontconfig --enable-libfreetype --enable-libfribidi --enable-libgme --enable-libgsm --enable-libjack --enable-libmp3lame --enable-libmysofa --enable-libopenjpeg --enable-libopenmpt --enable-libopus --enable-libpulse --enable-librabbitmq --enable-librsvg --enable-librubberband --enable-libshine --enable-libsnappy --enable-libsoxr --enable-libspeex --enable-libsrt --enable-libssh --enable-libtheora --enable-libtwolame --enable-libvidstab --enable-libvorbis --enable-libvpx --enable-libwavpack --enable-libwebp --enable-libx265 --enable-libxml2 --enable-libxvid --enable-libzmq --enable-libzvbi --enable-lv2 --enable-omx --enable-openal --enable-opencl --enable-opengl --enable-sdl2 --enable-pocketsphinx --enable-libmfx --enable-libdc1394 --enable-libdrm --enable-libiec61883 --enable-chromaprint --enable-frei0r --enable-libx264 --enable-shared\n",
      "  libavutil      56. 51.100 / 56. 51.100\n",
      "  libavcodec     58. 91.100 / 58. 91.100\n",
      "  libavformat    58. 45.100 / 58. 45.100\n",
      "  libavdevice    58. 10.100 / 58. 10.100\n",
      "  libavfilter     7. 85.100 /  7. 85.100\n",
      "  libavresample   4.  0.  0 /  4.  0.  0\n",
      "  libswscale      5.  7.100 /  5.  7.100\n",
      "  libswresample   3.  7.100 /  3.  7.100\n",
      "  libpostproc    55.  7.100 / 55.  7.100\n",
      "[mp3 @ 0x555e0047e880] Failed to read frame size: Could not seek to 1026.\n",
      "../Data/11lab/f0754c4a-ee8f-4ecb-8e48-2ffce652da48.mp3: Invalid argument\n",
      "\n"
     ]
    },
    {
     "name": "stderr",
     "output_type": "stream",
     "text": [
      " 35%|███▍      | 222/640 [01:14<02:09,  3.23it/s]"
     ]
    },
    {
     "name": "stdout",
     "output_type": "stream",
     "text": [
      "转换文件 ../Data/11lab/eb7588a9-265c-4fe3-9ca0-0eb2ea49ad3c.mp3 失败：Decoding failed. ffmpeg returned error code: 1\n",
      "\n",
      "Output from ffmpeg/avlib:\n",
      "\n",
      "ffmpeg version 4.3.8-0+deb11u3 Copyright (c) 2000-2024 the FFmpeg developers\n",
      "  built with gcc 10 (Debian 10.2.1-6)\n",
      "  configuration: --prefix=/usr --extra-version=0+deb11u3 --toolchain=hardened --libdir=/usr/lib/x86_64-linux-gnu --incdir=/usr/include/x86_64-linux-gnu --arch=amd64 --enable-gpl --disable-stripping --enable-avresample --disable-filter=resample --enable-gnutls --enable-ladspa --enable-libaom --enable-libass --enable-libbluray --enable-libbs2b --enable-libcaca --enable-libcdio --enable-libcodec2 --enable-libdav1d --enable-libflite --enable-libfontconfig --enable-libfreetype --enable-libfribidi --enable-libgme --enable-libgsm --enable-libjack --enable-libmp3lame --enable-libmysofa --enable-libopenjpeg --enable-libopenmpt --enable-libopus --enable-libpulse --enable-librabbitmq --enable-librsvg --enable-librubberband --enable-libshine --enable-libsnappy --enable-libsoxr --enable-libspeex --enable-libsrt --enable-libssh --enable-libtheora --enable-libtwolame --enable-libvidstab --enable-libvorbis --enable-libvpx --enable-libwavpack --enable-libwebp --enable-libx265 --enable-libxml2 --enable-libxvid --enable-libzmq --enable-libzvbi --enable-lv2 --enable-omx --enable-openal --enable-opencl --enable-opengl --enable-sdl2 --enable-pocketsphinx --enable-libmfx --enable-libdc1394 --enable-libdrm --enable-libiec61883 --enable-chromaprint --enable-frei0r --enable-libx264 --enable-shared\n",
      "  libavutil      56. 51.100 / 56. 51.100\n",
      "  libavcodec     58. 91.100 / 58. 91.100\n",
      "  libavformat    58. 45.100 / 58. 45.100\n",
      "  libavdevice    58. 10.100 / 58. 10.100\n",
      "  libavfilter     7. 85.100 /  7. 85.100\n",
      "  libavresample   4.  0.  0 /  4.  0.  0\n",
      "  libswscale      5.  7.100 /  5.  7.100\n",
      "  libswresample   3.  7.100 /  3.  7.100\n",
      "  libpostproc    55.  7.100 / 55.  7.100\n",
      "[mp3 @ 0x5586333c8880] Failed to read frame size: Could not seek to 1026.\n",
      "../Data/11lab/eb7588a9-265c-4fe3-9ca0-0eb2ea49ad3c.mp3: Invalid argument\n",
      "\n"
     ]
    },
    {
     "name": "stderr",
     "output_type": "stream",
     "text": [
      " 51%|█████     | 325/640 [01:49<01:39,  3.18it/s]"
     ]
    },
    {
     "name": "stdout",
     "output_type": "stream",
     "text": [
      "转换文件 ../Data/11lab/1609bf87-52dd-4cd5-9190-7d905dd10d0b.mp3 失败：Decoding failed. ffmpeg returned error code: 1\n",
      "\n",
      "Output from ffmpeg/avlib:\n",
      "\n",
      "ffmpeg version 4.3.8-0+deb11u3 Copyright (c) 2000-2024 the FFmpeg developers\n",
      "  built with gcc 10 (Debian 10.2.1-6)\n",
      "  configuration: --prefix=/usr --extra-version=0+deb11u3 --toolchain=hardened --libdir=/usr/lib/x86_64-linux-gnu --incdir=/usr/include/x86_64-linux-gnu --arch=amd64 --enable-gpl --disable-stripping --enable-avresample --disable-filter=resample --enable-gnutls --enable-ladspa --enable-libaom --enable-libass --enable-libbluray --enable-libbs2b --enable-libcaca --enable-libcdio --enable-libcodec2 --enable-libdav1d --enable-libflite --enable-libfontconfig --enable-libfreetype --enable-libfribidi --enable-libgme --enable-libgsm --enable-libjack --enable-libmp3lame --enable-libmysofa --enable-libopenjpeg --enable-libopenmpt --enable-libopus --enable-libpulse --enable-librabbitmq --enable-librsvg --enable-librubberband --enable-libshine --enable-libsnappy --enable-libsoxr --enable-libspeex --enable-libsrt --enable-libssh --enable-libtheora --enable-libtwolame --enable-libvidstab --enable-libvorbis --enable-libvpx --enable-libwavpack --enable-libwebp --enable-libx265 --enable-libxml2 --enable-libxvid --enable-libzmq --enable-libzvbi --enable-lv2 --enable-omx --enable-openal --enable-opencl --enable-opengl --enable-sdl2 --enable-pocketsphinx --enable-libmfx --enable-libdc1394 --enable-libdrm --enable-libiec61883 --enable-chromaprint --enable-frei0r --enable-libx264 --enable-shared\n",
      "  libavutil      56. 51.100 / 56. 51.100\n",
      "  libavcodec     58. 91.100 / 58. 91.100\n",
      "  libavformat    58. 45.100 / 58. 45.100\n",
      "  libavdevice    58. 10.100 / 58. 10.100\n",
      "  libavfilter     7. 85.100 /  7. 85.100\n",
      "  libavresample   4.  0.  0 /  4.  0.  0\n",
      "  libswscale      5.  7.100 /  5.  7.100\n",
      "  libswresample   3.  7.100 /  3.  7.100\n",
      "  libpostproc    55.  7.100 / 55.  7.100\n",
      "[mp3 @ 0x55bcb394d880] Failed to read frame size: Could not seek to 1026.\n",
      "../Data/11lab/1609bf87-52dd-4cd5-9190-7d905dd10d0b.mp3: Invalid argument\n",
      "\n"
     ]
    },
    {
     "name": "stderr",
     "output_type": "stream",
     "text": [
      " 52%|█████▎    | 336/640 [01:52<01:35,  3.20it/s]"
     ]
    },
    {
     "name": "stdout",
     "output_type": "stream",
     "text": [
      "转换文件 ../Data/11lab/3a76d69f-348b-4c55-9305-d5e84a1eaca6.mp3 失败：Decoding failed. ffmpeg returned error code: 1\n",
      "\n",
      "Output from ffmpeg/avlib:\n",
      "\n",
      "ffmpeg version 4.3.8-0+deb11u3 Copyright (c) 2000-2024 the FFmpeg developers\n",
      "  built with gcc 10 (Debian 10.2.1-6)\n",
      "  configuration: --prefix=/usr --extra-version=0+deb11u3 --toolchain=hardened --libdir=/usr/lib/x86_64-linux-gnu --incdir=/usr/include/x86_64-linux-gnu --arch=amd64 --enable-gpl --disable-stripping --enable-avresample --disable-filter=resample --enable-gnutls --enable-ladspa --enable-libaom --enable-libass --enable-libbluray --enable-libbs2b --enable-libcaca --enable-libcdio --enable-libcodec2 --enable-libdav1d --enable-libflite --enable-libfontconfig --enable-libfreetype --enable-libfribidi --enable-libgme --enable-libgsm --enable-libjack --enable-libmp3lame --enable-libmysofa --enable-libopenjpeg --enable-libopenmpt --enable-libopus --enable-libpulse --enable-librabbitmq --enable-librsvg --enable-librubberband --enable-libshine --enable-libsnappy --enable-libsoxr --enable-libspeex --enable-libsrt --enable-libssh --enable-libtheora --enable-libtwolame --enable-libvidstab --enable-libvorbis --enable-libvpx --enable-libwavpack --enable-libwebp --enable-libx265 --enable-libxml2 --enable-libxvid --enable-libzmq --enable-libzvbi --enable-lv2 --enable-omx --enable-openal --enable-opencl --enable-opengl --enable-sdl2 --enable-pocketsphinx --enable-libmfx --enable-libdc1394 --enable-libdrm --enable-libiec61883 --enable-chromaprint --enable-frei0r --enable-libx264 --enable-shared\n",
      "  libavutil      56. 51.100 / 56. 51.100\n",
      "  libavcodec     58. 91.100 / 58. 91.100\n",
      "  libavformat    58. 45.100 / 58. 45.100\n",
      "  libavdevice    58. 10.100 / 58. 10.100\n",
      "  libavfilter     7. 85.100 /  7. 85.100\n",
      "  libavresample   4.  0.  0 /  4.  0.  0\n",
      "  libswscale      5.  7.100 /  5.  7.100\n",
      "  libswresample   3.  7.100 /  3.  7.100\n",
      "  libpostproc    55.  7.100 / 55.  7.100\n",
      "[mp3 @ 0x56008af6c880] Failed to read frame size: Could not seek to 1026.\n",
      "../Data/11lab/3a76d69f-348b-4c55-9305-d5e84a1eaca6.mp3: Invalid argument\n",
      "\n"
     ]
    },
    {
     "name": "stderr",
     "output_type": "stream",
     "text": [
      " 53%|█████▎    | 338/640 [01:53<01:29,  3.37it/s]"
     ]
    },
    {
     "name": "stdout",
     "output_type": "stream",
     "text": [
      "转换文件 ../Data/11lab/68dac79f-8fa9-48ba-b232-3b2886204d98.mp3 失败：Decoding failed. ffmpeg returned error code: 1\n",
      "\n",
      "Output from ffmpeg/avlib:\n",
      "\n",
      "ffmpeg version 4.3.8-0+deb11u3 Copyright (c) 2000-2024 the FFmpeg developers\n",
      "  built with gcc 10 (Debian 10.2.1-6)\n",
      "  configuration: --prefix=/usr --extra-version=0+deb11u3 --toolchain=hardened --libdir=/usr/lib/x86_64-linux-gnu --incdir=/usr/include/x86_64-linux-gnu --arch=amd64 --enable-gpl --disable-stripping --enable-avresample --disable-filter=resample --enable-gnutls --enable-ladspa --enable-libaom --enable-libass --enable-libbluray --enable-libbs2b --enable-libcaca --enable-libcdio --enable-libcodec2 --enable-libdav1d --enable-libflite --enable-libfontconfig --enable-libfreetype --enable-libfribidi --enable-libgme --enable-libgsm --enable-libjack --enable-libmp3lame --enable-libmysofa --enable-libopenjpeg --enable-libopenmpt --enable-libopus --enable-libpulse --enable-librabbitmq --enable-librsvg --enable-librubberband --enable-libshine --enable-libsnappy --enable-libsoxr --enable-libspeex --enable-libsrt --enable-libssh --enable-libtheora --enable-libtwolame --enable-libvidstab --enable-libvorbis --enable-libvpx --enable-libwavpack --enable-libwebp --enable-libx265 --enable-libxml2 --enable-libxvid --enable-libzmq --enable-libzvbi --enable-lv2 --enable-omx --enable-openal --enable-opencl --enable-opengl --enable-sdl2 --enable-pocketsphinx --enable-libmfx --enable-libdc1394 --enable-libdrm --enable-libiec61883 --enable-chromaprint --enable-frei0r --enable-libx264 --enable-shared\n",
      "  libavutil      56. 51.100 / 56. 51.100\n",
      "  libavcodec     58. 91.100 / 58. 91.100\n",
      "  libavformat    58. 45.100 / 58. 45.100\n",
      "  libavdevice    58. 10.100 / 58. 10.100\n",
      "  libavfilter     7. 85.100 /  7. 85.100\n",
      "  libavresample   4.  0.  0 /  4.  0.  0\n",
      "  libswscale      5.  7.100 /  5.  7.100\n",
      "  libswresample   3.  7.100 /  3.  7.100\n",
      "  libpostproc    55.  7.100 / 55.  7.100\n",
      "[mp3 @ 0x55fd7b3d3880] Failed to read frame size: Could not seek to 1026.\n",
      "../Data/11lab/68dac79f-8fa9-48ba-b232-3b2886204d98.mp3: Invalid argument\n",
      "\n"
     ]
    },
    {
     "name": "stderr",
     "output_type": "stream",
     "text": [
      " 73%|███████▎  | 466/640 [02:36<00:57,  3.01it/s]"
     ]
    }
   ],
   "source": [
    "target_folder = '../Data/11lab'\n",
    "csv_file = '11lab.csv'\n",
    "generate_wav_csv(target_folder, csv_file)"
   ]
  },
  {
   "cell_type": "code",
   "execution_count": 4,
   "id": "2ca52d37-437a-4ef3-b756-b25b40ace6a5",
   "metadata": {
    "collapsed": true,
    "jupyter": {
     "outputs_hidden": true
    }
   },
   "outputs": [
    {
     "ename": "EmptyDataError",
     "evalue": "No columns to parse from file",
     "output_type": "error",
     "traceback": [
      "\u001B[0;31m---------------------------------------------------------------------------\u001B[0m",
      "\u001B[0;31mEmptyDataError\u001B[0m                            Traceback (most recent call last)",
      "Cell \u001B[0;32mIn[4], line 1\u001B[0m\n\u001B[0;32m----> 1\u001B[0m labaudio \u001B[38;5;241m=\u001B[39m \u001B[43mpd\u001B[49m\u001B[38;5;241;43m.\u001B[39;49m\u001B[43mread_csv\u001B[49m\u001B[43m(\u001B[49m\u001B[38;5;124;43m'\u001B[39;49m\u001B[38;5;124;43m11lab.csv\u001B[39;49m\u001B[38;5;124;43m'\u001B[39;49m\u001B[43m)\u001B[49m\n\u001B[1;32m      2\u001B[0m df \u001B[38;5;241m=\u001B[39m labaudio[labaudio[\u001B[38;5;124m\"\u001B[39m\u001B[38;5;124mabsolute_path\u001B[39m\u001B[38;5;124m\"\u001B[39m]\u001B[38;5;241m.\u001B[39mstr\u001B[38;5;241m.\u001B[39mlower()\u001B[38;5;241m.\u001B[39mstr\u001B[38;5;241m.\u001B[39mendswith(\u001B[38;5;124m\"\u001B[39m\u001B[38;5;124m.wav\u001B[39m\u001B[38;5;124m\"\u001B[39m, na\u001B[38;5;241m=\u001B[39m\u001B[38;5;28;01mFalse\u001B[39;00m)]\u001B[38;5;241m.\u001B[39mloc[:, \u001B[38;5;241m~\u001B[39mlabaudio\u001B[38;5;241m.\u001B[39mcolumns\u001B[38;5;241m.\u001B[39mstr\u001B[38;5;241m.\u001B[39mcontains(\u001B[38;5;124m'\u001B[39m\u001B[38;5;124m^Unnamed\u001B[39m\u001B[38;5;124m'\u001B[39m)]\n\u001B[1;32m      3\u001B[0m df\u001B[38;5;241m.\u001B[39mhead()\n",
      "File \u001B[0;32m/opt/conda/lib/python3.10/site-packages/pandas/io/parsers/readers.py:1026\u001B[0m, in \u001B[0;36mread_csv\u001B[0;34m(filepath_or_buffer, sep, delimiter, header, names, index_col, usecols, dtype, engine, converters, true_values, false_values, skipinitialspace, skiprows, skipfooter, nrows, na_values, keep_default_na, na_filter, verbose, skip_blank_lines, parse_dates, infer_datetime_format, keep_date_col, date_parser, date_format, dayfirst, cache_dates, iterator, chunksize, compression, thousands, decimal, lineterminator, quotechar, quoting, doublequote, escapechar, comment, encoding, encoding_errors, dialect, on_bad_lines, delim_whitespace, low_memory, memory_map, float_precision, storage_options, dtype_backend)\u001B[0m\n\u001B[1;32m   1013\u001B[0m kwds_defaults \u001B[38;5;241m=\u001B[39m _refine_defaults_read(\n\u001B[1;32m   1014\u001B[0m     dialect,\n\u001B[1;32m   1015\u001B[0m     delimiter,\n\u001B[0;32m   (...)\u001B[0m\n\u001B[1;32m   1022\u001B[0m     dtype_backend\u001B[38;5;241m=\u001B[39mdtype_backend,\n\u001B[1;32m   1023\u001B[0m )\n\u001B[1;32m   1024\u001B[0m kwds\u001B[38;5;241m.\u001B[39mupdate(kwds_defaults)\n\u001B[0;32m-> 1026\u001B[0m \u001B[38;5;28;01mreturn\u001B[39;00m \u001B[43m_read\u001B[49m\u001B[43m(\u001B[49m\u001B[43mfilepath_or_buffer\u001B[49m\u001B[43m,\u001B[49m\u001B[43m \u001B[49m\u001B[43mkwds\u001B[49m\u001B[43m)\u001B[49m\n",
      "File \u001B[0;32m/opt/conda/lib/python3.10/site-packages/pandas/io/parsers/readers.py:620\u001B[0m, in \u001B[0;36m_read\u001B[0;34m(filepath_or_buffer, kwds)\u001B[0m\n\u001B[1;32m    617\u001B[0m _validate_names(kwds\u001B[38;5;241m.\u001B[39mget(\u001B[38;5;124m\"\u001B[39m\u001B[38;5;124mnames\u001B[39m\u001B[38;5;124m\"\u001B[39m, \u001B[38;5;28;01mNone\u001B[39;00m))\n\u001B[1;32m    619\u001B[0m \u001B[38;5;66;03m# Create the parser.\u001B[39;00m\n\u001B[0;32m--> 620\u001B[0m parser \u001B[38;5;241m=\u001B[39m \u001B[43mTextFileReader\u001B[49m\u001B[43m(\u001B[49m\u001B[43mfilepath_or_buffer\u001B[49m\u001B[43m,\u001B[49m\u001B[43m \u001B[49m\u001B[38;5;241;43m*\u001B[39;49m\u001B[38;5;241;43m*\u001B[39;49m\u001B[43mkwds\u001B[49m\u001B[43m)\u001B[49m\n\u001B[1;32m    622\u001B[0m \u001B[38;5;28;01mif\u001B[39;00m chunksize \u001B[38;5;129;01mor\u001B[39;00m iterator:\n\u001B[1;32m    623\u001B[0m     \u001B[38;5;28;01mreturn\u001B[39;00m parser\n",
      "File \u001B[0;32m/opt/conda/lib/python3.10/site-packages/pandas/io/parsers/readers.py:1620\u001B[0m, in \u001B[0;36mTextFileReader.__init__\u001B[0;34m(self, f, engine, **kwds)\u001B[0m\n\u001B[1;32m   1617\u001B[0m     \u001B[38;5;28mself\u001B[39m\u001B[38;5;241m.\u001B[39moptions[\u001B[38;5;124m\"\u001B[39m\u001B[38;5;124mhas_index_names\u001B[39m\u001B[38;5;124m\"\u001B[39m] \u001B[38;5;241m=\u001B[39m kwds[\u001B[38;5;124m\"\u001B[39m\u001B[38;5;124mhas_index_names\u001B[39m\u001B[38;5;124m\"\u001B[39m]\n\u001B[1;32m   1619\u001B[0m \u001B[38;5;28mself\u001B[39m\u001B[38;5;241m.\u001B[39mhandles: IOHandles \u001B[38;5;241m|\u001B[39m \u001B[38;5;28;01mNone\u001B[39;00m \u001B[38;5;241m=\u001B[39m \u001B[38;5;28;01mNone\u001B[39;00m\n\u001B[0;32m-> 1620\u001B[0m \u001B[38;5;28mself\u001B[39m\u001B[38;5;241m.\u001B[39m_engine \u001B[38;5;241m=\u001B[39m \u001B[38;5;28;43mself\u001B[39;49m\u001B[38;5;241;43m.\u001B[39;49m\u001B[43m_make_engine\u001B[49m\u001B[43m(\u001B[49m\u001B[43mf\u001B[49m\u001B[43m,\u001B[49m\u001B[43m \u001B[49m\u001B[38;5;28;43mself\u001B[39;49m\u001B[38;5;241;43m.\u001B[39;49m\u001B[43mengine\u001B[49m\u001B[43m)\u001B[49m\n",
      "File \u001B[0;32m/opt/conda/lib/python3.10/site-packages/pandas/io/parsers/readers.py:1898\u001B[0m, in \u001B[0;36mTextFileReader._make_engine\u001B[0;34m(self, f, engine)\u001B[0m\n\u001B[1;32m   1895\u001B[0m     \u001B[38;5;28;01mraise\u001B[39;00m \u001B[38;5;167;01mValueError\u001B[39;00m(msg)\n\u001B[1;32m   1897\u001B[0m \u001B[38;5;28;01mtry\u001B[39;00m:\n\u001B[0;32m-> 1898\u001B[0m     \u001B[38;5;28;01mreturn\u001B[39;00m \u001B[43mmapping\u001B[49m\u001B[43m[\u001B[49m\u001B[43mengine\u001B[49m\u001B[43m]\u001B[49m\u001B[43m(\u001B[49m\u001B[43mf\u001B[49m\u001B[43m,\u001B[49m\u001B[43m \u001B[49m\u001B[38;5;241;43m*\u001B[39;49m\u001B[38;5;241;43m*\u001B[39;49m\u001B[38;5;28;43mself\u001B[39;49m\u001B[38;5;241;43m.\u001B[39;49m\u001B[43moptions\u001B[49m\u001B[43m)\u001B[49m\n\u001B[1;32m   1899\u001B[0m \u001B[38;5;28;01mexcept\u001B[39;00m \u001B[38;5;167;01mException\u001B[39;00m:\n\u001B[1;32m   1900\u001B[0m     \u001B[38;5;28;01mif\u001B[39;00m \u001B[38;5;28mself\u001B[39m\u001B[38;5;241m.\u001B[39mhandles \u001B[38;5;129;01mis\u001B[39;00m \u001B[38;5;129;01mnot\u001B[39;00m \u001B[38;5;28;01mNone\u001B[39;00m:\n",
      "File \u001B[0;32m/opt/conda/lib/python3.10/site-packages/pandas/io/parsers/c_parser_wrapper.py:93\u001B[0m, in \u001B[0;36mCParserWrapper.__init__\u001B[0;34m(self, src, **kwds)\u001B[0m\n\u001B[1;32m     90\u001B[0m \u001B[38;5;28;01mif\u001B[39;00m kwds[\u001B[38;5;124m\"\u001B[39m\u001B[38;5;124mdtype_backend\u001B[39m\u001B[38;5;124m\"\u001B[39m] \u001B[38;5;241m==\u001B[39m \u001B[38;5;124m\"\u001B[39m\u001B[38;5;124mpyarrow\u001B[39m\u001B[38;5;124m\"\u001B[39m:\n\u001B[1;32m     91\u001B[0m     \u001B[38;5;66;03m# Fail here loudly instead of in cython after reading\u001B[39;00m\n\u001B[1;32m     92\u001B[0m     import_optional_dependency(\u001B[38;5;124m\"\u001B[39m\u001B[38;5;124mpyarrow\u001B[39m\u001B[38;5;124m\"\u001B[39m)\n\u001B[0;32m---> 93\u001B[0m \u001B[38;5;28mself\u001B[39m\u001B[38;5;241m.\u001B[39m_reader \u001B[38;5;241m=\u001B[39m \u001B[43mparsers\u001B[49m\u001B[38;5;241;43m.\u001B[39;49m\u001B[43mTextReader\u001B[49m\u001B[43m(\u001B[49m\u001B[43msrc\u001B[49m\u001B[43m,\u001B[49m\u001B[43m \u001B[49m\u001B[38;5;241;43m*\u001B[39;49m\u001B[38;5;241;43m*\u001B[39;49m\u001B[43mkwds\u001B[49m\u001B[43m)\u001B[49m\n\u001B[1;32m     95\u001B[0m \u001B[38;5;28mself\u001B[39m\u001B[38;5;241m.\u001B[39munnamed_cols \u001B[38;5;241m=\u001B[39m \u001B[38;5;28mself\u001B[39m\u001B[38;5;241m.\u001B[39m_reader\u001B[38;5;241m.\u001B[39munnamed_cols\n\u001B[1;32m     97\u001B[0m \u001B[38;5;66;03m# error: Cannot determine type of 'names'\u001B[39;00m\n",
      "File \u001B[0;32mparsers.pyx:581\u001B[0m, in \u001B[0;36mpandas._libs.parsers.TextReader.__cinit__\u001B[0;34m()\u001B[0m\n",
      "\u001B[0;31mEmptyDataError\u001B[0m: No columns to parse from file"
     ]
    }
   ],
   "source": [
    "labaudio = pd.read_csv('11lab.csv')\n",
    "df = labaudio[labaudio[\"absolute_path\"].str.lower().str.endswith(\".wav\", na=False)].loc[:,\n",
    "     ~labaudio.columns.str.contains('^Unnamed')]\n",
    "df.head()"
   ]
  },
  {
   "cell_type": "code",
   "execution_count": 73,
   "id": "d3a67cd4-b9ac-4b58-8212-747bdf0f6342",
   "metadata": {},
   "outputs": [
    {
     "name": "stdout",
     "output_type": "stream",
     "text": [
      "过滤后的 CSV 已生成: 11lab.csv\n"
     ]
    }
   ],
   "source": [
    "df.to_csv('11lab.csv', index=False)\n",
    "print(f\"过滤后的 CSV 已生成: {'11lab.csv'}\")"
   ]
  },
  {
   "cell_type": "code",
   "execution_count": 74,
   "id": "9fcf148f-967f-478b-bfbb-6f2052734bdd",
   "metadata": {},
   "outputs": [
    {
     "data": {
      "text/html": [
       "<div>\n",
       "<style scoped>\n",
       "    .dataframe tbody tr th:only-of-type {\n",
       "        vertical-align: middle;\n",
       "    }\n",
       "\n",
       "    .dataframe tbody tr th {\n",
       "        vertical-align: top;\n",
       "    }\n",
       "\n",
       "    .dataframe thead th {\n",
       "        text-align: right;\n",
       "    }\n",
       "</style>\n",
       "<table border=\"1\" class=\"dataframe\">\n",
       "  <thead>\n",
       "    <tr style=\"text-align: right;\">\n",
       "      <th></th>\n",
       "      <th>data_source</th>\n",
       "      <th>speaker</th>\n",
       "      <th>absolute_path</th>\n",
       "      <th>relative_path</th>\n",
       "      <th>label</th>\n",
       "      <th>Set</th>\n",
       "    </tr>\n",
       "  </thead>\n",
       "  <tbody>\n",
       "    <tr>\n",
       "      <th>0</th>\n",
       "      <td>11lab</td>\n",
       "      <td>11lab</td>\n",
       "      <td>/home/jupyter/Data/11Lab/d87a0b97-7e3a-4987-8a...</td>\n",
       "      <td>d87a0b97-7e3a-4987-8a79-5f05d62a9b73.wav</td>\n",
       "      <td>0</td>\n",
       "      <td>test</td>\n",
       "    </tr>\n",
       "    <tr>\n",
       "      <th>1</th>\n",
       "      <td>11lab</td>\n",
       "      <td>11lab</td>\n",
       "      <td>/home/jupyter/Data/11Lab/11adddee-89ba-402b-a9...</td>\n",
       "      <td>11adddee-89ba-402b-a9e3-39835f6570a6.wav</td>\n",
       "      <td>0</td>\n",
       "      <td>test</td>\n",
       "    </tr>\n",
       "    <tr>\n",
       "      <th>2</th>\n",
       "      <td>11lab</td>\n",
       "      <td>11lab</td>\n",
       "      <td>/home/jupyter/Data/11Lab/72721e3a-c4ac-420c-9b...</td>\n",
       "      <td>72721e3a-c4ac-420c-9b1d-27858e3ea0f9.wav</td>\n",
       "      <td>0</td>\n",
       "      <td>test</td>\n",
       "    </tr>\n",
       "    <tr>\n",
       "      <th>3</th>\n",
       "      <td>11lab</td>\n",
       "      <td>11lab</td>\n",
       "      <td>/home/jupyter/Data/11Lab/94009c97-9ada-47a7-a2...</td>\n",
       "      <td>94009c97-9ada-47a7-a27f-d957a9ddb1c9.wav</td>\n",
       "      <td>0</td>\n",
       "      <td>test</td>\n",
       "    </tr>\n",
       "    <tr>\n",
       "      <th>4</th>\n",
       "      <td>11lab</td>\n",
       "      <td>11lab</td>\n",
       "      <td>/home/jupyter/Data/11Lab/cffaee15-5b6d-4b1d-b9...</td>\n",
       "      <td>cffaee15-5b6d-4b1d-b9d2-68a62a6f4768.wav</td>\n",
       "      <td>0</td>\n",
       "      <td>test</td>\n",
       "    </tr>\n",
       "    <tr>\n",
       "      <th>...</th>\n",
       "      <td>...</td>\n",
       "      <td>...</td>\n",
       "      <td>...</td>\n",
       "      <td>...</td>\n",
       "      <td>...</td>\n",
       "      <td>...</td>\n",
       "    </tr>\n",
       "    <tr>\n",
       "      <th>635</th>\n",
       "      <td>11lab</td>\n",
       "      <td>11lab</td>\n",
       "      <td>/home/jupyter/Data/11Lab/5c199a76-bf2f-49f5-95...</td>\n",
       "      <td>5c199a76-bf2f-49f5-956e-4bfe3fa7fe34.wav</td>\n",
       "      <td>0</td>\n",
       "      <td>test</td>\n",
       "    </tr>\n",
       "    <tr>\n",
       "      <th>636</th>\n",
       "      <td>11lab</td>\n",
       "      <td>11lab</td>\n",
       "      <td>/home/jupyter/Data/11Lab/0e921d55-47e8-4fe9-9e...</td>\n",
       "      <td>0e921d55-47e8-4fe9-9e8c-e1be658ebb7a.wav</td>\n",
       "      <td>0</td>\n",
       "      <td>test</td>\n",
       "    </tr>\n",
       "    <tr>\n",
       "      <th>637</th>\n",
       "      <td>11lab</td>\n",
       "      <td>11lab</td>\n",
       "      <td>/home/jupyter/Data/11Lab/85d055c6-5c08-4c4a-98...</td>\n",
       "      <td>85d055c6-5c08-4c4a-982e-b88407accf11.wav</td>\n",
       "      <td>0</td>\n",
       "      <td>test</td>\n",
       "    </tr>\n",
       "    <tr>\n",
       "      <th>638</th>\n",
       "      <td>11lab</td>\n",
       "      <td>11lab</td>\n",
       "      <td>/home/jupyter/Data/11Lab/c9c1871b-5859-4e82-a5...</td>\n",
       "      <td>c9c1871b-5859-4e82-a545-db1fd1e7346c.wav</td>\n",
       "      <td>0</td>\n",
       "      <td>test</td>\n",
       "    </tr>\n",
       "    <tr>\n",
       "      <th>639</th>\n",
       "      <td>11lab</td>\n",
       "      <td>11lab</td>\n",
       "      <td>/home/jupyter/Data/11Lab/729bf3be-6c0f-4e19-bf...</td>\n",
       "      <td>729bf3be-6c0f-4e19-bf6c-bb00771e0ce9.wav</td>\n",
       "      <td>0</td>\n",
       "      <td>test</td>\n",
       "    </tr>\n",
       "  </tbody>\n",
       "</table>\n",
       "<p>631 rows × 6 columns</p>\n",
       "</div>"
      ],
      "text/plain": [
       "    data_source speaker                                      absolute_path  \\\n",
       "0         11lab   11lab  /home/jupyter/Data/11Lab/d87a0b97-7e3a-4987-8a...   \n",
       "1         11lab   11lab  /home/jupyter/Data/11Lab/11adddee-89ba-402b-a9...   \n",
       "2         11lab   11lab  /home/jupyter/Data/11Lab/72721e3a-c4ac-420c-9b...   \n",
       "3         11lab   11lab  /home/jupyter/Data/11Lab/94009c97-9ada-47a7-a2...   \n",
       "4         11lab   11lab  /home/jupyter/Data/11Lab/cffaee15-5b6d-4b1d-b9...   \n",
       "..          ...     ...                                                ...   \n",
       "635       11lab   11lab  /home/jupyter/Data/11Lab/5c199a76-bf2f-49f5-95...   \n",
       "636       11lab   11lab  /home/jupyter/Data/11Lab/0e921d55-47e8-4fe9-9e...   \n",
       "637       11lab   11lab  /home/jupyter/Data/11Lab/85d055c6-5c08-4c4a-98...   \n",
       "638       11lab   11lab  /home/jupyter/Data/11Lab/c9c1871b-5859-4e82-a5...   \n",
       "639       11lab   11lab  /home/jupyter/Data/11Lab/729bf3be-6c0f-4e19-bf...   \n",
       "\n",
       "                                relative_path  label   Set  \n",
       "0    d87a0b97-7e3a-4987-8a79-5f05d62a9b73.wav      0  test  \n",
       "1    11adddee-89ba-402b-a9e3-39835f6570a6.wav      0  test  \n",
       "2    72721e3a-c4ac-420c-9b1d-27858e3ea0f9.wav      0  test  \n",
       "3    94009c97-9ada-47a7-a27f-d957a9ddb1c9.wav      0  test  \n",
       "4    cffaee15-5b6d-4b1d-b9d2-68a62a6f4768.wav      0  test  \n",
       "..                                        ...    ...   ...  \n",
       "635  5c199a76-bf2f-49f5-956e-4bfe3fa7fe34.wav      0  test  \n",
       "636  0e921d55-47e8-4fe9-9e8c-e1be658ebb7a.wav      0  test  \n",
       "637  85d055c6-5c08-4c4a-982e-b88407accf11.wav      0  test  \n",
       "638  c9c1871b-5859-4e82-a545-db1fd1e7346c.wav      0  test  \n",
       "639  729bf3be-6c0f-4e19-bf6c-bb00771e0ce9.wav      0  test  \n",
       "\n",
       "[631 rows x 6 columns]"
      ]
     },
     "execution_count": 74,
     "metadata": {},
     "output_type": "execute_result"
    }
   ],
   "source": [
    "df"
   ]
  },
  {
   "cell_type": "code",
   "execution_count": 60,
   "id": "ca02d176-30f3-47ff-babe-7141cee8386b",
   "metadata": {},
   "outputs": [],
   "source": [
    "# import os\n",
    "\n",
    "# def delete_wav_files(folder):\n",
    "#     \"\"\"\n",
    "#     删除指定文件夹（及其子文件夹）下所有扩展名为 .wav 的文件。\n",
    "\n",
    "#     参数:\n",
    "#         folder: 目标文件夹路径（字符串）\n",
    "#     \"\"\"\n",
    "#     for root, dirs, files in os.walk(folder):\n",
    "#         for filename in files:\n",
    "#             if filename.lower().endswith('.wav'):\n",
    "#                 file_path = os.path.join(root, filename)\n",
    "#                 try:\n",
    "#                     os.remove(file_path)\n",
    "#                     # print(f\"Deleted: {file_path}\")\n",
    "#                 except Exception as e:\n",
    "#                     print(f\"删除 {file_path} 失败: {e}\")\n",
    "\n",
    "\n",
    "# target_folder = \"./11Lab/\"  # 修改为你的目标文件夹路径\n",
    "# delete_wav_files(target_folder)"
   ]
  },
  {
   "cell_type": "code",
   "execution_count": 5,
   "id": "f64e5dbc-5a62-4b19-9440-6740c87ed66c",
   "metadata": {},
   "outputs": [],
   "source": [
    "def generate_wav_csv(folder, csv_output):\n",
    "    \"\"\"\n",
    "    遍历指定文件夹下所有 .wav 文件，生成 CSV 文件。\n",
    "    \n",
    "    CSV 文件格式：\n",
    "      - data_source：固定为 \"11lab\"\n",
    "      - speaker：固定为 \"11lab\"\n",
    "      - absolute_path：wav 文件的绝对路径\n",
    "      - relative_path：相对于 folder 的路径\n",
    "      - label：固定为 0\n",
    "      - Set：固定为 \"test\"\n",
    "    \n",
    "    参数：\n",
    "      folder: 要遍历的根目录路径（字符串）\n",
    "      csv_output: 输出 CSV 文件的路径（字符串）\n",
    "    \"\"\"\n",
    "    rows = []\n",
    "    # 递归遍历目录\n",
    "    for root, dirs, files in os.walk(folder):\n",
    "        for filename in tqdm(files, desc=\"Processing files\"):\n",
    "            # 只处理扩展名为 .wav 的文件（忽略大小写）\n",
    "            if filename.lower().endswith('.wav'):\n",
    "                file_path = os.path.join(root, filename)\n",
    "                abs_path = os.path.abspath(file_path)\n",
    "                rel_path = os.path.relpath(abs_path, os.path.abspath(folder))\n",
    "                row = {\n",
    "                    \"data_source\": \"11lab\",\n",
    "                    \"speaker\": \"11lab\",\n",
    "                    \"absolute_path\": abs_path,\n",
    "                    \"relative_path\": rel_path,\n",
    "                    \"label\": 0,\n",
    "                    \"Set\": \"test\"\n",
    "                }\n",
    "                rows.append(row)\n",
    "\n",
    "    df = pd.DataFrame(rows)\n",
    "    df.to_csv(csv_output, index=False)\n",
    "    print(f\"CSV 文件已生成：{csv_output}\")"
   ]
  },
  {
   "cell_type": "code",
   "execution_count": 6,
   "id": "1ea35c21-fb29-4e2b-acf4-4171ce1d739b",
   "metadata": {},
   "outputs": [
    {
     "name": "stderr",
     "output_type": "stream",
     "text": [
      "Processing files: 100%|██████████| 1271/1271 [00:00<00:00, 69887.65it/s]"
     ]
    },
    {
     "name": "stdout",
     "output_type": "stream",
     "text": [
      "CSV 文件已生成：11lab.csv\n"
     ]
    },
    {
     "name": "stderr",
     "output_type": "stream",
     "text": [
      "\n"
     ]
    }
   ],
   "source": [
    "target_folder = './11Lab'\n",
    "csv_file = '11lab.csv'\n",
    "generate_wav_csv(target_folder, csv_file)"
   ]
  },
  {
   "cell_type": "code",
   "execution_count": null,
   "id": "1f781633-d83c-482f-8082-db42feb0b907",
   "metadata": {},
   "outputs": [],
   "source": [
    "csv_file"
   ]
  }
 ],
 "metadata": {
  "environment": {
   "kernel": "conda-base-py",
   "name": "workbench-notebooks.m128",
   "type": "gcloud",
   "uri": "us-docker.pkg.dev/deeplearning-platform-release/gcr.io/workbench-notebooks:m128"
  },
  "kernelspec": {
   "display_name": "Python 3 (ipykernel) (Local)",
   "language": "python",
   "name": "conda-base-py"
  },
  "language_info": {
   "codemirror_mode": {
    "name": "ipython",
    "version": 3
   },
   "file_extension": ".py",
   "mimetype": "text/x-python",
   "name": "python",
   "nbconvert_exporter": "python",
   "pygments_lexer": "ipython3",
   "version": "3.10.16"
  }
 },
 "nbformat": 4,
 "nbformat_minor": 5
}
