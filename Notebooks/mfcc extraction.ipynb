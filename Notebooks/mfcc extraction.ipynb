{
 "cells": [
  {
   "cell_type": "code",
   "id": "ca4a58b3-5420-47c7-ac40-1738b660c854",
   "metadata": {
    "ExecuteTime": {
     "end_time": "2025-04-15T02:12:52.796661Z",
     "start_time": "2025-04-15T02:12:52.794114Z"
    }
   },
   "source": [
    "import librosa\n",
    "import numpy as np\n",
    "import os\n",
    "import pandas as pd\n",
    "import pandas as pd\n",
    "from tqdm.notebook import tqdm\n",
    "# import cv2"
   ],
   "outputs": [],
   "execution_count": 2
  },
  {
   "cell_type": "code",
   "id": "9ffd0393-3fa0-4500-84d0-a02a8a387c76",
   "metadata": {
    "ExecuteTime": {
     "end_time": "2025-04-15T02:12:53.994853Z",
     "start_time": "2025-04-15T02:12:53.400436Z"
    }
   },
   "source": [
    "#you can modify the path to your own data to transform any test dataset you want\n",
    "meta = pd.read_csv(\"../Data/meta_final.csv\")\n",
    "# meta = pd.read_csv(\"../Data/11lab.csv\") #for test real ood dataset"
   ],
   "outputs": [],
   "execution_count": 3
  },
  {
   "cell_type": "code",
   "id": "923547a4-4b34-47d3-b6d2-7e86371d2827",
   "metadata": {
    "ExecuteTime": {
     "end_time": "2025-04-15T02:12:54.684765Z",
     "start_time": "2025-04-15T02:12:54.680675Z"
    }
   },
   "source": [
    "len(meta)"
   ],
   "outputs": [
    {
     "data": {
      "text/plain": [
       "499778"
      ]
     },
     "execution_count": 4,
     "metadata": {},
     "output_type": "execute_result"
    }
   ],
   "execution_count": 4
  },
  {
   "cell_type": "code",
   "id": "7f452f21-1a2a-4c55-b114-8fc59c0b69af",
   "metadata": {
    "ExecuteTime": {
     "end_time": "2025-04-15T02:12:55.322122Z",
     "start_time": "2025-04-15T02:12:55.313952Z"
    }
   },
   "source": [
    "meta.head()"
   ],
   "outputs": [
    {
     "data": {
      "text/plain": [
       "  data_source            speaker  \\\n",
       "0         itw       Donald Trump   \n",
       "1         itw       Barack Obama   \n",
       "2         itw         Louis C.K.   \n",
       "3         itw  Winston Churchill   \n",
       "4         itw  Winston Churchill   \n",
       "\n",
       "                                       absolute_path  \\\n",
       "0  /home/jupyter/Data/inthewild/release_in_the_wi...   \n",
       "1  /home/jupyter/Data/inthewild/release_in_the_wi...   \n",
       "2  /home/jupyter/Data/inthewild/release_in_the_wi...   \n",
       "3  /home/jupyter/Data/inthewild/release_in_the_wi...   \n",
       "4  /home/jupyter/Data/inthewild/release_in_the_wi...   \n",
       "\n",
       "                   relative_path  label    Set  \n",
       "0  release_in_the_wild/18212.wav      1  train  \n",
       "1  release_in_the_wild/18386.wav      1  train  \n",
       "2  release_in_the_wild/18240.wav      0  train  \n",
       "3  release_in_the_wild/18461.wav      0   test  \n",
       "4  release_in_the_wild/18211.wav      1   test  "
      ],
      "text/html": [
       "<div>\n",
       "<style scoped>\n",
       "    .dataframe tbody tr th:only-of-type {\n",
       "        vertical-align: middle;\n",
       "    }\n",
       "\n",
       "    .dataframe tbody tr th {\n",
       "        vertical-align: top;\n",
       "    }\n",
       "\n",
       "    .dataframe thead th {\n",
       "        text-align: right;\n",
       "    }\n",
       "</style>\n",
       "<table border=\"1\" class=\"dataframe\">\n",
       "  <thead>\n",
       "    <tr style=\"text-align: right;\">\n",
       "      <th></th>\n",
       "      <th>data_source</th>\n",
       "      <th>speaker</th>\n",
       "      <th>absolute_path</th>\n",
       "      <th>relative_path</th>\n",
       "      <th>label</th>\n",
       "      <th>Set</th>\n",
       "    </tr>\n",
       "  </thead>\n",
       "  <tbody>\n",
       "    <tr>\n",
       "      <th>0</th>\n",
       "      <td>itw</td>\n",
       "      <td>Donald Trump</td>\n",
       "      <td>/home/jupyter/Data/inthewild/release_in_the_wi...</td>\n",
       "      <td>release_in_the_wild/18212.wav</td>\n",
       "      <td>1</td>\n",
       "      <td>train</td>\n",
       "    </tr>\n",
       "    <tr>\n",
       "      <th>1</th>\n",
       "      <td>itw</td>\n",
       "      <td>Barack Obama</td>\n",
       "      <td>/home/jupyter/Data/inthewild/release_in_the_wi...</td>\n",
       "      <td>release_in_the_wild/18386.wav</td>\n",
       "      <td>1</td>\n",
       "      <td>train</td>\n",
       "    </tr>\n",
       "    <tr>\n",
       "      <th>2</th>\n",
       "      <td>itw</td>\n",
       "      <td>Louis C.K.</td>\n",
       "      <td>/home/jupyter/Data/inthewild/release_in_the_wi...</td>\n",
       "      <td>release_in_the_wild/18240.wav</td>\n",
       "      <td>0</td>\n",
       "      <td>train</td>\n",
       "    </tr>\n",
       "    <tr>\n",
       "      <th>3</th>\n",
       "      <td>itw</td>\n",
       "      <td>Winston Churchill</td>\n",
       "      <td>/home/jupyter/Data/inthewild/release_in_the_wi...</td>\n",
       "      <td>release_in_the_wild/18461.wav</td>\n",
       "      <td>0</td>\n",
       "      <td>test</td>\n",
       "    </tr>\n",
       "    <tr>\n",
       "      <th>4</th>\n",
       "      <td>itw</td>\n",
       "      <td>Winston Churchill</td>\n",
       "      <td>/home/jupyter/Data/inthewild/release_in_the_wi...</td>\n",
       "      <td>release_in_the_wild/18211.wav</td>\n",
       "      <td>1</td>\n",
       "      <td>test</td>\n",
       "    </tr>\n",
       "  </tbody>\n",
       "</table>\n",
       "</div>"
      ]
     },
     "execution_count": 5,
     "metadata": {},
     "output_type": "execute_result"
    }
   ],
   "execution_count": 5
  },
  {
   "cell_type": "code",
   "id": "cfaf11bb-ccfe-48f7-bf54-347e168dcfba",
   "metadata": {
    "ExecuteTime": {
     "end_time": "2025-04-15T02:13:06.361327Z",
     "start_time": "2025-04-15T02:13:06.358779Z"
    }
   },
   "source": [
    "# 定义保存 npy 文件的根目录\n",
    "npy_root = '/home/jupyter/npy/'"
   ],
   "outputs": [],
   "execution_count": 6
  },
  {
   "cell_type": "code",
   "execution_count": 9,
   "id": "f50ca83e-70ea-4735-a910-d0da93c487f4",
   "metadata": {},
   "outputs": [],
   "source": [
    "class MFCCExtractor:\n",
    "    def __init__(self, target_sr=16000, n_mfcc=40, hop_length=512, n_fft=1024, target_frames=400, **kwargs):\n",
    "        self.target_sr = target_sr\n",
    "        self.n_mfcc = n_mfcc\n",
    "        self.hop_length = hop_length\n",
    "        self.n_fft = n_fft\n",
    "        self.target_frames = target_frames\n",
    "        self.kwargs = kwargs\n",
    "\n",
    "    def extract_features(self, audio, sr):\n",
    "        mfccs = librosa.feature.mfcc(\n",
    "            y=audio,\n",
    "            sr=sr,\n",
    "            n_mfcc=self.n_mfcc,\n",
    "            hop_length=self.hop_length,\n",
    "            n_fft=self.n_fft,\n",
    "            **self.kwargs\n",
    "        )\n",
    "        target_n_mfcc = self.n_mfcc\n",
    "        target_frames = self.target_frames\n",
    "\n",
    "        # 调整频率维度：不足补0，多余裁剪\n",
    "        current_n_mfcc, current_frames = mfccs.shape\n",
    "        if current_n_mfcc < target_n_mfcc:\n",
    "            pad_amount = target_n_mfcc - current_n_mfcc\n",
    "            mfccs = np.pad(mfccs, ((0, pad_amount), (0, 0)), mode='constant')\n",
    "        elif current_n_mfcc > target_n_mfcc:\n",
    "            mfccs = mfccs[:target_n_mfcc, :]\n",
    "\n",
    "        # 调整时间帧数：不足补0，多余裁剪\n",
    "        if current_frames < target_frames:\n",
    "            pad_amount = target_frames - current_frames\n",
    "            mfccs = np.pad(mfccs, ((0, 0), (0, pad_amount)), mode='constant')\n",
    "        elif current_frames > target_frames:\n",
    "            mfccs = mfccs[:, :target_frames]\n",
    "\n",
    "        return mfccs.astype(np.float32)\n",
    "\n",
    "\n",
    "# 配置参数（可根据需要调整）\n",
    "target_sr = 16000\n",
    "n_mfcc = 40\n",
    "hop_length = 512\n",
    "n_fft = 1024\n",
    "target_frames = 400\n",
    "\n",
    "# 创建 MFCCExtractor 实例\n",
    "mfcc_extractor = MFCCExtractor(target_sr=target_sr, n_mfcc=n_mfcc, hop_length=hop_length,\n",
    "                               n_fft=n_fft, target_frames=target_frames)"
   ]
  },
  {
   "cell_type": "code",
   "execution_count": 10,
   "id": "a83ca579-f5f2-4be1-b40e-d3db0561fc36",
   "metadata": {},
   "outputs": [],
   "source": [
    "# 定义处理单个文件的函数\n",
    "def process_file(row):\n",
    "    absolute_path = row['absolute_path']\n",
    "    relative_path = row['relative_path']  # 例如 \"release_in_the_wild/18212.wav\"\n",
    "\n",
    "    # 构造新的相对路径，将扩展名替换为 .npy\n",
    "    new_relative = os.path.splitext(relative_path)[0] + '.npy'\n",
    "\n",
    "    # 构造保存路径： /home/jupyter/npy/release_in_the_wild/18212.npy\n",
    "    save_path = os.path.join(npy_root, new_relative)\n",
    "\n",
    "    # 确保保存文件夹存在\n",
    "    os.makedirs(os.path.dirname(save_path), exist_ok=True)\n",
    "\n",
    "    try:\n",
    "        # 加载 wav 文件\n",
    "        audio, sr = librosa.load(absolute_path, sr=target_sr, mono=True)\n",
    "        # 利用 MFCCExtractor 提取 MFCC 特征\n",
    "        mfcc_features = mfcc_extractor.extract_features(audio, sr)\n",
    "        # 保存为 npy 文件\n",
    "        np.save(save_path, mfcc_features)\n",
    "        # print(f\"Saved: {save_path}\")\n",
    "        return\n",
    "    except Exception as e:\n",
    "        return f\"Error processing {absolute_path}: {e}\""
   ]
  },
  {
   "cell_type": "code",
   "execution_count": 11,
   "id": "1315c1d9-30c9-4bd8-b3ed-b7dba4f7b384",
   "metadata": {
    "scrolled": true
   },
   "outputs": [
    {
     "data": {
      "application/vnd.jupyter.widget-view+json": {
       "model_id": "e96b6023c46f42adb759e7aa1f7867b5",
       "version_major": 2,
       "version_minor": 0
      },
      "text/plain": [
       "Processing files:   0%|          | 0/631 [00:00<?, ?it/s]"
      ]
     },
     "metadata": {},
     "output_type": "display_data"
    }
   ],
   "source": [
    "from concurrent.futures import ThreadPoolExecutor, as_completed\n",
    "\n",
    "with ThreadPoolExecutor(max_workers=48) as executor:\n",
    "    futures = [executor.submit(process_file, row) for idx, row in meta.iterrows()]\n",
    "    for future in tqdm(as_completed(futures), total=len(futures), desc=\"Processing files\"):\n",
    "        continue\n",
    "        # print(future.result())"
   ]
  },
  {
   "cell_type": "code",
   "execution_count": 12,
   "id": "92248a40-70f3-4540-8400-244cfc2d1bb5",
   "metadata": {},
   "outputs": [
    {
     "data": {
      "application/vnd.jupyter.widget-view+json": {
       "model_id": "36faaa4ce43d449b8075ee5c028f99f6",
       "version_major": 2,
       "version_minor": 0
      },
      "text/plain": [
       "Processing npy paths:   0%|          | 0/631 [00:00<?, ?it/s]"
      ]
     },
     "metadata": {},
     "output_type": "display_data"
    }
   ],
   "source": [
    "def process_npy_path(row):\n",
    "    # 根据 relative_path 构造新的相对路径（扩展名替换为 .npy）\n",
    "    new_relative = os.path.splitext(row['relative_path'])[0] + '.npy'\n",
    "    # 构造保存路径，例如 /home/jupyter/npy/release_in_the_wild/18212.npy\n",
    "    save_path = os.path.join(npy_root, new_relative)\n",
    "    return save_path\n",
    "\n",
    "\n",
    "meta['npy_path'] = [process_npy_path(row) for idx, row in\n",
    "                    tqdm(meta.iterrows(), total=len(meta), desc=\"Processing npy paths\")]"
   ]
  },
  {
   "cell_type": "code",
   "execution_count": 13,
   "id": "ec67ef16-faa8-41ad-8e8e-4d85975ea00f",
   "metadata": {},
   "outputs": [
    {
     "data": {
      "text/html": [
       "<div>\n",
       "<style scoped>\n",
       "    .dataframe tbody tr th:only-of-type {\n",
       "        vertical-align: middle;\n",
       "    }\n",
       "\n",
       "    .dataframe tbody tr th {\n",
       "        vertical-align: top;\n",
       "    }\n",
       "\n",
       "    .dataframe thead th {\n",
       "        text-align: right;\n",
       "    }\n",
       "</style>\n",
       "<table border=\"1\" class=\"dataframe\">\n",
       "  <thead>\n",
       "    <tr style=\"text-align: right;\">\n",
       "      <th></th>\n",
       "      <th>data_source</th>\n",
       "      <th>speaker</th>\n",
       "      <th>absolute_path</th>\n",
       "      <th>relative_path</th>\n",
       "      <th>label</th>\n",
       "      <th>Set</th>\n",
       "      <th>npy_path</th>\n",
       "    </tr>\n",
       "  </thead>\n",
       "  <tbody>\n",
       "    <tr>\n",
       "      <th>0</th>\n",
       "      <td>11lab</td>\n",
       "      <td>11lab</td>\n",
       "      <td>/home/jupyter/Data/11Lab/2cc45e80-c7a4-4be0-ba...</td>\n",
       "      <td>2cc45e80-c7a4-4be0-baa6-fc007e01df04.wav</td>\n",
       "      <td>0</td>\n",
       "      <td>test</td>\n",
       "      <td>/home/jupyter/npy/11lab/2cc45e80-c7a4-4be0-baa...</td>\n",
       "    </tr>\n",
       "    <tr>\n",
       "      <th>1</th>\n",
       "      <td>11lab</td>\n",
       "      <td>11lab</td>\n",
       "      <td>/home/jupyter/Data/11Lab/c88addad-0f07-437b-ac...</td>\n",
       "      <td>c88addad-0f07-437b-acdb-57aeb627edeb.wav</td>\n",
       "      <td>0</td>\n",
       "      <td>test</td>\n",
       "      <td>/home/jupyter/npy/11lab/c88addad-0f07-437b-acd...</td>\n",
       "    </tr>\n",
       "    <tr>\n",
       "      <th>2</th>\n",
       "      <td>11lab</td>\n",
       "      <td>11lab</td>\n",
       "      <td>/home/jupyter/Data/11Lab/f47e5bd1-9885-45cb-87...</td>\n",
       "      <td>f47e5bd1-9885-45cb-87e4-1599bac242de.wav</td>\n",
       "      <td>0</td>\n",
       "      <td>test</td>\n",
       "      <td>/home/jupyter/npy/11lab/f47e5bd1-9885-45cb-87e...</td>\n",
       "    </tr>\n",
       "    <tr>\n",
       "      <th>3</th>\n",
       "      <td>11lab</td>\n",
       "      <td>11lab</td>\n",
       "      <td>/home/jupyter/Data/11Lab/bf7fdbd6-5391-49ac-b4...</td>\n",
       "      <td>bf7fdbd6-5391-49ac-b447-98f70fc0102d.wav</td>\n",
       "      <td>0</td>\n",
       "      <td>test</td>\n",
       "      <td>/home/jupyter/npy/11lab/bf7fdbd6-5391-49ac-b44...</td>\n",
       "    </tr>\n",
       "    <tr>\n",
       "      <th>4</th>\n",
       "      <td>11lab</td>\n",
       "      <td>11lab</td>\n",
       "      <td>/home/jupyter/Data/11Lab/cca038cb-8d77-44ac-99...</td>\n",
       "      <td>cca038cb-8d77-44ac-99a7-0cbf6684e404.wav</td>\n",
       "      <td>0</td>\n",
       "      <td>test</td>\n",
       "      <td>/home/jupyter/npy/11lab/cca038cb-8d77-44ac-99a...</td>\n",
       "    </tr>\n",
       "  </tbody>\n",
       "</table>\n",
       "</div>"
      ],
      "text/plain": [
       "  data_source speaker                                      absolute_path  \\\n",
       "0       11lab   11lab  /home/jupyter/Data/11Lab/2cc45e80-c7a4-4be0-ba...   \n",
       "1       11lab   11lab  /home/jupyter/Data/11Lab/c88addad-0f07-437b-ac...   \n",
       "2       11lab   11lab  /home/jupyter/Data/11Lab/f47e5bd1-9885-45cb-87...   \n",
       "3       11lab   11lab  /home/jupyter/Data/11Lab/bf7fdbd6-5391-49ac-b4...   \n",
       "4       11lab   11lab  /home/jupyter/Data/11Lab/cca038cb-8d77-44ac-99...   \n",
       "\n",
       "                              relative_path  label   Set  \\\n",
       "0  2cc45e80-c7a4-4be0-baa6-fc007e01df04.wav      0  test   \n",
       "1  c88addad-0f07-437b-acdb-57aeb627edeb.wav      0  test   \n",
       "2  f47e5bd1-9885-45cb-87e4-1599bac242de.wav      0  test   \n",
       "3  bf7fdbd6-5391-49ac-b447-98f70fc0102d.wav      0  test   \n",
       "4  cca038cb-8d77-44ac-99a7-0cbf6684e404.wav      0  test   \n",
       "\n",
       "                                            npy_path  \n",
       "0  /home/jupyter/npy/11lab/2cc45e80-c7a4-4be0-baa...  \n",
       "1  /home/jupyter/npy/11lab/c88addad-0f07-437b-acd...  \n",
       "2  /home/jupyter/npy/11lab/f47e5bd1-9885-45cb-87e...  \n",
       "3  /home/jupyter/npy/11lab/bf7fdbd6-5391-49ac-b44...  \n",
       "4  /home/jupyter/npy/11lab/cca038cb-8d77-44ac-99a...  "
      ]
     },
     "execution_count": 13,
     "metadata": {},
     "output_type": "execute_result"
    }
   ],
   "source": [
    "meta.head()"
   ]
  },
  {
   "cell_type": "code",
   "execution_count": 14,
   "id": "ccf2e2fc-39f8-4b8e-b663-461262240d1e",
   "metadata": {},
   "outputs": [
    {
     "data": {
      "application/vnd.jupyter.widget-view+json": {
       "model_id": "dfeb443638d34fb49a8cef09ae35d66b",
       "version_major": 2,
       "version_minor": 0
      },
      "text/plain": [
       "Checking npy files:   0%|          | 0/631 [00:00<?, ?it/s]"
      ]
     },
     "metadata": {},
     "output_type": "display_data"
    },
    {
     "name": "stdout",
     "output_type": "stream",
     "text": [
      "Missing files count: 0\n"
     ]
    }
   ],
   "source": [
    "# 用于存放缺失文件的列表\n",
    "missing_files = []\n",
    "\n",
    "# 遍历 meta['npy_path'] 中的每个路径，并检查文件是否存在\n",
    "for npy_path in tqdm(meta['npy_path'], total=len(meta), desc=\"Checking npy files\"):\n",
    "    if not os.path.exists(npy_path):\n",
    "        missing_files.append(npy_path)\n",
    "\n",
    "print(f\"Missing files count: {len(missing_files)}\")\n",
    "if missing_files:\n",
    "    print(\"Missing files:\")\n",
    "    for path in missing_files:\n",
    "        print(path)"
   ]
  },
  {
   "cell_type": "code",
   "execution_count": 13,
   "id": "9a467363-b798-45b7-8af0-43b0188307dc",
   "metadata": {},
   "outputs": [
    {
     "name": "stdout",
     "output_type": "stream",
     "text": [
      "Updated CSV saved to /home/jupyter/Data/meta_npy.csv\n"
     ]
    }
   ],
   "source": [
    "# output_csv = '/home/jupyter/Data/meta_npy.csv'\n",
    "# meta.to_csv(output_csv, index=False)\n",
    "# print(f\"Updated CSV saved to {output_csv}\")"
   ]
  },
  {
   "cell_type": "code",
   "execution_count": 15,
   "id": "f3b5120f-c553-4ca0-914d-70540bf27336",
   "metadata": {},
   "outputs": [
    {
     "name": "stdout",
     "output_type": "stream",
     "text": [
      "Updated CSV saved to /home/jupyter/Data/11lab_npy.csv\n"
     ]
    }
   ],
   "source": [
    "output_csv = '../Data/meta_npy.csv'\n",
    "meta.to_csv(output_csv, index=False)\n",
    "print(f\"Updated CSV saved to {output_csv}\")"
   ]
  },
  {
   "cell_type": "code",
   "execution_count": null,
   "id": "4f48a5d4-8987-4575-8860-a2b194c15ee0",
   "metadata": {},
   "outputs": [],
   "source": []
  }
 ],
 "metadata": {
  "environment": {
   "kernel": "conda-base-py",
   "name": "workbench-notebooks.m128",
   "type": "gcloud",
   "uri": "us-docker.pkg.dev/deeplearning-platform-release/gcr.io/workbench-notebooks:m128"
  },
  "kernelspec": {
   "display_name": "Python 3 (ipykernel)",
   "language": "python",
   "name": "python3"
  },
  "language_info": {
   "codemirror_mode": {
    "name": "ipython",
    "version": 3
   },
   "file_extension": ".py",
   "mimetype": "text/x-python",
   "name": "python",
   "nbconvert_exporter": "python",
   "pygments_lexer": "ipython3",
   "version": "3.10.16"
  }
 },
 "nbformat": 4,
 "nbformat_minor": 5
}
