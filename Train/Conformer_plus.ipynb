{
 "cells": [
  {
   "cell_type": "markdown",
   "id": "dc884cd9-8459-48ff-9079-f28a42e187c3",
   "metadata": {},
   "source": [
    "# 1.import library"
   ]
  },
  {
   "cell_type": "code",
   "execution_count": 1,
   "id": "8191a106-4b1b-44b8-95a2-a2a5c5fc4137",
   "metadata": {},
   "outputs": [],
   "source": [
    "import cv2\n",
    "import gc\n",
    "import io\n",
    "import librosa\n",
    "import librosa.display\n",
    "import matplotlib.pyplot as plt\n",
    "import numpy as np\n",
    "import pandas as pd\n",
    "import random\n",
    "import tempfile\n",
    "import threading\n",
    "import torch\n",
    "import torch.nn as nn\n",
    "import torch.nn.functional as F\n",
    "import torch.optim as optim\n",
    "import wandb\n",
    "from concurrent.futures import ThreadPoolExecutor, as_completed\n",
    "from scipy.interpolate import interp1d\n",
    "from scipy.optimize import brentq\n",
    "from sklearn.metrics import (roc_curve, recall_score, precision_score, accuracy_score, f1_score, roc_auc_score,\n",
    "                             average_precision_score, confusion_matrix, classification_report, precision_recall_curve)\n",
    "from sklearn.model_selection import GroupKFold\n",
    "from sklearn.model_selection import train_test_split\n",
    "from torch.optim.lr_scheduler import ExponentialLR\n",
    "from torch.utils.data import Dataset, DataLoader, Subset\n",
    "from tqdm.notebook import tqdm"
   ]
  },
  {
   "cell_type": "markdown",
   "id": "c8f15f58-cd40-4d7f-9905-db098eee2598",
   "metadata": {},
   "source": [
    "# 2.NpyLoader"
   ]
  },
  {
   "cell_type": "code",
   "execution_count": 2,
   "id": "3ba33f92-40dd-4926-b9dc-91a39e50d166",
   "metadata": {},
   "outputs": [],
   "source": [
    "class NpyLoader:\n",
    "    \"\"\"\n",
    "    从 CSV 文件中加载音频数据的信息，不读取音频数据本身。\n",
    "    CSV 文件应包含以下字段：\n",
    "      - npy_path: mfcc对应npy文件路径\n",
    "      - data_source: 数据源（例如 \"itw\"）\n",
    "      - speaker: 说话人信息\n",
    "      - Set: 数据集划分（例如 \"train\", \"test\", \"in-test\"）\n",
    "      - label: 分类标签\n",
    "    返回一个列表，每个元素为 (absolute_path, speaker, label)\n",
    "    \"\"\"\n",
    "\n",
    "    def __init__(self, max_workers=96):\n",
    "        self.max_workers = max_workers\n",
    "\n",
    "    def load_audio_info_from_csv(self, csv_file, allowed_set=None, allowed_data_source=\"all\"):\n",
    "        # 读取 CSV 文件\n",
    "        df = pd.read_csv(csv_file)\n",
    "\n",
    "        # 根据 allowed_set 和 allowed_data_source 过滤数据\n",
    "        if allowed_set is not None:\n",
    "            df = df[df[\"Set\"].isin(allowed_set)]\n",
    "        if allowed_data_source != \"all\":\n",
    "            df = df[df[\"data_source\"].isin(allowed_data_source)]\n",
    "\n",
    "        # 内部函数：从一行数据中提取所需信息\n",
    "        def load_info(row):\n",
    "            npy_path = row[\"npy_path\"]\n",
    "            speaker = row[\"speaker\"]\n",
    "            label = int(row[\"label\"])  # 转换为 int 类型\n",
    "            return (npy_path, speaker, label)\n",
    "\n",
    "        records = []\n",
    "        with ThreadPoolExecutor(max_workers=self.max_workers) as executor:\n",
    "            # 提交任务\n",
    "            futures = {executor.submit(load_info, row): idx for idx, row in df.iterrows()}\n",
    "            # 利用 tqdm 显示进度条\n",
    "            for future in tqdm(as_completed(futures), total=len(futures), desc=\"Loading audio info from CSV\"):\n",
    "                result = future.result()\n",
    "                if result is not None:\n",
    "                    records.append(result)\n",
    "        return records"
   ]
  },
  {
   "cell_type": "markdown",
   "id": "95bb03eb-14c5-4270-bc1c-a0e2c07296e1",
   "metadata": {},
   "source": [
    "# 3.Spec-Augmentation"
   ]
  },
  {
   "cell_type": "code",
   "execution_count": 3,
   "id": "3f76ddb1-d0dd-4bb8-9fa8-2879d2dfe2ec",
   "metadata": {},
   "outputs": [],
   "source": [
    "# ---------------------------\n",
    "# SpecAugment 实现：Random TimeMask & Random FreqMask\n",
    "# ---------------------------\n",
    "def random_time_mask(spec, T=100, num_masks=1):\n",
    "    \"\"\"对时域进行随机遮挡\n",
    "    spec: (n_mfcc, frames)\n",
    "    T: 最大遮挡长度\n",
    "    \"\"\"\n",
    "    spec = spec.copy()\n",
    "    num_frames = spec.shape[1]\n",
    "    for _ in range(num_masks):\n",
    "        t = random.randint(0, T)\n",
    "        if num_frames - t > 0:\n",
    "            t0 = random.randint(0, num_frames - t)\n",
    "            spec[:, t0:t0 + t] = 0\n",
    "    return spec\n",
    "\n",
    "\n",
    "def random_freq_mask(spec, F=10, num_masks=1):\n",
    "    \"\"\"对频域进行随机遮挡\n",
    "    spec: (n_mfcc, frames)\n",
    "    F: 最大遮挡频率数量\n",
    "    \"\"\"\n",
    "    spec = spec.copy()\n",
    "    num_mfcc = spec.shape[0]\n",
    "    for _ in range(num_masks):\n",
    "        f = random.randint(0, F)\n",
    "        if num_mfcc - f > 0:\n",
    "            f0 = random.randint(0, num_mfcc - f)\n",
    "            spec[f0:f0 + f, :] = 0\n",
    "    return spec\n",
    "\n",
    "\n",
    "def spec_augment(spec, time_mask_param=30, freq_mask_param=8, num_time_masks=1, num_freq_masks=1):\n",
    "    spec = random_time_mask(spec, T=time_mask_param, num_masks=num_time_masks)\n",
    "    spec = random_freq_mask(spec, F=freq_mask_param, num_masks=num_freq_masks)\n",
    "    return spec\n",
    "\n",
    "\n",
    "# ---------------------------\n",
    "# CutMix 实现\n",
    "# ---------------------------\n",
    "def cutmix_data(x, y, beta=1.0, cutmix_prob=0.2):\n",
    "    \"\"\"\n",
    "    x: (B, C, H, W) batch 的特征图\n",
    "    y: (B,) 标签\n",
    "    返回：如果应用了 CutMix，则返回混合后的 x 和混合标签 (y_a, y_b, lam)\n",
    "    \"\"\"\n",
    "    if random.random() < cutmix_prob:\n",
    "        lam = np.random.beta(beta, beta)\n",
    "        batch_size, C, H, W = x.shape\n",
    "        rand_index = torch.randperm(batch_size)\n",
    "        y_a = y\n",
    "        y_b = y[rand_index]\n",
    "        # 随机生成切块区域\n",
    "        cx = np.random.randint(W)\n",
    "        cy = np.random.randint(H)\n",
    "        cut_w = int(W * np.sqrt(1 - lam))\n",
    "        cut_h = int(H * np.sqrt(1 - lam))\n",
    "        bbx1 = np.clip(cx - cut_w // 2, 0, W)\n",
    "        bby1 = np.clip(cy - cut_h // 2, 0, H)\n",
    "        bbx2 = np.clip(cx + cut_w // 2, 0, W)\n",
    "        bby2 = np.clip(cy + cut_h // 2, 0, H)\n",
    "        x[:, :, bby1:bby2, bbx1:bbx2] = x[rand_index, :, bby1:bby2, bbx1:bbx2]\n",
    "        lam = 1 - ((bbx2 - bbx1) * (bby2 - bby1) / (W * H))\n",
    "        return x, y_a, y_b, lam\n",
    "    else:\n",
    "        return x, y, None, None\n",
    "\n",
    "\n",
    "# ---------------------------\n",
    "# MixUp 实现\n",
    "# ---------------------------\n",
    "def mixup_data(x, y, alpha=1.0, mixup_prob=0.2):\n",
    "    \"\"\"\n",
    "    x: (B, C, H, W)\n",
    "    y: (B,) 标签\n",
    "    返回混合后的特征及混合标签 (y_a, y_b, lam)\n",
    "    \"\"\"\n",
    "    if random.random() < mixup_prob:\n",
    "        lam = np.random.beta(alpha, alpha)\n",
    "        batch_size = x.size(0)\n",
    "        index = torch.randperm(batch_size)\n",
    "        mixed_x = lam * x + (1 - lam) * x[index, :]\n",
    "        y_a = y\n",
    "        y_b = y[index]\n",
    "        return mixed_x, y_a, y_b, lam\n",
    "    else:\n",
    "        return x, y, None, None\n",
    "\n",
    "\n",
    "# ---------------------------\n",
    "# 自定义 collate 函数，结合 CutMix 和 MixUp 增强技术\n",
    "# ---------------------------average_precision_score\n",
    "def custom_collate_fn(batch, cutmix_prob=0.1, mixup_prob=0.1):\n",
    "    features, speakers, labels = zip(*batch)\n",
    "    features = torch.stack(features, dim=0)\n",
    "    labels = torch.tensor([int(l) for l in labels], dtype=torch.long)\n",
    "    # 随机选择增强方式\n",
    "    aug_choice = random.choice(['cutmix', 'mixup', 'none'])\n",
    "    if aug_choice == 'cutmix':\n",
    "        features, y_a, y_b, lam = cutmix_data(features, labels, cutmix_prob=cutmix_prob)\n",
    "        return features, speakers, (y_a, y_b, lam)\n",
    "    elif aug_choice == 'mixup':\n",
    "        features, y_a, y_b, lam = mixup_data(features, labels, mixup_prob=mixup_prob)\n",
    "        return features, speakers, (y_a, y_b, lam)\n",
    "    else:\n",
    "        return features, speakers, labels"
   ]
  },
  {
   "cell_type": "markdown",
   "id": "ee93377f-3365-4e3b-8f34-69cf0a0056ad",
   "metadata": {},
   "source": [
    "# 4.MFCCDataset"
   ]
  },
  {
   "cell_type": "code",
   "execution_count": 4,
   "id": "2cea11dd-ccdc-45d7-afa9-08add8ce09f2",
   "metadata": {},
   "outputs": [],
   "source": [
    "class MFCCDataset(Dataset):\n",
    "    def __init__(self, records, spec_aug_prob=0.2):\n",
    "        \"\"\"\n",
    "        :param records: list，每个元素为 (npy_path, speaker, label)\n",
    "        :param spec_aug_prob: 应用 SpecAugment 的概率（例如 0.2 表示 20% 的样本进行数据增强）\n",
    "        \"\"\"\n",
    "        self.records = records\n",
    "        self.spec_aug_prob = spec_aug_prob\n",
    "\n",
    "        # 用于缓存已加载的 npy 数据，避免重复读取\n",
    "        self.cache = {}\n",
    "        self.lock = threading.Lock()\n",
    "\n",
    "    def __len__(self):\n",
    "        return len(self.records)\n",
    "\n",
    "    def __getitem__(self, idx):\n",
    "        # 记录格式：(npy_path, speaker, label)\n",
    "        npy_path, speaker, label = self.records[idx]\n",
    "        with self.lock:\n",
    "            if npy_path in self.cache:\n",
    "                return self.cache[npy_path]\n",
    "        try:\n",
    "            # 直接加载预先保存好的 npy 文件\n",
    "            mfcc = np.load(npy_path)\n",
    "        except Exception as e:\n",
    "            print(f\"Error loading {npy_path}: {e}\")\n",
    "            return None\n",
    "\n",
    "        # 可选：随机以一定概率应用 SpecAugment 数据增强\n",
    "        if random.random() < self.spec_aug_prob:\n",
    "            mfcc = spec_augment(mfcc, time_mask_param=100, freq_mask_param=10)\n",
    "\n",
    "        # 如果 npy 文件存储的是 (n_mfcc, target_frames)，增加 channel 维度，变为 (1, n_mfcc, target_frames)\n",
    "        if mfcc.ndim == 2:\n",
    "            mfcc = np.expand_dims(mfcc, axis=0)\n",
    "\n",
    "        mfcc_tensor = torch.tensor(mfcc, dtype=torch.float32)\n",
    "        label_tensor = torch.tensor(label, dtype=torch.long)\n",
    "        item = (mfcc_tensor, speaker, label_tensor)\n",
    "\n",
    "        # 缓存加载结果\n",
    "        with self.lock:\n",
    "            self.cache[npy_path] = item\n",
    "        return item\n",
    "\n",
    "    def get_group_splits(self, n_splits=5):\n",
    "        \"\"\"\n",
    "        使用 GroupKFold 根据 speaker 分组，返回一个列表，每个元素为 (train_indices, valid_indices)\n",
    "        \"\"\"\n",
    "        indices = np.arange(len(self))\n",
    "        groups = [record[1] for record in self.records]  # 根据 speaker 分组\n",
    "        gkf = GroupKFold(n_splits=n_splits)\n",
    "        splits = list(gkf.split(indices, groups=groups))\n",
    "        return splits"
   ]
  },
  {
   "cell_type": "markdown",
   "id": "a7ad5526-8f62-4fe8-b3ab-15528046053f",
   "metadata": {},
   "source": [
    "# 5.Build Conformer"
   ]
  },
  {
   "cell_type": "code",
   "execution_count": 5,
   "id": "4bdba401-4c97-40f9-af1a-67b14040b721",
   "metadata": {},
   "outputs": [],
   "source": [
    "# ----------------------------\n",
    "# Simplified Feed Forward Module\n",
    "# ----------------------------\n",
    "class FeedForwardModule(nn.Module):\n",
    "    def __init__(self, d_model, d_ff, dropout=0.05):\n",
    "        super(FeedForwardModule, self).__init__()\n",
    "        self.ff = nn.Sequential(\n",
    "            nn.Linear(d_model, d_ff),\n",
    "            nn.ReLU(),\n",
    "            nn.Dropout(dropout),\n",
    "            nn.Linear(d_ff, d_model),\n",
    "            nn.Dropout(dropout)\n",
    "        )\n",
    "\n",
    "    def forward(self, x):\n",
    "        return self.ff(x)\n",
    "\n",
    "\n",
    "# ----------------------------\n",
    "# Simplified Multi-Head Self-Attention Module\n",
    "# ----------------------------\n",
    "class MultiHeadSelfAttention(nn.Module):\n",
    "    def __init__(self, d_model, num_heads, dropout=0.05):\n",
    "        super(MultiHeadSelfAttention, self).__init__()\n",
    "        self.mha = nn.MultiheadAttention(embed_dim=d_model, num_heads=num_heads, dropout=dropout, batch_first=True)\n",
    "\n",
    "    def forward(self, x):\n",
    "        attn_output, _ = self.mha(x, x, x)\n",
    "        return attn_output\n",
    "\n",
    "\n",
    "# ----------------------------\n",
    "# Simplified Convolution Module（kernel_size 调整为 7）\n",
    "# ----------------------------\n",
    "class ConvolutionModule(nn.Module):\n",
    "    def __init__(self, d_model, kernel_size=7, dropout=0.05):\n",
    "        super(ConvolutionModule, self).__init__()\n",
    "        self.layer_norm = nn.LayerNorm(d_model)\n",
    "        self.pointwise_conv1 = nn.Conv1d(d_model, 2 * d_model, kernel_size=1)\n",
    "        self.glu = nn.GLU(dim=1)\n",
    "        self.depthwise_conv = nn.Conv1d(d_model, d_model, kernel_size=kernel_size,\n",
    "                                        groups=d_model, padding=(kernel_size - 1) // 2)\n",
    "        self.batch_norm = nn.BatchNorm1d(d_model)\n",
    "        self.pointwise_conv2 = nn.Conv1d(d_model, d_model, kernel_size=1)\n",
    "        self.dropout = nn.Dropout(dropout)\n",
    "\n",
    "    def forward(self, x):\n",
    "        # x: (B, T, d_model)\n",
    "        residual = x\n",
    "        x = self.layer_norm(x)\n",
    "        x = x.transpose(1, 2)  # -> (B, d_model, T)\n",
    "        x = self.pointwise_conv1(x)\n",
    "        x = self.glu(x)  # -> (B, d_model, T)\n",
    "        x = self.depthwise_conv(x)\n",
    "        x = self.batch_norm(x)\n",
    "        x = F.relu(x)\n",
    "        x = self.pointwise_conv2(x)\n",
    "        x = self.dropout(x)\n",
    "        x = x.transpose(1, 2)  # -> (B, T, d_model)\n",
    "        return x + residual\n",
    "\n",
    "\n",
    "# ----------------------------\n",
    "# Simplified Conformer Block (仅 1 层)\n",
    "# ----------------------------\n",
    "class ConformerBlock(nn.Module):\n",
    "    def __init__(self, d_model, d_ff, num_heads, dropout=0.05, kernel_size=7):\n",
    "        super(ConformerBlock, self).__init__()\n",
    "        self.ff_module1 = FeedForwardModule(d_model, d_ff, dropout)\n",
    "        self.self_attn = MultiHeadSelfAttention(d_model, num_heads, dropout)\n",
    "        self.conv_module = ConvolutionModule(d_model, kernel_size, dropout)\n",
    "        self.ff_module2 = FeedForwardModule(d_model, d_ff, dropout)\n",
    "        self.layer_norm = nn.LayerNorm(d_model)\n",
    "\n",
    "    def forward(self, x):\n",
    "        x = x + 0.5 * self.ff_module1(x)\n",
    "        x = x + self.self_attn(x)\n",
    "        x = x + self.conv_module(x)\n",
    "        x = x + 0.5 * self.ff_module2(x)\n",
    "        x = self.layer_norm(x)\n",
    "        return x\n",
    "\n",
    "\n",
    "# ----------------------------\n",
    "# Simplified Conformer Network\n",
    "# ----------------------------\n",
    "class Conformer(nn.Module):\n",
    "    def __init__(self, input_dim=40, d_model=64, d_ff=96, num_heads=2, num_layers=1,\n",
    "                 dropout=0.05, kernel_size=7, num_classes=1):\n",
    "        \"\"\"\n",
    "        :param input_dim: 输入特征维度（例如 40，对应 MFCC 维度）\n",
    "        :param d_model: 投影后的模型维度（例如 64）\n",
    "        :param d_ff: 前馈网络隐藏层维度（例如 96）\n",
    "        :param num_heads: 多头自注意力头数（例如 2）\n",
    "        :param num_layers: Conformer Block 层数（这里设置为 1）\n",
    "        :param num_classes: 输出类别数（例如二分类时为 1）\n",
    "        \"\"\"\n",
    "        super(Conformer, self).__init__()\n",
    "        # 输入投影层：将 40 维输入映射到 d_model（64 维）\n",
    "        self.input_linear = nn.Linear(input_dim, d_model)\n",
    "        # 仅堆叠一层 Conformer Block\n",
    "        self.conformer_layers = nn.ModuleList([\n",
    "            ConformerBlock(d_model, d_ff, num_heads, dropout, kernel_size) for _ in range(num_layers)\n",
    "        ])\n",
    "        # 全局平均池化（按时间轴平均）\n",
    "        self.pool = nn.AdaptiveAvgPool1d(1)\n",
    "        # 全连接层输出类别\n",
    "        self.fc = nn.Linear(d_model, num_classes)\n",
    "\n",
    "    def forward(self, x):\n",
    "        # 输入 x 的形状为 (B, 1, 40, 400) —— 40为特征维度，400为时间步数\n",
    "        if x.dim() == 4:\n",
    "            x = x.squeeze(1)  # -> (B, 40, 400)\n",
    "        # 转置为 (B, T, input_dim)，即 (B, 400, 40)\n",
    "        x = x.transpose(1, 2)\n",
    "        # 投影到 d_model 维度 -> (B, 400, 64)\n",
    "        x = self.input_linear(x)\n",
    "        # 通过单层 Conformer Block\n",
    "        for layer in self.conformer_layers:\n",
    "            x = layer(x)\n",
    "        # 转置为 (B, d_model, T) -> (B, 64, 400)\n",
    "        x = x.transpose(1, 2)\n",
    "        x = self.pool(x)  # -> (B, 64, 1)\n",
    "        x = x.squeeze(-1)  # -> (B, 64)\n",
    "        x = self.fc(x)  # -> (B, num_classes)\n",
    "        return x\n"
   ]
  },
  {
   "cell_type": "code",
   "execution_count": 15,
   "id": "b6a9eeb2-e5fa-4cfd-ad36-8a7cb3fd3518",
   "metadata": {},
   "outputs": [],
   "source": [
    "# ----------------------------\n",
    "# Feed Forward Module\n",
    "# ----------------------------\n",
    "class FeedForwardModule_plus(nn.Module):\n",
    "    def __init__(self, d_model, d_ff, dropout=0.05):\n",
    "        super(FeedForwardModule_plus, self).__init__()\n",
    "        self.ff = nn.Sequential(\n",
    "            nn.LayerNorm(d_model),  # LayerNorm\n",
    "            nn.Linear(d_model, d_ff),  # Linear layer\n",
    "            nn.SiLU(),  # Swish activation\n",
    "            nn.Dropout(dropout),  # Dropout\n",
    "            nn.Linear(d_ff, d_model),  # Linear layer\n",
    "            nn.Dropout(dropout)  # Dropout\n",
    "        )\n",
    "\n",
    "    def forward(self, x):\n",
    "        return self.ff(x)\n",
    "\n",
    "\n",
    "# ----------------------------\n",
    "# Multi-Head Self-Attention Module\n",
    "# ----------------------------\n",
    "class MultiHeadSelfAttention_plus(nn.Module):\n",
    "    def __init__(self, d_model, num_heads, dropout=0.05):\n",
    "        super(MultiHeadSelfAttention_plus, self).__init__()\n",
    "        self.mha = nn.MultiheadAttention(embed_dim=d_model, num_heads=num_heads, dropout=dropout, batch_first=True)\n",
    "\n",
    "    def forward(self, x):\n",
    "        attn_output, _ = self.mha(x, x, x)\n",
    "        return attn_output\n",
    "\n",
    "\n",
    "# ----------------------------\n",
    "# Convolution Module\n",
    "# ----------------------------\n",
    "class ConvolutionModule_plus(nn.Module):\n",
    "    def __init__(self, d_model, kernel_size=15, dropout=0.05):\n",
    "        super(ConvolutionModule_plus, self).__init__()\n",
    "        self.layer_norm = nn.LayerNorm(d_model)\n",
    "        self.pointwise_conv1 = nn.Conv1d(d_model, 2 * d_model, kernel_size=1)\n",
    "        self.glu = nn.GLU(dim=1)\n",
    "        self.depthwise_conv = nn.Conv1d(d_model, d_model, kernel_size=kernel_size, groups=d_model,\n",
    "                                        padding=(kernel_size - 1) // 2)\n",
    "        self.batch_norm = nn.BatchNorm1d(d_model)\n",
    "        self.pointwise_conv2 = nn.Conv1d(d_model, d_model, kernel_size=1)\n",
    "        self.dropout = nn.Dropout(dropout)\n",
    "\n",
    "    def forward(self, x):\n",
    "        residual = x\n",
    "        x = self.layer_norm(x)\n",
    "        x = x.transpose(1, 2)  # (B, d_model, T)\n",
    "        x = self.pointwise_conv1(x)\n",
    "        x = self.glu(x)  # (B, d_model, T)\n",
    "        x = self.depthwise_conv(x)\n",
    "        x = self.batch_norm(x)\n",
    "        x = F.relu(x)\n",
    "        x = self.pointwise_conv2(x)\n",
    "        x = self.dropout(x)\n",
    "        x = x.transpose(1, 2)  # (B, T, d_model)\n",
    "        return x + residual\n",
    "\n",
    "\n",
    "# ----------------------------\n",
    "# Conformer Block\n",
    "# ----------------------------\n",
    "class ConformerBlock_plus(nn.Module):\n",
    "    def __init__(self, d_model, d_ff, num_heads, dropout=0.05, kernel_size=15):\n",
    "        super(ConformerBlock_plus, self).__init__()\n",
    "        self.ff_module1 = FeedForwardModule_plus(d_model, d_ff, dropout)\n",
    "        self.self_attn = MultiHeadSelfAttention_plus(d_model, num_heads, dropout)\n",
    "        self.conv_module = ConvolutionModule_plus(d_model, kernel_size, dropout)\n",
    "        self.ff_module2 = FeedForwardModule_plus(d_model, d_ff, dropout)\n",
    "        self.layer_norm = nn.LayerNorm(d_model)\n",
    "\n",
    "    def forward(self, x):\n",
    "        x = x + 0.5 * self.ff_module1(x)\n",
    "        x = x + self.self_attn(x)\n",
    "        x = x + self.conv_module(x)\n",
    "        x = x + 0.5 * self.ff_module2(x)\n",
    "        x = self.layer_norm(x)\n",
    "        return x\n",
    "\n",
    "\n",
    "# ----------------------------\n",
    "# Complete Conformer Network\n",
    "# ----------------------------\n",
    "class Conformer_plus(nn.Module):\n",
    "    def __init__(self, input_dim=40, d_model=64, d_ff=96, num_heads=4, num_layers=6,\n",
    "                 dropout=0.05, kernel_size=7, num_classes=1):\n",
    "        \"\"\"\n",
    "        :param input_dim: 输入特征维度（例如 40，对应 MFCC 维度）\n",
    "        :param d_model: 投影后的模型维度（例如 64）\n",
    "        :param d_ff: 前馈网络隐藏层维度（例如 96）\n",
    "        :param num_heads: 多头自注意力头数（例如 4）\n",
    "        :param num_layers: Conformer Block 层数（例如 6 层）\n",
    "        :param num_classes: 输出类别数（例如二分类时为 1）\n",
    "        \"\"\"\n",
    "        super(Conformer_plus, self).__init__()\n",
    "        # 输入投影层\n",
    "        self.input_linear = nn.Linear(input_dim, d_model)\n",
    "\n",
    "        # 堆叠多个 Conformer Block\n",
    "        self.conformer_layers = nn.ModuleList([\n",
    "            ConformerBlock_plus(d_model, d_ff, num_heads, dropout, kernel_size) for _ in range(num_layers)\n",
    "        ])\n",
    "\n",
    "        # 全局平均池化\n",
    "        self.pool = nn.AdaptiveAvgPool1d(1)\n",
    "        # 输出层\n",
    "        self.fc = nn.Linear(d_model, num_classes)\n",
    "\n",
    "    def forward(self, x):\n",
    "        # 输入 x 形状为 (B, 1, 40, 400)\n",
    "        if x.dim() == 4:\n",
    "            x = x.squeeze(1)  # -> (B, 40, 400)\n",
    "\n",
    "        # 转置为 (B, T, input_dim)，即 (B, 400, 40)\n",
    "        x = x.transpose(1, 2)\n",
    "\n",
    "        # 投影到 d_model 维度 -> (B, 400, d_model)\n",
    "        x = self.input_linear(x)\n",
    "\n",
    "        # 通过多个 Conformer Block\n",
    "        for layer in self.conformer_layers:\n",
    "            x = layer(x)\n",
    "\n",
    "        # 转置为 (B, d_model, T) -> (B, d_model, 400)\n",
    "        x = x.transpose(1, 2)\n",
    "\n",
    "        # 全局池化\n",
    "        x = self.pool(x)  # -> (B, d_model, 1)\n",
    "        x = x.squeeze(-1)  # -> (B, d_model)\n",
    "\n",
    "        # 全连接层输出\n",
    "        x = self.fc(x)  # -> (B, num_classes)\n",
    "        return x\n"
   ]
  },
  {
   "cell_type": "code",
   "execution_count": 18,
   "id": "5a4cd256-f5c6-45bf-8537-b57ad654aede",
   "metadata": {
    "scrolled": true
   },
   "outputs": [
    {
     "name": "stdout",
     "output_type": "stream",
     "text": [
      "--device_available: cuda--\n",
      "----------------------------------------------------------------\n",
      "        Layer (type)               Output Shape         Param #\n",
      "================================================================\n",
      "            Linear-1              [-1, 400, 32]           1,312\n",
      "         LayerNorm-2              [-1, 400, 32]              64\n",
      "            Linear-3              [-1, 400, 64]           2,112\n",
      "              SiLU-4              [-1, 400, 64]               0\n",
      "           Dropout-5              [-1, 400, 64]               0\n",
      "            Linear-6              [-1, 400, 32]           2,080\n",
      "           Dropout-7              [-1, 400, 32]               0\n",
      "FeedForwardModule_plus-8              [-1, 400, 32]               0\n",
      "MultiheadAttention-9  [[-1, 400, 32], [-1, 400, 400]]               0\n",
      "MultiHeadSelfAttention_plus-10              [-1, 400, 32]               0\n",
      "        LayerNorm-11              [-1, 400, 32]              64\n",
      "           Conv1d-12              [-1, 64, 400]           2,112\n",
      "              GLU-13              [-1, 32, 400]               0\n",
      "           Conv1d-14              [-1, 32, 400]             256\n",
      "      BatchNorm1d-15              [-1, 32, 400]              64\n",
      "           Conv1d-16              [-1, 32, 400]           1,056\n",
      "          Dropout-17              [-1, 32, 400]               0\n",
      "ConvolutionModule_plus-18              [-1, 400, 32]               0\n",
      "        LayerNorm-19              [-1, 400, 32]              64\n",
      "           Linear-20              [-1, 400, 64]           2,112\n",
      "             SiLU-21              [-1, 400, 64]               0\n",
      "          Dropout-22              [-1, 400, 64]               0\n",
      "           Linear-23              [-1, 400, 32]           2,080\n",
      "          Dropout-24              [-1, 400, 32]               0\n",
      "FeedForwardModule_plus-25              [-1, 400, 32]               0\n",
      "        LayerNorm-26              [-1, 400, 32]              64\n",
      "ConformerBlock_plus-27              [-1, 400, 32]               0\n",
      "        LayerNorm-28              [-1, 400, 32]              64\n",
      "           Linear-29              [-1, 400, 64]           2,112\n",
      "             SiLU-30              [-1, 400, 64]               0\n",
      "          Dropout-31              [-1, 400, 64]               0\n",
      "           Linear-32              [-1, 400, 32]           2,080\n",
      "          Dropout-33              [-1, 400, 32]               0\n",
      "FeedForwardModule_plus-34              [-1, 400, 32]               0\n",
      "MultiheadAttention-35  [[-1, 400, 32], [-1, 400, 400]]               0\n",
      "MultiHeadSelfAttention_plus-36              [-1, 400, 32]               0\n",
      "        LayerNorm-37              [-1, 400, 32]              64\n",
      "           Conv1d-38              [-1, 64, 400]           2,112\n",
      "              GLU-39              [-1, 32, 400]               0\n",
      "           Conv1d-40              [-1, 32, 400]             256\n",
      "      BatchNorm1d-41              [-1, 32, 400]              64\n",
      "           Conv1d-42              [-1, 32, 400]           1,056\n",
      "          Dropout-43              [-1, 32, 400]               0\n",
      "ConvolutionModule_plus-44              [-1, 400, 32]               0\n",
      "        LayerNorm-45              [-1, 400, 32]              64\n",
      "           Linear-46              [-1, 400, 64]           2,112\n",
      "             SiLU-47              [-1, 400, 64]               0\n",
      "          Dropout-48              [-1, 400, 64]               0\n",
      "           Linear-49              [-1, 400, 32]           2,080\n",
      "          Dropout-50              [-1, 400, 32]               0\n",
      "FeedForwardModule_plus-51              [-1, 400, 32]               0\n",
      "        LayerNorm-52              [-1, 400, 32]              64\n",
      "ConformerBlock_plus-53              [-1, 400, 32]               0\n",
      "        LayerNorm-54              [-1, 400, 32]              64\n",
      "           Linear-55              [-1, 400, 64]           2,112\n",
      "             SiLU-56              [-1, 400, 64]               0\n",
      "          Dropout-57              [-1, 400, 64]               0\n",
      "           Linear-58              [-1, 400, 32]           2,080\n",
      "          Dropout-59              [-1, 400, 32]               0\n",
      "FeedForwardModule_plus-60              [-1, 400, 32]               0\n",
      "MultiheadAttention-61  [[-1, 400, 32], [-1, 400, 400]]               0\n",
      "MultiHeadSelfAttention_plus-62              [-1, 400, 32]               0\n",
      "        LayerNorm-63              [-1, 400, 32]              64\n",
      "           Conv1d-64              [-1, 64, 400]           2,112\n",
      "              GLU-65              [-1, 32, 400]               0\n",
      "           Conv1d-66              [-1, 32, 400]             256\n",
      "      BatchNorm1d-67              [-1, 32, 400]              64\n",
      "           Conv1d-68              [-1, 32, 400]           1,056\n",
      "          Dropout-69              [-1, 32, 400]               0\n",
      "ConvolutionModule_plus-70              [-1, 400, 32]               0\n",
      "        LayerNorm-71              [-1, 400, 32]              64\n",
      "           Linear-72              [-1, 400, 64]           2,112\n",
      "             SiLU-73              [-1, 400, 64]               0\n",
      "          Dropout-74              [-1, 400, 64]               0\n",
      "           Linear-75              [-1, 400, 32]           2,080\n",
      "          Dropout-76              [-1, 400, 32]               0\n",
      "FeedForwardModule_plus-77              [-1, 400, 32]               0\n",
      "        LayerNorm-78              [-1, 400, 32]              64\n",
      "ConformerBlock_plus-79              [-1, 400, 32]               0\n",
      "        LayerNorm-80              [-1, 400, 32]              64\n",
      "           Linear-81              [-1, 400, 64]           2,112\n",
      "             SiLU-82              [-1, 400, 64]               0\n",
      "          Dropout-83              [-1, 400, 64]               0\n",
      "           Linear-84              [-1, 400, 32]           2,080\n",
      "          Dropout-85              [-1, 400, 32]               0\n",
      "FeedForwardModule_plus-86              [-1, 400, 32]               0\n",
      "MultiheadAttention-87  [[-1, 400, 32], [-1, 400, 400]]               0\n",
      "MultiHeadSelfAttention_plus-88              [-1, 400, 32]               0\n",
      "        LayerNorm-89              [-1, 400, 32]              64\n",
      "           Conv1d-90              [-1, 64, 400]           2,112\n",
      "              GLU-91              [-1, 32, 400]               0\n",
      "           Conv1d-92              [-1, 32, 400]             256\n",
      "      BatchNorm1d-93              [-1, 32, 400]              64\n",
      "           Conv1d-94              [-1, 32, 400]           1,056\n",
      "          Dropout-95              [-1, 32, 400]               0\n",
      "ConvolutionModule_plus-96              [-1, 400, 32]               0\n",
      "        LayerNorm-97              [-1, 400, 32]              64\n",
      "           Linear-98              [-1, 400, 64]           2,112\n",
      "             SiLU-99              [-1, 400, 64]               0\n",
      "         Dropout-100              [-1, 400, 64]               0\n",
      "          Linear-101              [-1, 400, 32]           2,080\n",
      "         Dropout-102              [-1, 400, 32]               0\n",
      "FeedForwardModule_plus-103              [-1, 400, 32]               0\n",
      "       LayerNorm-104              [-1, 400, 32]              64\n",
      "ConformerBlock_plus-105              [-1, 400, 32]               0\n",
      "AdaptiveAvgPool1d-106                [-1, 32, 1]               0\n",
      "          Linear-107                    [-1, 1]              33\n",
      "================================================================\n",
      "Total params: 49,857\n",
      "Trainable params: 49,857\n",
      "Non-trainable params: 0\n",
      "----------------------------------------------------------------\n",
      "Input size (MB): 0.06\n",
      "Forward/backward pass size (MB): 62487.40\n",
      "Params size (MB): 0.19\n",
      "Estimated Total Size (MB): 62487.65\n",
      "----------------------------------------------------------------\n"
     ]
    }
   ],
   "source": [
    "from torchsummary import summary\n",
    "\n",
    "device = torch.device(\"cuda\" if torch.cuda.is_available() else \"cpu\")\n",
    "print(f\"--device_available: {device}--\")\n",
    "\n",
    "model = Conformer_plus(input_dim=40, d_model=32, d_ff=64, num_heads=8, num_layers=4,\n",
    "                       dropout=0.1, kernel_size=7, num_classes=1).to(device)\n",
    "summary(model, input_size=(1, 40, 400))"
   ]
  },
  {
   "cell_type": "markdown",
   "id": "3bfb6ed4-c36b-4622-97d5-aebe7a8f3de7",
   "metadata": {},
   "source": [
    "# 6.ConformerTrainer"
   ]
  },
  {
   "cell_type": "code",
   "execution_count": 19,
   "id": "5a060a1c-905c-47c7-b7c4-535a4c23810e",
   "metadata": {},
   "outputs": [],
   "source": [
    "class ConformerTrainer:\n",
    "    \"\"\"\n",
    "    Trainer class that integrates model definition, training, early stopping, checkpointing, and wandb logging.\n",
    "    Uses the Conformer model for training.\n",
    "    \"\"\"\n",
    "\n",
    "    def __init__(self, train_dataloader=None, val_dataloader=None, device=None, lr=0.0001, patience=10, lr_gamma=0.9,\n",
    "                 checkpoint_path=\"Conformer_best.pt\", project_name=\"Conformer_Project\"):\n",
    "        self.train_dataloader = train_dataloader\n",
    "        self.val_dataloader = val_dataloader\n",
    "        self.device = device if device else torch.device(\"cuda\" if torch.cuda.is_available() else \"cpu\")\n",
    "        self.checkpoint_path = checkpoint_path\n",
    "        self.patience = patience\n",
    "\n",
    "        # Using the Conformer model, assuming input dimension is 40 and number of output classes is 1 (binary classification)\n",
    "        # self.model = Conformer(input_dim=40, d_model=128, d_ff=256, num_heads=4, num_layers=4,\n",
    "        #                         dropout=0.1, kernel_size=31, num_classes=1).to(self.device)\n",
    "\n",
    "        # self.model = Conformer(input_dim=40, d_model=32, d_ff=64, num_heads=4, num_layers=6,\n",
    "        #                           dropout=0.1, kernel_size=7, num_classes=1).to(device) #411\n",
    "\n",
    "        # self.model = Conformer(input_dim=40, d_model=48, d_ff=96, num_heads=6, num_layers=6, \n",
    "        #                           dropout=0.05, kernel_size=7, num_classes=1).to(device) #412\n",
    "\n",
    "        self.model = Conformer_plus(input_dim=40, d_model=32, d_ff=64, num_heads=8, num_layers=4,\n",
    "                                    dropout=0.05, kernel_size=7, num_classes=1).to(device)  #plus\n",
    "\n",
    "        # Define loss function and optimizer using BCEWithLogitsLoss (which includes sigmoid)\n",
    "        self.criterion = nn.BCEWithLogitsLoss()\n",
    "        self.optimizer = optim.Adam(self.model.parameters(), lr=lr)\n",
    "\n",
    "        # Set up the ExponentialLR scheduler\n",
    "        self.scheduler = ExponentialLR(self.optimizer, gamma=lr_gamma)\n",
    "\n",
    "        # 初始化 wandb\n",
    "        wandb.init(project=project_name)\n",
    "        wandb.watch(self.model, log=\"all\")\n",
    "\n",
    "        # Variables for early stopping\n",
    "        self.best_val_loss = float('inf')\n",
    "        self.no_improve_count = 0\n",
    "\n",
    "    def train_one_epoch(self):\n",
    "        self.model.train()\n",
    "        running_loss = 0.0\n",
    "        running_correct = 0\n",
    "        total_samples = 0\n",
    "\n",
    "        progress_bar = tqdm(self.train_dataloader, desc=\"Training\", leave=False)\n",
    "        for features, speakers, labels in progress_bar:\n",
    "            features = features.to(self.device)\n",
    "\n",
    "            self.optimizer.zero_grad()\n",
    "            outputs = self.model(features).squeeze(1)  # outputs shape: (B,)\n",
    "\n",
    "            # 判断是否应用了增强\n",
    "            if isinstance(labels, tuple):\n",
    "                # labels 为 (y_a, y_b, lam)\n",
    "                y_a, y_b, lam = labels\n",
    "                # 如果增强结果未真正应用（例如 y_b is None），则直接使用 y_a 作为标签\n",
    "                if y_b is None:\n",
    "                    labels_tensor = y_a.to(self.device).float()\n",
    "                    loss = self.criterion(outputs, labels_tensor)\n",
    "                    preds = (torch.sigmoid(outputs) >= 0.5).long()\n",
    "                    batch_correct = (preds == labels_tensor.long()).sum().item()\n",
    "                    batch_size = labels_tensor.size(0)\n",
    "                else:\n",
    "                    y_a = y_a.to(self.device).float()\n",
    "                    y_b = y_b.to(self.device).float()\n",
    "                    loss = lam * self.criterion(outputs, y_a) + (1 - lam) * self.criterion(outputs, y_b)\n",
    "                    # 对于准确率这里简单使用 y_a 作为参考\n",
    "                    preds = (torch.sigmoid(outputs) >= 0.5).long()\n",
    "                    batch_correct = (preds == y_a.long()).sum().item()\n",
    "                    batch_size = y_a.size(0)\n",
    "            else:\n",
    "                labels = labels.to(self.device).float()\n",
    "                loss = self.criterion(outputs, labels)\n",
    "                preds = (torch.sigmoid(outputs) >= 0.5).long()\n",
    "                batch_correct = (preds == labels.long()).sum().item()\n",
    "                batch_size = labels.size(0)\n",
    "\n",
    "            loss.backward()\n",
    "            self.optimizer.step()\n",
    "\n",
    "            running_loss += loss.item() * batch_size\n",
    "            running_correct += batch_correct\n",
    "            total_samples += batch_size\n",
    "            progress_bar.set_postfix(loss=loss.item())\n",
    "\n",
    "        epoch_loss = running_loss / total_samples\n",
    "        epoch_acc = running_correct / total_samples\n",
    "        return epoch_loss, epoch_acc\n",
    "\n",
    "    def validate_one_epoch(self):\n",
    "        if self.val_dataloader is None:\n",
    "            return None, None\n",
    "\n",
    "        self.model.eval()\n",
    "        running_loss = 0.0\n",
    "        running_correct = 0\n",
    "        total_samples = 0\n",
    "\n",
    "        progress_bar = tqdm(self.val_dataloader, desc=\"Validating\", leave=False)\n",
    "        with torch.no_grad():\n",
    "            for features, speakers, labels in progress_bar:\n",
    "                features = features.to(self.device)\n",
    "                # 方法2：在验证中判断 labels 是否为 tuple，若是，则直接取 y_a 作为标签\n",
    "                if isinstance(labels, tuple):\n",
    "                    y_a, _, _ = labels\n",
    "                    labels_tensor = y_a.to(self.device).float()\n",
    "                else:\n",
    "                    labels_tensor = labels.to(self.device).float()\n",
    "\n",
    "                outputs = self.model(features).squeeze(1)\n",
    "                loss = self.criterion(outputs, labels_tensor)\n",
    "                running_loss += loss.item() * labels_tensor.size(0)\n",
    "\n",
    "                preds = (torch.sigmoid(outputs) >= 0.5).long()\n",
    "                running_correct += (preds == labels_tensor.long()).sum().item()\n",
    "                total_samples += labels_tensor.size(0)\n",
    "                progress_bar.set_postfix(loss=loss.item())\n",
    "\n",
    "        val_loss = running_loss / total_samples\n",
    "        val_acc = running_correct / total_samples\n",
    "        return val_loss, val_acc\n",
    "\n",
    "    def save_model(self, filepath):\n",
    "        \"\"\"保存当前模型参数到指定文件\"\"\"\n",
    "        torch.save(self.model.state_dict(), filepath)\n",
    "        print(f\"Model saved to {filepath}\")\n",
    "\n",
    "    def load_model(self, filepath):\n",
    "        \"\"\"加载模型参数\"\"\"\n",
    "        self.model.load_state_dict(torch.load(filepath, map_location=self.device))\n",
    "        self.model.to(self.device)\n",
    "        print(f\"Model loaded from {filepath}\")\n",
    "\n",
    "    def predict(self, test_dataloader):\n",
    "        \"\"\"\n",
    "        对测试数据进行预测，返回预测结果列表\n",
    "        \"\"\"\n",
    "        self.model.eval()\n",
    "        predictions = []\n",
    "        with torch.no_grad():\n",
    "            for features, _, _ in test_dataloader:\n",
    "                features = features.to(self.device)\n",
    "                outputs = self.model(features).squeeze(1)\n",
    "                preds = (torch.sigmoid(outputs) >= 0.5).long().cpu().numpy()\n",
    "                predictions.extend(preds)\n",
    "        return predictions\n",
    "\n",
    "    def fit(self, num_epochs=20):\n",
    "        for epoch in range(num_epochs):\n",
    "            train_loss, train_acc = self.train_one_epoch()\n",
    "            val_loss, val_acc = self.validate_one_epoch()\n",
    "\n",
    "            if val_loss is not None:\n",
    "                print(\n",
    "                    f\"Epoch [{epoch + 1}/{num_epochs}] | Train Loss: {train_loss:.4f}, Train Acc: {train_acc:.4f} | Val Loss: {val_loss:.4f}, Val Acc: {val_acc:.4f}\")\n",
    "            else:\n",
    "                print(f\"Epoch [{epoch + 1}/{num_epochs}] | Train Loss: {train_loss:.4f}, Train Acc: {train_acc:.4f}\")\n",
    "\n",
    "            # 若验证 loss 改进，则保存最佳模型，并重置未改进计数器；否则累计未改进轮数\n",
    "            if val_loss is not None:\n",
    "                if val_loss < self.best_val_loss:\n",
    "                    self.best_val_loss = val_loss\n",
    "                    self.no_improve_count = 0\n",
    "                    self.save_model(self.checkpoint_path)\n",
    "                else:\n",
    "                    self.no_improve_count += 1\n",
    "                    print(f\"No improvement count: {self.no_improve_count}/{self.patience}\")\n",
    "                    if self.no_improve_count >= self.patience:\n",
    "                        print(\"Early stopping triggered.\")\n",
    "                        break\n",
    "\n",
    "            log_dict = {\n",
    "                \"train_loss\": train_loss,\n",
    "                \"train_acc\": train_acc,\n",
    "                \"epoch\": epoch + 1\n",
    "            }\n",
    "            if val_loss is not None:\n",
    "                log_dict[\"val_loss\"] = val_loss\n",
    "                log_dict[\"val_acc\"] = val_acc\n",
    "\n",
    "            wandb.log(log_dict)\n"
   ]
  },
  {
   "cell_type": "markdown",
   "id": "782fc143-e014-4aa3-aa1a-dffeffb4b7d7",
   "metadata": {},
   "source": [
    "# 7.DataModule"
   ]
  },
  {
   "cell_type": "code",
   "execution_count": 20,
   "id": "02759fbf-d49e-4328-be74-62034913e906",
   "metadata": {},
   "outputs": [],
   "source": [
    "class DataModule:\n",
    "    \"\"\"\n",
    "    封装数据加载流程，包括：\n",
    "      1. 从 CSV 加载 npy 文件路径及元数据；\n",
    "      2. 构建 MFCCDataset（直接加载 npy 文件，包含缓存与按需加载）；\n",
    "      3. 根据 speaker 使用 GroupKFold 划分子集；\n",
    "      4. 构造 train 和 valid DataLoader，并在 collate_fn 中使用 CutMix/MixUp 增强。\n",
    "    \"\"\"\n",
    "\n",
    "    def __init__(self, csv_file, allowed_set, allowed_data_source=\"all\",\n",
    "                 batch_size=128, num_workers_csv=96, num_workers_dataset=0):\n",
    "        self.csv_file = csv_file\n",
    "        self.allowed_set = allowed_set\n",
    "        self.allowed_data_source = allowed_data_source\n",
    "        self.batch_size = batch_size\n",
    "        self.num_workers_csv = num_workers_csv\n",
    "        self.num_workers_dataset = num_workers_dataset\n",
    "\n",
    "        self.train_loader = None\n",
    "        self.valid_loader = None\n",
    "        self.dataset = None\n",
    "\n",
    "    def setup(self):\n",
    "        def my_collate_fn(batch):\n",
    "            return custom_collate_fn(batch, cutmix_prob=0.5, mixup_prob=0.5)\n",
    "\n",
    "        # 1. 从 CSV 加载 npy 文件路径及元数据\n",
    "        npy_loader = NpyLoader(max_workers=self.num_workers_csv)\n",
    "        records = npy_loader.load_audio_info_from_csv(\n",
    "            csv_file=self.csv_file,\n",
    "            allowed_set=self.allowed_set,\n",
    "            allowed_data_source=self.allowed_data_source\n",
    "        )\n",
    "\n",
    "        # 2. 构建 MFCCDataset（直接加载 npy 文件，不再转换）\n",
    "        self.dataset = MFCCDataset(\n",
    "            records=records,\n",
    "            spec_aug_prob=0.2\n",
    "        )\n",
    "\n",
    "        # 3. 使用 GroupKFold 根据 speaker 划分数据集\n",
    "        splits = self.dataset.get_group_splits(n_splits=5)\n",
    "        train_idx, valid_idx = splits[0]\n",
    "        train_subset = Subset(self.dataset, train_idx)\n",
    "        valid_subset = Subset(self.dataset, valid_idx)\n",
    "\n",
    "        # 4. 创建 DataLoader，使用自定义 collate_fn（集成 CutMix/MixUp 增强）\n",
    "        self.train_loader = DataLoader(\n",
    "            train_subset,\n",
    "            batch_size=self.batch_size,\n",
    "            shuffle=True,\n",
    "            num_workers=self.num_workers_dataset,\n",
    "            collate_fn=my_collate_fn\n",
    "        )\n",
    "        self.valid_loader = DataLoader(\n",
    "            valid_subset,\n",
    "            batch_size=self.batch_size,\n",
    "            shuffle=False,\n",
    "            num_workers=self.num_workers_dataset,\n",
    "            collate_fn=my_collate_fn\n",
    "        )\n",
    "\n",
    "    def get_loaders(self):\n",
    "        if self.train_loader is None or self.valid_loader is None:\n",
    "            self.setup()\n",
    "        return self.train_loader, self.valid_loader"
   ]
  },
  {
   "cell_type": "code",
   "execution_count": 21,
   "id": "926a8cd0-75ec-447c-865c-fe62b8252c87",
   "metadata": {},
   "outputs": [
    {
     "data": {
      "application/vnd.jupyter.widget-view+json": {
       "model_id": "530027eab7be43259f77db083bfbc771",
       "version_major": 2,
       "version_minor": 0
      },
      "text/plain": [
       "Loading audio info from CSV:   0%|          | 0/368780 [00:00<?, ?it/s]"
      ]
     },
     "metadata": {},
     "output_type": "display_data"
    },
    {
     "name": "stdout",
     "output_type": "stream",
     "text": [
      "Feature Shape: torch.Size([128, 1, 40, 400]), Labels Shape: 128, Speakers: 128\n"
     ]
    }
   ],
   "source": [
    "data_module = DataModule(\n",
    "    csv_file=\"/home/jupyter/Data/meta_npy.csv\",  #--meta_file\n",
    "    allowed_set=['train'],  #训练还是测试\n",
    "    allowed_data_source=\"all\",\n",
    "    # ['itw', 'gen', 'LJSpeech', 'vox', 'diffusion-based'] 去掉diffusion-based train的话应该就能得到不太好的eer泛化\n",
    "    batch_size=128,  #训练batch_size\n",
    "    num_workers_csv=96,  #多线程读取csv的\n",
    "    num_workers_dataset=0\n",
    ")\n",
    "\n",
    "data_module.setup()\n",
    "train_loader, valid_loader = data_module.get_loaders()\n",
    "\n",
    "for batch in train_loader:\n",
    "    features, speakers, labels = batch\n",
    "    print(f\"Feature Shape: {features.shape}, Labels Shape: {len(speakers)}, Speakers: {len(speakers)}\")\n",
    "    break  # 打印第一个 batch检查input shape"
   ]
  },
  {
   "cell_type": "code",
   "execution_count": null,
   "id": "2d884a9c-eb36-405f-8d15-2035a82f550e",
   "metadata": {
    "scrolled": true
   },
   "outputs": [
    {
     "name": "stderr",
     "output_type": "stream",
     "text": [
      "Failed to detect the name of this notebook, you can set it manually with the WANDB_NOTEBOOK_NAME environment variable to enable code saving.\n",
      "\u001B[34m\u001B[1mwandb\u001B[0m: Using wandb-core as the SDK backend.  Please refer to https://wandb.me/wandb-core for more information.\n",
      "\u001B[34m\u001B[1mwandb\u001B[0m: Currently logged in as: \u001B[33mzlj201900820209\u001B[0m (\u001B[33mzlj201900820209-national-university-of-singapore-student\u001B[0m) to \u001B[32mhttps://api.wandb.ai\u001B[0m. Use \u001B[1m`wandb login --relogin`\u001B[0m to force relogin\n"
     ]
    },
    {
     "data": {
      "text/html": [
       "Tracking run with wandb version 0.19.8"
      ],
      "text/plain": [
       "<IPython.core.display.HTML object>"
      ]
     },
     "metadata": {},
     "output_type": "display_data"
    },
    {
     "data": {
      "text/html": [
       "Run data is saved locally in <code>/home/jupyter/BenchMark/wandb/run-20250416_040435-g68iqgdv</code>"
      ],
      "text/plain": [
       "<IPython.core.display.HTML object>"
      ]
     },
     "metadata": {},
     "output_type": "display_data"
    },
    {
     "data": {
      "text/html": [
       "Syncing run <strong><a href='https://wandb.ai/zlj201900820209-national-university-of-singapore-student/conformer_plus/runs/g68iqgdv' target=\"_blank\">dauntless-shape-1</a></strong> to <a href='https://wandb.ai/zlj201900820209-national-university-of-singapore-student/conformer_plus' target=\"_blank\">Weights & Biases</a> (<a href='https://wandb.me/developer-guide' target=\"_blank\">docs</a>)<br>"
      ],
      "text/plain": [
       "<IPython.core.display.HTML object>"
      ]
     },
     "metadata": {},
     "output_type": "display_data"
    },
    {
     "data": {
      "text/html": [
       " View project at <a href='https://wandb.ai/zlj201900820209-national-university-of-singapore-student/conformer_plus' target=\"_blank\">https://wandb.ai/zlj201900820209-national-university-of-singapore-student/conformer_plus</a>"
      ],
      "text/plain": [
       "<IPython.core.display.HTML object>"
      ]
     },
     "metadata": {},
     "output_type": "display_data"
    },
    {
     "data": {
      "text/html": [
       " View run at <a href='https://wandb.ai/zlj201900820209-national-university-of-singapore-student/conformer_plus/runs/g68iqgdv' target=\"_blank\">https://wandb.ai/zlj201900820209-national-university-of-singapore-student/conformer_plus/runs/g68iqgdv</a>"
      ],
      "text/plain": [
       "<IPython.core.display.HTML object>"
      ]
     },
     "metadata": {},
     "output_type": "display_data"
    },
    {
     "data": {
      "application/vnd.jupyter.widget-view+json": {
       "model_id": "5c31fcf14e0b42c8b64dd9f73ce77674",
       "version_major": 2,
       "version_minor": 0
      },
      "text/plain": [
       "Training:   0%|          | 0/2305 [00:00<?, ?it/s]"
      ]
     },
     "metadata": {},
     "output_type": "display_data"
    },
    {
     "data": {
      "application/vnd.jupyter.widget-view+json": {
       "model_id": "bf5588fa086b41bbab7ecfd462bc4bfc",
       "version_major": 2,
       "version_minor": 0
      },
      "text/plain": [
       "Validating:   0%|          | 0/577 [00:00<?, ?it/s]"
      ]
     },
     "metadata": {},
     "output_type": "display_data"
    },
    {
     "name": "stdout",
     "output_type": "stream",
     "text": [
      "Epoch [1/50] | Train Loss: 0.3861, Train Acc: 0.8376 | Val Loss: 0.2005, Val Acc: 0.9433\n",
      "Model saved to conformer_plus.pt\n"
     ]
    },
    {
     "data": {
      "application/vnd.jupyter.widget-view+json": {
       "model_id": "32b746a36b8c4a8e93cf2873479633a8",
       "version_major": 2,
       "version_minor": 0
      },
      "text/plain": [
       "Training:   0%|          | 0/2305 [00:00<?, ?it/s]"
      ]
     },
     "metadata": {},
     "output_type": "display_data"
    },
    {
     "data": {
      "application/vnd.jupyter.widget-view+json": {
       "model_id": "db31f342cd6c4b95b82a4c711a4d584e",
       "version_major": 2,
       "version_minor": 0
      },
      "text/plain": [
       "Validating:   0%|          | 0/577 [00:00<?, ?it/s]"
      ]
     },
     "metadata": {},
     "output_type": "display_data"
    },
    {
     "name": "stdout",
     "output_type": "stream",
     "text": [
      "Epoch [2/50] | Train Loss: 0.2903, Train Acc: 0.8929 | Val Loss: 0.1838, Val Acc: 0.9483\n",
      "Model saved to conformer_plus.pt\n"
     ]
    },
    {
     "data": {
      "application/vnd.jupyter.widget-view+json": {
       "model_id": "e3c77408d43a416b895396276005a392",
       "version_major": 2,
       "version_minor": 0
      },
      "text/plain": [
       "Training:   0%|          | 0/2305 [00:00<?, ?it/s]"
      ]
     },
     "metadata": {},
     "output_type": "display_data"
    },
    {
     "data": {
      "application/vnd.jupyter.widget-view+json": {
       "model_id": "c40fa0cac6ae430d95f8d1667c2501bb",
       "version_major": 2,
       "version_minor": 0
      },
      "text/plain": [
       "Validating:   0%|          | 0/577 [00:00<?, ?it/s]"
      ]
     },
     "metadata": {},
     "output_type": "display_data"
    },
    {
     "name": "stdout",
     "output_type": "stream",
     "text": [
      "Epoch [3/50] | Train Loss: 0.2772, Train Acc: 0.8960 | Val Loss: 0.1832, Val Acc: 0.9474\n",
      "Model saved to conformer_plus.pt\n"
     ]
    },
    {
     "data": {
      "application/vnd.jupyter.widget-view+json": {
       "model_id": "35bc22acd1b14944bb0aa41a365cf625",
       "version_major": 2,
       "version_minor": 0
      },
      "text/plain": [
       "Training:   0%|          | 0/2305 [00:00<?, ?it/s]"
      ]
     },
     "metadata": {},
     "output_type": "display_data"
    },
    {
     "data": {
      "application/vnd.jupyter.widget-view+json": {
       "model_id": "f0efd5c2e3774bb799f856cca845c504",
       "version_major": 2,
       "version_minor": 0
      },
      "text/plain": [
       "Validating:   0%|          | 0/577 [00:00<?, ?it/s]"
      ]
     },
     "metadata": {},
     "output_type": "display_data"
    },
    {
     "name": "stdout",
     "output_type": "stream",
     "text": [
      "Epoch [4/50] | Train Loss: 0.2669, Train Acc: 0.8994 | Val Loss: 0.1680, Val Acc: 0.9499\n",
      "Model saved to conformer_plus.pt\n"
     ]
    },
    {
     "data": {
      "application/vnd.jupyter.widget-view+json": {
       "model_id": "6a53dd69df43401b8f980401b484d259",
       "version_major": 2,
       "version_minor": 0
      },
      "text/plain": [
       "Training:   0%|          | 0/2305 [00:00<?, ?it/s]"
      ]
     },
     "metadata": {},
     "output_type": "display_data"
    },
    {
     "data": {
      "application/vnd.jupyter.widget-view+json": {
       "model_id": "25b3c4f4fe0442e4aec793485d821177",
       "version_major": 2,
       "version_minor": 0
      },
      "text/plain": [
       "Validating:   0%|          | 0/577 [00:00<?, ?it/s]"
      ]
     },
     "metadata": {},
     "output_type": "display_data"
    },
    {
     "name": "stdout",
     "output_type": "stream",
     "text": [
      "Epoch [5/50] | Train Loss: 0.2621, Train Acc: 0.9003 | Val Loss: 0.1590, Val Acc: 0.9537\n",
      "Model saved to conformer_plus.pt\n"
     ]
    },
    {
     "data": {
      "application/vnd.jupyter.widget-view+json": {
       "model_id": "cc64c3039fdc466bb0bb21f9ae643cdf",
       "version_major": 2,
       "version_minor": 0
      },
      "text/plain": [
       "Training:   0%|          | 0/2305 [00:00<?, ?it/s]"
      ]
     },
     "metadata": {},
     "output_type": "display_data"
    },
    {
     "data": {
      "application/vnd.jupyter.widget-view+json": {
       "model_id": "621842198d1f414a84151c23a818cd41",
       "version_major": 2,
       "version_minor": 0
      },
      "text/plain": [
       "Validating:   0%|          | 0/577 [00:00<?, ?it/s]"
      ]
     },
     "metadata": {},
     "output_type": "display_data"
    },
    {
     "name": "stdout",
     "output_type": "stream",
     "text": [
      "Epoch [6/50] | Train Loss: 0.2511, Train Acc: 0.9056 | Val Loss: 0.1571, Val Acc: 0.9521\n",
      "Model saved to conformer_plus.pt\n"
     ]
    },
    {
     "data": {
      "application/vnd.jupyter.widget-view+json": {
       "model_id": "ec890ab923d54fafa5a42a8e546e72da",
       "version_major": 2,
       "version_minor": 0
      },
      "text/plain": [
       "Training:   0%|          | 0/2305 [00:00<?, ?it/s]"
      ]
     },
     "metadata": {},
     "output_type": "display_data"
    },
    {
     "data": {
      "application/vnd.jupyter.widget-view+json": {
       "model_id": "d0f7be9015ae409cb081b04db76c33b8",
       "version_major": 2,
       "version_minor": 0
      },
      "text/plain": [
       "Validating:   0%|          | 0/577 [00:00<?, ?it/s]"
      ]
     },
     "metadata": {},
     "output_type": "display_data"
    },
    {
     "name": "stdout",
     "output_type": "stream",
     "text": [
      "Epoch [7/50] | Train Loss: 0.2556, Train Acc: 0.8989 | Val Loss: 0.1647, Val Acc: 0.9502\n",
      "No improvement count: 1/10\n"
     ]
    },
    {
     "data": {
      "application/vnd.jupyter.widget-view+json": {
       "model_id": "192a991ae7ef4d3cac756ae4bfc9c61f",
       "version_major": 2,
       "version_minor": 0
      },
      "text/plain": [
       "Training:   0%|          | 0/2305 [00:00<?, ?it/s]"
      ]
     },
     "metadata": {},
     "output_type": "display_data"
    },
    {
     "data": {
      "application/vnd.jupyter.widget-view+json": {
       "model_id": "8447b62faa2841489fdd4f88c6458c1b",
       "version_major": 2,
       "version_minor": 0
      },
      "text/plain": [
       "Validating:   0%|          | 0/577 [00:00<?, ?it/s]"
      ]
     },
     "metadata": {},
     "output_type": "display_data"
    },
    {
     "name": "stdout",
     "output_type": "stream",
     "text": [
      "Epoch [8/50] | Train Loss: 0.2532, Train Acc: 0.9006 | Val Loss: 0.1633, Val Acc: 0.9499\n",
      "No improvement count: 2/10\n"
     ]
    },
    {
     "data": {
      "application/vnd.jupyter.widget-view+json": {
       "model_id": "9b7ddb3f23ee424195ab558dcca4ec48",
       "version_major": 2,
       "version_minor": 0
      },
      "text/plain": [
       "Training:   0%|          | 0/2305 [00:00<?, ?it/s]"
      ]
     },
     "metadata": {},
     "output_type": "display_data"
    },
    {
     "data": {
      "application/vnd.jupyter.widget-view+json": {
       "model_id": "d52c388ed6f2485187e4ddd444dcbb87",
       "version_major": 2,
       "version_minor": 0
      },
      "text/plain": [
       "Validating:   0%|          | 0/577 [00:00<?, ?it/s]"
      ]
     },
     "metadata": {},
     "output_type": "display_data"
    },
    {
     "name": "stdout",
     "output_type": "stream",
     "text": [
      "Epoch [9/50] | Train Loss: 0.2454, Train Acc: 0.9011 | Val Loss: 0.1608, Val Acc: 0.9489\n",
      "No improvement count: 3/10\n"
     ]
    },
    {
     "data": {
      "application/vnd.jupyter.widget-view+json": {
       "model_id": "e729e35b06494b248c20b4cd5cd78253",
       "version_major": 2,
       "version_minor": 0
      },
      "text/plain": [
       "Training:   0%|          | 0/2305 [00:00<?, ?it/s]"
      ]
     },
     "metadata": {},
     "output_type": "display_data"
    },
    {
     "data": {
      "application/vnd.jupyter.widget-view+json": {
       "model_id": "ddea50e6f5464b32be7ea968a9f51fca",
       "version_major": 2,
       "version_minor": 0
      },
      "text/plain": [
       "Validating:   0%|          | 0/577 [00:00<?, ?it/s]"
      ]
     },
     "metadata": {},
     "output_type": "display_data"
    },
    {
     "name": "stdout",
     "output_type": "stream",
     "text": [
      "Epoch [10/50] | Train Loss: 0.2412, Train Acc: 0.9036 | Val Loss: 0.1566, Val Acc: 0.9499\n",
      "Model saved to conformer_plus.pt\n"
     ]
    },
    {
     "data": {
      "application/vnd.jupyter.widget-view+json": {
       "model_id": "bf7c40d5d543428e9d19a54d4a3bba79",
       "version_major": 2,
       "version_minor": 0
      },
      "text/plain": [
       "Training:   0%|          | 0/2305 [00:00<?, ?it/s]"
      ]
     },
     "metadata": {},
     "output_type": "display_data"
    },
    {
     "data": {
      "application/vnd.jupyter.widget-view+json": {
       "model_id": "834404c196e74344b10b326deaba1e04",
       "version_major": 2,
       "version_minor": 0
      },
      "text/plain": [
       "Validating:   0%|          | 0/577 [00:00<?, ?it/s]"
      ]
     },
     "metadata": {},
     "output_type": "display_data"
    },
    {
     "name": "stdout",
     "output_type": "stream",
     "text": [
      "Epoch [11/50] | Train Loss: 0.2399, Train Acc: 0.8996 | Val Loss: 0.1295, Val Acc: 0.9597\n",
      "Model saved to conformer_plus.pt\n"
     ]
    },
    {
     "data": {
      "application/vnd.jupyter.widget-view+json": {
       "model_id": "86f7f467ee5a4043995e845aae55b4ea",
       "version_major": 2,
       "version_minor": 0
      },
      "text/plain": [
       "Training:   0%|          | 0/2305 [00:00<?, ?it/s]"
      ]
     },
     "metadata": {},
     "output_type": "display_data"
    },
    {
     "data": {
      "application/vnd.jupyter.widget-view+json": {
       "model_id": "acb3a74dd1084f80bc65c003ec8928df",
       "version_major": 2,
       "version_minor": 0
      },
      "text/plain": [
       "Validating:   0%|          | 0/577 [00:00<?, ?it/s]"
      ]
     },
     "metadata": {},
     "output_type": "display_data"
    },
    {
     "name": "stdout",
     "output_type": "stream",
     "text": [
      "Epoch [12/50] | Train Loss: 0.2323, Train Acc: 0.9045 | Val Loss: 0.1203, Val Acc: 0.9625\n",
      "Model saved to conformer_plus.pt\n"
     ]
    },
    {
     "data": {
      "application/vnd.jupyter.widget-view+json": {
       "model_id": "dabc92622bc6459ebcfa576ec80d1276",
       "version_major": 2,
       "version_minor": 0
      },
      "text/plain": [
       "Training:   0%|          | 0/2305 [00:00<?, ?it/s]"
      ]
     },
     "metadata": {},
     "output_type": "display_data"
    },
    {
     "data": {
      "application/vnd.jupyter.widget-view+json": {
       "model_id": "b654483a5b034f168762c477bbc65e20",
       "version_major": 2,
       "version_minor": 0
      },
      "text/plain": [
       "Validating:   0%|          | 0/577 [00:00<?, ?it/s]"
      ]
     },
     "metadata": {},
     "output_type": "display_data"
    },
    {
     "name": "stdout",
     "output_type": "stream",
     "text": [
      "Epoch [13/50] | Train Loss: 0.2262, Train Acc: 0.9045 | Val Loss: 0.1330, Val Acc: 0.9574\n",
      "No improvement count: 1/10\n"
     ]
    },
    {
     "data": {
      "application/vnd.jupyter.widget-view+json": {
       "model_id": "072aba5a2f4b44c9b1240f60b3cc61b4",
       "version_major": 2,
       "version_minor": 0
      },
      "text/plain": [
       "Training:   0%|          | 0/2305 [00:00<?, ?it/s]"
      ]
     },
     "metadata": {},
     "output_type": "display_data"
    },
    {
     "data": {
      "application/vnd.jupyter.widget-view+json": {
       "model_id": "3181b2fb84f0448eb23cb367e1c9e75a",
       "version_major": 2,
       "version_minor": 0
      },
      "text/plain": [
       "Validating:   0%|          | 0/577 [00:00<?, ?it/s]"
      ]
     },
     "metadata": {},
     "output_type": "display_data"
    },
    {
     "name": "stdout",
     "output_type": "stream",
     "text": [
      "Epoch [14/50] | Train Loss: 0.2213, Train Acc: 0.9058 | Val Loss: 0.1423, Val Acc: 0.9555\n",
      "No improvement count: 2/10\n"
     ]
    },
    {
     "data": {
      "application/vnd.jupyter.widget-view+json": {
       "model_id": "ca0e44a57b1f489886102db205690a10",
       "version_major": 2,
       "version_minor": 0
      },
      "text/plain": [
       "Training:   0%|          | 0/2305 [00:00<?, ?it/s]"
      ]
     },
     "metadata": {},
     "output_type": "display_data"
    },
    {
     "data": {
      "application/vnd.jupyter.widget-view+json": {
       "model_id": "8a461385a3d7494ebd08f7efa7b37612",
       "version_major": 2,
       "version_minor": 0
      },
      "text/plain": [
       "Validating:   0%|          | 0/577 [00:00<?, ?it/s]"
      ]
     },
     "metadata": {},
     "output_type": "display_data"
    },
    {
     "name": "stdout",
     "output_type": "stream",
     "text": [
      "Epoch [15/50] | Train Loss: 0.2214, Train Acc: 0.9028 | Val Loss: 0.1215, Val Acc: 0.9638\n",
      "No improvement count: 3/10\n"
     ]
    },
    {
     "data": {
      "application/vnd.jupyter.widget-view+json": {
       "model_id": "5f8d64ad32ca4fc4a897159b239ee16e",
       "version_major": 2,
       "version_minor": 0
      },
      "text/plain": [
       "Training:   0%|          | 0/2305 [00:00<?, ?it/s]"
      ]
     },
     "metadata": {},
     "output_type": "display_data"
    },
    {
     "data": {
      "application/vnd.jupyter.widget-view+json": {
       "model_id": "67b8ffbb8b144e96ac847c221593bbce",
       "version_major": 2,
       "version_minor": 0
      },
      "text/plain": [
       "Validating:   0%|          | 0/577 [00:00<?, ?it/s]"
      ]
     },
     "metadata": {},
     "output_type": "display_data"
    },
    {
     "name": "stdout",
     "output_type": "stream",
     "text": [
      "Epoch [16/50] | Train Loss: 0.2126, Train Acc: 0.9079 | Val Loss: 0.1463, Val Acc: 0.9539\n",
      "No improvement count: 4/10\n"
     ]
    },
    {
     "data": {
      "application/vnd.jupyter.widget-view+json": {
       "model_id": "88e2d10eac59490fa6b8317166eb0d4e",
       "version_major": 2,
       "version_minor": 0
      },
      "text/plain": [
       "Training:   0%|          | 0/2305 [00:00<?, ?it/s]"
      ]
     },
     "metadata": {},
     "output_type": "display_data"
    },
    {
     "data": {
      "application/vnd.jupyter.widget-view+json": {
       "model_id": "1230647ff5854446828584856c1249f7",
       "version_major": 2,
       "version_minor": 0
      },
      "text/plain": [
       "Validating:   0%|          | 0/577 [00:00<?, ?it/s]"
      ]
     },
     "metadata": {},
     "output_type": "display_data"
    },
    {
     "name": "stdout",
     "output_type": "stream",
     "text": [
      "Epoch [17/50] | Train Loss: 0.2165, Train Acc: 0.9037 | Val Loss: 0.1507, Val Acc: 0.9531\n",
      "No improvement count: 5/10\n"
     ]
    },
    {
     "data": {
      "application/vnd.jupyter.widget-view+json": {
       "model_id": "6964cf36dbb74fdb867811c033b792b4",
       "version_major": 2,
       "version_minor": 0
      },
      "text/plain": [
       "Training:   0%|          | 0/2305 [00:00<?, ?it/s]"
      ]
     },
     "metadata": {},
     "output_type": "display_data"
    }
   ],
   "source": [
    "trainer = ConformerTrainer(\n",
    "    train_dataloader=train_loader,\n",
    "    val_dataloader=valid_loader,\n",
    "    device=device,\n",
    "    lr=0.00001,\n",
    "    patience=10,\n",
    "    lr_gamma=0.95,\n",
    "    checkpoint_path=\"conformer_plus.pt\",\n",
    "    project_name=\"conformer_plus\"\n",
    ")\n",
    "\n",
    "trainer.fit(num_epochs=50)"
   ]
  },
  {
   "cell_type": "markdown",
   "id": "40dcb462-8102-401a-a1c7-73e307214ca7",
   "metadata": {},
   "source": [
    "# 8.Batch predict"
   ]
  },
  {
   "cell_type": "code",
   "execution_count": 24,
   "id": "1a20a21d-4b4c-4008-aed9-fdda7bcb0823",
   "metadata": {},
   "outputs": [],
   "source": [
    "# ---------------------------\n",
    "# 简单的 collate_fn（预测时不需要数据增强）\n",
    "# ---------------------------\n",
    "def simple_collate_fn(batch):\n",
    "    features, speakers, labels = zip(*batch)\n",
    "    features = torch.stack(features, dim=0)\n",
    "    labels = torch.tensor([int(l) for l in labels], dtype=torch.long)\n",
    "    return features, speakers, labels\n",
    "\n",
    "\n",
    "# ---------------------------\n",
    "# PredictDataModule: 用于加载预测数据的 DataModule\n",
    "# ---------------------------\n",
    "class PredictDataModule:\n",
    "    \"\"\"\n",
    "    封装预测数据加载流程，包括：\n",
    "      1. 从 CSV 加载 npy 文件路径及元数据；\n",
    "      2. 构建 MFCCDataset（直接加载 npy 文件，包含缓存）；\n",
    "      3. 构造预测用的 DataLoader（不应用数据增强）。\n",
    "    \"\"\"\n",
    "\n",
    "    def __init__(self, csv_file, allowed_set=None, allowed_data_source=\"all\",\n",
    "                 batch_size=128, num_workers_csv=96, num_workers_dataset=0):\n",
    "        self.csv_file = csv_file\n",
    "        self.allowed_set = allowed_set\n",
    "        self.allowed_data_source = allowed_data_source\n",
    "        self.batch_size = batch_size\n",
    "        self.num_workers_csv = num_workers_csv\n",
    "        self.num_workers_dataset = num_workers_dataset\n",
    "\n",
    "        self.predict_loader = None\n",
    "        self.dataset = None\n",
    "\n",
    "    def setup(self):\n",
    "        # 1. 从 CSV 加载 npy 文件路径及元数据\n",
    "        npy_loader = NpyLoader(max_workers=self.num_workers_csv)\n",
    "        records = npy_loader.load_audio_info_from_csv(\n",
    "            csv_file=self.csv_file,\n",
    "            allowed_set=self.allowed_set,\n",
    "            allowed_data_source=self.allowed_data_source\n",
    "        )\n",
    "\n",
    "        # 2. 构建 MFCCDataset（预测时不应用数据增强，将 spec_aug_prob 设置为 0）\n",
    "        self.dataset = MFCCDataset(\n",
    "            records=records,\n",
    "            spec_aug_prob=0.0\n",
    "        )\n",
    "\n",
    "        # 3. 创建 DataLoader\n",
    "        self.predict_loader = DataLoader(\n",
    "            self.dataset,\n",
    "            batch_size=self.batch_size,\n",
    "            shuffle=False,\n",
    "            num_workers=self.num_workers_dataset,\n",
    "            collate_fn=simple_collate_fn\n",
    "        )\n",
    "\n",
    "    def get_loader(self):\n",
    "        if self.predict_loader is None:\n",
    "            self.setup()\n",
    "        return self.predict_loader"
   ]
  },
  {
   "cell_type": "code",
   "execution_count": 25,
   "id": "14515858-7e63-4d65-9e67-b4f267e415bc",
   "metadata": {},
   "outputs": [],
   "source": [
    "class ModelEvaluation:\n",
    "    def __init__(self, model, device, predict_loader, weight_path, threshold=0.5):\n",
    "        \"\"\"\n",
    "        :param model: 预定义的模型（例如 Conformer），需要与权重匹配\n",
    "        :param device: 设备\n",
    "        :param predict_loader: 用于预测的 DataLoader（返回 (features, speakers, labels)）\n",
    "        :param weight_path: 模型权重路径\n",
    "        :param threshold: 预测阈值\n",
    "        \"\"\"\n",
    "        self.model = model.to(device)\n",
    "        self.device = device\n",
    "        self.predict_loader = predict_loader\n",
    "        self.weight_path = weight_path\n",
    "        self.threshold = threshold\n",
    "\n",
    "        # 预测结果记录\n",
    "        self.all_probs = []  # 模型预测概率（float）\n",
    "        self.all_preds = []  # 模型预测标签（int）\n",
    "        self.all_labels = []  # 真实标签\n",
    "        self.all_speakers = []  # 对应 speaker\n",
    "\n",
    "    def load_model(self):\n",
    "        \"\"\"加载模型权重\"\"\"\n",
    "        self.model.load_state_dict(torch.load(self.weight_path, map_location=self.device))\n",
    "        self.model.to(self.device)\n",
    "        self.model.eval()\n",
    "        print(f\"Model loaded from {self.weight_path}\")\n",
    "\n",
    "    def predict(self):\n",
    "        \"\"\"使用 predict_loader 批量预测，记录预测概率、预测标签、真实标签和 speaker\"\"\"\n",
    "        self.model.eval()\n",
    "        with torch.no_grad():\n",
    "            for features, speakers, labels in tqdm(self.predict_loader, desc=\"Predicting\", leave=False):\n",
    "                features = features.to(self.device)\n",
    "                outputs = self.model(features).squeeze(1)  # 输出为 logits\n",
    "                probs = torch.sigmoid(outputs).cpu().numpy()  # 计算概率\n",
    "                preds = (probs >= self.threshold).astype(int)\n",
    "                self.all_probs.extend(probs.tolist())\n",
    "                # 如果 labels 为 tuple (增强情况)，取第一个作为真实标签\n",
    "                if isinstance(labels, tuple):\n",
    "                    y_a = labels[0].numpy()\n",
    "                    self.all_labels.extend(y_a.tolist())\n",
    "                else:\n",
    "                    self.all_labels.extend(labels.cpu().numpy().tolist())\n",
    "                self.all_preds.extend(preds.tolist())\n",
    "                self.all_speakers.extend(speakers)\n",
    "        print(\"Prediction completed.\")\n",
    "\n",
    "    def compute_eer(self):\n",
    "        \"\"\"\n",
    "        计算 EER（Equal Error Rate）。\n",
    "        如果 y_true 中只有一个类别，则打印警告并返回 NaN。\n",
    "        \"\"\"\n",
    "        y_true = np.array(self.all_labels)\n",
    "        if np.unique(y_true).size < 2:\n",
    "            print(\"Warning: Only one class present in y_true. EER is not defined.\")\n",
    "            return np.nan\n",
    "        # 计算 ROC 曲线\n",
    "        fpr, tpr, _ = roc_curve(y_true, self.all_probs)\n",
    "        fnr = 1 - tpr\n",
    "        abs_diffs = np.abs(fpr - fnr)\n",
    "        if np.isnan(abs_diffs).all():\n",
    "            eer = np.nan\n",
    "        else:\n",
    "            idx_eer = np.nanargmin(abs_diffs)\n",
    "            eer = fpr[idx_eer]\n",
    "        return eer\n",
    "\n",
    "    def evaluate(self):\n",
    "        \"\"\"\n",
    "        计算并打印各项指标：precision, recall, accuracy, f1, AUC, average precision, EER, 混淆矩阵\n",
    "        并绘制 ROC 与 PR 曲线。\n",
    "        如果 y_true 只有一个类别，则 ROC AUC、EER 等指标将返回 NaN，并打印警告。\n",
    "        \"\"\"\n",
    "        y_true = np.array(self.all_labels)\n",
    "        y_pred = np.array(self.all_preds)\n",
    "        y_prob = np.array(self.all_probs)\n",
    "\n",
    "        if np.unique(y_true).size < 2:\n",
    "            print(\"Warning: Only one class present in y_true. Some metrics (ROC AUC, EER) will be set to NaN.\")\n",
    "            auc = np.nan\n",
    "            avg_precision = np.nan\n",
    "            eer = np.nan\n",
    "        else:\n",
    "            auc = roc_auc_score(y_true, y_prob)\n",
    "            avg_precision = average_precision_score(y_true, y_prob)\n",
    "            eer = self.compute_eer()\n",
    "\n",
    "        precision = precision_score(y_true, y_pred, zero_division=0)\n",
    "        recall = recall_score(y_true, y_pred, zero_division=0)\n",
    "        accuracy = accuracy_score(y_true, y_pred)\n",
    "        f1 = f1_score(y_true, y_pred, zero_division=0)\n",
    "        cm = confusion_matrix(y_true, y_pred)\n",
    "\n",
    "        print(\"Evaluation Metrics:\")\n",
    "        print(f\"Accuracy: {accuracy:.4f}\")\n",
    "        print(f\"Precision: {precision:.4f}\")\n",
    "        print(f\"Recall: {recall:.4f}\")\n",
    "        print(f\"F1 Score: {f1:.4f}\")\n",
    "        print(f\"AUC Score: {auc if not np.isnan(auc) else 'NaN'}\")\n",
    "        print(f\"Average Precision: {avg_precision if not np.isnan(avg_precision) else 'NaN'}\")\n",
    "        print(f\"EER: {eer if not np.isnan(eer) else 'NaN'}\")\n",
    "        print(\"Confusion Matrix:\")\n",
    "        print(cm)\n",
    "\n",
    "        # 绘制 ROC 和 PR 曲线，仅在存在两个类别时\n",
    "        if np.unique(y_true).size >= 2:\n",
    "            fpr, tpr, _ = roc_curve(y_true, y_prob)\n",
    "            plt.figure(figsize=(8, 6))\n",
    "            plt.plot(fpr, tpr, label=f'ROC curve (area = {auc:.2f})')\n",
    "            plt.plot([0, 1], [0, 1], 'k--')\n",
    "            plt.xlabel(\"False Positive Rate\")\n",
    "            plt.ylabel(\"True Positive Rate\")\n",
    "            plt.title(\"ROC Curve\")\n",
    "            plt.legend(loc=\"lower right\")\n",
    "            plt.show()\n",
    "\n",
    "            precision_vals, recall_vals, _ = precision_recall_curve(y_true, y_prob)\n",
    "            plt.figure(figsize=(8, 6))\n",
    "            plt.plot(recall_vals, precision_vals, label=f'PR curve (AP = {avg_precision:.2f})')\n",
    "            plt.xlabel(\"Recall\")\n",
    "            plt.ylabel(\"Precision\")\n",
    "            plt.title(\"Precision-Recall Curve\")\n",
    "            plt.legend(loc=\"lower left\")\n",
    "            plt.show()\n",
    "\n",
    "    def per_speaker_errors(self):\n",
    "        \"\"\"\n",
    "        统计不同 speaker 的误分类数和总数。\n",
    "        返回一个字典：{ speaker: (misclassified_count, total_count) }\n",
    "        \"\"\"\n",
    "        speaker_stats = {}\n",
    "        for speaker, true, pred in zip(self.all_speakers, self.all_labels, self.all_preds):\n",
    "            if speaker not in speaker_stats:\n",
    "                speaker_stats[speaker] = [0, 0]  # [error_count, total_count]\n",
    "            speaker_stats[speaker][1] += 1\n",
    "            if true != pred:\n",
    "                speaker_stats[speaker][0] += 1\n",
    "        return speaker_stats\n",
    "\n",
    "    def plot_per_speaker_errors(self):\n",
    "        \"\"\"\n",
    "        绘制不同 speaker 的误分类率条形图。\n",
    "        \"\"\"\n",
    "        stats = self.per_speaker_errors()\n",
    "        speakers = list(stats.keys())\n",
    "        errors = [stats[s][0] for s in speakers]\n",
    "        totals = [stats[s][1] for s in speakers]\n",
    "        error_rates = [e / t if t > 0 else 0 for e, t in zip(errors, totals)]\n",
    "\n",
    "        plt.figure(figsize=(12, 6))\n",
    "        plt.bar(speakers, error_rates)\n",
    "        plt.xlabel(\"Speaker\")\n",
    "        plt.ylabel(\"Error Rate\")\n",
    "        plt.title(\"Error Rate per Speaker\")\n",
    "        plt.xticks(rotation=45, ha='right')\n",
    "        plt.tight_layout()\n",
    "        plt.show()\n"
   ]
  },
  {
   "cell_type": "code",
   "execution_count": 10,
   "id": "a4850d7e-c73f-4cbb-8985-9e6828e9811c",
   "metadata": {},
   "outputs": [
    {
     "name": "stderr",
     "output_type": "stream",
     "text": [
      "Failed to detect the name of this notebook, you can set it manually with the WANDB_NOTEBOOK_NAME environment variable to enable code saving.\n",
      "\u001B[34m\u001B[1mwandb\u001B[0m: Using wandb-core as the SDK backend.  Please refer to https://wandb.me/wandb-core for more information.\n",
      "\u001B[34m\u001B[1mwandb\u001B[0m: Currently logged in as: \u001B[33mzlj201900820209\u001B[0m (\u001B[33mzlj201900820209-national-university-of-singapore-student\u001B[0m) to \u001B[32mhttps://api.wandb.ai\u001B[0m. Use \u001B[1m`wandb login --relogin`\u001B[0m to force relogin\n"
     ]
    },
    {
     "data": {
      "text/html": [
       "Tracking run with wandb version 0.19.8"
      ],
      "text/plain": [
       "<IPython.core.display.HTML object>"
      ]
     },
     "metadata": {},
     "output_type": "display_data"
    },
    {
     "data": {
      "text/html": [
       "Run data is saved locally in <code>/home/jupyter/BenchMark/wandb/run-20250415_032539-zxxjulm3</code>"
      ],
      "text/plain": [
       "<IPython.core.display.HTML object>"
      ]
     },
     "metadata": {},
     "output_type": "display_data"
    },
    {
     "data": {
      "text/html": [
       "Syncing run <strong><a href='https://wandb.ai/zlj201900820209-national-university-of-singapore-student/Conformer_Project/runs/zxxjulm3' target=\"_blank\">likely-paper-3</a></strong> to <a href='https://wandb.ai/zlj201900820209-national-university-of-singapore-student/Conformer_Project' target=\"_blank\">Weights & Biases</a> (<a href='https://wandb.me/developer-guide' target=\"_blank\">docs</a>)<br>"
      ],
      "text/plain": [
       "<IPython.core.display.HTML object>"
      ]
     },
     "metadata": {},
     "output_type": "display_data"
    },
    {
     "data": {
      "text/html": [
       " View project at <a href='https://wandb.ai/zlj201900820209-national-university-of-singapore-student/Conformer_Project' target=\"_blank\">https://wandb.ai/zlj201900820209-national-university-of-singapore-student/Conformer_Project</a>"
      ],
      "text/plain": [
       "<IPython.core.display.HTML object>"
      ]
     },
     "metadata": {},
     "output_type": "display_data"
    },
    {
     "data": {
      "text/html": [
       " View run at <a href='https://wandb.ai/zlj201900820209-national-university-of-singapore-student/Conformer_Project/runs/zxxjulm3' target=\"_blank\">https://wandb.ai/zlj201900820209-national-university-of-singapore-student/Conformer_Project/runs/zxxjulm3</a>"
      ],
      "text/plain": [
       "<IPython.core.display.HTML object>"
      ]
     },
     "metadata": {},
     "output_type": "display_data"
    }
   ],
   "source": [
    "trainer = ConformerTrainer()"
   ]
  },
  {
   "cell_type": "code",
   "execution_count": 27,
   "id": "b9c78304-f1bc-4388-93eb-56b113190e4e",
   "metadata": {},
   "outputs": [
    {
     "data": {
      "application/vnd.jupyter.widget-view+json": {
       "model_id": "9eaee5e328754003a3b42042d0cb7dab",
       "version_major": 2,
       "version_minor": 0
      },
      "text/plain": [
       "Loading audio info from CSV:   0%|          | 0/111589 [00:00<?, ?it/s]"
      ]
     },
     "metadata": {},
     "output_type": "display_data"
    },
    {
     "name": "stdout",
     "output_type": "stream",
     "text": [
      "Model loaded from conformer_plus.pt\n"
     ]
    },
    {
     "data": {
      "application/vnd.jupyter.widget-view+json": {
       "model_id": "073d914ae5ae4037890fb909eaa115a6",
       "version_major": 2,
       "version_minor": 0
      },
      "text/plain": [
       "Predicting:   0%|          | 0/872 [00:00<?, ?it/s]"
      ]
     },
     "metadata": {},
     "output_type": "display_data"
    },
    {
     "name": "stdout",
     "output_type": "stream",
     "text": [
      "Prediction completed.\n",
      "Evaluation Metrics:\n",
      "Accuracy: 0.9456\n",
      "Precision: 0.9650\n",
      "Recall: 0.8774\n",
      "F1 Score: 0.9191\n",
      "AUC Score: 0.9910044635042318\n",
      "Average Precision: 0.982126583759941\n",
      "EER: 0.034642990499107996\n",
      "Confusion Matrix:\n",
      "[[71058  1251]\n",
      " [ 4816 34464]]\n"
     ]
    },
    {
     "data": {
      "image/png": "[encoded data removed]",
      "text/plain": [
       "<Figure size 800x600 with 1 Axes>"
      ]
     },
     "metadata": {},
     "output_type": "display_data"
    },
    {
     "data": {
      "image/png": "[encoded data removed]",
      "text/plain": [
       "<Figure size 800x600 with 1 Axes>"
      ]
     },
     "metadata": {},
     "output_type": "display_data"
    }
   ],
   "source": [
    "Predict_module = PredictDataModule(\n",
    "    csv_file=\"/home/jupyter/Data/meta_npy.csv\",  #--meta_file\n",
    "    allowed_set=[\"test\"],  #训练还是测试\n",
    "    allowed_data_source='all',\n",
    "    # ['itw', 'gen', 'LJSpeech', 'vox', 'diffusion-based'] 去掉diffusion-based train的话应该就能得到不太好的eer泛化\n",
    "    batch_size=128,  #训练batch_size\n",
    "    num_workers_csv=96,  #多线程读取csv的\n",
    "    num_workers_dataset=0\n",
    ")\n",
    "\n",
    "Predict_module.setup()\n",
    "predict_loader = Predict_module.get_loader()\n",
    "evaluator = ModelEvaluation(trainer.model, device, predict_loader, weight_path=\"conformer_plus.pt\", threshold=0.9)\n",
    "evaluator.load_model()\n",
    "evaluator.predict()\n",
    "evaluator.evaluate()"
   ]
  },
  {
   "cell_type": "code",
   "execution_count": 28,
   "id": "81bf2d70-a35f-428c-9e5f-5a2bedac09ce",
   "metadata": {},
   "outputs": [
    {
     "data": {
      "application/vnd.jupyter.widget-view+json": {
       "model_id": "aea61884baba4045b82eda86f33cfbcd",
       "version_major": 2,
       "version_minor": 0
      },
      "text/plain": [
       "Loading audio info from CSV:   0%|          | 0/65500 [00:00<?, ?it/s]"
      ]
     },
     "metadata": {},
     "output_type": "display_data"
    },
    {
     "name": "stdout",
     "output_type": "stream",
     "text": [
      "Model loaded from conformer_plus.pt\n"
     ]
    },
    {
     "data": {
      "application/vnd.jupyter.widget-view+json": {
       "model_id": "8f1d2725a5c840ea9d5aa11cb63cd05a",
       "version_major": 2,
       "version_minor": 0
      },
      "text/plain": [
       "Predicting:   0%|          | 0/512 [00:00<?, ?it/s]"
      ]
     },
     "metadata": {},
     "output_type": "display_data"
    },
    {
     "name": "stdout",
     "output_type": "stream",
     "text": [
      "Prediction completed.\n",
      "Warning: Only one class present in y_true. Some metrics (ROC AUC, EER) will be set to NaN.\n",
      "Evaluation Metrics:\n",
      "Accuracy: 1.0000\n",
      "Precision: 0.0000\n",
      "Recall: 0.0000\n",
      "F1 Score: 0.0000\n",
      "AUC Score: NaN\n",
      "Average Precision: NaN\n",
      "EER: NaN\n",
      "Confusion Matrix:\n",
      "[[65497     3]\n",
      " [    0     0]]\n"
     ]
    }
   ],
   "source": [
    "Predict_module = PredictDataModule(\n",
    "    csv_file=\"/home/jupyter/Data/meta_npy.csv\",  #--meta_file\n",
    "    allowed_set=[\"test\"],  #训练还是测试\n",
    "    allowed_data_source=[\"diffusion-based\", 'gen'],\n",
    "    # ['itw', 'gen', 'LJSpeech', 'vox', 'diffusion-based'] 去掉diffusion-based train的话应该就能得到不太好的eer泛化\n",
    "    batch_size=128,  #训练batch_size\n",
    "    num_workers_csv=96,  #多线程读取csv的\n",
    "    num_workers_dataset=0\n",
    ")\n",
    "\n",
    "Predict_module.setup()\n",
    "predict_loader = Predict_module.get_loader()\n",
    "evaluator = ModelEvaluation(trainer.model, device, predict_loader, weight_path=\"conformer_plus.pt\", threshold=0.9)\n",
    "evaluator.load_model()\n",
    "evaluator.predict()\n",
    "evaluator.evaluate()"
   ]
  },
  {
   "cell_type": "code",
   "execution_count": 30,
   "id": "174d97d2-21fe-4258-a425-746563f15317",
   "metadata": {},
   "outputs": [
    {
     "data": {
      "application/vnd.jupyter.widget-view+json": {
       "model_id": "01decf1916c043e2ab876a43158a67a4",
       "version_major": 2,
       "version_minor": 0
      },
      "text/plain": [
       "Loading audio info from CSV:   0%|          | 0/30315 [00:00<?, ?it/s]"
      ]
     },
     "metadata": {},
     "output_type": "display_data"
    },
    {
     "name": "stdout",
     "output_type": "stream",
     "text": [
      "Model loaded from conformer_plus.pt\n"
     ]
    },
    {
     "data": {
      "application/vnd.jupyter.widget-view+json": {
       "model_id": "4b6e4a0c009943eea29836baff0b6a7f",
       "version_major": 2,
       "version_minor": 0
      },
      "text/plain": [
       "Predicting:   0%|          | 0/237 [00:00<?, ?it/s]"
      ]
     },
     "metadata": {},
     "output_type": "display_data"
    },
    {
     "name": "stdout",
     "output_type": "stream",
     "text": [
      "Prediction completed.\n",
      "Warning: Only one class present in y_true. Some metrics (ROC AUC, EER) will be set to NaN.\n",
      "Evaluation Metrics:\n",
      "Accuracy: 0.9401\n",
      "Precision: 1.0000\n",
      "Recall: 0.9401\n",
      "F1 Score: 0.9691\n",
      "AUC Score: NaN\n",
      "Average Precision: NaN\n",
      "EER: NaN\n",
      "Confusion Matrix:\n",
      "[[    0     0]\n",
      " [ 1817 28498]]\n"
     ]
    }
   ],
   "source": [
    "Predict_module = PredictDataModule(\n",
    "    csv_file=\"/home/jupyter/Data/meta_npy.csv\",  #--meta_file\n",
    "    allowed_set=[\"test\"],  #训练还是测试\n",
    "    allowed_data_source=[\"vox\"],\n",
    "    # ['itw', 'gen', 'LJSpeech', 'vox', 'diffusion-based'] 去掉diffusion-based train的话应该就能得到不太好的eer泛化\n",
    "    batch_size=128,  #训练batch_size\n",
    "    num_workers_csv=96,  #多线程读取csv的\n",
    "    num_workers_dataset=0\n",
    ")\n",
    "\n",
    "Predict_module.setup()\n",
    "predict_loader = Predict_module.get_loader()\n",
    "evaluator = ModelEvaluation(trainer.model, device, predict_loader, weight_path=\"conformer_plus.pt\", threshold=0.9)\n",
    "evaluator.load_model()\n",
    "evaluator.predict()\n",
    "evaluator.evaluate()"
   ]
  },
  {
   "cell_type": "code",
   "execution_count": 32,
   "id": "9af243ab-232e-4d8c-becf-f4549f07de5a",
   "metadata": {},
   "outputs": [
    {
     "data": {
      "application/vnd.jupyter.widget-view+json": {
       "model_id": "2dea35759dcb41a0b4858072cfb3429c",
       "version_major": 2,
       "version_minor": 0
      },
      "text/plain": [
       "Loading audio info from CSV:   0%|          | 0/15774 [00:00<?, ?it/s]"
      ]
     },
     "metadata": {},
     "output_type": "display_data"
    },
    {
     "name": "stdout",
     "output_type": "stream",
     "text": [
      "Model loaded from conformer_plus.pt\n"
     ]
    },
    {
     "data": {
      "application/vnd.jupyter.widget-view+json": {
       "model_id": "6f0247a5a20a4815b3334a8c4afc2b8f",
       "version_major": 2,
       "version_minor": 0
      },
      "text/plain": [
       "Predicting:   0%|          | 0/124 [00:00<?, ?it/s]"
      ]
     },
     "metadata": {},
     "output_type": "display_data"
    },
    {
     "name": "stdout",
     "output_type": "stream",
     "text": [
      "Prediction completed.\n",
      "Evaluation Metrics:\n",
      "Accuracy: 0.7308\n",
      "Precision: 0.8270\n",
      "Recall: 0.6655\n",
      "F1 Score: 0.7375\n",
      "AUC Score: 0.8360084095252363\n",
      "Average Precision: 0.837666002214395\n",
      "EER: 0.24100455279776767\n",
      "Confusion Matrix:\n",
      "[[5561 1248]\n",
      " [2999 5966]]\n"
     ]
    },
    {
     "data": {
      "image/png": "[encoded data removed]",
      "text/plain": [
       "<Figure size 800x600 with 1 Axes>"
      ]
     },
     "metadata": {},
     "output_type": "display_data"
    },
    {
     "data": {
      "image/png": "[encoded data removed]",
      "text/plain": [
       "<Figure size 800x600 with 1 Axes>"
      ]
     },
     "metadata": {},
     "output_type": "display_data"
    }
   ],
   "source": [
    "Predict_module = PredictDataModule(\n",
    "    csv_file=\"/home/jupyter/Data/meta_npy.csv\",  #--meta_file\n",
    "    allowed_set=[\"test\"],  #训练还是测试\n",
    "    allowed_data_source=[\"itw\"],\n",
    "    # ['itw', 'gen', 'LJSpeech', 'vox', 'diffusion-based'] 去掉diffusion-based train的话应该就能得到不太好的eer泛化\n",
    "    batch_size=128,  #训练batch_size\n",
    "    num_workers_csv=96,  #多线程读取csv的\n",
    "    num_workers_dataset=0\n",
    ")\n",
    "\n",
    "Predict_module.setup()\n",
    "predict_loader = Predict_module.get_loader()\n",
    "evaluator = ModelEvaluation(trainer.model, device, predict_loader, weight_path=\"conformer_plus.pt\", threshold=0.9)\n",
    "evaluator.load_model()\n",
    "evaluator.predict()\n",
    "evaluator.evaluate()"
   ]
  },
  {
   "cell_type": "code",
   "execution_count": 34,
   "id": "8374fe2b-47c1-4dbd-b5eb-677f4365e71b",
   "metadata": {},
   "outputs": [
    {
     "data": {
      "application/vnd.jupyter.widget-view+json": {
       "model_id": "ce219a6ef2af427f9a5e71ccdf70acdc",
       "version_major": 2,
       "version_minor": 0
      },
      "text/plain": [
       "Loading audio info from CSV:   0%|          | 0/19409 [00:00<?, ?it/s]"
      ]
     },
     "metadata": {},
     "output_type": "display_data"
    },
    {
     "name": "stdout",
     "output_type": "stream",
     "text": [
      "Model loaded from conformer_plus.pt\n"
     ]
    },
    {
     "data": {
      "application/vnd.jupyter.widget-view+json": {
       "model_id": "09f996f53c0e48f29968e97adef03a2f",
       "version_major": 2,
       "version_minor": 0
      },
      "text/plain": [
       "Predicting:   0%|          | 0/152 [00:00<?, ?it/s]"
      ]
     },
     "metadata": {},
     "output_type": "display_data"
    },
    {
     "name": "stdout",
     "output_type": "stream",
     "text": [
      "Prediction completed.\n",
      "Evaluation Metrics:\n",
      "Accuracy: 0.9416\n",
      "Precision: 0.9974\n",
      "Recall: 0.8480\n",
      "F1 Score: 0.9166\n",
      "AUC Score: 0.9897315054108736\n",
      "Average Precision: 0.9866441615494521\n",
      "EER: 0.0495771845465097\n",
      "Confusion Matrix:\n",
      "[[12046    16]\n",
      " [ 1117  6230]]\n"
     ]
    },
    {
     "data": {
      "image/png": "[encoded data removed]",
      "text/plain": [
       "<Figure size 800x600 with 1 Axes>"
      ]
     },
     "metadata": {},
     "output_type": "display_data"
    },
    {
     "data": {
      "image/png": "[encoded data removed]",
      "text/plain": [
       "<Figure size 800x600 with 1 Axes>"
      ]
     },
     "metadata": {},
     "output_type": "display_data"
    }
   ],
   "source": [
    "Predict_module = PredictDataModule(\n",
    "    csv_file=\"/home/jupyter/Data/meta_npy.csv\",  #--meta_file\n",
    "    allowed_set=[\"in-test\"],  #训练还是测试\n",
    "    allowed_data_source='all',\n",
    "    # ['itw', 'gen', 'LJSpeech', 'vox', 'diffusion-based'] 去掉diffusion-based train的话应该就能得到不太好的eer泛化\n",
    "    batch_size=128,  #训练batch_size\n",
    "    num_workers_csv=96,  #多线程读取csv的\n",
    "    num_workers_dataset=0\n",
    ")\n",
    "\n",
    "Predict_module.setup()\n",
    "predict_loader = Predict_module.get_loader()\n",
    "evaluator = ModelEvaluation(trainer.model, device, predict_loader, weight_path=\"conformer_plus.pt\", threshold=0.9)\n",
    "evaluator.load_model()\n",
    "evaluator.predict()\n",
    "evaluator.evaluate()"
   ]
  },
  {
   "cell_type": "code",
   "execution_count": 35,
   "id": "e15df979-32e4-4a77-98fb-245545cc723d",
   "metadata": {},
   "outputs": [
    {
     "data": {
      "application/vnd.jupyter.widget-view+json": {
       "model_id": "af20e5fb7d7d4f27a7a2682e61ef28a9",
       "version_major": 2,
       "version_minor": 0
      },
      "text/plain": [
       "Loading audio info from CSV:   0%|          | 0/800 [00:00<?, ?it/s]"
      ]
     },
     "metadata": {},
     "output_type": "display_data"
    },
    {
     "name": "stdout",
     "output_type": "stream",
     "text": [
      "Model loaded from conformer_plus.pt\n"
     ]
    },
    {
     "data": {
      "application/vnd.jupyter.widget-view+json": {
       "model_id": "eaa9fcef74b1427c8997315a2a96be6f",
       "version_major": 2,
       "version_minor": 0
      },
      "text/plain": [
       "Predicting:   0%|          | 0/7 [00:00<?, ?it/s]"
      ]
     },
     "metadata": {},
     "output_type": "display_data"
    },
    {
     "name": "stdout",
     "output_type": "stream",
     "text": [
      "Prediction completed.\n",
      "Evaluation Metrics:\n",
      "Accuracy: 0.8225\n",
      "Precision: 0.9621\n",
      "Recall: 0.7632\n",
      "F1 Score: 0.8512\n",
      "AUC Score: 0.9517520480305242\n",
      "Average Precision: 0.9587574916097799\n",
      "EER: 0.10820895522388059\n",
      "Confusion Matrix:\n",
      "[[252  16]\n",
      " [126 406]]\n"
     ]
    },
    {
     "data": {
      "image/png": "[encoded data removed]",
      "text/plain": [
       "<Figure size 800x600 with 1 Axes>"
      ]
     },
     "metadata": {},
     "output_type": "display_data"
    },
    {
     "data": {
      "image/png": "[encoded data removed]",
      "text/plain": [
       "<Figure size 800x600 with 1 Axes>"
      ]
     },
     "metadata": {},
     "output_type": "display_data"
    }
   ],
   "source": [
    "Predict_module = PredictDataModule(\n",
    "    csv_file=\"/home/jupyter/Data/meta_npy.csv\",  #--meta_file\n",
    "    allowed_set=[\"in-test\"],  #训练还是测试\n",
    "    allowed_data_source=['itw'],\n",
    "    # ['itw', 'gen', 'LJSpeech', 'vox', 'diffusion-based'] 去掉diffusion-based train的话应该就能得到不太好的eer泛化\n",
    "    batch_size=128,  #训练batch_size\n",
    "    num_workers_csv=96,  #多线程读取csv的\n",
    "    num_workers_dataset=0\n",
    ")\n",
    "\n",
    "Predict_module.setup()\n",
    "predict_loader = Predict_module.get_loader()\n",
    "evaluator = ModelEvaluation(trainer.model, device, predict_loader, weight_path=\"conformer_plus.pt\", threshold=0.9)\n",
    "evaluator.load_model()\n",
    "evaluator.predict()\n",
    "evaluator.evaluate()"
   ]
  },
  {
   "cell_type": "code",
   "execution_count": 36,
   "id": "6817b9ee-ffb5-4b1c-bfe1-7aa6f6554b71",
   "metadata": {},
   "outputs": [
    {
     "data": {
      "application/vnd.jupyter.widget-view+json": {
       "model_id": "5d6734e7173845cca52560ee2d9ffbcd",
       "version_major": 2,
       "version_minor": 0
      },
      "text/plain": [
       "Loading audio info from CSV:   0%|          | 0/11794 [00:00<?, ?it/s]"
      ]
     },
     "metadata": {},
     "output_type": "display_data"
    },
    {
     "name": "stdout",
     "output_type": "stream",
     "text": [
      "Model loaded from conformer_plus.pt\n"
     ]
    },
    {
     "data": {
      "application/vnd.jupyter.widget-view+json": {
       "model_id": "54a33aad5d6a49988bf95f4f42716a37",
       "version_major": 2,
       "version_minor": 0
      },
      "text/plain": [
       "Predicting:   0%|          | 0/93 [00:00<?, ?it/s]"
      ]
     },
     "metadata": {},
     "output_type": "display_data"
    },
    {
     "name": "stdout",
     "output_type": "stream",
     "text": [
      "Prediction completed.\n",
      "Warning: Only one class present in y_true. Some metrics (ROC AUC, EER) will be set to NaN.\n",
      "Evaluation Metrics:\n",
      "Accuracy: 1.0000\n",
      "Precision: 0.0000\n",
      "Recall: 0.0000\n",
      "F1 Score: 0.0000\n",
      "AUC Score: NaN\n",
      "Average Precision: NaN\n",
      "EER: NaN\n",
      "Confusion Matrix:\n",
      "[[11794]]\n"
     ]
    },
    {
     "name": "stderr",
     "output_type": "stream",
     "text": [
      "/opt/conda/lib/python3.10/site-packages/sklearn/metrics/_classification.py:407: UserWarning: A single label was found in 'y_true' and 'y_pred'. For the confusion matrix to have the correct shape, use the 'labels' parameter to pass all known labels.\n",
      "  warnings.warn(\n"
     ]
    }
   ],
   "source": [
    "Predict_module = PredictDataModule(\n",
    "    csv_file=\"/home/jupyter/Data/meta_npy.csv\",  #--meta_file\n",
    "    allowed_set=[\"in-test\"],  #训练还是测试\n",
    "    allowed_data_source=['gen', 'diffusion-based'],\n",
    "    # ['itw', 'gen', 'LJSpeech', 'vox', 'diffusion-based'] 去掉diffusion-based train的话应该就能得到不太好的eer泛化\n",
    "    batch_size=128,  #训练batch_size\n",
    "    num_workers_csv=96,  #多线程读取csv的\n",
    "    num_workers_dataset=0\n",
    ")\n",
    "\n",
    "Predict_module.setup()\n",
    "predict_loader = Predict_module.get_loader()\n",
    "evaluator = ModelEvaluation(trainer.model, device, predict_loader, weight_path=\"conformer_plus.pt\", threshold=0.9)\n",
    "evaluator.load_model()\n",
    "evaluator.predict()\n",
    "evaluator.evaluate()"
   ]
  },
  {
   "cell_type": "code",
   "execution_count": 37,
   "id": "16be561a-4285-42a8-8ce3-fcab7fa66655",
   "metadata": {},
   "outputs": [
    {
     "data": {
      "application/vnd.jupyter.widget-view+json": {
       "model_id": "14ec125a84c74bbeab4ab3d3713af265",
       "version_major": 2,
       "version_minor": 0
      },
      "text/plain": [
       "Loading audio info from CSV:   0%|          | 0/6160 [00:00<?, ?it/s]"
      ]
     },
     "metadata": {},
     "output_type": "display_data"
    },
    {
     "name": "stdout",
     "output_type": "stream",
     "text": [
      "Model loaded from conformer_plus.pt\n"
     ]
    },
    {
     "data": {
      "application/vnd.jupyter.widget-view+json": {
       "model_id": "de9a7007b4a8460fa342f754a4b3bc05",
       "version_major": 2,
       "version_minor": 0
      },
      "text/plain": [
       "Predicting:   0%|          | 0/49 [00:00<?, ?it/s]"
      ]
     },
     "metadata": {},
     "output_type": "display_data"
    },
    {
     "name": "stdout",
     "output_type": "stream",
     "text": [
      "Prediction completed.\n",
      "Warning: Only one class present in y_true. Some metrics (ROC AUC, EER) will be set to NaN.\n",
      "Evaluation Metrics:\n",
      "Accuracy: 0.9455\n",
      "Precision: 1.0000\n",
      "Recall: 0.9455\n",
      "F1 Score: 0.9720\n",
      "AUC Score: NaN\n",
      "Average Precision: NaN\n",
      "EER: NaN\n",
      "Confusion Matrix:\n",
      "[[   0    0]\n",
      " [ 336 5824]]\n"
     ]
    }
   ],
   "source": [
    "Predict_module = PredictDataModule(\n",
    "    csv_file=\"/home/jupyter/Data/meta_npy.csv\",  #--meta_file\n",
    "    allowed_set=[\"in-test\"],  #训练还是测试\n",
    "    allowed_data_source=['vox'],\n",
    "    # ['itw', 'gen', 'LJSpeech', 'vox', 'diffusion-based'] 去掉diffusion-based train的话应该就能得到不太好的eer泛化\n",
    "    batch_size=128,  #训练batch_size\n",
    "    num_workers_csv=96,  #多线程读取csv的\n",
    "    num_workers_dataset=0\n",
    ")\n",
    "\n",
    "Predict_module.setup()\n",
    "predict_loader = Predict_module.get_loader()\n",
    "evaluator = ModelEvaluation(trainer.model, device, predict_loader, weight_path=\"conformer_plus.pt\", threshold=0.9)\n",
    "evaluator.load_model()\n",
    "evaluator.predict()\n",
    "evaluator.evaluate()"
   ]
  },
  {
   "cell_type": "code",
   "execution_count": 39,
   "id": "a0e3ef61-99e9-41be-91cf-3de58ca63fa0",
   "metadata": {},
   "outputs": [
    {
     "data": {
      "application/vnd.jupyter.widget-view+json": {
       "model_id": "8f36f7b843ee4e47bc49502f97435b68",
       "version_major": 2,
       "version_minor": 0
      },
      "text/plain": [
       "Loading audio info from CSV:   0%|          | 0/631 [00:00<?, ?it/s]"
      ]
     },
     "metadata": {},
     "output_type": "display_data"
    },
    {
     "name": "stdout",
     "output_type": "stream",
     "text": [
      "Model loaded from conformer_plus.pt\n"
     ]
    },
    {
     "data": {
      "application/vnd.jupyter.widget-view+json": {
       "model_id": "fcf5c36616284c9a99329f2f05b8ef8b",
       "version_major": 2,
       "version_minor": 0
      },
      "text/plain": [
       "Predicting:   0%|          | 0/5 [00:00<?, ?it/s]"
      ]
     },
     "metadata": {},
     "output_type": "display_data"
    },
    {
     "name": "stdout",
     "output_type": "stream",
     "text": [
      "Prediction completed.\n",
      "Warning: Only one class present in y_true. Some metrics (ROC AUC, EER) will be set to NaN.\n",
      "Evaluation Metrics:\n",
      "Accuracy: 0.8304\n",
      "Precision: 0.0000\n",
      "Recall: 0.0000\n",
      "F1 Score: 0.0000\n",
      "AUC Score: NaN\n",
      "Average Precision: NaN\n",
      "EER: NaN\n",
      "Confusion Matrix:\n",
      "[[524 107]\n",
      " [  0   0]]\n"
     ]
    }
   ],
   "source": [
    "Predict_module = PredictDataModule(\n",
    "    csv_file=\"/home/jupyter/Data/11lab_npy.csv\",  #--meta_file\n",
    "    allowed_set=[\"test\"],  #训练还是测试\n",
    "    allowed_data_source='all',\n",
    "    # ['itw', 'gen', 'LJSpeech', 'vox', 'diffusion-based'] 去掉diffusion-based train的话应该就能得到不太好的eer泛化\n",
    "    batch_size=128,  #训练batch_size\n",
    "    num_workers_csv=96,  #多线程读取csv的\n",
    "    num_workers_dataset=0\n",
    ")\n",
    "\n",
    "Predict_module.setup()\n",
    "predict_loader = Predict_module.get_loader()\n",
    "evaluator = ModelEvaluation(trainer.model, device, predict_loader, weight_path=\"conformer_plus.pt\", threshold=0.9)\n",
    "evaluator.load_model()\n",
    "evaluator.predict()\n",
    "evaluator.evaluate()"
   ]
  },
  {
   "cell_type": "code",
   "execution_count": 42,
   "id": "b9d29ffe-aa5c-415b-a470-82f0c24c9f34",
   "metadata": {},
   "outputs": [
    {
     "data": {
      "application/vnd.jupyter.widget-view+json": {
       "model_id": "7b0d5ac42efb422aa9d14c31fe51c096",
       "version_major": 2,
       "version_minor": 0
      },
      "text/plain": [
       "0it [00:00, ?it/s]"
      ]
     },
     "metadata": {},
     "output_type": "display_data"
    }
   ],
   "source": [
    "import progressbar\n",
    "\n",
    "\n",
    "class NPYPredictDataset(Dataset):\n",
    "    def __init__(self, csv_file):\n",
    "        self.df = pd.read_csv(csv_file)\n",
    "\n",
    "    def __len__(self):\n",
    "        return len(self.df)\n",
    "\n",
    "    def __getitem__(self, idx):\n",
    "        row = self.df.iloc[idx]\n",
    "        # 构造 npy 文件的完整路径：以 absolute_path 为根目录，加上 relative_path（即文件名）\n",
    "        absolute_path = row[\"npy_path\"]\n",
    "        wav_name = row[\"relative_path\"]\n",
    "        # full_path = os.path.join(absolute_path, relative_path)\n",
    "\n",
    "        try:\n",
    "            data = np.load(absolute_path)\n",
    "        except Exception as e:\n",
    "            print(f\"Error loading {absolute_path}: {e}\")\n",
    "            # # 默认返回一个全 0 的数组，形状可根据实际情况调整\n",
    "            # data = np.zeros((1, 40, 400), dtype=np.float32)\n",
    "\n",
    "        # 如果数据仅为二维形状 (n_mfcc, frames)，扩展 channel 维度\n",
    "        if data.ndim == 2:\n",
    "            data = np.expand_dims(data, axis=0)\n",
    "\n",
    "        tensor_data = torch.tensor(data, dtype=torch.float32)\n",
    "        return tensor_data, wav_name\n",
    "\n",
    "\n",
    "# -------------------------------------------\n",
    "# 批量预测函数\n",
    "# -------------------------------------------\n",
    "def predict_npy_files(model, device, csv_file, batch_size=16, threshold=0.9):\n",
    "    dataset = NPYPredictDataset(csv_file)\n",
    "    loader = DataLoader(dataset, batch_size=batch_size, shuffle=False)\n",
    "\n",
    "    model.eval()\n",
    "    results = []\n",
    "    with torch.no_grad():\n",
    "        for i, batch in tqdm(enumerate(loader)):\n",
    "            inputs, wavs = batch  # wavs 为 CSV 中的 relative_path（文件名）\n",
    "            inputs = inputs.to(device)\n",
    "            outputs = model(inputs).squeeze(1)\n",
    "            probs = torch.sigmoid(outputs).cpu().numpy()\n",
    "            preds = (probs >= threshold).astype(int)\n",
    "\n",
    "            for wav, prob, pred in zip(wavs, probs, preds):\n",
    "                results.append((wav, prob, int(pred)))\n",
    "    return results\n",
    "\n",
    "\n",
    "# -------------------------------------------\n",
    "# 示例：加载模型，预测并输出结果\n",
    "# -------------------------------------------\n",
    "if __name__ == \"__main__\":\n",
    "    device = torch.device(\"cuda\" if torch.cuda.is_available() else \"cpu\")\n",
    "    model = Conformer_plus(input_dim=40, d_model=32, d_ff=64, num_heads=8, num_layers=4, dropout=0.05, kernel_size=7,\n",
    "                           num_classes=1).to(device)  #plus\n",
    "    model.load_state_dict(torch.load(\"conformer_plus.pt\", map_location=device))\n",
    "    model.eval()\n",
    "\n",
    "    csv_file = \"../Data/11lab_npy.csv\"\n",
    "\n",
    "    results = predict_npy_files(model, device, csv_file, batch_size=1, threshold=0.9)\n",
    "    pd.DataFrame(results, columns=['wav', 'prob', 'pred']).to_csv('11lab_res.csv', index=False)"
   ]
  },
  {
   "cell_type": "code",
   "execution_count": 43,
   "id": "2baa2c4f-70e7-4f2d-8552-778b709d61cf",
   "metadata": {},
   "outputs": [],
   "source": [
    "res = pd.read_csv('11lab_res.csv')"
   ]
  },
  {
   "cell_type": "code",
   "execution_count": 44,
   "id": "293a6366-b37d-403d-8b40-82e531385a14",
   "metadata": {},
   "outputs": [
    {
     "data": {
      "text/plain": [
       "pred\n",
       "0    524\n",
       "1    107\n",
       "Name: count, dtype: int64"
      ]
     },
     "execution_count": 44,
     "metadata": {},
     "output_type": "execute_result"
    }
   ],
   "source": [
    "res.pred.value_counts()"
   ]
  },
  {
   "cell_type": "code",
   "execution_count": null,
   "id": "d5e514c3-61cb-4bb4-8a89-dc7ea76dbc96",
   "metadata": {},
   "outputs": [],
   "source": []
  }
 ],
 "metadata": {
  "environment": {
   "kernel": "conda-base-py",
   "name": "workbench-notebooks.m128",
   "type": "gcloud",
   "uri": "us-docker.pkg.dev/deeplearning-platform-release/gcr.io/workbench-notebooks:m128"
  },
  "kernelspec": {
   "display_name": "Python 3 (ipykernel) (Local)",
   "language": "python",
   "name": "conda-base-py"
  },
  "language_info": {
   "codemirror_mode": {
    "name": "ipython",
    "version": 3
   },
   "file_extension": ".py",
   "mimetype": "text/x-python",
   "name": "python",
   "nbconvert_exporter": "python",
   "pygments_lexer": "ipython3",
   "version": "3.10.16"
  }
 },
 "nbformat": 4,
 "nbformat_minor": 5
}
