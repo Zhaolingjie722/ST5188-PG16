{
 "cells": [
  {
   "cell_type": "markdown",
   "id": "dc884cd9-8459-48ff-9079-f28a42e187c3",
   "metadata": {},
   "source": [
    "# 1.import library"
   ]
  },
  {
   "cell_type": "code",
   "execution_count": 8,
   "id": "8191a106-4b1b-44b8-95a2-a2a5c5fc4137",
   "metadata": {},
   "outputs": [],
   "source": [
    "import cv2\n",
    "import gc\n",
    "import io\n",
    "import librosa\n",
    "import librosa.display\n",
    "import matplotlib.pyplot as plt\n",
    "import numpy as np\n",
    "import os\n",
    "import pandas as pd\n",
    "import random\n",
    "import tempfile\n",
    "import threading\n",
    "import torch\n",
    "import torch.nn as nn\n",
    "import torch.nn.functional as F\n",
    "import torch.optim as optim\n",
    "import wandb\n",
    "from concurrent.futures import ThreadPoolExecutor, as_completed\n",
    "from scipy.interpolate import interp1d\n",
    "from scipy.optimize import brentq\n",
    "from sklearn.metrics import (roc_curve, recall_score, precision_score, accuracy_score, f1_score, roc_auc_score,\n",
    "                             average_precision_score, confusion_matrix, classification_report, precision_recall_curve)\n",
    "from sklearn.model_selection import GroupKFold\n",
    "from sklearn.model_selection import train_test_split\n",
    "from torch.optim.lr_scheduler import ExponentialLR\n",
    "from torch.utils.data import Dataset, DataLoader, Subset\n",
    "from tqdm.notebook import tqdm\n",
    "from transformers import WhisperModel, WhisperProcessor, WhisperConfig, Trainer, TrainingArguments, PreTrainedModel, \\\n",
    "    AutoConfig"
   ]
  },
  {
   "cell_type": "markdown",
   "id": "c8f15f58-cd40-4d7f-9905-db098eee2598",
   "metadata": {},
   "source": [
    "# 2.CsvLoader"
   ]
  },
  {
   "cell_type": "code",
   "execution_count": 9,
   "id": "3ba33f92-40dd-4926-b9dc-91a39e50d166",
   "metadata": {},
   "outputs": [],
   "source": [
    "class CsvLoader:\n",
    "    def __init__(self, max_workers=96):\n",
    "        self.max_workers = max_workers\n",
    "\n",
    "    def load_audio_info_from_csv(self, csv_file, allowed_set=None, allowed_data_source=\"all\"):\n",
    "        df = pd.read_csv(csv_file)\n",
    "\n",
    "        df = df[df[\"absolute_path\"].apply(os.path.exists)]\n",
    "\n",
    "        if allowed_set is not None:\n",
    "            df = df[df[\"Set\"].isin(allowed_set)]\n",
    "        if allowed_data_source != \"all\":\n",
    "            df = df[df[\"data_source\"].isin(allowed_data_source)]\n",
    "\n",
    "        # 内部函数：从一行数据中提取所需信息\n",
    "        def load_info(row):\n",
    "            abs_path = row[\"absolute_path\"]\n",
    "            speaker = row[\"speaker\"]\n",
    "            label = int(row[\"label\"])  # 转换为 int 类型\n",
    "            return (abs_path, speaker, label)\n",
    "\n",
    "        records = []\n",
    "        with ThreadPoolExecutor(max_workers=self.max_workers) as executor:\n",
    "            # 提交任务\n",
    "            futures = {executor.submit(load_info, row): idx for idx, row in df.iterrows()}\n",
    "            # 利用 tqdm 显示进度条\n",
    "            for future in tqdm(as_completed(futures), total=len(futures), desc=\"Loading audio info from CSV\"):\n",
    "                result = future.result()\n",
    "                if result is not None:\n",
    "                    records.append(result)\n",
    "        return records"
   ]
  },
  {
   "cell_type": "markdown",
   "id": "95bb03eb-14c5-4270-bc1c-a0e2c07296e1",
   "metadata": {},
   "source": [
    "# 3.audio-Augmentation"
   ]
  },
  {
   "cell_type": "code",
   "execution_count": 10,
   "id": "3f76ddb1-d0dd-4bb8-9fa8-2879d2dfe2ec",
   "metadata": {},
   "outputs": [],
   "source": [
    "from torch.nn.utils.rnn import pad_sequence\n",
    "\n",
    "\n",
    "def random_noise(audio, noise_factor=0.005):\n",
    "    \"\"\"给音频添加随机噪声\"\"\"\n",
    "    noise = torch.randn_like(audio) * noise_factor\n",
    "    return audio + noise\n",
    "\n",
    "\n",
    "def random_timeshift(audio, max_shift=16000):\n",
    "    \"\"\"对音频进行随机时间偏移\"\"\"\n",
    "    shift = random.randint(-max_shift, max_shift)\n",
    "    if shift > 0:\n",
    "        audio = audio[shift:]  # 向后偏移\n",
    "        audio = F.pad(audio, (0, shift))  # 填充前部\n",
    "    elif shift < 0:\n",
    "        audio = audio[:shift]  # 向前偏移\n",
    "        audio = F.pad(audio, (-shift, 0))  # 填充后部\n",
    "    return audio\n",
    "\n",
    "\n",
    "def random_crop_or_pad(audio, target_length=160000, pad_value=0):\n",
    "    \"\"\"随机裁剪或填充音频到固定长度\"\"\"\n",
    "    audio_len = audio.shape[0]\n",
    "    if audio_len < target_length:\n",
    "        pad_amount = target_length - audio_len\n",
    "        audio = F.pad(audio, (0, pad_amount), value=pad_value)\n",
    "    elif audio_len > target_length:\n",
    "        start_idx = random.randint(0, audio_len - target_length)\n",
    "        audio = audio[start_idx:start_idx + target_length]\n",
    "    return audio\n",
    "\n",
    "\n",
    "# def audio_trim(audio, threshold=0.01):\n",
    "#     \"\"\"修剪音频的静默部分\"\"\"\n",
    "#     non_zero_indices = torch.nonzero(torch.abs(audio) > threshold).squeeze()\n",
    "#     if non_zero_indices.numel() > 0:\n",
    "#         # 将 Tensor 转为 int 后再切片\n",
    "#         start = int(non_zero_indices[0].item())\n",
    "#         end   = int(non_zero_indices[-1].item()) + 1\n",
    "#         return audio[start:end]\n",
    "#     return audio\n",
    "\n",
    "# ---------------------------\n",
    "# CutMix 实现\n",
    "# ---------------------------\n",
    "def cutmix_3d(x, y, beta=1.0, cutmix_prob=0.2):\n",
    "    \"\"\"\n",
    "    对3维谱图做 CutMix：\n",
    "    x: [B, T, F]\n",
    "    y: [B]\n",
    "    \"\"\"\n",
    "    if random.random() < cutmix_prob:\n",
    "        lam = np.random.beta(beta, beta)\n",
    "        B, T, F = x.shape\n",
    "        # 随机打乱\n",
    "        rand_index = torch.randperm(B)\n",
    "\n",
    "        # 随机生成切块区域\n",
    "        cx = np.random.randint(F)\n",
    "        cy = np.random.randint(T)\n",
    "        cut_w = int(F * np.sqrt(1 - lam))\n",
    "        cut_h = int(T * np.sqrt(1 - lam))\n",
    "        x1 = np.clip(cx - cut_w // 2, 0, F)\n",
    "        y1 = np.clip(cy - cut_h // 2, 0, T)\n",
    "        x2 = np.clip(cx + cut_w // 2, 0, F)\n",
    "        y2 = np.clip(cy + cut_h // 2, 0, T)\n",
    "\n",
    "        # 应用 CutMix\n",
    "        x[:, y1:y2, x1:x2] = x[rand_index, y1:y2, x1:x2]\n",
    "\n",
    "        # 重算 lambda\n",
    "        lam = 1 - ((x2 - x1) * (y2 - y1) / (T * F))\n",
    "\n",
    "        return x, y, y[rand_index], lam\n",
    "    else:\n",
    "        return x, y, None, None\n",
    "\n",
    "\n",
    "# ---------------------------\n",
    "# MixUp 实现\n",
    "# ---------------------------\n",
    "def mixup_data(x, y, alpha=1.0, mixup_prob=0.2):\n",
    "    \"\"\"\n",
    "    通用 MixUp：\n",
    "      x: Tensor，形状 [B, ...]，任意除 batch 以外多维\n",
    "      y: Tensor，[B] 的标签\n",
    "    返回:\n",
    "      mixed_x: 混合后的特征，形状同 x\n",
    "      y_a, y_b: 原标签和打乱后标签\n",
    "      lam: 混合系数（None 表示未应用 MixUp）\n",
    "    \"\"\"\n",
    "    if random.random() < mixup_prob:\n",
    "        lam = np.random.beta(alpha, alpha)\n",
    "        batch_size = x.size(0)\n",
    "        index = torch.randperm(batch_size)\n",
    "        mixed_x = lam * x + (1 - lam) * x[index]\n",
    "        y_a, y_b = y, y[index]\n",
    "        return mixed_x, y_a, y_b, lam\n",
    "    else:\n",
    "        return x, y, None, None\n",
    "\n",
    "\n",
    "# ---------------------------\n",
    "# 自定义 collate 函数，结合 CutMix 和 MixUp 增强技术\n",
    "# ---------------------------average_precision_score\n",
    "def custom_collate_fn(batch, cutmix_prob=0.1, mixup_prob=0.1):\n",
    "    features, speakers, labels = zip(*batch)\n",
    "    # [B, T, F]\n",
    "    features = torch.stack(features, dim=0)\n",
    "    labels = torch.tensor([int(l) for l in labels], dtype=torch.long)\n",
    "\n",
    "    aug = random.choice(['cutmix', 'mixup', 'none'])\n",
    "    if aug == 'cutmix':\n",
    "        feats_cm, y_a, y_b, lam = cutmix_3d(features, labels, beta=1.0, cutmix_prob=cutmix_prob)\n",
    "        return feats_cm, speakers, (y_a, y_b, lam)\n",
    "    elif aug == 'mixup':\n",
    "        feats_mu, y_a, y_b, lam = mixup_data(features, labels, alpha=1.0, mixup_prob=mixup_prob)\n",
    "        return feats_mu, speakers, (y_a, y_b, lam)\n",
    "    else:\n",
    "        return features, speakers, labels"
   ]
  },
  {
   "cell_type": "markdown",
   "id": "ee93377f-3365-4e3b-8f34-69cf0a0056ad",
   "metadata": {},
   "source": [
    "# 4.AudioDataset"
   ]
  },
  {
   "cell_type": "code",
   "execution_count": 11,
   "id": "2cea11dd-ccdc-45d7-afa9-08add8ce09f2",
   "metadata": {},
   "outputs": [],
   "source": [
    "class AudioDataset(Dataset):\n",
    "    def __init__(\n",
    "            self,\n",
    "            records,\n",
    "            noise_prob=0.1,\n",
    "            timeshift_prob=0.1,\n",
    "            crop_or_pad_prob=0.1,\n",
    "            trim_prob=0.1,\n",
    "    ):\n",
    "        self.records = records\n",
    "        self.processor = WhisperProcessor.from_pretrained(\"openai/whisper-tiny.en\")\n",
    "        config = AutoConfig.from_pretrained(\"openai/whisper-tiny.en\")\n",
    "        self.target_length = config.max_source_positions  # e.g., 3000\n",
    "        # augmentation probabilities\n",
    "        self.noise_prob = noise_prob\n",
    "        self.timeshift_prob = timeshift_prob\n",
    "        self.crop_or_pad_prob = crop_or_pad_prob\n",
    "        self.trim_prob = trim_prob\n",
    "        self.lock = threading.Lock()\n",
    "        self.cache = {}\n",
    "\n",
    "    def __len__(self):\n",
    "        return len(self.records)\n",
    "\n",
    "    def __getitem__(self, idx):\n",
    "        # 记录格式：(wav_path, speaker, label)\n",
    "        wav_path, speaker, label = self.records[idx]\n",
    "\n",
    "        with self.lock:\n",
    "            if wav_path in self.cache:\n",
    "                return self.cache[wav_path]\n",
    "        audio_np, sr = librosa.load(wav_path, sr=16000)\n",
    "\n",
    "        # audio = torch.from_numpy(audio_np)\n",
    "        # # audio-level augmentations before feature extraction\n",
    "        # if random.random() < self.noise_prob:\n",
    "        #     audio = random_noise(audio)\n",
    "        # if random.random() < self.timeshift_prob:\n",
    "        #     audio = random_timeshift(audio)\n",
    "        # if random.random() < self.crop_or_pad_prob:\n",
    "        #     audio = random_crop_or_pad(audio, int(16000 * 10))\n",
    "        # audio_np = audio.numpy() \n",
    "\n",
    "        inputs = self.processor(audio_np, sampling_rate=sr, return_tensors=\"pt\", padding=\"max_length\",\n",
    "                                max_length=16000 * 30)\n",
    "        audio_feats = inputs.input_features.squeeze(0)  # [80, 3000]\n",
    "\n",
    "        # pad/truncate to fixed length\n",
    "        # seq_len = audio_feats.size(0)\n",
    "        # if seq_len < self.target_length:\n",
    "        #     pad_amt = self.target_length - seq_len\n",
    "        #     audio_feats = F.pad(audio_feats, (0, 0, 0, pad_amt))\n",
    "        # else:\n",
    "        #     audio_feats = audio_feats[: self.target_length]\n",
    "\n",
    "        label_tensor = torch.tensor(label, dtype=torch.float32).unsqueeze(0)\n",
    "\n",
    "        item = (audio_feats, speaker, label_tensor)\n",
    "        with self.lock:\n",
    "            self.cache[wav_path] = item\n",
    "        return item\n",
    "\n",
    "    def get_group_splits(self, n_splits=5):\n",
    "        indices = np.arange(len(self.records))\n",
    "        groups = [record[1] for record in self.records]  # 根据 speaker 分组\n",
    "        gkf = GroupKFold(n_splits=n_splits)\n",
    "        splits = list(gkf.split(indices, groups=groups))\n",
    "        return splits"
   ]
  },
  {
   "cell_type": "markdown",
   "id": "a7ad5526-8f62-4fe8-b3ab-15528046053f",
   "metadata": {},
   "source": [
    "# 5.Build Wav2Vec2Classifier"
   ]
  },
  {
   "cell_type": "code",
   "execution_count": 12,
   "id": "4bdba401-4c97-40f9-af1a-67b14040b721",
   "metadata": {},
   "outputs": [],
   "source": [
    "class WhisperEncoderForBinaryClassification(nn.Module):\n",
    "    def __init__(self):\n",
    "        super().__init__()\n",
    "        # this line for pretained whisper\n",
    "        self.encoder = WhisperModel.from_pretrained(\"openai/whisper-tiny.en\").encoder\n",
    "\n",
    "        # this two lines for training from scratch\n",
    "        # configuration = WhisperConfig()\n",
    "        # self.encoder = WhisperModel(configuration).encoder\n",
    "\n",
    "        self.fc = nn.Linear(self.encoder.config.hidden_size, 1)  # 二分类\n",
    "\n",
    "    def forward(self, input_features):\n",
    "        encoder_outputs = self.encoder(input_features).last_hidden_state\n",
    "        pooled_output = encoder_outputs.mean(dim=1)  # 简单的池化操作，取平均值\n",
    "        logits = self.fc(pooled_output)\n",
    "        x = torch.sigmoid(logits)\n",
    "        return x\n"
   ]
  },
  {
   "cell_type": "code",
   "execution_count": 13,
   "id": "5a4cd256-f5c6-45bf-8537-b57ad654aede",
   "metadata": {},
   "outputs": [
    {
     "name": "stdout",
     "output_type": "stream",
     "text": [
      "cuda\n"
     ]
    }
   ],
   "source": [
    "from torchinfo import summary\n",
    "\n",
    "device = torch.device(\"cuda\" if torch.cuda.is_available() else \"cpu\")\n",
    "print(device)"
   ]
  },
  {
   "cell_type": "markdown",
   "id": "3bfb6ed4-c36b-4622-97d5-aebe7a8f3de7",
   "metadata": {},
   "source": [
    "# 6.WavLMTrainer"
   ]
  },
  {
   "cell_type": "code",
   "execution_count": 14,
   "id": "5a060a1c-905c-47c7-b7c4-535a4c23810e",
   "metadata": {},
   "outputs": [],
   "source": [
    "class whisperTrainer:\n",
    "    def __init__(self, train_dataloader: DataLoader, val_dataloader: DataLoader, device=None,\n",
    "                 lr=0.0001, patience=5, lr_gamma=0.9,\n",
    "                 checkpoint_path=\"Whisper_best.pt\", project_name=\"Whisper_Project\",\n",
    "                 freeze_encoder=False, num_classes=1):\n",
    "        self.train_dataloader = train_dataloader\n",
    "        self.val_dataloader = val_dataloader\n",
    "        self.device = device if device else torch.device(\"cuda\" if torch.cuda.is_available() else \"cpu\")\n",
    "        self.checkpoint_path = checkpoint_path\n",
    "        self.patience = patience\n",
    "\n",
    "        # 使用 WhisperEncoderForBinaryClassification 模型\n",
    "        self.model = WhisperEncoderForBinaryClassification().to(self.device)\n",
    "        if freeze_encoder:\n",
    "            for p in self.model.encoder.parameters():\n",
    "                p.requires_grad = False\n",
    "\n",
    "        self.criterion = nn.BCEWithLogitsLoss()\n",
    "        self.optimizer = optim.Adam(self.model.parameters(), lr=lr)\n",
    "\n",
    "        # Set up the ExponentialLR scheduler\n",
    "        self.scheduler = ExponentialLR(self.optimizer, gamma=lr_gamma)\n",
    "\n",
    "        # 初始化 wandb\n",
    "        wandb.init(project=project_name)\n",
    "        wandb.watch(self.model, log=\"all\")\n",
    "\n",
    "        # Variables for early stopping\n",
    "        self.best_val_loss = float('inf')\n",
    "        self.no_improve_count = 0\n",
    "\n",
    "    def train_one_epoch(self):\n",
    "        self.model.train()\n",
    "        running_loss = 0.0\n",
    "        running_correct = 0\n",
    "        total_samples = 0\n",
    "\n",
    "        progress_bar = tqdm(self.train_dataloader, desc=\"Training\", leave=False)\n",
    "        for features, speakers, labels in progress_bar:\n",
    "            features = features.to(self.device)\n",
    "\n",
    "            self.optimizer.zero_grad()\n",
    "            outputs = self.model(features).squeeze(1)  # outputs shape: (B,)\n",
    "\n",
    "            # 判断是否应用了增强\n",
    "            if isinstance(labels, tuple):\n",
    "                # labels 为 (y_a, y_b, lam)\n",
    "                y_a, y_b, lam = labels\n",
    "                # 如果增强结果未真正应用（例如 y_b is None），则直接使用 y_a 作为标签\n",
    "                if y_b is None:\n",
    "                    labels_tensor = y_a.to(self.device).float()\n",
    "                    loss = self.criterion(outputs, labels_tensor)\n",
    "                    preds = (torch.sigmoid(outputs) >= 0.5).long()\n",
    "                    batch_correct = (preds == labels_tensor.long()).sum().item()\n",
    "                    batch_size = labels_tensor.size(0)\n",
    "                else:\n",
    "                    y_a = y_a.to(self.device).float()\n",
    "                    y_b = y_b.to(self.device).float()\n",
    "                    loss = lam * self.criterion(outputs, y_a) + (1 - lam) * self.criterion(outputs, y_b)\n",
    "                    # 对于准确率这里简单使用 y_a 作为参考\n",
    "                    preds = (torch.sigmoid(outputs) >= 0.5).long()\n",
    "                    batch_correct = (preds == y_a.long()).sum().item()\n",
    "                    batch_size = y_a.size(0)\n",
    "            else:\n",
    "                labels = labels.to(self.device).float()\n",
    "                loss = self.criterion(outputs, labels)\n",
    "                preds = (torch.sigmoid(outputs) >= 0.5).long()\n",
    "                batch_correct = (preds == labels.long()).sum().item()\n",
    "                batch_size = labels.size(0)\n",
    "\n",
    "            loss.backward()\n",
    "            self.optimizer.step()\n",
    "\n",
    "            running_loss += loss.item() * batch_size\n",
    "            running_correct += batch_correct\n",
    "            total_samples += batch_size\n",
    "            progress_bar.set_postfix(loss=loss.item())\n",
    "\n",
    "        epoch_loss = running_loss / total_samples\n",
    "        epoch_acc = running_correct / total_samples\n",
    "        return epoch_loss, epoch_acc\n",
    "\n",
    "    def validate_one_epoch(self):\n",
    "        if self.val_dataloader is None:\n",
    "            return None, None\n",
    "\n",
    "        self.model.eval()\n",
    "        running_loss = 0.0\n",
    "        running_correct = 0\n",
    "        total_samples = 0\n",
    "\n",
    "        progress_bar = tqdm(self.val_dataloader, desc=\"Validating\", leave=False)\n",
    "        with torch.no_grad():\n",
    "            for features, speakers, labels in progress_bar:\n",
    "                features = features.to(self.device)\n",
    "                # 方法2：在验证中判断 labels 是否为 tuple，若是，则直接取 y_a 作为标签\n",
    "                if isinstance(labels, tuple):\n",
    "                    y_a, _, _ = labels\n",
    "                    labels_tensor = y_a.to(self.device).float()\n",
    "                else:\n",
    "                    labels_tensor = labels.to(self.device).float()\n",
    "\n",
    "                outputs = self.model(features).squeeze(1)\n",
    "                loss = self.criterion(outputs, labels_tensor)\n",
    "                running_loss += loss.item() * labels_tensor.size(0)\n",
    "\n",
    "                preds = (torch.sigmoid(outputs) >= 0.5).long()\n",
    "                running_correct += (preds == labels_tensor.long()).sum().item()\n",
    "                total_samples += labels_tensor.size(0)\n",
    "                progress_bar.set_postfix(loss=loss.item())\n",
    "\n",
    "        val_loss = running_loss / total_samples\n",
    "        val_acc = running_correct / total_samples\n",
    "        return val_loss, val_acc\n",
    "\n",
    "    def save_model(self, filepath):\n",
    "        \"\"\"保存当前模型参数到指定文件\"\"\"\n",
    "        torch.save(self.model.state_dict(), filepath)\n",
    "        print(f\"Model saved to {filepath}\")\n",
    "\n",
    "    def load_model(self, filepath):\n",
    "        \"\"\"加载模型参数\"\"\"\n",
    "        self.model.load_state_dict(torch.load(filepath, map_location=self.device))\n",
    "        self.model.to(self.device)\n",
    "        print(f\"Model loaded from {filepath}\")\n",
    "\n",
    "    def predict(self, test_dataloader):\n",
    "        \"\"\"\n",
    "        对测试数据进行预测，返回预测结果列表\n",
    "        \"\"\"\n",
    "        self.model.eval()\n",
    "        predictions = []\n",
    "        with torch.no_grad():\n",
    "            for features, _, _ in test_dataloader:\n",
    "                features = features.to(self.device)\n",
    "                outputs = self.model(features).squeeze(1)\n",
    "                preds = (torch.sigmoid(outputs) >= 0.5).long().cpu().numpy()\n",
    "                predictions.extend(preds)\n",
    "        return predictions\n",
    "\n",
    "    def fit(self, num_epochs=20):\n",
    "        for epoch in range(num_epochs):\n",
    "            train_loss, train_acc = self.train_one_epoch()\n",
    "            val_loss, val_acc = self.validate_one_epoch()\n",
    "\n",
    "            if val_loss is not None:\n",
    "                print(\n",
    "                    f\"Epoch [{epoch + 1}/{num_epochs}] | Train Loss: {train_loss:.4f}, Train Acc: {train_acc:.4f} | Val Loss: {val_loss:.4f}, Val Acc: {val_acc:.4f}\")\n",
    "            else:\n",
    "                print(f\"Epoch [{epoch + 1}/{num_epochs}] | Train Loss: {train_loss:.4f}, Train Acc: {train_acc:.4f}\")\n",
    "\n",
    "            # 若验证 loss 改进，则保存最佳模型，并重置未改进计数器；否则累计未改进轮数\n",
    "            if val_loss is not None:\n",
    "                if val_loss < self.best_val_loss:\n",
    "                    self.best_val_loss = val_loss\n",
    "                    self.no_improve_count = 0\n",
    "                    self.save_model(self.checkpoint_path)\n",
    "                else:\n",
    "                    self.no_improve_count += 1\n",
    "                    print(f\"No improvement count: {self.no_improve_count}/{self.patience}\")\n",
    "                    if self.no_improve_count >= self.patience:\n",
    "                        print(\"Early stopping triggered.\")\n",
    "                        break\n",
    "\n",
    "            log_dict = {\n",
    "                \"train_loss\": train_loss,\n",
    "                \"train_acc\": train_acc,\n",
    "                \"epoch\": epoch + 1\n",
    "            }\n",
    "            if val_loss is not None:\n",
    "                log_dict[\"val_loss\"] = val_loss\n",
    "                log_dict[\"val_acc\"] = val_acc\n",
    "\n",
    "            wandb.log(log_dict)\n"
   ]
  },
  {
   "cell_type": "markdown",
   "id": "782fc143-e014-4aa3-aa1a-dffeffb4b7d7",
   "metadata": {},
   "source": [
    "# 7.DataModule"
   ]
  },
  {
   "cell_type": "code",
   "execution_count": 15,
   "id": "02759fbf-d49e-4328-be74-62034913e906",
   "metadata": {},
   "outputs": [],
   "source": [
    "class DataModule:\n",
    "    \"\"\"\n",
    "    封装数据加载流程，包括：\n",
    "      1. 从 CSV 加载 wav 文件路径及元数据；\n",
    "      2. 构建 AudioDataset（直接加载文件，包含缓存与按需加载）；\n",
    "      3. 根据 speaker 使用 GroupKFold 划分子集；\n",
    "      4. 构造 train 和 valid DataLoader，并在 collate_fn 中使用增强技术。\n",
    "    \"\"\"\n",
    "\n",
    "    def __init__(self, csv_file, allowed_set, allowed_data_source=\"all\",\n",
    "                 batch_size=128, num_workers_csv=128, num_workers_dataset=0, n_splits=5):\n",
    "        self.csv_file = csv_file\n",
    "        self.allowed_set = allowed_set\n",
    "        self.allowed_data_source = allowed_data_source\n",
    "        self.batch_size = batch_size\n",
    "        self.num_workers_csv = num_workers_csv\n",
    "        self.num_workers_dataset = num_workers_dataset\n",
    "        self.n_splits = n_splits\n",
    "        self.train_loader = None\n",
    "        self.valid_loader = None\n",
    "        self.dataset = None\n",
    "\n",
    "    def setup(self):\n",
    "        def my_collate_fn(batch):\n",
    "            return custom_collate_fn(batch, cutmix_prob=0.5, mixup_prob=0.5)\n",
    "\n",
    "        # 1. 从 CSV 加载 wav 文件路径及元数据\n",
    "        loader = CsvLoader(max_workers=self.num_workers_csv)\n",
    "        records = loader.load_audio_info_from_csv(\n",
    "            csv_file=self.csv_file,\n",
    "            allowed_set=self.allowed_set,\n",
    "            allowed_data_source=self.allowed_data_source\n",
    "        )\n",
    "\n",
    "        # 2. 构建 AudioDataset（直接加载文件，包含缓存与按需加载）\n",
    "        self.dataset = AudioDataset(\n",
    "            records=records\n",
    "        )\n",
    "\n",
    "        # 3. 使用 GroupKFold 根据 speaker 划分数据集\n",
    "        splits = self.dataset.get_group_splits(n_splits=self.n_splits)\n",
    "        train_idx, valid_idx = splits[0]\n",
    "        train_subset = Subset(self.dataset, train_idx)\n",
    "        valid_subset = Subset(self.dataset, valid_idx)\n",
    "\n",
    "        # 4. 创建 DataLoader，使用自定义 collate_fn（集成增强）\n",
    "        self.train_loader = DataLoader(\n",
    "            train_subset,\n",
    "            batch_size=self.batch_size,\n",
    "            shuffle=True,\n",
    "            num_workers=self.num_workers_dataset,\n",
    "            collate_fn=my_collate_fn\n",
    "        )\n",
    "        self.valid_loader = DataLoader(\n",
    "            valid_subset,\n",
    "            batch_size=self.batch_size,\n",
    "            shuffle=False,\n",
    "            num_workers=self.num_workers_dataset,\n",
    "            collate_fn=my_collate_fn\n",
    "        )\n",
    "\n",
    "    def get_loaders(self):\n",
    "        if self.train_loader is None or self.valid_loader is None:\n",
    "            self.setup()\n",
    "        return self.train_loader, self.valid_loader\n"
   ]
  },
  {
   "cell_type": "code",
   "execution_count": 17,
   "id": "926a8cd0-75ec-447c-865c-fe62b8252c87",
   "metadata": {
    "scrolled": true
   },
   "outputs": [
    {
     "data": {
      "application/vnd.jupyter.widget-view+json": {
       "model_id": "a693f5f25849418cadcff94dccbb91c7",
       "version_major": 2,
       "version_minor": 0
      },
      "text/plain": [
       "Loading audio info from CSV:   0%|          | 0/368706 [00:00<?, ?it/s]"
      ]
     },
     "metadata": {},
     "output_type": "display_data"
    },
    {
     "name": "stdout",
     "output_type": "stream",
     "text": [
      "Feature Shape: torch.Size([64, 80, 3000]), Labels Shape: 64, Speakers: 64\n"
     ]
    }
   ],
   "source": [
    "# Initialize the DataModule\n",
    "data_module = DataModule(\n",
    "    csv_file=\"/home/jupyter/Data/meta_final.csv\",  # Meta file path\n",
    "    allowed_set=['train'],  # Specify which subset to use (train or test)\n",
    "    allowed_data_source=\"all\",  # Specify data sources to include ['itw', 'gen', 'LJSpeech', 'vox', 'diffusion-based']\n",
    "    batch_size=64,  # Batch size for training\n",
    "    num_workers_csv=128,  # Number of workers for CSV loading\n",
    "    num_workers_dataset=4  # Number of workers for dataset loading (use a reasonable value based on your system)\n",
    ")\n",
    "\n",
    "# Setup the data module (loads data and initializes dataloaders)\n",
    "data_module.setup()\n",
    "\n",
    "# Retrieve the training and validation dataloaders\n",
    "train_loader, valid_loader = data_module.get_loaders()\n",
    "\n",
    "# Checking the first batch from the train_loader\n",
    "for batch in train_loader:\n",
    "    features, speakers, labels = batch\n",
    "    print(f\"Feature Shape: {features.shape}, Labels Shape: {len(speakers)}, Speakers: {len(speakers)}\")\n",
    "    break  # Print the first batch and break"
   ]
  },
  {
   "cell_type": "code",
   "execution_count": null,
   "id": "2d884a9c-eb36-405f-8d15-2035a82f550e",
   "metadata": {
    "scrolled": true
   },
   "outputs": [
    {
     "name": "stderr",
     "output_type": "stream",
     "text": [
      "Failed to detect the name of this notebook, you can set it manually with the WANDB_NOTEBOOK_NAME environment variable to enable code saving.\n",
      "\u001B[34m\u001B[1mwandb\u001B[0m: Using wandb-core as the SDK backend.  Please refer to https://wandb.me/wandb-core for more information.\n",
      "\u001B[34m\u001B[1mwandb\u001B[0m: Currently logged in as: \u001B[33mzlj201900820209\u001B[0m (\u001B[33mzlj201900820209-national-university-of-singapore-student\u001B[0m) to \u001B[32mhttps://api.wandb.ai\u001B[0m. Use \u001B[1m`wandb login --relogin`\u001B[0m to force relogin\n"
     ]
    },
    {
     "data": {
      "text/html": [
       "Tracking run with wandb version 0.19.8"
      ],
      "text/plain": [
       "<IPython.core.display.HTML object>"
      ]
     },
     "metadata": {},
     "output_type": "display_data"
    },
    {
     "data": {
      "text/html": [
       "Run data is saved locally in <code>/home/jupyter/BenchMark/wandb/run-20250418_142146-y8n6z350</code>"
      ],
      "text/plain": [
       "<IPython.core.display.HTML object>"
      ]
     },
     "metadata": {},
     "output_type": "display_data"
    },
    {
     "data": {
      "text/html": [
       "Syncing run <strong><a href='https://wandb.ai/zlj201900820209-national-university-of-singapore-student/whisper_pretrained_v1/runs/y8n6z350' target=\"_blank\">lucky-lion-2</a></strong> to <a href='https://wandb.ai/zlj201900820209-national-university-of-singapore-student/whisper_pretrained_v1' target=\"_blank\">Weights & Biases</a> (<a href='https://wandb.me/developer-guide' target=\"_blank\">docs</a>)<br>"
      ],
      "text/plain": [
       "<IPython.core.display.HTML object>"
      ]
     },
     "metadata": {},
     "output_type": "display_data"
    },
    {
     "data": {
      "text/html": [
       " View project at <a href='https://wandb.ai/zlj201900820209-national-university-of-singapore-student/whisper_pretrained_v1' target=\"_blank\">https://wandb.ai/zlj201900820209-national-university-of-singapore-student/whisper_pretrained_v1</a>"
      ],
      "text/plain": [
       "<IPython.core.display.HTML object>"
      ]
     },
     "metadata": {},
     "output_type": "display_data"
    },
    {
     "data": {
      "text/html": [
       " View run at <a href='https://wandb.ai/zlj201900820209-national-university-of-singapore-student/whisper_pretrained_v1/runs/y8n6z350' target=\"_blank\">https://wandb.ai/zlj201900820209-national-university-of-singapore-student/whisper_pretrained_v1/runs/y8n6z350</a>"
      ],
      "text/plain": [
       "<IPython.core.display.HTML object>"
      ]
     },
     "metadata": {},
     "output_type": "display_data"
    },
    {
     "data": {
      "application/vnd.jupyter.widget-view+json": {
       "model_id": "ed937fa8131b4ea58164132efaa55c2f",
       "version_major": 2,
       "version_minor": 0
      },
      "text/plain": [
       "Training:   0%|          | 0/4609 [00:00<?, ?it/s]"
      ]
     },
     "metadata": {},
     "output_type": "display_data"
    }
   ],
   "source": [
    "trainer = whisperTrainer(\n",
    "    train_dataloader=train_loader,\n",
    "    val_dataloader=valid_loader,\n",
    "    device=device,\n",
    "    lr=0.0001,\n",
    "    patience=5,\n",
    "    lr_gamma=0.95,\n",
    "    checkpoint_path=\"whisper_pretrained_v1.pt\",\n",
    "    project_name=\"whisper_pretrained_v1\",\n",
    "    freeze_encoder=True\n",
    ")\n",
    "\n",
    "# 开始训练\n",
    "trainer.fit(num_epochs=50)"
   ]
  },
  {
   "cell_type": "markdown",
   "id": "40dcb462-8102-401a-a1c7-73e307214ca7",
   "metadata": {},
   "source": [
    "# 8.Batch predict"
   ]
  },
  {
   "cell_type": "code",
   "execution_count": 1,
   "id": "1a20a21d-4b4c-4008-aed9-fdda7bcb0823",
   "metadata": {},
   "outputs": [],
   "source": [
    "# ---------------------------\n",
    "# 简单的 collate_fn（预测时不需要数据增强）\n",
    "# ---------------------------\n",
    "def simple_collate_fn(batch):\n",
    "    features, speakers, labels = zip(*batch)\n",
    "    features = torch.stack(features, dim=0)\n",
    "    labels = torch.tensor([int(l) for l in labels], dtype=torch.long)\n",
    "    return features, speakers, labels\n",
    "\n",
    "\n",
    "# ---------------------------\n",
    "# PredictDataModule: 用于加载预测数据的 DataModule\n",
    "# ---------------------------\n",
    "class PredictDataModule:\n",
    "    \"\"\"\n",
    "    封装预测数据加载流程，包括：\n",
    "      1. 从 CSV 加载 npy 文件路径及元数据；\n",
    "      2. 构建 MFCCDataset（直接加载 npy 文件，包含缓存）；\n",
    "      3. 构造预测用的 DataLoader（不应用数据增强）。\n",
    "    \"\"\"\n",
    "\n",
    "    def __init__(self, csv_file, allowed_set=None, allowed_data_source=\"all\",\n",
    "                 batch_size=256, num_workers_csv=96, num_workers_dataset=0):\n",
    "        self.csv_file = csv_file\n",
    "        self.allowed_set = allowed_set  # 预测时可不过滤\n",
    "        self.allowed_data_source = allowed_data_source\n",
    "        self.batch_size = batch_size\n",
    "        self.num_workers_csv = num_workers_csv\n",
    "        self.num_workers_dataset = num_workers_dataset\n",
    "\n",
    "        self.predict_loader = None\n",
    "        self.dataset = None\n",
    "\n",
    "    def setup(self):\n",
    "        # 1. 从 CSV 加载 npy 文件路径及元数据\n",
    "        npy_loader = NpyLoader(max_workers=self.num_workers_csv)\n",
    "        records = npy_loader.load_audio_info_from_csv(\n",
    "            csv_file=self.csv_file,\n",
    "            allowed_set=self.allowed_set,\n",
    "            allowed_data_source=self.allowed_data_source\n",
    "        )\n",
    "        # 2. 构建 MFCCDataset（预测时不应用数据增强，将 spec_aug_prob 设置为 0）\n",
    "        self.dataset = MFCCDataset(\n",
    "            records=records,\n",
    "            spec_aug_prob=0.0\n",
    "        )\n",
    "        # 3. 创建 DataLoader\n",
    "        self.predict_loader = DataLoader(\n",
    "            self.dataset,\n",
    "            batch_size=self.batch_size,\n",
    "            shuffle=False,\n",
    "            num_workers=self.num_workers_dataset,\n",
    "            collate_fn=simple_collate_fn\n",
    "        )\n",
    "\n",
    "    def get_loader(self):\n",
    "        if self.predict_loader is None:\n",
    "            self.setup()\n",
    "        return self.predict_loader"
   ]
  },
  {
   "cell_type": "code",
   "execution_count": 2,
   "id": "14515858-7e63-4d65-9e67-b4f267e415bc",
   "metadata": {},
   "outputs": [],
   "source": [
    "class ModelEvaluation:\n",
    "    def __init__(self, model, device, predict_loader, weight_path, threshold=0.5):\n",
    "        \"\"\"\n",
    "        :param model: 预定义的模型（例如 Conformer），需要与权重匹配\n",
    "        :param device: 设备\n",
    "        :param predict_loader: 用于预测的 DataLoader（返回 (features, speakers, labels)）\n",
    "        :param weight_path: 模型权重路径\n",
    "        :param threshold: 预测阈值\n",
    "        \"\"\"\n",
    "        self.model = model.to(device)\n",
    "        self.device = device\n",
    "        self.predict_loader = predict_loader\n",
    "        self.weight_path = weight_path\n",
    "        self.threshold = threshold\n",
    "\n",
    "        # 预测结果记录\n",
    "        self.all_probs = []  # 模型预测概率（float）\n",
    "        self.all_preds = []  # 模型预测标签（int）\n",
    "        self.all_labels = []  # 真实标签\n",
    "        self.all_speakers = []  # 对应 speaker\n",
    "\n",
    "    def load_model(self):\n",
    "        \"\"\"加载模型权重\"\"\"\n",
    "        self.model.load_state_dict(torch.load(self.weight_path, map_location=self.device))\n",
    "        self.model.to(self.device)\n",
    "        self.model.eval()\n",
    "        print(f\"Model loaded from {self.weight_path}\")\n",
    "\n",
    "    def predict(self):\n",
    "        \"\"\"使用 predict_loader 批量预测，记录预测概率、预测标签、真实标签和 speaker\"\"\"\n",
    "        self.model.eval()\n",
    "        with torch.no_grad():\n",
    "            for features, speakers, labels in tqdm(self.predict_loader, desc=\"Predicting\", leave=False):\n",
    "                features = features.to(self.device)\n",
    "                outputs = self.model(features).squeeze(1)  # 输出为 logits\n",
    "                probs = torch.sigmoid(outputs).cpu().numpy()  # 计算概率\n",
    "                preds = (probs >= self.threshold).astype(int)\n",
    "                self.all_probs.extend(probs.tolist())\n",
    "                # 如果 labels 为 tuple (增强情况)，取第一个作为真实标签\n",
    "                if isinstance(labels, tuple):\n",
    "                    y_a = labels[0].numpy()\n",
    "                    self.all_labels.extend(y_a.tolist())\n",
    "                else:\n",
    "                    self.all_labels.extend(labels.cpu().numpy().tolist())\n",
    "                self.all_preds.extend(preds.tolist())\n",
    "                self.all_speakers.extend(speakers)\n",
    "        print(\"Prediction completed.\")\n",
    "\n",
    "    def compute_eer(self):\n",
    "        \"\"\"\n",
    "        计算 EER（Equal Error Rate）。\n",
    "        如果 y_true 中只有一个类别，则打印警告并返回 NaN。\n",
    "        \"\"\"\n",
    "        y_true = np.array(self.all_labels)\n",
    "        if np.unique(y_true).size < 2:\n",
    "            print(\"Warning: Only one class present in y_true. EER is not defined.\")\n",
    "            return np.nan\n",
    "        # 计算 ROC 曲线\n",
    "        fpr, tpr, _ = roc_curve(y_true, self.all_probs)\n",
    "        fnr = 1 - tpr\n",
    "        abs_diffs = np.abs(fpr - fnr)\n",
    "        if np.isnan(abs_diffs).all():\n",
    "            eer = np.nan\n",
    "        else:\n",
    "            idx_eer = np.nanargmin(abs_diffs)\n",
    "            eer = fpr[idx_eer]\n",
    "        return eer\n",
    "\n",
    "    def evaluate(self):\n",
    "        \"\"\"\n",
    "        计算并打印各项指标：precision, recall, accuracy, f1, AUC, average precision, EER, 混淆矩阵\n",
    "        并绘制 ROC 与 PR 曲线。\n",
    "        如果 y_true 只有一个类别，则 ROC AUC、EER 等指标将返回 NaN，并打印警告。\n",
    "        \"\"\"\n",
    "        y_true = np.array(self.all_labels)\n",
    "        y_pred = np.array(self.all_preds)\n",
    "        y_prob = np.array(self.all_probs)\n",
    "\n",
    "        if np.unique(y_true).size < 2:\n",
    "            print(\"Warning: Only one class present in y_true. Some metrics (ROC AUC, EER) will be set to NaN.\")\n",
    "            auc = np.nan\n",
    "            avg_precision = np.nan\n",
    "            eer = np.nan\n",
    "        else:\n",
    "            auc = roc_auc_score(y_true, y_prob)\n",
    "            avg_precision = average_precision_score(y_true, y_prob)\n",
    "            eer = self.compute_eer()\n",
    "\n",
    "        precision = precision_score(y_true, y_pred, zero_division=0)\n",
    "        recall = recall_score(y_true, y_pred, zero_division=0)\n",
    "        accuracy = accuracy_score(y_true, y_pred)\n",
    "        f1 = f1_score(y_true, y_pred, zero_division=0)\n",
    "        cm = confusion_matrix(y_true, y_pred)\n",
    "\n",
    "        print(\"Evaluation Metrics:\")\n",
    "        print(f\"Accuracy: {accuracy:.4f}\")\n",
    "        print(f\"Precision: {precision:.4f}\")\n",
    "        print(f\"Recall: {recall:.4f}\")\n",
    "        print(f\"F1 Score: {f1:.4f}\")\n",
    "        print(f\"AUC Score: {auc if not np.isnan(auc) else 'NaN'}\")\n",
    "        print(f\"Average Precision: {avg_precision if not np.isnan(avg_precision) else 'NaN'}\")\n",
    "        print(f\"EER: {eer if not np.isnan(eer) else 'NaN'}\")\n",
    "        print(\"Confusion Matrix:\")\n",
    "        print(cm)\n",
    "\n",
    "        # 绘制 ROC 和 PR 曲线，仅在存在两个类别时\n",
    "        if np.unique(y_true).size >= 2:\n",
    "            fpr, tpr, _ = roc_curve(y_true, y_prob)\n",
    "            plt.figure(figsize=(8, 6))\n",
    "            plt.plot(fpr, tpr, label=f'ROC curve (area = {auc:.2f})')\n",
    "            plt.plot([0, 1], [0, 1], 'k--')\n",
    "            plt.xlabel(\"False Positive Rate\")\n",
    "            plt.ylabel(\"True Positive Rate\")\n",
    "            plt.title(\"ROC Curve\")\n",
    "            plt.legend(loc=\"lower right\")\n",
    "            plt.show()\n",
    "\n",
    "            precision_vals, recall_vals, _ = precision_recall_curve(y_true, y_prob)\n",
    "            plt.figure(figsize=(8, 6))\n",
    "            plt.plot(recall_vals, precision_vals, label=f'PR curve (AP = {avg_precision:.2f})')\n",
    "            plt.xlabel(\"Recall\")\n",
    "            plt.ylabel(\"Precision\")\n",
    "            plt.title(\"Precision-Recall Curve\")\n",
    "            plt.legend(loc=\"lower left\")\n",
    "            plt.show()\n",
    "\n",
    "    def per_speaker_errors(self):\n",
    "        \"\"\"\n",
    "        统计不同 speaker 的误分类数和总数。\n",
    "        返回一个字典：{ speaker: (misclassified_count, total_count) }\n",
    "        \"\"\"\n",
    "        speaker_stats = {}\n",
    "        for speaker, true, pred in zip(self.all_speakers, self.all_labels, self.all_preds):\n",
    "            if speaker not in speaker_stats:\n",
    "                speaker_stats[speaker] = [0, 0]  # [error_count, total_count]\n",
    "            speaker_stats[speaker][1] += 1\n",
    "            if true != pred:\n",
    "                speaker_stats[speaker][0] += 1\n",
    "        return speaker_stats\n",
    "\n",
    "    def plot_per_speaker_errors(self):\n",
    "        \"\"\"\n",
    "        绘制不同 speaker 的误分类率条形图。\n",
    "        \"\"\"\n",
    "        stats = self.per_speaker_errors()\n",
    "        speakers = list(stats.keys())\n",
    "        errors = [stats[s][0] for s in speakers]\n",
    "        totals = [stats[s][1] for s in speakers]\n",
    "        error_rates = [e / t if t > 0 else 0 for e, t in zip(errors, totals)]\n",
    "\n",
    "        plt.figure(figsize=(12, 6))\n",
    "        plt.bar(speakers, error_rates)\n",
    "        plt.xlabel(\"Speaker\")\n",
    "        plt.ylabel(\"Error Rate\")\n",
    "        plt.title(\"Error Rate per Speaker\")\n",
    "        plt.xticks(rotation=45, ha='right')\n",
    "        plt.tight_layout()\n",
    "        plt.show()"
   ]
  },
  {
   "cell_type": "code",
   "execution_count": 3,
   "id": "b9c78304-f1bc-4388-93eb-56b113190e4e",
   "metadata": {},
   "outputs": [
    {
     "ename": "NameError",
     "evalue": "name 'NpyLoader' is not defined",
     "output_type": "error",
     "traceback": [
      "\u001B[0;31m---------------------------------------------------------------------------\u001B[0m",
      "\u001B[0;31mNameError\u001B[0m                                 Traceback (most recent call last)",
      "Cell \u001B[0;32mIn[3], line 10\u001B[0m\n\u001B[1;32m      1\u001B[0m Predict_module \u001B[38;5;241m=\u001B[39m PredictDataModule(\n\u001B[1;32m      2\u001B[0m     csv_file\u001B[38;5;241m=\u001B[39m\u001B[38;5;124m\"\u001B[39m\u001B[38;5;124m/home/jupyter/Data/meta_npy.csv\u001B[39m\u001B[38;5;124m\"\u001B[39m, \u001B[38;5;66;03m#--meta_file \u001B[39;00m\n\u001B[1;32m      3\u001B[0m     allowed_set\u001B[38;5;241m=\u001B[39m[\u001B[38;5;124m\"\u001B[39m\u001B[38;5;124mtest\u001B[39m\u001B[38;5;124m\"\u001B[39m], \u001B[38;5;66;03m#训练还是测试\u001B[39;00m\n\u001B[0;32m   (...)\u001B[0m\n\u001B[1;32m      7\u001B[0m     num_workers_dataset\u001B[38;5;241m=\u001B[39m\u001B[38;5;241m0\u001B[39m\n\u001B[1;32m      8\u001B[0m )\n\u001B[0;32m---> 10\u001B[0m \u001B[43mPredict_module\u001B[49m\u001B[38;5;241;43m.\u001B[39;49m\u001B[43msetup\u001B[49m\u001B[43m(\u001B[49m\u001B[43m)\u001B[49m\n\u001B[1;32m     11\u001B[0m predict_loader \u001B[38;5;241m=\u001B[39m Predict_module\u001B[38;5;241m.\u001B[39mget_loader()\n\u001B[1;32m     12\u001B[0m evaluator \u001B[38;5;241m=\u001B[39m ModelEvaluation(trainer\u001B[38;5;241m.\u001B[39mmodel, device, predict_loader, weight_path\u001B[38;5;241m=\u001B[39m\u001B[38;5;124m\"\u001B[39m\u001B[38;5;124mwhisper_pretrained_v1.pt\u001B[39m\u001B[38;5;124m\"\u001B[39m, threshold\u001B[38;5;241m=\u001B[39m\u001B[38;5;241m0.5\u001B[39m)\n",
      "Cell \u001B[0;32mIn[1], line 34\u001B[0m, in \u001B[0;36mPredictDataModule.setup\u001B[0;34m(self)\u001B[0m\n\u001B[1;32m     32\u001B[0m \u001B[38;5;28;01mdef\u001B[39;00m\u001B[38;5;250m \u001B[39m\u001B[38;5;21msetup\u001B[39m(\u001B[38;5;28mself\u001B[39m):\n\u001B[1;32m     33\u001B[0m     \u001B[38;5;66;03m# 1. 从 CSV 加载 npy 文件路径及元数据\u001B[39;00m\n\u001B[0;32m---> 34\u001B[0m     npy_loader \u001B[38;5;241m=\u001B[39m \u001B[43mNpyLoader\u001B[49m(max_workers\u001B[38;5;241m=\u001B[39m\u001B[38;5;28mself\u001B[39m\u001B[38;5;241m.\u001B[39mnum_workers_csv)\n\u001B[1;32m     35\u001B[0m     records \u001B[38;5;241m=\u001B[39m npy_loader\u001B[38;5;241m.\u001B[39mload_audio_info_from_csv(\n\u001B[1;32m     36\u001B[0m         csv_file\u001B[38;5;241m=\u001B[39m\u001B[38;5;28mself\u001B[39m\u001B[38;5;241m.\u001B[39mcsv_file,\n\u001B[1;32m     37\u001B[0m         allowed_set\u001B[38;5;241m=\u001B[39m\u001B[38;5;28mself\u001B[39m\u001B[38;5;241m.\u001B[39mallowed_set,\n\u001B[1;32m     38\u001B[0m         allowed_data_source\u001B[38;5;241m=\u001B[39m\u001B[38;5;28mself\u001B[39m\u001B[38;5;241m.\u001B[39mallowed_data_source\n\u001B[1;32m     39\u001B[0m     )\n\u001B[1;32m     40\u001B[0m     \u001B[38;5;66;03m# 2. 构建 MFCCDataset（预测时不应用数据增强，将 spec_aug_prob 设置为 0）\u001B[39;00m\n",
      "\u001B[0;31mNameError\u001B[0m: name 'NpyLoader' is not defined"
     ]
    }
   ],
   "source": [
    "Predict_module = PredictDataModule(\n",
    "    csv_file=\"/home/jupyter/Data/meta_npy.csv\",  #--meta_file\n",
    "    allowed_set=[\"test\"],  #训练还是测试\n",
    "    allowed_data_source='all',  # ['itw', 'gen', 'LJSpeech', 'vox', 'diffusion-based']\n",
    "    batch_size=128,  #训练batch_size\n",
    "    num_workers_csv=96,  #多线程读取csv的\n",
    "    num_workers_dataset=0\n",
    ")\n",
    "\n",
    "Predict_module.setup()\n",
    "predict_loader = Predict_module.get_loader()\n",
    "evaluator = ModelEvaluation(trainer.model, device, predict_loader, weight_path=\"whisper_pretrained_v1.pt\",\n",
    "                            threshold=0.5)\n",
    "evaluator.predict()\n",
    "evaluator.evaluate()"
   ]
  },
  {
   "cell_type": "code",
   "execution_count": 27,
   "id": "81bf2d70-a35f-428c-9e5f-5a2bedac09ce",
   "metadata": {},
   "outputs": [
    {
     "data": {
      "application/vnd.jupyter.widget-view+json": {
       "model_id": "eff568b643bb457c9a545ddd46c0636e",
       "version_major": 2,
       "version_minor": 0
      },
      "text/plain": [
       "Loading audio info from CSV:   0%|          | 0/39300 [00:00<?, ?it/s]"
      ]
     },
     "metadata": {},
     "output_type": "display_data"
    },
    {
     "data": {
      "application/vnd.jupyter.widget-view+json": {
       "model_id": "395ccf01f6b543c0ab40fd5cb992ffc7",
       "version_major": 2,
       "version_minor": 0
      },
      "text/plain": [
       "Predicting:   0%|          | 0/308 [00:00<?, ?it/s]"
      ]
     },
     "metadata": {},
     "output_type": "display_data"
    },
    {
     "name": "stdout",
     "output_type": "stream",
     "text": [
      "Prediction completed.\n",
      "Warning: Only one class present in y_true. Some metrics (ROC AUC, EER) will be set to NaN.\n",
      "Evaluation Metrics:\n",
      "Accuracy: 0.9882\n",
      "Precision: 0.0000\n",
      "Recall: 0.0000\n",
      "F1 Score: 0.0000\n",
      "AUC Score: NaN\n",
      "Average Precision: NaN\n",
      "EER: NaN\n",
      "Confusion Matrix:\n",
      "[[38837   463]\n",
      " [    0     0]]\n"
     ]
    }
   ],
   "source": [
    "Predict_module = PredictDataModule(\n",
    "    csv_file=\"/home/jupyter/Data/meta_npy.csv\",  #--meta_file\n",
    "    allowed_set=[\"test\"],  #训练还是测试\n",
    "    allowed_data_source=[\"diffusion-based\"],\n",
    "    # ['itw', 'gen', 'LJSpeech', 'vox', 'diffusion-based'] 去掉diffusion-based train的话应该就能得到不太好的eer泛化\n",
    "    batch_size=128,  #训练batch_size\n",
    "    num_workers_csv=96,  #多线程读取csv的\n",
    "    num_workers_dataset=0\n",
    ")\n",
    "\n",
    "Predict_module.setup()\n",
    "predict_loader = Predict_module.get_loader()\n",
    "evaluator = ModelEvaluation(trainer.model, device, predict_loader, weight_path=\"whisper_pretrained_v1.pt\",\n",
    "                            threshold=0.9)\n",
    "evaluator.predict()\n",
    "evaluator.evaluate()"
   ]
  },
  {
   "cell_type": "code",
   "execution_count": 30,
   "id": "174d97d2-21fe-4258-a425-746563f15317",
   "metadata": {},
   "outputs": [
    {
     "data": {
      "application/vnd.jupyter.widget-view+json": {
       "model_id": "ae51bcecc3fe486db406051eee7e27b0",
       "version_major": 2,
       "version_minor": 0
      },
      "text/plain": [
       "Loading audio info from CSV:   0%|          | 0/30315 [00:00<?, ?it/s]"
      ]
     },
     "metadata": {},
     "output_type": "display_data"
    },
    {
     "data": {
      "application/vnd.jupyter.widget-view+json": {
       "model_id": "9e2cacdb2c32411587359d41e0b97d39",
       "version_major": 2,
       "version_minor": 0
      },
      "text/plain": [
       "Predicting:   0%|          | 0/237 [00:00<?, ?it/s]"
      ]
     },
     "metadata": {},
     "output_type": "display_data"
    },
    {
     "name": "stdout",
     "output_type": "stream",
     "text": [
      "Prediction completed.\n",
      "Warning: Only one class present in y_true. Some metrics (ROC AUC, EER) will be set to NaN.\n",
      "Evaluation Metrics:\n",
      "Accuracy: 1.0000\n",
      "Precision: 1.0000\n",
      "Recall: 1.0000\n",
      "F1 Score: 1.0000\n",
      "AUC Score: NaN\n",
      "Average Precision: NaN\n",
      "EER: NaN\n",
      "Confusion Matrix:\n",
      "[[30315]]\n"
     ]
    },
    {
     "name": "stderr",
     "output_type": "stream",
     "text": [
      "/opt/conda/lib/python3.10/site-packages/sklearn/metrics/_classification.py:407: UserWarning: A single label was found in 'y_true' and 'y_pred'. For the confusion matrix to have the correct shape, use the 'labels' parameter to pass all known labels.\n",
      "  warnings.warn(\n"
     ]
    }
   ],
   "source": [
    "Predict_module = PredictDataModule(\n",
    "    csv_file=\"/home/jupyter/Data/meta_npy.csv\",  #--meta_file\n",
    "    allowed_set=[\"test\"],  #训练还是测试\n",
    "    allowed_data_source=[\"vox\"],\n",
    "    # ['itw', 'gen', 'LJSpeech', 'vox', 'diffusion-based'] 去掉diffusion-based train的话应该就能得到不太好的eer泛化\n",
    "    batch_size=128,  #训练batch_size\n",
    "    num_workers_csv=96,  #多线程读取csv的\n",
    "    num_workers_dataset=0\n",
    ")\n",
    "\n",
    "Predict_module.setup()\n",
    "predict_loader = Predict_module.get_loader()\n",
    "evaluator = ModelEvaluation(trainer.model, device, predict_loader, weight_path=\"whisper_pretrained_v1.pt\",\n",
    "                            threshold=0.5)\n",
    "evaluator.predict()\n",
    "evaluator.evaluate()"
   ]
  },
  {
   "cell_type": "code",
   "execution_count": 31,
   "id": "9af243ab-232e-4d8c-becf-f4549f07de5a",
   "metadata": {},
   "outputs": [
    {
     "data": {
      "application/vnd.jupyter.widget-view+json": {
       "model_id": "b497829cd5f94f87b8f0e00d5d7a08a7",
       "version_major": 2,
       "version_minor": 0
      },
      "text/plain": [
       "Loading audio info from CSV:   0%|          | 0/15774 [00:00<?, ?it/s]"
      ]
     },
     "metadata": {},
     "output_type": "display_data"
    },
    {
     "data": {
      "application/vnd.jupyter.widget-view+json": {
       "model_id": "9cf4936146cb438f919777433eec3f5d",
       "version_major": 2,
       "version_minor": 0
      },
      "text/plain": [
       "Predicting:   0%|          | 0/124 [00:00<?, ?it/s]"
      ]
     },
     "metadata": {},
     "output_type": "display_data"
    },
    {
     "name": "stdout",
     "output_type": "stream",
     "text": [
      "Prediction completed.\n",
      "Evaluation Metrics:\n",
      "Accuracy: 0.9434\n",
      "Precision: 0.9138\n",
      "Recall: 0.9942\n",
      "F1 Score: 0.9523\n",
      "AUC Score: 0.9728220342863357\n",
      "Average Precision: 0.962210360489073\n",
      "EER: 0.05683653987369658\n",
      "Confusion Matrix:\n",
      "[[5968  841]\n",
      " [  52 8913]]\n"
     ]
    },
    {
     "data": {
      "image/png": "[encoded data removed]",
      "text/plain": [
       "<Figure size 800x600 with 1 Axes>"
      ]
     },
     "metadata": {},
     "output_type": "display_data"
    },
    {
     "data": {
      "image/png": "[encoded data removed]",
      "text/plain": [
       "<Figure size 800x600 with 1 Axes>"
      ]
     },
     "metadata": {},
     "output_type": "display_data"
    }
   ],
   "source": [
    "Predict_module = PredictDataModule(\n",
    "    csv_file=\"/home/jupyter/Data/meta_npy.csv\",  #--meta_file\n",
    "    allowed_set=[\"test\"],  #训练还是测试\n",
    "    allowed_data_source=[\"itw\"],\n",
    "    # ['itw', 'gen', 'LJSpeech', 'vox', 'diffusion-based'] 去掉diffusion-based train的话应该就能得到不太好的eer泛化\n",
    "    batch_size=128,  #训练batch_size\n",
    "    num_workers_csv=96,  #多线程读取csv的\n",
    "    num_workers_dataset=0\n",
    ")\n",
    "\n",
    "Predict_module.setup()\n",
    "predict_loader = Predict_module.get_loader()\n",
    "evaluator = ModelEvaluation(trainer.model, device, predict_loader, weight_path=\"whisper_pretrained_v1.pt\",\n",
    "                            threshold=0.5)\n",
    "evaluator.predict()\n",
    "evaluator.evaluate()"
   ]
  },
  {
   "cell_type": "code",
   "execution_count": 96,
   "id": "48948589-b8e4-445d-8fd2-7e74fbf66921",
   "metadata": {},
   "outputs": [
    {
     "data": {
      "application/vnd.jupyter.widget-view+json": {
       "model_id": "1bb977c81b1a4263b72ba55f101256a0",
       "version_major": 2,
       "version_minor": 0
      },
      "text/plain": [
       "Loading audio info from CSV:   0%|          | 0/26200 [00:00<?, ?it/s]"
      ]
     },
     "metadata": {},
     "output_type": "display_data"
    },
    {
     "data": {
      "application/vnd.jupyter.widget-view+json": {
       "model_id": "005ebd9f9898489fb32156e03b177ed8",
       "version_major": 2,
       "version_minor": 0
      },
      "text/plain": [
       "Predicting:   0%|          | 0/205 [00:00<?, ?it/s]"
      ]
     },
     "metadata": {},
     "output_type": "display_data"
    },
    {
     "name": "stdout",
     "output_type": "stream",
     "text": [
      "Prediction completed.\n",
      "Warning: Only one class present in y_true. Some metrics (ROC AUC, EER) will be set to NaN.\n",
      "Evaluation Metrics:\n",
      "Accuracy: 0.9045\n",
      "Precision: 0.0000\n",
      "Recall: 0.0000\n",
      "F1 Score: 0.0000\n",
      "AUC Score: NaN\n",
      "Average Precision: NaN\n",
      "EER: NaN\n",
      "Confusion Matrix:\n",
      "[[23698  2502]\n",
      " [    0     0]]\n"
     ]
    }
   ],
   "source": [
    "Predict_module = PredictDataModule(\n",
    "    csv_file=\"/home/jupyter/Data/meta_npy.csv\",  #--meta_file\n",
    "    allowed_set=[\"test\"],  #训练还是测试\n",
    "    allowed_data_source=[\"gen\"],\n",
    "    # ['itw', 'gen', 'LJSpeech', 'vox', 'diffusion-based'] 去掉diffusion-based train的话应该就能得到不太好的eer泛化\n",
    "    batch_size=128,  #训练batch_size\n",
    "    num_workers_csv=96,  #多线程读取csv的\n",
    "    num_workers_dataset=0\n",
    ")\n",
    "\n",
    "Predict_module.setup()\n",
    "predict_loader = Predict_module.get_loader()\n",
    "evaluator = ModelEvaluation(trainer.model, device, predict_loader, weight_path=\"whisper_pretrained_v1.pt\",\n",
    "                            threshold=0.5)\n",
    "evaluator.predict()\n",
    "evaluator.evaluate()"
   ]
  },
  {
   "cell_type": "code",
   "execution_count": 97,
   "id": "8374fe2b-47c1-4dbd-b5eb-677f4365e71b",
   "metadata": {},
   "outputs": [
    {
     "data": {
      "application/vnd.jupyter.widget-view+json": {
       "model_id": "bf2eef06298344d7ae72e617d0f58634",
       "version_major": 2,
       "version_minor": 0
      },
      "text/plain": [
       "Loading audio info from CSV:   0%|          | 0/19409 [00:00<?, ?it/s]"
      ]
     },
     "metadata": {},
     "output_type": "display_data"
    },
    {
     "data": {
      "application/vnd.jupyter.widget-view+json": {
       "model_id": "611216768e5c4f28b38fea6e44dd7e32",
       "version_major": 2,
       "version_minor": 0
      },
      "text/plain": [
       "Predicting:   0%|          | 0/152 [00:00<?, ?it/s]"
      ]
     },
     "metadata": {},
     "output_type": "display_data"
    },
    {
     "name": "stdout",
     "output_type": "stream",
     "text": [
      "Prediction completed.\n",
      "Error computing EER: The function value at x=0.0 is NaN; solver cannot continue.\n",
      "Evaluation Metrics:\n",
      "Accuracy: 0.9981\n",
      "Precision: 0.9976\n",
      "Recall: 0.9976\n",
      "F1 Score: 0.9976\n",
      "AUC Score: 0.9999784923216798\n",
      "Average Precision: 0.999964338206198\n",
      "EER: NaN\n",
      "Confusion Matrix:\n",
      "[[12044    18]\n",
      " [   18  7329]]\n"
     ]
    },
    {
     "name": "stderr",
     "output_type": "stream",
     "text": [
      "/opt/conda/lib/python3.10/site-packages/scipy/interpolate/_interpolate.py:479: RuntimeWarning: divide by zero encountered in divide\n",
      "  slope = (y_hi - y_lo) / (x_hi - x_lo)[:, None]\n",
      "/opt/conda/lib/python3.10/site-packages/scipy/interpolate/_interpolate.py:482: RuntimeWarning: invalid value encountered in multiply\n",
      "  y_new = slope*(x_new - x_lo)[:, None] + y_lo\n"
     ]
    },
    {
     "data": {
      "image/png": "[encoded data removed]",
      "text/plain": [
       "<Figure size 800x600 with 1 Axes>"
      ]
     },
     "metadata": {},
     "output_type": "display_data"
    },
    {
     "data": {
      "image/png": "[encoded data removed]",
      "text/plain": [
       "<Figure size 800x600 with 1 Axes>"
      ]
     },
     "metadata": {},
     "output_type": "display_data"
    }
   ],
   "source": [
    "Predict_module = PredictDataModule(\n",
    "    csv_file=\"/home/jupyter/Data/meta_npy.csv\",  #--meta_file\n",
    "    allowed_set=[\"in-test\"],  #训练还是测试\n",
    "    allowed_data_source='all',\n",
    "    # ['itw', 'gen', 'LJSpeech', 'vox', 'diffusion-based'] 去掉diffusion-based train的话应该就能得到不太好的eer泛化\n",
    "    batch_size=128,  #训练batch_size\n",
    "    num_workers_csv=96,  #多线程读取csv的\n",
    "    num_workers_dataset=0\n",
    ")\n",
    "\n",
    "Predict_module.setup()\n",
    "predict_loader = Predict_module.get_loader()\n",
    "evaluator = ModelEvaluation(trainer.model, device, predict_loader, weight_path=\"whisper_pretrained_v1.pt\",\n",
    "                            threshold=0.5)\n",
    "evaluator.predict()\n",
    "evaluator.evaluate()"
   ]
  },
  {
   "cell_type": "code",
   "execution_count": 33,
   "id": "e15df979-32e4-4a77-98fb-245545cc723d",
   "metadata": {},
   "outputs": [
    {
     "data": {
      "application/vnd.jupyter.widget-view+json": {
       "model_id": "c49c0a750d7c4d91a6fe3fbe2a8ce9c9",
       "version_major": 2,
       "version_minor": 0
      },
      "text/plain": [
       "Loading audio info from CSV:   0%|          | 0/800 [00:00<?, ?it/s]"
      ]
     },
     "metadata": {},
     "output_type": "display_data"
    },
    {
     "data": {
      "application/vnd.jupyter.widget-view+json": {
       "model_id": "26daeb5e1e464711835d31b1bd4c4fcb",
       "version_major": 2,
       "version_minor": 0
      },
      "text/plain": [
       "Predicting:   0%|          | 0/7 [00:00<?, ?it/s]"
      ]
     },
     "metadata": {},
     "output_type": "display_data"
    },
    {
     "name": "stdout",
     "output_type": "stream",
     "text": [
      "Prediction completed.\n",
      "Evaluation Metrics:\n",
      "Accuracy: 0.9900\n",
      "Precision: 0.9852\n",
      "Recall: 1.0000\n",
      "F1 Score: 0.9925\n",
      "AUC Score: 0.9938208394119628\n",
      "Average Precision: 0.9951604689208511\n",
      "EER: 0.018656716417910446\n",
      "Confusion Matrix:\n",
      "[[260   8]\n",
      " [  0 532]]\n"
     ]
    },
    {
     "data": {
      "image/png": "[encoded data removed]",
      "text/plain": [
       "<Figure size 800x600 with 1 Axes>"
      ]
     },
     "metadata": {},
     "output_type": "display_data"
    },
    {
     "data": {
      "image/png": "[encoded data removed]",
      "text/plain": [
       "<Figure size 800x600 with 1 Axes>"
      ]
     },
     "metadata": {},
     "output_type": "display_data"
    }
   ],
   "source": [
    "Predict_module = PredictDataModule(\n",
    "    csv_file=\"/home/jupyter/Data/meta_npy.csv\",  #--meta_file\n",
    "    allowed_set=[\"in-test\"],  #训练还是测试\n",
    "    allowed_data_source=['itw'],\n",
    "    # ['itw', 'gen', 'LJSpeech', 'vox', 'diffusion-based'] 去掉diffusion-based train的话应该就能得到不太好的eer泛化\n",
    "    batch_size=128,  #训练batch_size\n",
    "    num_workers_csv=96,  #多线程读取csv的\n",
    "    num_workers_dataset=0\n",
    ")\n",
    "\n",
    "Predict_module.setup()\n",
    "predict_loader = Predict_module.get_loader()\n",
    "evaluator = ModelEvaluation(trainer.model, device, predict_loader, weight_path=\"whisper_pretrained_v1.pt\",\n",
    "                            threshold=0.5)\n",
    "evaluator.predict()\n",
    "evaluator.evaluate()"
   ]
  },
  {
   "cell_type": "code",
   "execution_count": 34,
   "id": "6817b9ee-ffb5-4b1c-bfe1-7aa6f6554b71",
   "metadata": {},
   "outputs": [
    {
     "data": {
      "application/vnd.jupyter.widget-view+json": {
       "model_id": "2cb2ffa162dd4fb2bf46046b765bef73",
       "version_major": 2,
       "version_minor": 0
      },
      "text/plain": [
       "Loading audio info from CSV:   0%|          | 0/4589 [00:00<?, ?it/s]"
      ]
     },
     "metadata": {},
     "output_type": "display_data"
    },
    {
     "data": {
      "application/vnd.jupyter.widget-view+json": {
       "model_id": "39379dd82e134741afb38ad583fa39e7",
       "version_major": 2,
       "version_minor": 0
      },
      "text/plain": [
       "Predicting:   0%|          | 0/36 [00:00<?, ?it/s]"
      ]
     },
     "metadata": {},
     "output_type": "display_data"
    },
    {
     "name": "stdout",
     "output_type": "stream",
     "text": [
      "Prediction completed.\n",
      "Warning: Only one class present in y_true. Some metrics (ROC AUC, EER) will be set to NaN.\n",
      "Evaluation Metrics:\n",
      "Accuracy: 0.9950\n",
      "Precision: 0.0000\n",
      "Recall: 0.0000\n",
      "F1 Score: 0.0000\n",
      "AUC Score: NaN\n",
      "Average Precision: NaN\n",
      "EER: NaN\n",
      "Confusion Matrix:\n",
      "[[4566   23]\n",
      " [   0    0]]\n"
     ]
    }
   ],
   "source": [
    "Predict_module = PredictDataModule(\n",
    "    csv_file=\"/home/jupyter/Data/meta_npy.csv\",  #--meta_file\n",
    "    allowed_set=[\"in-test\"],  #训练还是测试\n",
    "    allowed_data_source=['gen'],\n",
    "    # ['itw', 'gen', 'LJSpeech', 'vox', 'diffusion-based'] 去掉diffusion-based train的话应该就能得到不太好的eer泛化\n",
    "    batch_size=128,  #训练batch_size\n",
    "    num_workers_csv=96,  #多线程读取csv的\n",
    "    num_workers_dataset=0\n",
    ")\n",
    "\n",
    "Predict_module.setup()\n",
    "predict_loader = Predict_module.get_loader()\n",
    "evaluator = ModelEvaluation(trainer.model, device, predict_loader, weight_path=\"whisper_pretrained_v1.pt\",\n",
    "                            threshold=0.5)\n",
    "evaluator.predict()\n",
    "evaluator.evaluate()"
   ]
  },
  {
   "cell_type": "code",
   "execution_count": 35,
   "id": "c939725d-a67e-4f14-9b60-2defb386e539",
   "metadata": {},
   "outputs": [
    {
     "data": {
      "application/vnd.jupyter.widget-view+json": {
       "model_id": "f98028fc11844cb4a4db6890103e5504",
       "version_major": 2,
       "version_minor": 0
      },
      "text/plain": [
       "Loading audio info from CSV:   0%|          | 0/7205 [00:00<?, ?it/s]"
      ]
     },
     "metadata": {},
     "output_type": "display_data"
    },
    {
     "data": {
      "application/vnd.jupyter.widget-view+json": {
       "model_id": "b93fc22f505946778e5a7309a1f1462e",
       "version_major": 2,
       "version_minor": 0
      },
      "text/plain": [
       "Predicting:   0%|          | 0/57 [00:00<?, ?it/s]"
      ]
     },
     "metadata": {},
     "output_type": "display_data"
    },
    {
     "name": "stdout",
     "output_type": "stream",
     "text": [
      "Prediction completed.\n",
      "Warning: Only one class present in y_true. Some metrics (ROC AUC, EER) will be set to NaN.\n",
      "Evaluation Metrics:\n",
      "Accuracy: 1.0000\n",
      "Precision: 0.0000\n",
      "Recall: 0.0000\n",
      "F1 Score: 0.0000\n",
      "AUC Score: NaN\n",
      "Average Precision: NaN\n",
      "EER: NaN\n",
      "Confusion Matrix:\n",
      "[[7205]]\n"
     ]
    },
    {
     "name": "stderr",
     "output_type": "stream",
     "text": [
      "/opt/conda/lib/python3.10/site-packages/sklearn/metrics/_classification.py:407: UserWarning: A single label was found in 'y_true' and 'y_pred'. For the confusion matrix to have the correct shape, use the 'labels' parameter to pass all known labels.\n",
      "  warnings.warn(\n"
     ]
    }
   ],
   "source": [
    "Predict_module = PredictDataModule(\n",
    "    csv_file=\"/home/jupyter/Data/meta_npy.csv\",  #--meta_file\n",
    "    allowed_set=[\"in-test\"],  #训练还是测试\n",
    "    allowed_data_source=['diffusion-based'],\n",
    "    # ['itw', 'gen', 'LJSpeech', 'vox', 'diffusion-based'] 去掉diffusion-based train的话应该就能得到不太好的eer泛化\n",
    "    batch_size=128,  #训练batch_size\n",
    "    num_workers_csv=96,  #多线程读取csv的\n",
    "    num_workers_dataset=0\n",
    ")\n",
    "\n",
    "Predict_module.setup()\n",
    "predict_loader = Predict_module.get_loader()\n",
    "evaluator = ModelEvaluation(trainer.model, device, predict_loader, weight_path=\"whisper_pretrained_v1.pt\",\n",
    "                            threshold=0.5)\n",
    "evaluator.predict()\n",
    "evaluator.evaluate()"
   ]
  },
  {
   "cell_type": "code",
   "execution_count": 36,
   "id": "da4f46ff-695a-4ca7-b4e9-be89aa38b560",
   "metadata": {},
   "outputs": [
    {
     "data": {
      "application/vnd.jupyter.widget-view+json": {
       "model_id": "7ce6db7867904e9f84b74d12ce3c5ad4",
       "version_major": 2,
       "version_minor": 0
      },
      "text/plain": [
       "Loading audio info from CSV:   0%|          | 0/655 [00:00<?, ?it/s]"
      ]
     },
     "metadata": {},
     "output_type": "display_data"
    },
    {
     "data": {
      "application/vnd.jupyter.widget-view+json": {
       "model_id": "b52a546a27b649fb9e1e8cd6df16d414",
       "version_major": 2,
       "version_minor": 0
      },
      "text/plain": [
       "Predicting:   0%|          | 0/6 [00:00<?, ?it/s]"
      ]
     },
     "metadata": {},
     "output_type": "display_data"
    },
    {
     "name": "stdout",
     "output_type": "stream",
     "text": [
      "Prediction completed.\n",
      "Warning: Only one class present in y_true. Some metrics (ROC AUC, EER) will be set to NaN.\n",
      "Evaluation Metrics:\n",
      "Accuracy: 0.9832\n",
      "Precision: 1.0000\n",
      "Recall: 0.9832\n",
      "F1 Score: 0.9915\n",
      "AUC Score: NaN\n",
      "Average Precision: NaN\n",
      "EER: NaN\n",
      "Confusion Matrix:\n",
      "[[  0   0]\n",
      " [ 11 644]]\n"
     ]
    }
   ],
   "source": [
    "Predict_module = PredictDataModule(\n",
    "    csv_file=\"/home/jupyter/Data/meta_npy.csv\",  #--meta_file\n",
    "    allowed_set=[\"in-test\"],  #训练还是测试\n",
    "    allowed_data_source=['LJSpeech'],\n",
    "    # ['itw', 'gen', 'LJSpeech', 'vox', 'diffusion-based'] 去掉diffusion-based train的话应该就能得到不太好的eer泛化\n",
    "    batch_size=128,  #训练batch_size\n",
    "    num_workers_csv=96,  #多线程读取csv的\n",
    "    num_workers_dataset=0\n",
    ")\n",
    "\n",
    "Predict_module.setup()\n",
    "predict_loader = Predict_module.get_loader()\n",
    "evaluator = ModelEvaluation(trainer.model, device, predict_loader, weight_path=\"whisper_pretrained_v1.pt\",\n",
    "                            threshold=0.5)\n",
    "evaluator.predict()\n",
    "evaluator.evaluate()"
   ]
  },
  {
   "cell_type": "code",
   "execution_count": 37,
   "id": "16be561a-4285-42a8-8ce3-fcab7fa66655",
   "metadata": {},
   "outputs": [
    {
     "data": {
      "application/vnd.jupyter.widget-view+json": {
       "model_id": "9a313bc3288d4c2d8511914e37637ce5",
       "version_major": 2,
       "version_minor": 0
      },
      "text/plain": [
       "Loading audio info from CSV:   0%|          | 0/6160 [00:00<?, ?it/s]"
      ]
     },
     "metadata": {},
     "output_type": "display_data"
    },
    {
     "data": {
      "application/vnd.jupyter.widget-view+json": {
       "model_id": "8a3d6f17acab407491e5d68f731daa7f",
       "version_major": 2,
       "version_minor": 0
      },
      "text/plain": [
       "Predicting:   0%|          | 0/49 [00:00<?, ?it/s]"
      ]
     },
     "metadata": {},
     "output_type": "display_data"
    },
    {
     "name": "stdout",
     "output_type": "stream",
     "text": [
      "Prediction completed.\n",
      "Warning: Only one class present in y_true. Some metrics (ROC AUC, EER) will be set to NaN.\n",
      "Evaluation Metrics:\n",
      "Accuracy: 1.0000\n",
      "Precision: 1.0000\n",
      "Recall: 1.0000\n",
      "F1 Score: 1.0000\n",
      "AUC Score: NaN\n",
      "Average Precision: NaN\n",
      "EER: NaN\n",
      "Confusion Matrix:\n",
      "[[6160]]\n"
     ]
    },
    {
     "name": "stderr",
     "output_type": "stream",
     "text": [
      "/opt/conda/lib/python3.10/site-packages/sklearn/metrics/_classification.py:407: UserWarning: A single label was found in 'y_true' and 'y_pred'. For the confusion matrix to have the correct shape, use the 'labels' parameter to pass all known labels.\n",
      "  warnings.warn(\n"
     ]
    }
   ],
   "source": [
    "Predict_module = PredictDataModule(\n",
    "    csv_file=\"/home/jupyter/Data/meta_npy.csv\",  #--meta_file\n",
    "    allowed_set=[\"in-test\"],  #训练还是测试\n",
    "    allowed_data_source=['vox'],\n",
    "    # ['itw', 'gen', 'LJSpeech', 'vox', 'diffusion-based'] 去掉diffusion-based train的话应该就能得到不太好的eer泛化\n",
    "    batch_size=128,  #训练batch_size\n",
    "    num_workers_csv=96,  #多线程读取csv的\n",
    "    num_workers_dataset=0\n",
    ")\n",
    "\n",
    "Predict_module.setup()\n",
    "predict_loader = Predict_module.get_loader()\n",
    "evaluator = ModelEvaluation(trainer.model, device, predict_loader, weight_path=\"whisper_pretrained_v1.pt\",\n",
    "                            threshold=0.5)\n",
    "evaluator.predict()\n",
    "evaluator.evaluate()"
   ]
  },
  {
   "cell_type": "code",
   "execution_count": null,
   "id": "a0e3ef61-99e9-41be-91cf-3de58ca63fa0",
   "metadata": {},
   "outputs": [],
   "source": []
  }
 ],
 "metadata": {
  "environment": {
   "kernel": "conda-base-py",
   "name": "workbench-notebooks.m128",
   "type": "gcloud",
   "uri": "us-docker.pkg.dev/deeplearning-platform-release/gcr.io/workbench-notebooks:m128"
  },
  "kernelspec": {
   "display_name": "Python 3 (ipykernel) (Local)",
   "language": "python",
   "name": "conda-base-py"
  },
  "language_info": {
   "codemirror_mode": {
    "name": "ipython",
    "version": 3
   },
   "file_extension": ".py",
   "mimetype": "text/x-python",
   "name": "python",
   "nbconvert_exporter": "python",
   "pygments_lexer": "ipython3",
   "version": "3.10.16"
  }
 },
 "nbformat": 4,
 "nbformat_minor": 5
}
