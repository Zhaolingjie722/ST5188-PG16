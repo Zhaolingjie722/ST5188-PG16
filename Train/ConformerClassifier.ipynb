{
 "cells": [
  {
   "cell_type": "markdown",
   "id": "dc884cd9-8459-48ff-9079-f28a42e187c3",
   "metadata": {},
   "source": [
    "# 1.import library"
   ]
  },
  {
   "cell_type": "code",
   "execution_count": 1,
   "id": "8191a106-4b1b-44b8-95a2-a2a5c5fc4137",
   "metadata": {},
   "outputs": [],
   "source": [
    "import cv2\n",
    "import gc\n",
    "import io\n",
    "import librosa\n",
    "import librosa.display\n",
    "import matplotlib.pyplot as plt\n",
    "import numpy as np\n",
    "import pandas as pd\n",
    "import random\n",
    "import tempfile\n",
    "import threading\n",
    "import torch\n",
    "import torch.nn as nn\n",
    "import torch.nn.functional as F\n",
    "import torch.optim as optim\n",
    "import wandb\n",
    "from concurrent.futures import ThreadPoolExecutor, as_completed\n",
    "from scipy.interpolate import interp1d\n",
    "from scipy.optimize import brentq\n",
    "from sklearn.metrics import (roc_curve, recall_score, precision_score, accuracy_score, f1_score, roc_auc_score,\n",
    "                             average_precision_score, confusion_matrix, classification_report, precision_recall_curve)\n",
    "from sklearn.model_selection import GroupKFold\n",
    "from sklearn.model_selection import train_test_split\n",
    "from torch.optim.lr_scheduler import ExponentialLR\n",
    "from torch.utils.data import Dataset, DataLoader, Subset\n",
    "from tqdm.notebook import tqdm"
   ]
  },
  {
   "cell_type": "markdown",
   "id": "c8f15f58-cd40-4d7f-9905-db098eee2598",
   "metadata": {},
   "source": [
    "# 2.NpyLoader"
   ]
  },
  {
   "cell_type": "code",
   "execution_count": 2,
   "id": "3ba33f92-40dd-4926-b9dc-91a39e50d166",
   "metadata": {},
   "outputs": [],
   "source": [
    "class NpyLoader:\n",
    "    \"\"\"\n",
    "    从 CSV 文件中加载音频数据的信息，不读取音频数据本身。\n",
    "    CSV 文件应包含以下字段：\n",
    "      - npy_path: mfcc对应npy文件路径\n",
    "      - data_source: 数据源（例如 \"itw\"）\n",
    "      - speaker: 说话人信息\n",
    "      - Set: 数据集划分（例如 \"train\", \"test\", \"in-test\"）\n",
    "      - label: 分类标签\n",
    "    返回一个列表，每个元素为 (absolute_path, speaker, label)\n",
    "    \"\"\"\n",
    "\n",
    "    def __init__(self, max_workers=96):\n",
    "        self.max_workers = max_workers\n",
    "\n",
    "    def load_audio_info_from_csv(self, csv_file, allowed_set=None, allowed_data_source=\"all\"):\n",
    "        # 读取 CSV 文件\n",
    "        df = pd.read_csv(csv_file)\n",
    "\n",
    "        # 根据 allowed_set 和 allowed_data_source 过滤数据\n",
    "        if allowed_set is not None:\n",
    "            df = df[df[\"Set\"].isin(allowed_set)]\n",
    "        if allowed_data_source != \"all\":\n",
    "            df = df[df[\"data_source\"].isin(allowed_data_source)]\n",
    "\n",
    "        # 内部函数：从一行数据中提取所需信息\n",
    "        def load_info(row):\n",
    "            npy_path = row[\"npy_path\"]\n",
    "            speaker = row[\"speaker\"]\n",
    "            label = int(row[\"label\"])  # 转换为 int 类型\n",
    "            return (npy_path, speaker, label)\n",
    "\n",
    "        records = []\n",
    "        with ThreadPoolExecutor(max_workers=self.max_workers) as executor:\n",
    "            # 提交任务\n",
    "            futures = {executor.submit(load_info, row): idx for idx, row in df.iterrows()}\n",
    "            # 利用 tqdm 显示进度条\n",
    "            for future in tqdm(as_completed(futures), total=len(futures), desc=\"Loading audio info from CSV\"):\n",
    "                result = future.result()\n",
    "                if result is not None:\n",
    "                    records.append(result)\n",
    "        return records"
   ]
  },
  {
   "cell_type": "markdown",
   "id": "95bb03eb-14c5-4270-bc1c-a0e2c07296e1",
   "metadata": {},
   "source": [
    "# 3.Spec-Augmentation"
   ]
  },
  {
   "cell_type": "code",
   "execution_count": 3,
   "id": "3f76ddb1-d0dd-4bb8-9fa8-2879d2dfe2ec",
   "metadata": {},
   "outputs": [],
   "source": [
    "# ---------------------------\n",
    "# SpecAugment 实现：Random TimeMask & Random FreqMask\n",
    "# ---------------------------\n",
    "def random_time_mask(spec, T=100, num_masks=1):\n",
    "    \"\"\"对时域进行随机遮挡\n",
    "    spec: (n_mfcc, frames)\n",
    "    T: 最大遮挡长度\n",
    "    \"\"\"\n",
    "    spec = spec.copy()\n",
    "    num_frames = spec.shape[1]\n",
    "    for _ in range(num_masks):\n",
    "        t = random.randint(0, T)\n",
    "        if num_frames - t > 0:\n",
    "            t0 = random.randint(0, num_frames - t)\n",
    "            spec[:, t0:t0 + t] = 0\n",
    "    return spec\n",
    "\n",
    "\n",
    "def random_freq_mask(spec, F=10, num_masks=1):\n",
    "    \"\"\"对频域进行随机遮挡\n",
    "    spec: (n_mfcc, frames)\n",
    "    F: 最大遮挡频率数量\n",
    "    \"\"\"\n",
    "    spec = spec.copy()\n",
    "    num_mfcc = spec.shape[0]\n",
    "    for _ in range(num_masks):\n",
    "        f = random.randint(0, F)\n",
    "        if num_mfcc - f > 0:\n",
    "            f0 = random.randint(0, num_mfcc - f)\n",
    "            spec[f0:f0 + f, :] = 0\n",
    "    return spec\n",
    "\n",
    "\n",
    "def spec_augment(spec, time_mask_param=30, freq_mask_param=8, num_time_masks=1, num_freq_masks=1):\n",
    "    spec = random_time_mask(spec, T=time_mask_param, num_masks=num_time_masks)\n",
    "    spec = random_freq_mask(spec, F=freq_mask_param, num_masks=num_freq_masks)\n",
    "    return spec\n",
    "\n",
    "\n",
    "# ---------------------------\n",
    "# CutMix 实现\n",
    "# ---------------------------\n",
    "def cutmix_data(x, y, beta=1.0, cutmix_prob=0.2):\n",
    "    \"\"\"\n",
    "    x: (B, C, H, W) batch 的特征图\n",
    "    y: (B,) 标签\n",
    "    返回：如果应用了 CutMix，则返回混合后的 x 和混合标签 (y_a, y_b, lam)\n",
    "    \"\"\"\n",
    "    if random.random() < cutmix_prob:\n",
    "        lam = np.random.beta(beta, beta)\n",
    "        batch_size, C, H, W = x.shape\n",
    "        rand_index = torch.randperm(batch_size)\n",
    "        y_a = y\n",
    "        y_b = y[rand_index]\n",
    "        # 随机生成切块区域\n",
    "        cx = np.random.randint(W)\n",
    "        cy = np.random.randint(H)\n",
    "        cut_w = int(W * np.sqrt(1 - lam))\n",
    "        cut_h = int(H * np.sqrt(1 - lam))\n",
    "        bbx1 = np.clip(cx - cut_w // 2, 0, W)\n",
    "        bby1 = np.clip(cy - cut_h // 2, 0, H)\n",
    "        bbx2 = np.clip(cx + cut_w // 2, 0, W)\n",
    "        bby2 = np.clip(cy + cut_h // 2, 0, H)\n",
    "        x[:, :, bby1:bby2, bbx1:bbx2] = x[rand_index, :, bby1:bby2, bbx1:bbx2]\n",
    "        lam = 1 - ((bbx2 - bbx1) * (bby2 - bby1) / (W * H))\n",
    "        return x, y_a, y_b, lam\n",
    "    else:\n",
    "        return x, y, None, None\n",
    "\n",
    "\n",
    "# ---------------------------\n",
    "# MixUp 实现\n",
    "# ---------------------------\n",
    "def mixup_data(x, y, alpha=1.0, mixup_prob=0.2):\n",
    "    \"\"\"\n",
    "    x: (B, C, H, W)\n",
    "    y: (B,) 标签\n",
    "    返回混合后的特征及混合标签 (y_a, y_b, lam)\n",
    "    \"\"\"\n",
    "    if random.random() < mixup_prob:\n",
    "        lam = np.random.beta(alpha, alpha)\n",
    "        batch_size = x.size(0)\n",
    "        index = torch.randperm(batch_size)\n",
    "        mixed_x = lam * x + (1 - lam) * x[index, :]\n",
    "        y_a = y\n",
    "        y_b = y[index]\n",
    "        return mixed_x, y_a, y_b, lam\n",
    "    else:\n",
    "        return x, y, None, None\n",
    "\n",
    "\n",
    "# ---------------------------\n",
    "# 自定义 collate 函数，结合 CutMix 和 MixUp 增强技术\n",
    "# ---------------------------average_precision_score\n",
    "def custom_collate_fn(batch, cutmix_prob=0.1, mixup_prob=0.1):\n",
    "    features, speakers, labels = zip(*batch)\n",
    "    features = torch.stack(features, dim=0)\n",
    "    labels = torch.tensor([int(l) for l in labels], dtype=torch.long)\n",
    "    # 随机选择增强方式\n",
    "    aug_choice = random.choice(['cutmix', 'mixup', 'none'])\n",
    "    if aug_choice == 'cutmix':\n",
    "        features, y_a, y_b, lam = cutmix_data(features, labels, cutmix_prob=cutmix_prob)\n",
    "        return features, speakers, (y_a, y_b, lam)\n",
    "    elif aug_choice == 'mixup':\n",
    "        features, y_a, y_b, lam = mixup_data(features, labels, mixup_prob=mixup_prob)\n",
    "        return features, speakers, (y_a, y_b, lam)\n",
    "    else:\n",
    "        return features, speakers, labels"
   ]
  },
  {
   "cell_type": "markdown",
   "id": "ee93377f-3365-4e3b-8f34-69cf0a0056ad",
   "metadata": {},
   "source": [
    "# 4.MFCCDataset"
   ]
  },
  {
   "cell_type": "code",
   "execution_count": 4,
   "id": "2cea11dd-ccdc-45d7-afa9-08add8ce09f2",
   "metadata": {},
   "outputs": [],
   "source": [
    "class MFCCDataset(Dataset):\n",
    "    def __init__(self, records, spec_aug_prob=0.2):\n",
    "        \"\"\"\n",
    "        :param records: list，每个元素为 (npy_path, speaker, label)\n",
    "        :param spec_aug_prob: 应用 SpecAugment 的概率（例如 0.2 表示 20% 的样本进行数据增强）\n",
    "        \"\"\"\n",
    "        self.records = records\n",
    "        self.spec_aug_prob = spec_aug_prob\n",
    "\n",
    "        # 用于缓存已加载的 npy 数据，避免重复读取\n",
    "        self.cache = {}\n",
    "        self.lock = threading.Lock()\n",
    "\n",
    "    def __len__(self):\n",
    "        return len(self.records)\n",
    "\n",
    "    def __getitem__(self, idx):\n",
    "        # 记录格式：(npy_path, speaker, label)\n",
    "        npy_path, speaker, label = self.records[idx]\n",
    "        with self.lock:\n",
    "            if npy_path in self.cache:\n",
    "                return self.cache[npy_path]\n",
    "        try:\n",
    "            # 直接加载预先保存好的 npy 文件\n",
    "            mfcc = np.load(npy_path)\n",
    "        except Exception as e:\n",
    "            print(f\"Error loading {npy_path}: {e}\")\n",
    "            return None\n",
    "\n",
    "        # 可选：随机以一定概率应用 SpecAugment 数据增强\n",
    "        if random.random() < self.spec_aug_prob:\n",
    "            mfcc = spec_augment(mfcc, time_mask_param=100, freq_mask_param=10)\n",
    "\n",
    "        # 如果 npy 文件存储的是 (n_mfcc, target_frames)，增加 channel 维度，变为 (1, n_mfcc, target_frames)\n",
    "        if mfcc.ndim == 2:\n",
    "            mfcc = np.expand_dims(mfcc, axis=0)\n",
    "\n",
    "        mfcc_tensor = torch.tensor(mfcc, dtype=torch.float32)\n",
    "        label_tensor = torch.tensor(label, dtype=torch.long)\n",
    "        item = (mfcc_tensor, speaker, label_tensor)\n",
    "\n",
    "        # 缓存加载结果\n",
    "        with self.lock:\n",
    "            self.cache[npy_path] = item\n",
    "        return item\n",
    "\n",
    "    def get_group_splits(self, n_splits=5):\n",
    "        \"\"\"\n",
    "        使用 GroupKFold 根据 speaker 分组，返回一个列表，每个元素为 (train_indices, valid_indices)\n",
    "        \"\"\"\n",
    "        indices = np.arange(len(self))\n",
    "        groups = [record[1] for record in self.records]  # 根据 speaker 分组\n",
    "        gkf = GroupKFold(n_splits=n_splits)\n",
    "        splits = list(gkf.split(indices, groups=groups))\n",
    "        return splits"
   ]
  },
  {
   "cell_type": "markdown",
   "id": "a7ad5526-8f62-4fe8-b3ab-15528046053f",
   "metadata": {},
   "source": [
    "# 5.Build Conformer"
   ]
  },
  {
   "cell_type": "code",
   "execution_count": 5,
   "id": "4bdba401-4c97-40f9-af1a-67b14040b721",
   "metadata": {},
   "outputs": [],
   "source": [
    "# ----------------------------\n",
    "# Simplified Feed Forward Module\n",
    "# ----------------------------\n",
    "class FeedForwardModule(nn.Module):\n",
    "    def __init__(self, d_model, d_ff, dropout=0.05):\n",
    "        super(FeedForwardModule, self).__init__()\n",
    "        self.ff = nn.Sequential(\n",
    "            nn.Linear(d_model, d_ff),\n",
    "            nn.ReLU(),\n",
    "            nn.Dropout(dropout),\n",
    "            nn.Linear(d_ff, d_model),\n",
    "            nn.Dropout(dropout)\n",
    "        )\n",
    "\n",
    "    def forward(self, x):\n",
    "        return self.ff(x)\n",
    "\n",
    "\n",
    "# ----------------------------\n",
    "# Simplified Multi-Head Self-Attention Module\n",
    "# ----------------------------\n",
    "class MultiHeadSelfAttention(nn.Module):\n",
    "    def __init__(self, d_model, num_heads, dropout=0.05):\n",
    "        super(MultiHeadSelfAttention, self).__init__()\n",
    "        self.mha = nn.MultiheadAttention(embed_dim=d_model, num_heads=num_heads, dropout=dropout, batch_first=True)\n",
    "\n",
    "    def forward(self, x):\n",
    "        attn_output, _ = self.mha(x, x, x)\n",
    "        return attn_output\n",
    "\n",
    "\n",
    "# ----------------------------\n",
    "# Simplified Convolution Module（kernel_size 调整为 7）\n",
    "# ----------------------------\n",
    "class ConvolutionModule(nn.Module):\n",
    "    def __init__(self, d_model, kernel_size=7, dropout=0.05):\n",
    "        super(ConvolutionModule, self).__init__()\n",
    "        self.layer_norm = nn.LayerNorm(d_model)\n",
    "        self.pointwise_conv1 = nn.Conv1d(d_model, 2 * d_model, kernel_size=1)\n",
    "        self.glu = nn.GLU(dim=1)\n",
    "        self.depthwise_conv = nn.Conv1d(d_model, d_model, kernel_size=kernel_size,\n",
    "                                        groups=d_model, padding=(kernel_size - 1) // 2)\n",
    "        self.batch_norm = nn.BatchNorm1d(d_model)\n",
    "        self.pointwise_conv2 = nn.Conv1d(d_model, d_model, kernel_size=1)\n",
    "        self.dropout = nn.Dropout(dropout)\n",
    "\n",
    "    def forward(self, x):\n",
    "        # x: (B, T, d_model)\n",
    "        residual = x\n",
    "        x = self.layer_norm(x)\n",
    "        x = x.transpose(1, 2)  # -> (B, d_model, T)\n",
    "        x = self.pointwise_conv1(x)\n",
    "        x = self.glu(x)  # -> (B, d_model, T)\n",
    "        x = self.depthwise_conv(x)\n",
    "        x = self.batch_norm(x)\n",
    "        x = F.relu(x)\n",
    "        x = self.pointwise_conv2(x)\n",
    "        x = self.dropout(x)\n",
    "        x = x.transpose(1, 2)  # -> (B, T, d_model)\n",
    "        return x + residual\n",
    "\n",
    "\n",
    "# ----------------------------\n",
    "# Simplified Conformer Block (仅 1 层)\n",
    "# ----------------------------\n",
    "class ConformerBlock(nn.Module):\n",
    "    def __init__(self, d_model, d_ff, num_heads, dropout=0.05, kernel_size=7):\n",
    "        super(ConformerBlock, self).__init__()\n",
    "        self.ff_module1 = FeedForwardModule(d_model, d_ff, dropout)\n",
    "        self.self_attn = MultiHeadSelfAttention(d_model, num_heads, dropout)\n",
    "        self.conv_module = ConvolutionModule(d_model, kernel_size, dropout)\n",
    "        self.ff_module2 = FeedForwardModule(d_model, d_ff, dropout)\n",
    "        self.layer_norm = nn.LayerNorm(d_model)\n",
    "\n",
    "    def forward(self, x):\n",
    "        x = x + 0.5 * self.ff_module1(x)\n",
    "        x = x + self.self_attn(x)\n",
    "        x = x + self.conv_module(x)\n",
    "        x = x + 0.5 * self.ff_module2(x)\n",
    "        x = self.layer_norm(x)\n",
    "        return x\n",
    "\n",
    "\n",
    "# ----------------------------\n",
    "# Simplified Conformer Network\n",
    "# ----------------------------\n",
    "class Conformer(nn.Module):\n",
    "    def __init__(self, input_dim=40, d_model=64, d_ff=96, num_heads=2, num_layers=1,\n",
    "                 dropout=0.05, kernel_size=7, num_classes=1):\n",
    "        \"\"\"\n",
    "        :param input_dim: 输入特征维度（例如 40，对应 MFCC 维度）\n",
    "        :param d_model: 投影后的模型维度（例如 64）\n",
    "        :param d_ff: 前馈网络隐藏层维度（例如 96）\n",
    "        :param num_heads: 多头自注意力头数（例如 2）\n",
    "        :param num_layers: Conformer Block 层数（这里设置为 1）\n",
    "        :param num_classes: 输出类别数（例如二分类时为 1）\n",
    "        \"\"\"\n",
    "        super(Conformer, self).__init__()\n",
    "        # 输入投影层：将 40 维输入映射到 d_model（64 维）\n",
    "        self.input_linear = nn.Linear(input_dim, d_model)\n",
    "        # 仅堆叠一层 Conformer Block\n",
    "        self.conformer_layers = nn.ModuleList([\n",
    "            ConformerBlock(d_model, d_ff, num_heads, dropout, kernel_size) for _ in range(num_layers)\n",
    "        ])\n",
    "        # 全局平均池化（按时间轴平均）\n",
    "        self.pool = nn.AdaptiveAvgPool1d(1)\n",
    "        # 全连接层输出类别\n",
    "        self.fc = nn.Linear(d_model, num_classes)\n",
    "\n",
    "    def forward(self, x):\n",
    "        # 输入 x 的形状为 (B, 1, 40, 400) —— 40为特征维度，400为时间步数\n",
    "        if x.dim() == 4:\n",
    "            x = x.squeeze(1)  # -> (B, 40, 400)\n",
    "        # 转置为 (B, T, input_dim)，即 (B, 400, 40)\n",
    "        x = x.transpose(1, 2)\n",
    "        # 投影到 d_model 维度 -> (B, 400, 64)\n",
    "        x = self.input_linear(x)\n",
    "        # 通过单层 Conformer Block\n",
    "        for layer in self.conformer_layers:\n",
    "            x = layer(x)\n",
    "        # 转置为 (B, d_model, T) -> (B, 64, 400)\n",
    "        x = x.transpose(1, 2)\n",
    "        x = self.pool(x)  # -> (B, 64, 1)\n",
    "        x = x.squeeze(-1)  # -> (B, 64)\n",
    "        x = self.fc(x)  # -> (B, num_classes)\n",
    "        return x\n"
   ]
  },
  {
   "cell_type": "code",
   "execution_count": 21,
   "id": "5a4cd256-f5c6-45bf-8537-b57ad654aede",
   "metadata": {
    "scrolled": true
   },
   "outputs": [
    {
     "name": "stdout",
     "output_type": "stream",
     "text": [
      "--device_available: cuda--\n",
      "----------------------------------------------------------------\n",
      "        Layer (type)               Output Shape         Param #\n",
      "================================================================\n",
      "            Linear-1              [-1, 400, 32]           1,312\n",
      "            Linear-2              [-1, 400, 64]           2,112\n",
      "              ReLU-3              [-1, 400, 64]               0\n",
      "           Dropout-4              [-1, 400, 64]               0\n",
      "            Linear-5              [-1, 400, 32]           2,080\n",
      "           Dropout-6              [-1, 400, 32]               0\n",
      " FeedForwardModule-7              [-1, 400, 32]               0\n",
      "MultiheadAttention-8  [[-1, 400, 32], [-1, 400, 400]]               0\n",
      "MultiHeadSelfAttention-9              [-1, 400, 32]               0\n",
      "        LayerNorm-10              [-1, 400, 32]              64\n",
      "           Conv1d-11              [-1, 64, 400]           2,112\n",
      "              GLU-12              [-1, 32, 400]               0\n",
      "           Conv1d-13              [-1, 32, 400]             256\n",
      "      BatchNorm1d-14              [-1, 32, 400]              64\n",
      "           Conv1d-15              [-1, 32, 400]           1,056\n",
      "          Dropout-16              [-1, 32, 400]               0\n",
      "ConvolutionModule-17              [-1, 400, 32]               0\n",
      "           Linear-18              [-1, 400, 64]           2,112\n",
      "             ReLU-19              [-1, 400, 64]               0\n",
      "          Dropout-20              [-1, 400, 64]               0\n",
      "           Linear-21              [-1, 400, 32]           2,080\n",
      "          Dropout-22              [-1, 400, 32]               0\n",
      "FeedForwardModule-23              [-1, 400, 32]               0\n",
      "        LayerNorm-24              [-1, 400, 32]              64\n",
      "   ConformerBlock-25              [-1, 400, 32]               0\n",
      "           Linear-26              [-1, 400, 64]           2,112\n",
      "             ReLU-27              [-1, 400, 64]               0\n",
      "          Dropout-28              [-1, 400, 64]               0\n",
      "           Linear-29              [-1, 400, 32]           2,080\n",
      "          Dropout-30              [-1, 400, 32]               0\n",
      "FeedForwardModule-31              [-1, 400, 32]               0\n",
      "MultiheadAttention-32  [[-1, 400, 32], [-1, 400, 400]]               0\n",
      "MultiHeadSelfAttention-33              [-1, 400, 32]               0\n",
      "        LayerNorm-34              [-1, 400, 32]              64\n",
      "           Conv1d-35              [-1, 64, 400]           2,112\n",
      "              GLU-36              [-1, 32, 400]               0\n",
      "           Conv1d-37              [-1, 32, 400]             256\n",
      "      BatchNorm1d-38              [-1, 32, 400]              64\n",
      "           Conv1d-39              [-1, 32, 400]           1,056\n",
      "          Dropout-40              [-1, 32, 400]               0\n",
      "ConvolutionModule-41              [-1, 400, 32]               0\n",
      "           Linear-42              [-1, 400, 64]           2,112\n",
      "             ReLU-43              [-1, 400, 64]               0\n",
      "          Dropout-44              [-1, 400, 64]               0\n",
      "           Linear-45              [-1, 400, 32]           2,080\n",
      "          Dropout-46              [-1, 400, 32]               0\n",
      "FeedForwardModule-47              [-1, 400, 32]               0\n",
      "        LayerNorm-48              [-1, 400, 32]              64\n",
      "   ConformerBlock-49              [-1, 400, 32]               0\n",
      "           Linear-50              [-1, 400, 64]           2,112\n",
      "             ReLU-51              [-1, 400, 64]               0\n",
      "          Dropout-52              [-1, 400, 64]               0\n",
      "           Linear-53              [-1, 400, 32]           2,080\n",
      "          Dropout-54              [-1, 400, 32]               0\n",
      "FeedForwardModule-55              [-1, 400, 32]               0\n",
      "MultiheadAttention-56  [[-1, 400, 32], [-1, 400, 400]]               0\n",
      "MultiHeadSelfAttention-57              [-1, 400, 32]               0\n",
      "        LayerNorm-58              [-1, 400, 32]              64\n",
      "           Conv1d-59              [-1, 64, 400]           2,112\n",
      "              GLU-60              [-1, 32, 400]               0\n",
      "           Conv1d-61              [-1, 32, 400]             256\n",
      "      BatchNorm1d-62              [-1, 32, 400]              64\n",
      "           Conv1d-63              [-1, 32, 400]           1,056\n",
      "          Dropout-64              [-1, 32, 400]               0\n",
      "ConvolutionModule-65              [-1, 400, 32]               0\n",
      "           Linear-66              [-1, 400, 64]           2,112\n",
      "             ReLU-67              [-1, 400, 64]               0\n",
      "          Dropout-68              [-1, 400, 64]               0\n",
      "           Linear-69              [-1, 400, 32]           2,080\n",
      "          Dropout-70              [-1, 400, 32]               0\n",
      "FeedForwardModule-71              [-1, 400, 32]               0\n",
      "        LayerNorm-72              [-1, 400, 32]              64\n",
      "   ConformerBlock-73              [-1, 400, 32]               0\n",
      "           Linear-74              [-1, 400, 64]           2,112\n",
      "             ReLU-75              [-1, 400, 64]               0\n",
      "          Dropout-76              [-1, 400, 64]               0\n",
      "           Linear-77              [-1, 400, 32]           2,080\n",
      "          Dropout-78              [-1, 400, 32]               0\n",
      "FeedForwardModule-79              [-1, 400, 32]               0\n",
      "MultiheadAttention-80  [[-1, 400, 32], [-1, 400, 400]]               0\n",
      "MultiHeadSelfAttention-81              [-1, 400, 32]               0\n",
      "        LayerNorm-82              [-1, 400, 32]              64\n",
      "           Conv1d-83              [-1, 64, 400]           2,112\n",
      "              GLU-84              [-1, 32, 400]               0\n",
      "           Conv1d-85              [-1, 32, 400]             256\n",
      "      BatchNorm1d-86              [-1, 32, 400]              64\n",
      "           Conv1d-87              [-1, 32, 400]           1,056\n",
      "          Dropout-88              [-1, 32, 400]               0\n",
      "ConvolutionModule-89              [-1, 400, 32]               0\n",
      "           Linear-90              [-1, 400, 64]           2,112\n",
      "             ReLU-91              [-1, 400, 64]               0\n",
      "          Dropout-92              [-1, 400, 64]               0\n",
      "           Linear-93              [-1, 400, 32]           2,080\n",
      "          Dropout-94              [-1, 400, 32]               0\n",
      "FeedForwardModule-95              [-1, 400, 32]               0\n",
      "        LayerNorm-96              [-1, 400, 32]              64\n",
      "   ConformerBlock-97              [-1, 400, 32]               0\n",
      "AdaptiveAvgPool1d-98                [-1, 32, 1]               0\n",
      "           Linear-99                    [-1, 1]              33\n",
      "================================================================\n",
      "Total params: 49,345\n",
      "Trainable params: 49,345\n",
      "Non-trainable params: 0\n",
      "----------------------------------------------------------------\n",
      "Input size (MB): 0.06\n",
      "Forward/backward pass size (MB): 62488.18\n",
      "Params size (MB): 0.19\n",
      "Estimated Total Size (MB): 62488.43\n",
      "----------------------------------------------------------------\n"
     ]
    }
   ],
   "source": [
    "from torchsummary import summary\n",
    "\n",
    "device = torch.device(\"cuda\" if torch.cuda.is_available() else \"cpu\")\n",
    "print(f\"--device_available: {device}--\")\n",
    "\n",
    "model = Conformer(input_dim=40, d_model=32, d_ff=64, num_heads=4, num_layers=4,\n",
    "                  dropout=0.1, kernel_size=7, num_classes=1).to(device)\n",
    "summary(model, input_size=(1, 40, 400))"
   ]
  },
  {
   "cell_type": "markdown",
   "id": "3bfb6ed4-c36b-4622-97d5-aebe7a8f3de7",
   "metadata": {},
   "source": [
    "# 6.ConformerTrainer"
   ]
  },
  {
   "cell_type": "code",
   "execution_count": 6,
   "id": "5a060a1c-905c-47c7-b7c4-535a4c23810e",
   "metadata": {},
   "outputs": [],
   "source": [
    "class ConformerTrainer:\n",
    "    \"\"\"\n",
    "    Trainer class that integrates model definition, training, early stopping, checkpointing, and wandb logging.\n",
    "    Uses the Conformer model for training.\n",
    "    \"\"\"\n",
    "\n",
    "    def __init__(self, train_dataloader=None, val_dataloader=None, device=None, lr=0.0001, patience=10, lr_gamma=0.9,\n",
    "                 checkpoint_path=\"Conformer_best.pt\", project_name=\"Conformer_Project\"):\n",
    "        self.train_dataloader = train_dataloader\n",
    "        self.val_dataloader = val_dataloader\n",
    "        self.device = device if device else torch.device(\"cuda\" if torch.cuda.is_available() else \"cpu\")\n",
    "        self.checkpoint_path = checkpoint_path\n",
    "        self.patience = patience\n",
    "\n",
    "        # Using the Conformer model, assuming input dimension is 40 and number of output classes is 1 (binary classification)\n",
    "        # self.model = Conformer(input_dim=40, d_model=128, d_ff=256, num_heads=4, num_layers=4,\n",
    "        #                         dropout=0.1, kernel_size=31, num_classes=1).to(self.device)\n",
    "\n",
    "        self.model = Conformer(input_dim=40, d_model=32, d_ff=64, num_heads=4, num_layers=6,\n",
    "                               dropout=0.1, kernel_size=7, num_classes=1).to(device)  #411\n",
    "\n",
    "        # self.model = Conformer(input_dim=40, d_model=48, d_ff=96, num_heads=6, num_layers=6, \n",
    "        #                           dropout=0.05, kernel_size=7, num_classes=1).to(device) #412\n",
    "\n",
    "        # Define loss function and optimizer using BCEWithLogitsLoss (which includes sigmoid)\n",
    "        self.criterion = nn.BCEWithLogitsLoss()\n",
    "        self.optimizer = optim.Adam(self.model.parameters(), lr=lr)\n",
    "\n",
    "        # Set up the ExponentialLR scheduler\n",
    "        self.scheduler = ExponentialLR(self.optimizer, gamma=lr_gamma)\n",
    "\n",
    "        # 初始化 wandb\n",
    "        wandb.init(project=project_name)\n",
    "        wandb.watch(self.model, log=\"all\")\n",
    "\n",
    "        # Variables for early stopping\n",
    "        self.best_val_loss = float('inf')\n",
    "        self.no_improve_count = 0\n",
    "\n",
    "    def train_one_epoch(self):\n",
    "        self.model.train()\n",
    "        running_loss = 0.0\n",
    "        running_correct = 0\n",
    "        total_samples = 0\n",
    "\n",
    "        progress_bar = tqdm(self.train_dataloader, desc=\"Training\", leave=False)\n",
    "        for features, speakers, labels in progress_bar:\n",
    "            features = features.to(self.device)\n",
    "\n",
    "            self.optimizer.zero_grad()\n",
    "            outputs = self.model(features).squeeze(1)  # outputs shape: (B,)\n",
    "\n",
    "            # 判断是否应用了增强\n",
    "            if isinstance(labels, tuple):\n",
    "                # labels 为 (y_a, y_b, lam)\n",
    "                y_a, y_b, lam = labels\n",
    "                # 如果增强结果未真正应用（例如 y_b is None），则直接使用 y_a 作为标签\n",
    "                if y_b is None:\n",
    "                    labels_tensor = y_a.to(self.device).float()\n",
    "                    loss = self.criterion(outputs, labels_tensor)\n",
    "                    preds = (torch.sigmoid(outputs) >= 0.5).long()\n",
    "                    batch_correct = (preds == labels_tensor.long()).sum().item()\n",
    "                    batch_size = labels_tensor.size(0)\n",
    "                else:\n",
    "                    y_a = y_a.to(self.device).float()\n",
    "                    y_b = y_b.to(self.device).float()\n",
    "                    loss = lam * self.criterion(outputs, y_a) + (1 - lam) * self.criterion(outputs, y_b)\n",
    "                    # 对于准确率这里简单使用 y_a 作为参考\n",
    "                    preds = (torch.sigmoid(outputs) >= 0.5).long()\n",
    "                    batch_correct = (preds == y_a.long()).sum().item()\n",
    "                    batch_size = y_a.size(0)\n",
    "            else:\n",
    "                labels = labels.to(self.device).float()\n",
    "                loss = self.criterion(outputs, labels)\n",
    "                preds = (torch.sigmoid(outputs) >= 0.5).long()\n",
    "                batch_correct = (preds == labels.long()).sum().item()\n",
    "                batch_size = labels.size(0)\n",
    "\n",
    "            loss.backward()\n",
    "            self.optimizer.step()\n",
    "\n",
    "            running_loss += loss.item() * batch_size\n",
    "            running_correct += batch_correct\n",
    "            total_samples += batch_size\n",
    "            progress_bar.set_postfix(loss=loss.item())\n",
    "\n",
    "        epoch_loss = running_loss / total_samples\n",
    "        epoch_acc = running_correct / total_samples\n",
    "        return epoch_loss, epoch_acc\n",
    "\n",
    "    def validate_one_epoch(self):\n",
    "        if self.val_dataloader is None:\n",
    "            return None, None\n",
    "\n",
    "        self.model.eval()\n",
    "        running_loss = 0.0\n",
    "        running_correct = 0\n",
    "        total_samples = 0\n",
    "\n",
    "        progress_bar = tqdm(self.val_dataloader, desc=\"Validating\", leave=False)\n",
    "        with torch.no_grad():\n",
    "            for features, speakers, labels in progress_bar:\n",
    "                features = features.to(self.device)\n",
    "                # 方法2：在验证中判断 labels 是否为 tuple，若是，则直接取 y_a 作为标签\n",
    "                if isinstance(labels, tuple):\n",
    "                    y_a, _, _ = labels\n",
    "                    labels_tensor = y_a.to(self.device).float()\n",
    "                else:\n",
    "                    labels_tensor = labels.to(self.device).float()\n",
    "\n",
    "                outputs = self.model(features).squeeze(1)\n",
    "                loss = self.criterion(outputs, labels_tensor)\n",
    "                running_loss += loss.item() * labels_tensor.size(0)\n",
    "\n",
    "                preds = (torch.sigmoid(outputs) >= 0.5).long()\n",
    "                running_correct += (preds == labels_tensor.long()).sum().item()\n",
    "                total_samples += labels_tensor.size(0)\n",
    "                progress_bar.set_postfix(loss=loss.item())\n",
    "\n",
    "        val_loss = running_loss / total_samples\n",
    "        val_acc = running_correct / total_samples\n",
    "        return val_loss, val_acc\n",
    "\n",
    "    def save_model(self, filepath):\n",
    "        \"\"\"保存当前模型参数到指定文件\"\"\"\n",
    "        torch.save(self.model.state_dict(), filepath)\n",
    "        print(f\"Model saved to {filepath}\")\n",
    "\n",
    "    def load_model(self, filepath):\n",
    "        \"\"\"加载模型参数\"\"\"\n",
    "        self.model.load_state_dict(torch.load(filepath, map_location=self.device))\n",
    "        self.model.to(self.device)\n",
    "        print(f\"Model loaded from {filepath}\")\n",
    "\n",
    "    def predict(self, test_dataloader):\n",
    "        \"\"\"\n",
    "        对测试数据进行预测，返回预测结果列表\n",
    "        \"\"\"\n",
    "        self.model.eval()\n",
    "        predictions = []\n",
    "        with torch.no_grad():\n",
    "            for features, _, _ in test_dataloader:\n",
    "                features = features.to(self.device)\n",
    "                outputs = self.model(features).squeeze(1)\n",
    "                preds = (torch.sigmoid(outputs) >= 0.5).long().cpu().numpy()\n",
    "                predictions.extend(preds)\n",
    "        return predictions\n",
    "\n",
    "    def fit(self, num_epochs=20):\n",
    "        for epoch in range(num_epochs):\n",
    "            train_loss, train_acc = self.train_one_epoch()\n",
    "            val_loss, val_acc = self.validate_one_epoch()\n",
    "\n",
    "            if val_loss is not None:\n",
    "                print(\n",
    "                    f\"Epoch [{epoch + 1}/{num_epochs}] | Train Loss: {train_loss:.4f}, Train Acc: {train_acc:.4f} | Val Loss: {val_loss:.4f}, Val Acc: {val_acc:.4f}\")\n",
    "            else:\n",
    "                print(f\"Epoch [{epoch + 1}/{num_epochs}] | Train Loss: {train_loss:.4f}, Train Acc: {train_acc:.4f}\")\n",
    "\n",
    "            # 若验证 loss 改进，则保存最佳模型，并重置未改进计数器；否则累计未改进轮数\n",
    "            if val_loss is not None:\n",
    "                if val_loss < self.best_val_loss:\n",
    "                    self.best_val_loss = val_loss\n",
    "                    self.no_improve_count = 0\n",
    "                    self.save_model(self.checkpoint_path)\n",
    "                else:\n",
    "                    self.no_improve_count += 1\n",
    "                    print(f\"No improvement count: {self.no_improve_count}/{self.patience}\")\n",
    "                    if self.no_improve_count >= self.patience:\n",
    "                        print(\"Early stopping triggered.\")\n",
    "                        break\n",
    "\n",
    "            log_dict = {\n",
    "                \"train_loss\": train_loss,\n",
    "                \"train_acc\": train_acc,\n",
    "                \"epoch\": epoch + 1\n",
    "            }\n",
    "            if val_loss is not None:\n",
    "                log_dict[\"val_loss\"] = val_loss\n",
    "                log_dict[\"val_acc\"] = val_acc\n",
    "\n",
    "            wandb.log(log_dict)\n"
   ]
  },
  {
   "cell_type": "markdown",
   "id": "782fc143-e014-4aa3-aa1a-dffeffb4b7d7",
   "metadata": {},
   "source": [
    "# 7.DataModule"
   ]
  },
  {
   "cell_type": "code",
   "execution_count": 7,
   "id": "02759fbf-d49e-4328-be74-62034913e906",
   "metadata": {},
   "outputs": [],
   "source": [
    "class DataModule:\n",
    "    \"\"\"\n",
    "    封装数据加载流程，包括：\n",
    "      1. 从 CSV 加载 npy 文件路径及元数据；\n",
    "      2. 构建 MFCCDataset（直接加载 npy 文件，包含缓存与按需加载）；\n",
    "      3. 根据 speaker 使用 GroupKFold 划分子集；\n",
    "      4. 构造 train 和 valid DataLoader，并在 collate_fn 中使用 CutMix/MixUp 增强。\n",
    "    \"\"\"\n",
    "\n",
    "    def __init__(self, csv_file, allowed_set, allowed_data_source=\"all\",\n",
    "                 batch_size=128, num_workers_csv=96, num_workers_dataset=0):\n",
    "        self.csv_file = csv_file\n",
    "        self.allowed_set = allowed_set\n",
    "        self.allowed_data_source = allowed_data_source\n",
    "        self.batch_size = batch_size\n",
    "        self.num_workers_csv = num_workers_csv\n",
    "        self.num_workers_dataset = num_workers_dataset\n",
    "\n",
    "        self.train_loader = None\n",
    "        self.valid_loader = None\n",
    "        self.dataset = None\n",
    "\n",
    "    def setup(self):\n",
    "        def my_collate_fn(batch):\n",
    "            return custom_collate_fn(batch, cutmix_prob=0.5, mixup_prob=0.5)\n",
    "\n",
    "        # 1. 从 CSV 加载 npy 文件路径及元数据\n",
    "        npy_loader = NpyLoader(max_workers=self.num_workers_csv)\n",
    "        records = npy_loader.load_audio_info_from_csv(\n",
    "            csv_file=self.csv_file,\n",
    "            allowed_set=self.allowed_set,\n",
    "            allowed_data_source=self.allowed_data_source\n",
    "        )\n",
    "\n",
    "        # 2. 构建 MFCCDataset（直接加载 npy 文件，不再转换）\n",
    "        self.dataset = MFCCDataset(\n",
    "            records=records,\n",
    "            spec_aug_prob=0.2\n",
    "        )\n",
    "\n",
    "        # 3. 使用 GroupKFold 根据 speaker 划分数据集\n",
    "        splits = self.dataset.get_group_splits(n_splits=5)\n",
    "        train_idx, valid_idx = splits[0]\n",
    "        train_subset = Subset(self.dataset, train_idx)\n",
    "        valid_subset = Subset(self.dataset, valid_idx)\n",
    "\n",
    "        # 4. 创建 DataLoader，使用自定义 collate_fn（集成 CutMix/MixUp 增强）\n",
    "        self.train_loader = DataLoader(\n",
    "            train_subset,\n",
    "            batch_size=self.batch_size,\n",
    "            shuffle=True,\n",
    "            num_workers=self.num_workers_dataset,\n",
    "            collate_fn=my_collate_fn\n",
    "        )\n",
    "        self.valid_loader = DataLoader(\n",
    "            valid_subset,\n",
    "            batch_size=self.batch_size,\n",
    "            shuffle=False,\n",
    "            num_workers=self.num_workers_dataset,\n",
    "            collate_fn=my_collate_fn\n",
    "        )\n",
    "\n",
    "    def get_loaders(self):\n",
    "        if self.train_loader is None or self.valid_loader is None:\n",
    "            self.setup()\n",
    "        return self.train_loader, self.valid_loader"
   ]
  },
  {
   "cell_type": "code",
   "execution_count": 20,
   "id": "926a8cd0-75ec-447c-865c-fe62b8252c87",
   "metadata": {},
   "outputs": [
    {
     "data": {
      "application/vnd.jupyter.widget-view+json": {
       "model_id": "3479b8aa7bed4ceea8e9cf3c141221df",
       "version_major": 2,
       "version_minor": 0
      },
      "text/plain": [
       "Loading audio info from CSV:   0%|          | 0/368780 [00:00<?, ?it/s]"
      ]
     },
     "metadata": {},
     "output_type": "display_data"
    },
    {
     "name": "stdout",
     "output_type": "stream",
     "text": [
      "Feature Shape: torch.Size([128, 1, 40, 400]), Labels Shape: 128, Speakers: 128\n"
     ]
    }
   ],
   "source": [
    "data_module = DataModule(\n",
    "    csv_file=\"/home/jupyter/Data/meta_npy.csv\",  #--meta_file\n",
    "    allowed_set=['train'],  #训练还是测试\n",
    "    allowed_data_source=\"all\",\n",
    "    # ['itw', 'gen', 'LJSpeech', 'vox', 'diffusion-based'] 去掉diffusion-based train的话应该就能得到不太好的eer泛化\n",
    "    batch_size=128,  #训练batch_size\n",
    "    num_workers_csv=96,  #多线程读取csv的\n",
    "    num_workers_dataset=0\n",
    ")\n",
    "\n",
    "data_module.setup()\n",
    "train_loader, valid_loader = data_module.get_loaders()\n",
    "\n",
    "for batch in train_loader:\n",
    "    features, speakers, labels = batch\n",
    "    print(f\"Feature Shape: {features.shape}, Labels Shape: {len(speakers)}, Speakers: {len(speakers)}\")\n",
    "    break  # 打印第一个 batch检查input shape"
   ]
  },
  {
   "cell_type": "code",
   "execution_count": null,
   "id": "2d884a9c-eb36-405f-8d15-2035a82f550e",
   "metadata": {
    "scrolled": true
   },
   "outputs": [
    {
     "data": {
      "application/vnd.jupyter.widget-view+json": {
       "model_id": "38c5e22994ff40bcac5327a3123d7b2d",
       "version_major": 2,
       "version_minor": 0
      },
      "text/plain": [
       "Training:   0%|          | 0/2305 [00:00<?, ?it/s]"
      ]
     },
     "metadata": {},
     "output_type": "display_data"
    },
    {
     "data": {
      "application/vnd.jupyter.widget-view+json": {
       "model_id": "2d0bcd54e8c94c3ca8e55bc9ab8e567c",
       "version_major": 2,
       "version_minor": 0
      },
      "text/plain": [
       "Validating:   0%|          | 0/577 [00:00<?, ?it/s]"
      ]
     },
     "metadata": {},
     "output_type": "display_data"
    },
    {
     "name": "stdout",
     "output_type": "stream",
     "text": [
      "Epoch [1/50] | Train Loss: 0.2603, Train Acc: 0.8937 | Val Loss: 0.1485, Val Acc: 0.9560\n",
      "Model saved to conformerv412.pt\n"
     ]
    },
    {
     "data": {
      "application/vnd.jupyter.widget-view+json": {
       "model_id": "f05b6e7de2734fd4b2c2b549a77e20cf",
       "version_major": 2,
       "version_minor": 0
      },
      "text/plain": [
       "Training:   0%|          | 0/2305 [00:00<?, ?it/s]"
      ]
     },
     "metadata": {},
     "output_type": "display_data"
    },
    {
     "data": {
      "application/vnd.jupyter.widget-view+json": {
       "model_id": "bd8d66d305da4b029ba0fdebf3746ea4",
       "version_major": 2,
       "version_minor": 0
      },
      "text/plain": [
       "Validating:   0%|          | 0/577 [00:00<?, ?it/s]"
      ]
     },
     "metadata": {},
     "output_type": "display_data"
    },
    {
     "name": "stdout",
     "output_type": "stream",
     "text": [
      "Epoch [2/50] | Train Loss: 0.2041, Train Acc: 0.9115 | Val Loss: 0.1198, Val Acc: 0.9622\n",
      "Model saved to conformerv412.pt\n"
     ]
    },
    {
     "data": {
      "application/vnd.jupyter.widget-view+json": {
       "model_id": "eaaeac241f944b13aac5d9ca2df32cfe",
       "version_major": 2,
       "version_minor": 0
      },
      "text/plain": [
       "Training:   0%|          | 0/2305 [00:00<?, ?it/s]"
      ]
     },
     "metadata": {},
     "output_type": "display_data"
    },
    {
     "data": {
      "application/vnd.jupyter.widget-view+json": {
       "model_id": "85da90e10e194acd8d62eded6ae4a7dc",
       "version_major": 2,
       "version_minor": 0
      },
      "text/plain": [
       "Validating:   0%|          | 0/577 [00:00<?, ?it/s]"
      ]
     },
     "metadata": {},
     "output_type": "display_data"
    },
    {
     "name": "stdout",
     "output_type": "stream",
     "text": [
      "Epoch [3/50] | Train Loss: 0.1814, Train Acc: 0.9205 | Val Loss: 0.1373, Val Acc: 0.9612\n",
      "No improvement count: 1/8\n"
     ]
    },
    {
     "data": {
      "application/vnd.jupyter.widget-view+json": {
       "model_id": "9c8b304be932461f970d21035a078e71",
       "version_major": 2,
       "version_minor": 0
      },
      "text/plain": [
       "Training:   0%|          | 0/2305 [00:00<?, ?it/s]"
      ]
     },
     "metadata": {},
     "output_type": "display_data"
    },
    {
     "data": {
      "application/vnd.jupyter.widget-view+json": {
       "model_id": "8c470a41c30a4a0eb23fe2d7766722a3",
       "version_major": 2,
       "version_minor": 0
      },
      "text/plain": [
       "Validating:   0%|          | 0/577 [00:00<?, ?it/s]"
      ]
     },
     "metadata": {},
     "output_type": "display_data"
    },
    {
     "name": "stdout",
     "output_type": "stream",
     "text": [
      "Epoch [4/50] | Train Loss: 0.1672, Train Acc: 0.9210 | Val Loss: 0.1059, Val Acc: 0.9687\n",
      "Model saved to conformerv412.pt\n"
     ]
    },
    {
     "data": {
      "application/vnd.jupyter.widget-view+json": {
       "model_id": "7a21c3443bfb49c093a15284f617ce86",
       "version_major": 2,
       "version_minor": 0
      },
      "text/plain": [
       "Training:   0%|          | 0/2305 [00:00<?, ?it/s]"
      ]
     },
     "metadata": {},
     "output_type": "display_data"
    },
    {
     "data": {
      "application/vnd.jupyter.widget-view+json": {
       "model_id": "c6fc756713a74d9a9747f57f230ac054",
       "version_major": 2,
       "version_minor": 0
      },
      "text/plain": [
       "Validating:   0%|          | 0/577 [00:00<?, ?it/s]"
      ]
     },
     "metadata": {},
     "output_type": "display_data"
    },
    {
     "name": "stdout",
     "output_type": "stream",
     "text": [
      "Epoch [5/50] | Train Loss: 0.1522, Train Acc: 0.9306 | Val Loss: 0.1373, Val Acc: 0.9597\n",
      "No improvement count: 1/8\n"
     ]
    },
    {
     "data": {
      "application/vnd.jupyter.widget-view+json": {
       "model_id": "3c0afca4c6a44c729ea4fcbc2f327d7d",
       "version_major": 2,
       "version_minor": 0
      },
      "text/plain": [
       "Training:   0%|          | 0/2305 [00:00<?, ?it/s]"
      ]
     },
     "metadata": {},
     "output_type": "display_data"
    },
    {
     "data": {
      "application/vnd.jupyter.widget-view+json": {
       "model_id": "11e1c5b152d0466ba115d350f53c76fd",
       "version_major": 2,
       "version_minor": 0
      },
      "text/plain": [
       "Validating:   0%|          | 0/577 [00:00<?, ?it/s]"
      ]
     },
     "metadata": {},
     "output_type": "display_data"
    },
    {
     "name": "stdout",
     "output_type": "stream",
     "text": [
      "Epoch [6/50] | Train Loss: 0.1513, Train Acc: 0.9262 | Val Loss: 0.1220, Val Acc: 0.9651\n",
      "No improvement count: 2/8\n"
     ]
    },
    {
     "data": {
      "application/vnd.jupyter.widget-view+json": {
       "model_id": "6efd4199d93e4a32acb8da34bedd2852",
       "version_major": 2,
       "version_minor": 0
      },
      "text/plain": [
       "Training:   0%|          | 0/2305 [00:00<?, ?it/s]"
      ]
     },
     "metadata": {},
     "output_type": "display_data"
    },
    {
     "data": {
      "application/vnd.jupyter.widget-view+json": {
       "model_id": "f764cbf193114bb8a25213ec32e31d57",
       "version_major": 2,
       "version_minor": 0
      },
      "text/plain": [
       "Validating:   0%|          | 0/577 [00:00<?, ?it/s]"
      ]
     },
     "metadata": {},
     "output_type": "display_data"
    },
    {
     "name": "stdout",
     "output_type": "stream",
     "text": [
      "Epoch [7/50] | Train Loss: 0.1403, Train Acc: 0.9361 | Val Loss: 0.1134, Val Acc: 0.9683\n",
      "No improvement count: 3/8\n"
     ]
    },
    {
     "data": {
      "application/vnd.jupyter.widget-view+json": {
       "model_id": "a67a70467576406b940982d7b12d4d5a",
       "version_major": 2,
       "version_minor": 0
      },
      "text/plain": [
       "Training:   0%|          | 0/2305 [00:00<?, ?it/s]"
      ]
     },
     "metadata": {},
     "output_type": "display_data"
    },
    {
     "data": {
      "application/vnd.jupyter.widget-view+json": {
       "model_id": "5c0e1412666e4c43b2218c082e63aaf2",
       "version_major": 2,
       "version_minor": 0
      },
      "text/plain": [
       "Validating:   0%|          | 0/577 [00:00<?, ?it/s]"
      ]
     },
     "metadata": {},
     "output_type": "display_data"
    },
    {
     "name": "stdout",
     "output_type": "stream",
     "text": [
      "Epoch [8/50] | Train Loss: 0.1337, Train Acc: 0.9340 | Val Loss: 0.1517, Val Acc: 0.9565\n",
      "No improvement count: 4/8\n"
     ]
    },
    {
     "data": {
      "application/vnd.jupyter.widget-view+json": {
       "model_id": "c9d1d43d04c845d6bc1f958a5a053b71",
       "version_major": 2,
       "version_minor": 0
      },
      "text/plain": [
       "Training:   0%|          | 0/2305 [00:00<?, ?it/s]"
      ]
     },
     "metadata": {},
     "output_type": "display_data"
    },
    {
     "data": {
      "application/vnd.jupyter.widget-view+json": {
       "model_id": "914d3880fcbb4de8952157ce6760c034",
       "version_major": 2,
       "version_minor": 0
      },
      "text/plain": [
       "Validating:   0%|          | 0/577 [00:00<?, ?it/s]"
      ]
     },
     "metadata": {},
     "output_type": "display_data"
    },
    {
     "name": "stdout",
     "output_type": "stream",
     "text": [
      "Epoch [9/50] | Train Loss: 0.1371, Train Acc: 0.9341 | Val Loss: 0.1231, Val Acc: 0.9633\n",
      "No improvement count: 5/8\n"
     ]
    },
    {
     "data": {
      "application/vnd.jupyter.widget-view+json": {
       "model_id": "d9308d9f265048d991ae99aa9c93f03e",
       "version_major": 2,
       "version_minor": 0
      },
      "text/plain": [
       "Training:   0%|          | 0/2305 [00:00<?, ?it/s]"
      ]
     },
     "metadata": {},
     "output_type": "display_data"
    },
    {
     "data": {
      "application/vnd.jupyter.widget-view+json": {
       "model_id": "03e76ed516c3411e9a22508d43cd15eb",
       "version_major": 2,
       "version_minor": 0
      },
      "text/plain": [
       "Validating:   0%|          | 0/577 [00:00<?, ?it/s]"
      ]
     },
     "metadata": {},
     "output_type": "display_data"
    },
    {
     "name": "stdout",
     "output_type": "stream",
     "text": [
      "Epoch [10/50] | Train Loss: 0.1295, Train Acc: 0.9384 | Val Loss: 0.1521, Val Acc: 0.9595\n",
      "No improvement count: 6/8\n"
     ]
    },
    {
     "data": {
      "application/vnd.jupyter.widget-view+json": {
       "model_id": "5dd84366e36745018d12e9364701d8a8",
       "version_major": 2,
       "version_minor": 0
      },
      "text/plain": [
       "Training:   0%|          | 0/2305 [00:00<?, ?it/s]"
      ]
     },
     "metadata": {},
     "output_type": "display_data"
    },
    {
     "data": {
      "application/vnd.jupyter.widget-view+json": {
       "model_id": "a352ecc8daca4a04b95ddcaa773c8a50",
       "version_major": 2,
       "version_minor": 0
      },
      "text/plain": [
       "Validating:   0%|          | 0/577 [00:00<?, ?it/s]"
      ]
     },
     "metadata": {},
     "output_type": "display_data"
    },
    {
     "name": "stdout",
     "output_type": "stream",
     "text": [
      "Epoch [11/50] | Train Loss: 0.1278, Train Acc: 0.9363 | Val Loss: 0.1448, Val Acc: 0.9642\n",
      "No improvement count: 7/8\n"
     ]
    },
    {
     "data": {
      "application/vnd.jupyter.widget-view+json": {
       "model_id": "2f3e0b66bbf04f898551def239952469",
       "version_major": 2,
       "version_minor": 0
      },
      "text/plain": [
       "Training:   0%|          | 0/2305 [00:00<?, ?it/s]"
      ]
     },
     "metadata": {},
     "output_type": "display_data"
    },
    {
     "data": {
      "application/vnd.jupyter.widget-view+json": {
       "model_id": "ac79b143a30d485c94668101ce755614",
       "version_major": 2,
       "version_minor": 0
      },
      "text/plain": [
       "Validating:   0%|          | 0/577 [00:00<?, ?it/s]"
      ]
     },
     "metadata": {},
     "output_type": "display_data"
    },
    {
     "name": "stdout",
     "output_type": "stream",
     "text": [
      "Epoch [12/50] | Train Loss: 0.1301, Train Acc: 0.9394 | Val Loss: 0.1121, Val Acc: 0.9677\n",
      "No improvement count: 8/8\n",
      "Early stopping triggered.\n"
     ]
    }
   ],
   "source": [
    "trainer = ConformerTrainer(\n",
    "    train_dataloader=train_loader,\n",
    "    val_dataloader=valid_loader,\n",
    "    device=device,\n",
    "    lr=0.0001,\n",
    "    patience=8,\n",
    "    lr_gamma=0.95,\n",
    "    checkpoint_path=\"conformerv412.pt\",\n",
    "    project_name=\"conformerv411\"\n",
    ")\n",
    "\n",
    "trainer.fit(num_epochs=50)"
   ]
  },
  {
   "cell_type": "markdown",
   "id": "40dcb462-8102-401a-a1c7-73e307214ca7",
   "metadata": {},
   "source": [
    "# 8.Batch predict"
   ]
  },
  {
   "cell_type": "code",
   "execution_count": 8,
   "id": "1a20a21d-4b4c-4008-aed9-fdda7bcb0823",
   "metadata": {},
   "outputs": [],
   "source": [
    "# ---------------------------\n",
    "# 简单的 collate_fn（预测时不需要数据增强）\n",
    "# ---------------------------\n",
    "def simple_collate_fn(batch):\n",
    "    features, speakers, labels = zip(*batch)\n",
    "    features = torch.stack(features, dim=0)\n",
    "    labels = torch.tensor([int(l) for l in labels], dtype=torch.long)\n",
    "    return features, speakers, labels\n",
    "\n",
    "\n",
    "# ---------------------------\n",
    "# PredictDataModule: 用于加载预测数据的 DataModule\n",
    "# ---------------------------\n",
    "class PredictDataModule:\n",
    "    \"\"\"\n",
    "    封装预测数据加载流程，包括：\n",
    "      1. 从 CSV 加载 npy 文件路径及元数据；\n",
    "      2. 构建 MFCCDataset（直接加载 npy 文件，包含缓存）；\n",
    "      3. 构造预测用的 DataLoader（不应用数据增强）。\n",
    "    \"\"\"\n",
    "\n",
    "    def __init__(self, csv_file, allowed_set=None, allowed_data_source=\"all\",\n",
    "                 batch_size=128, num_workers_csv=96, num_workers_dataset=0):\n",
    "        self.csv_file = csv_file\n",
    "        self.allowed_set = allowed_set\n",
    "        self.allowed_data_source = allowed_data_source\n",
    "        self.batch_size = batch_size\n",
    "        self.num_workers_csv = num_workers_csv\n",
    "        self.num_workers_dataset = num_workers_dataset\n",
    "\n",
    "        self.predict_loader = None\n",
    "        self.dataset = None\n",
    "\n",
    "    def setup(self):\n",
    "        # 1. 从 CSV 加载 npy 文件路径及元数据\n",
    "        npy_loader = NpyLoader(max_workers=self.num_workers_csv)\n",
    "        records = npy_loader.load_audio_info_from_csv(\n",
    "            csv_file=self.csv_file,\n",
    "            allowed_set=self.allowed_set,\n",
    "            allowed_data_source=self.allowed_data_source\n",
    "        )\n",
    "\n",
    "        # 2. 构建 MFCCDataset（预测时不应用数据增强，将 spec_aug_prob 设置为 0）\n",
    "        self.dataset = MFCCDataset(\n",
    "            records=records,\n",
    "            spec_aug_prob=0.0\n",
    "        )\n",
    "\n",
    "        # 3. 创建 DataLoader\n",
    "        self.predict_loader = DataLoader(\n",
    "            self.dataset,\n",
    "            batch_size=self.batch_size,\n",
    "            shuffle=False,\n",
    "            num_workers=self.num_workers_dataset,\n",
    "            collate_fn=simple_collate_fn\n",
    "        )\n",
    "\n",
    "    def get_loader(self):\n",
    "        if self.predict_loader is None:\n",
    "            self.setup()\n",
    "        return self.predict_loader"
   ]
  },
  {
   "cell_type": "code",
   "execution_count": 11,
   "id": "14515858-7e63-4d65-9e67-b4f267e415bc",
   "metadata": {},
   "outputs": [],
   "source": [
    "class ModelEvaluation:\n",
    "    def __init__(self, model, device, predict_loader, weight_path, threshold=0.5):\n",
    "        \"\"\"\n",
    "        :param model: 预定义的模型（例如 Conformer），需要与权重匹配\n",
    "        :param device: 设备\n",
    "        :param predict_loader: 用于预测的 DataLoader（返回 (features, speakers, labels)）\n",
    "        :param weight_path: 模型权重路径\n",
    "        :param threshold: 预测阈值\n",
    "        \"\"\"\n",
    "        self.model = model.to(device)\n",
    "        self.device = device\n",
    "        self.predict_loader = predict_loader\n",
    "        self.weight_path = weight_path\n",
    "        self.threshold = threshold\n",
    "\n",
    "        # 预测结果记录\n",
    "        self.all_probs = []  # 模型预测概率（float）\n",
    "        self.all_preds = []  # 模型预测标签（int）\n",
    "        self.all_labels = []  # 真实标签\n",
    "        self.all_speakers = []  # 对应 speaker\n",
    "\n",
    "    def load_model(self):\n",
    "        \"\"\"加载模型权重\"\"\"\n",
    "        self.model.load_state_dict(torch.load(self.weight_path, map_location=self.device))\n",
    "        self.model.to(self.device)\n",
    "        self.model.eval()\n",
    "        print(f\"Model loaded from {self.weight_path}\")\n",
    "\n",
    "    def predict(self):\n",
    "        \"\"\"使用 predict_loader 批量预测，记录预测概率、预测标签、真实标签和 speaker\"\"\"\n",
    "        self.model.eval()\n",
    "        with torch.no_grad():\n",
    "            for features, speakers, labels in tqdm(self.predict_loader, desc=\"Predicting\", leave=False):\n",
    "                features = features.to(self.device)\n",
    "                outputs = self.model(features).squeeze(1)  # 输出为 logits\n",
    "                probs = torch.sigmoid(outputs).cpu().numpy()  # 计算概率\n",
    "                preds = (probs >= self.threshold).astype(int)\n",
    "                self.all_probs.extend(probs.tolist())\n",
    "                # 如果 labels 为 tuple (增强情况)，取第一个作为真实标签\n",
    "                if isinstance(labels, tuple):\n",
    "                    y_a = labels[0].numpy()\n",
    "                    self.all_labels.extend(y_a.tolist())\n",
    "                else:\n",
    "                    self.all_labels.extend(labels.cpu().numpy().tolist())\n",
    "                self.all_preds.extend(preds.tolist())\n",
    "                self.all_speakers.extend(speakers)\n",
    "        print(\"Prediction completed.\")\n",
    "\n",
    "    def compute_eer(self):\n",
    "        \"\"\"\n",
    "        计算 EER（Equal Error Rate）。\n",
    "        如果 y_true 中只有一个类别，则打印警告并返回 NaN。\n",
    "        \"\"\"\n",
    "        y_true = np.array(self.all_labels)\n",
    "        if np.unique(y_true).size < 2:\n",
    "            print(\"Warning: Only one class present in y_true. EER is not defined.\")\n",
    "            return np.nan\n",
    "        # 计算 ROC 曲线\n",
    "        fpr, tpr, _ = roc_curve(y_true, self.all_probs)\n",
    "        fnr = 1 - tpr\n",
    "        abs_diffs = np.abs(fpr - fnr)\n",
    "        if np.isnan(abs_diffs).all():\n",
    "            eer = np.nan\n",
    "        else:\n",
    "            idx_eer = np.nanargmin(abs_diffs)\n",
    "            eer = fpr[idx_eer]\n",
    "        return eer\n",
    "\n",
    "    def evaluate(self):\n",
    "        \"\"\"\n",
    "        计算并打印各项指标：precision, recall, accuracy, f1, AUC, average precision, EER, 混淆矩阵\n",
    "        并绘制 ROC 与 PR 曲线。\n",
    "        如果 y_true 只有一个类别，则 ROC AUC、EER 等指标将返回 NaN，并打印警告。\n",
    "        \"\"\"\n",
    "        y_true = np.array(self.all_labels)\n",
    "        y_pred = np.array(self.all_preds)\n",
    "        y_prob = np.array(self.all_probs)\n",
    "\n",
    "        if np.unique(y_true).size < 2:\n",
    "            print(\"Warning: Only one class present in y_true. Some metrics (ROC AUC, EER) will be set to NaN.\")\n",
    "            auc = np.nan\n",
    "            avg_precision = np.nan\n",
    "            eer = np.nan\n",
    "        else:\n",
    "            auc = roc_auc_score(y_true, y_prob)\n",
    "            avg_precision = average_precision_score(y_true, y_prob)\n",
    "            eer = self.compute_eer()\n",
    "\n",
    "        precision = precision_score(y_true, y_pred, zero_division=0)\n",
    "        recall = recall_score(y_true, y_pred, zero_division=0)\n",
    "        accuracy = accuracy_score(y_true, y_pred)\n",
    "        f1 = f1_score(y_true, y_pred, zero_division=0)\n",
    "        cm = confusion_matrix(y_true, y_pred)\n",
    "\n",
    "        print(\"Evaluation Metrics:\")\n",
    "        print(f\"Accuracy: {accuracy:.4f}\")\n",
    "        print(f\"Precision: {precision:.4f}\")\n",
    "        print(f\"Recall: {recall:.4f}\")\n",
    "        print(f\"F1 Score: {f1:.4f}\")\n",
    "        print(f\"AUC Score: {auc if not np.isnan(auc) else 'NaN'}\")\n",
    "        print(f\"Average Precision: {avg_precision if not np.isnan(avg_precision) else 'NaN'}\")\n",
    "        print(f\"EER: {eer if not np.isnan(eer) else 'NaN'}\")\n",
    "        print(\"Confusion Matrix:\")\n",
    "        print(cm)\n",
    "\n",
    "        # 绘制 ROC 和 PR 曲线，仅在存在两个类别时\n",
    "        if np.unique(y_true).size >= 2:\n",
    "            fpr, tpr, _ = roc_curve(y_true, y_prob)\n",
    "            plt.figure(figsize=(8, 6))\n",
    "            plt.plot(fpr, tpr, label=f'ROC curve (area = {auc:.2f})')\n",
    "            plt.plot([0, 1], [0, 1], 'k--')\n",
    "            plt.xlabel(\"False Positive Rate\")\n",
    "            plt.ylabel(\"True Positive Rate\")\n",
    "            plt.title(\"ROC Curve\")\n",
    "            plt.legend(loc=\"lower right\")\n",
    "            plt.show()\n",
    "\n",
    "            precision_vals, recall_vals, _ = precision_recall_curve(y_true, y_prob)\n",
    "            plt.figure(figsize=(8, 6))\n",
    "            plt.plot(recall_vals, precision_vals, label=f'PR curve (AP = {avg_precision:.2f})')\n",
    "            plt.xlabel(\"Recall\")\n",
    "            plt.ylabel(\"Precision\")\n",
    "            plt.title(\"Precision-Recall Curve\")\n",
    "            plt.legend(loc=\"lower left\")\n",
    "            plt.show()\n",
    "\n",
    "    def per_speaker_errors(self):\n",
    "        \"\"\"\n",
    "        统计不同 speaker 的误分类数和总数。\n",
    "        返回一个字典：{ speaker: (misclassified_count, total_count) }\n",
    "        \"\"\"\n",
    "        speaker_stats = {}\n",
    "        for speaker, true, pred in zip(self.all_speakers, self.all_labels, self.all_preds):\n",
    "            if speaker not in speaker_stats:\n",
    "                speaker_stats[speaker] = [0, 0]  # [error_count, total_count]\n",
    "            speaker_stats[speaker][1] += 1\n",
    "            if true != pred:\n",
    "                speaker_stats[speaker][0] += 1\n",
    "        return speaker_stats\n",
    "\n",
    "    def plot_per_speaker_errors(self):\n",
    "        \"\"\"\n",
    "        绘制不同 speaker 的误分类率条形图。\n",
    "        \"\"\"\n",
    "        stats = self.per_speaker_errors()\n",
    "        speakers = list(stats.keys())\n",
    "        errors = [stats[s][0] for s in speakers]\n",
    "        totals = [stats[s][1] for s in speakers]\n",
    "        error_rates = [e / t if t > 0 else 0 for e, t in zip(errors, totals)]\n",
    "\n",
    "        plt.figure(figsize=(12, 6))\n",
    "        plt.bar(speakers, error_rates)\n",
    "        plt.xlabel(\"Speaker\")\n",
    "        plt.ylabel(\"Error Rate\")\n",
    "        plt.title(\"Error Rate per Speaker\")\n",
    "        plt.xticks(rotation=45, ha='right')\n",
    "        plt.tight_layout()\n",
    "        plt.show()\n"
   ]
  },
  {
   "cell_type": "code",
   "execution_count": 10,
   "id": "a4850d7e-c73f-4cbb-8985-9e6828e9811c",
   "metadata": {},
   "outputs": [
    {
     "name": "stderr",
     "output_type": "stream",
     "text": [
      "Failed to detect the name of this notebook, you can set it manually with the WANDB_NOTEBOOK_NAME environment variable to enable code saving.\n",
      "\u001B[34m\u001B[1mwandb\u001B[0m: Using wandb-core as the SDK backend.  Please refer to https://wandb.me/wandb-core for more information.\n",
      "\u001B[34m\u001B[1mwandb\u001B[0m: Currently logged in as: \u001B[33mzlj201900820209\u001B[0m (\u001B[33mzlj201900820209-national-university-of-singapore-student\u001B[0m) to \u001B[32mhttps://api.wandb.ai\u001B[0m. Use \u001B[1m`wandb login --relogin`\u001B[0m to force relogin\n"
     ]
    },
    {
     "data": {
      "text/html": [
       "Tracking run with wandb version 0.19.8"
      ],
      "text/plain": [
       "<IPython.core.display.HTML object>"
      ]
     },
     "metadata": {},
     "output_type": "display_data"
    },
    {
     "data": {
      "text/html": [
       "Run data is saved locally in <code>/home/jupyter/BenchMark/wandb/run-20250415_032539-zxxjulm3</code>"
      ],
      "text/plain": [
       "<IPython.core.display.HTML object>"
      ]
     },
     "metadata": {},
     "output_type": "display_data"
    },
    {
     "data": {
      "text/html": [
       "Syncing run <strong><a href='https://wandb.ai/zlj201900820209-national-university-of-singapore-student/Conformer_Project/runs/zxxjulm3' target=\"_blank\">likely-paper-3</a></strong> to <a href='https://wandb.ai/zlj201900820209-national-university-of-singapore-student/Conformer_Project' target=\"_blank\">Weights & Biases</a> (<a href='https://wandb.me/developer-guide' target=\"_blank\">docs</a>)<br>"
      ],
      "text/plain": [
       "<IPython.core.display.HTML object>"
      ]
     },
     "metadata": {},
     "output_type": "display_data"
    },
    {
     "data": {
      "text/html": [
       " View project at <a href='https://wandb.ai/zlj201900820209-national-university-of-singapore-student/Conformer_Project' target=\"_blank\">https://wandb.ai/zlj201900820209-national-university-of-singapore-student/Conformer_Project</a>"
      ],
      "text/plain": [
       "<IPython.core.display.HTML object>"
      ]
     },
     "metadata": {},
     "output_type": "display_data"
    },
    {
     "data": {
      "text/html": [
       " View run at <a href='https://wandb.ai/zlj201900820209-national-university-of-singapore-student/Conformer_Project/runs/zxxjulm3' target=\"_blank\">https://wandb.ai/zlj201900820209-national-university-of-singapore-student/Conformer_Project/runs/zxxjulm3</a>"
      ],
      "text/plain": [
       "<IPython.core.display.HTML object>"
      ]
     },
     "metadata": {},
     "output_type": "display_data"
    }
   ],
   "source": [
    "trainer = ConformerTrainer()"
   ]
  },
  {
   "cell_type": "code",
   "execution_count": 22,
   "id": "b9c78304-f1bc-4388-93eb-56b113190e4e",
   "metadata": {},
   "outputs": [
    {
     "data": {
      "application/vnd.jupyter.widget-view+json": {
       "model_id": "6e99aa452c364d00ae273dadb7268d44",
       "version_major": 2,
       "version_minor": 0
      },
      "text/plain": [
       "Loading audio info from CSV:   0%|          | 0/111589 [00:00<?, ?it/s]"
      ]
     },
     "metadata": {},
     "output_type": "display_data"
    },
    {
     "name": "stdout",
     "output_type": "stream",
     "text": [
      "Model loaded from conformerv411.pt\n"
     ]
    },
    {
     "data": {
      "application/vnd.jupyter.widget-view+json": {
       "model_id": "954499b11c16468eaefde42faf510d58",
       "version_major": 2,
       "version_minor": 0
      },
      "text/plain": [
       "Predicting:   0%|          | 0/872 [00:00<?, ?it/s]"
      ]
     },
     "metadata": {},
     "output_type": "display_data"
    },
    {
     "name": "stdout",
     "output_type": "stream",
     "text": [
      "Prediction completed.\n",
      "Evaluation Metrics:\n",
      "Accuracy: 0.9493\n",
      "Precision: 0.9794\n",
      "Recall: 0.8744\n",
      "F1 Score: 0.9239\n",
      "AUC Score: 0.9910045126188048\n",
      "Average Precision: 0.984435530573517\n",
      "EER: 0.03330152539794493\n",
      "Confusion Matrix:\n",
      "[[71586   723]\n",
      " [ 4935 34345]]\n"
     ]
    },
    {
     "data": {
      "image/png": "[encoded data removed]",
      "text/plain": [
       "<Figure size 800x600 with 1 Axes>"
      ]
     },
     "metadata": {},
     "output_type": "display_data"
    },
    {
     "data": {
      "image/png": "[encoded data removed]",
      "text/plain": [
       "<Figure size 800x600 with 1 Axes>"
      ]
     },
     "metadata": {},
     "output_type": "display_data"
    }
   ],
   "source": [
    "Predict_module = PredictDataModule(\n",
    "    csv_file=\"/home/jupyter/Data/meta_npy.csv\",  #--meta_file\n",
    "    allowed_set=[\"test\"],  #训练还是测试\n",
    "    allowed_data_source='all',\n",
    "    # ['itw', 'gen', 'LJSpeech', 'vox', 'diffusion-based'] 去掉diffusion-based train的话应该就能得到不太好的eer泛化\n",
    "    batch_size=128,  #训练batch_size\n",
    "    num_workers_csv=96,  #多线程读取csv的\n",
    "    num_workers_dataset=0\n",
    ")\n",
    "\n",
    "Predict_module.setup()\n",
    "predict_loader = Predict_module.get_loader()\n",
    "evaluator = ModelEvaluation(trainer.model, device, predict_loader, weight_path=\"conformerv411.pt\", threshold=0.9)\n",
    "evaluator.load_model()\n",
    "evaluator.predict()\n",
    "evaluator.evaluate()"
   ]
  },
  {
   "cell_type": "code",
   "execution_count": 26,
   "id": "81bf2d70-a35f-428c-9e5f-5a2bedac09ce",
   "metadata": {},
   "outputs": [
    {
     "data": {
      "application/vnd.jupyter.widget-view+json": {
       "model_id": "f2e07f2247494744ac8df08af01e595d",
       "version_major": 2,
       "version_minor": 0
      },
      "text/plain": [
       "Loading audio info from CSV:   0%|          | 0/65500 [00:00<?, ?it/s]"
      ]
     },
     "metadata": {},
     "output_type": "display_data"
    },
    {
     "name": "stdout",
     "output_type": "stream",
     "text": [
      "Model loaded from conformerv411.pt\n"
     ]
    },
    {
     "data": {
      "application/vnd.jupyter.widget-view+json": {
       "model_id": "b37d0c9371f84e319e8c9d62770304dd",
       "version_major": 2,
       "version_minor": 0
      },
      "text/plain": [
       "Predicting:   0%|          | 0/512 [00:00<?, ?it/s]"
      ]
     },
     "metadata": {},
     "output_type": "display_data"
    },
    {
     "name": "stdout",
     "output_type": "stream",
     "text": [
      "Prediction completed.\n",
      "Warning: Only one class present in y_true. Some metrics (ROC AUC, EER) will be set to NaN.\n",
      "Evaluation Metrics:\n",
      "Accuracy: 0.9999\n",
      "Precision: 0.0000\n",
      "Recall: 0.0000\n",
      "F1 Score: 0.0000\n",
      "AUC Score: NaN\n",
      "Average Precision: NaN\n",
      "EER: NaN\n",
      "Confusion Matrix:\n",
      "[[65494     6]\n",
      " [    0     0]]\n"
     ]
    }
   ],
   "source": [
    "Predict_module = PredictDataModule(\n",
    "    csv_file=\"/home/jupyter/Data/meta_npy.csv\",  #--meta_file\n",
    "    allowed_set=[\"test\"],  #训练还是测试\n",
    "    allowed_data_source=[\"diffusion-based\", 'gen'],\n",
    "    # ['itw', 'gen', 'LJSpeech', 'vox', 'diffusion-based'] 去掉diffusion-based train的话应该就能得到不太好的eer泛化\n",
    "    batch_size=128,  #训练batch_size\n",
    "    num_workers_csv=96,  #多线程读取csv的\n",
    "    num_workers_dataset=0\n",
    ")\n",
    "\n",
    "Predict_module.setup()\n",
    "predict_loader = Predict_module.get_loader()\n",
    "evaluator = ModelEvaluation(trainer.model, device, predict_loader, weight_path=\"conformerv411.pt\", threshold=0.9)\n",
    "evaluator.load_model()\n",
    "evaluator.predict()\n",
    "evaluator.evaluate()"
   ]
  },
  {
   "cell_type": "code",
   "execution_count": 24,
   "id": "174d97d2-21fe-4258-a425-746563f15317",
   "metadata": {},
   "outputs": [
    {
     "data": {
      "application/vnd.jupyter.widget-view+json": {
       "model_id": "c3b838245b444c44871adb2c25dcd1a4",
       "version_major": 2,
       "version_minor": 0
      },
      "text/plain": [
       "Loading audio info from CSV:   0%|          | 0/30315 [00:00<?, ?it/s]"
      ]
     },
     "metadata": {},
     "output_type": "display_data"
    },
    {
     "name": "stdout",
     "output_type": "stream",
     "text": [
      "Model loaded from conformerv411.pt\n"
     ]
    },
    {
     "data": {
      "application/vnd.jupyter.widget-view+json": {
       "model_id": "197e45b8d57b4eadab4ad4a0d3a681fc",
       "version_major": 2,
       "version_minor": 0
      },
      "text/plain": [
       "Predicting:   0%|          | 0/237 [00:00<?, ?it/s]"
      ]
     },
     "metadata": {},
     "output_type": "display_data"
    },
    {
     "name": "stdout",
     "output_type": "stream",
     "text": [
      "Prediction completed.\n",
      "Warning: Only one class present in y_true. Some metrics (ROC AUC, EER) will be set to NaN.\n",
      "Evaluation Metrics:\n",
      "Accuracy: 0.9420\n",
      "Precision: 1.0000\n",
      "Recall: 0.9420\n",
      "F1 Score: 0.9701\n",
      "AUC Score: NaN\n",
      "Average Precision: NaN\n",
      "EER: NaN\n",
      "Confusion Matrix:\n",
      "[[    0     0]\n",
      " [ 1758 28557]]\n"
     ]
    }
   ],
   "source": [
    "Predict_module = PredictDataModule(\n",
    "    csv_file=\"/home/jupyter/Data/meta_npy.csv\",  #--meta_file\n",
    "    allowed_set=[\"test\"],  #训练还是测试\n",
    "    allowed_data_source=[\"vox\"],\n",
    "    # ['itw', 'gen', 'LJSpeech', 'vox', 'diffusion-based'] 去掉diffusion-based train的话应该就能得到不太好的eer泛化\n",
    "    batch_size=128,  #训练batch_size\n",
    "    num_workers_csv=96,  #多线程读取csv的\n",
    "    num_workers_dataset=0\n",
    ")\n",
    "\n",
    "Predict_module.setup()\n",
    "predict_loader = Predict_module.get_loader()\n",
    "evaluator = ModelEvaluation(trainer.model, device, predict_loader, weight_path=\"conformerv411.pt\", threshold=0.9)\n",
    "evaluator.load_model()\n",
    "evaluator.predict()\n",
    "evaluator.evaluate()"
   ]
  },
  {
   "cell_type": "code",
   "execution_count": 28,
   "id": "9af243ab-232e-4d8c-becf-f4549f07de5a",
   "metadata": {},
   "outputs": [
    {
     "data": {
      "application/vnd.jupyter.widget-view+json": {
       "model_id": "cdf1cf52de38455cafad919982a2c09f",
       "version_major": 2,
       "version_minor": 0
      },
      "text/plain": [
       "Loading audio info from CSV:   0%|          | 0/15774 [00:00<?, ?it/s]"
      ]
     },
     "metadata": {},
     "output_type": "display_data"
    },
    {
     "name": "stdout",
     "output_type": "stream",
     "text": [
      "Model loaded from conformerv411.pt\n"
     ]
    },
    {
     "data": {
      "application/vnd.jupyter.widget-view+json": {
       "model_id": "ad2d525b2e71444497627a2ac0641e37",
       "version_major": 2,
       "version_minor": 0
      },
      "text/plain": [
       "Predicting:   0%|          | 0/124 [00:00<?, ?it/s]"
      ]
     },
     "metadata": {},
     "output_type": "display_data"
    },
    {
     "name": "stdout",
     "output_type": "stream",
     "text": [
      "Prediction completed.\n",
      "Evaluation Metrics:\n",
      "Accuracy: 0.8059\n",
      "Precision: 0.7869\n",
      "Recall: 0.9031\n",
      "F1 Score: 0.8410\n",
      "AUC Score: 0.8787241337762256\n",
      "Average Precision: 0.8859573223219442\n",
      "EER: 0.19694521956234395\n",
      "Confusion Matrix:\n",
      "[[4616 2193]\n",
      " [ 869 8096]]\n"
     ]
    },
    {
     "data": {
      "image/png": "[encoded data removed]",
      "text/plain": [
       "<Figure size 800x600 with 1 Axes>"
      ]
     },
     "metadata": {},
     "output_type": "display_data"
    },
    {
     "data": {
      "image/png": "[encoded data removed]",
      "text/plain": [
       "<Figure size 800x600 with 1 Axes>"
      ]
     },
     "metadata": {},
     "output_type": "display_data"
    }
   ],
   "source": [
    "Predict_module = PredictDataModule(\n",
    "    csv_file=\"/home/jupyter/Data/meta_npy.csv\",  #--meta_file\n",
    "    allowed_set=[\"test\"],  #训练还是测试\n",
    "    allowed_data_source=[\"itw\"],\n",
    "    # ['itw', 'gen', 'LJSpeech', 'vox', 'diffusion-based'] 去掉diffusion-based train的话应该就能得到不太好的eer泛化\n",
    "    batch_size=128,  #训练batch_size\n",
    "    num_workers_csv=96,  #多线程读取csv的\n",
    "    num_workers_dataset=0\n",
    ")\n",
    "\n",
    "Predict_module.setup()\n",
    "predict_loader = Predict_module.get_loader()\n",
    "evaluator = ModelEvaluation(trainer.model, device, predict_loader, weight_path=\"conformerv411.pt\", threshold=0.5)\n",
    "evaluator.load_model()\n",
    "evaluator.predict()\n",
    "evaluator.evaluate()"
   ]
  },
  {
   "cell_type": "code",
   "execution_count": 40,
   "id": "48948589-b8e4-445d-8fd2-7e74fbf66921",
   "metadata": {},
   "outputs": [
    {
     "data": {
      "application/vnd.jupyter.widget-view+json": {
       "model_id": "da3771ab7daf4afc86fcd13b605fd0ad",
       "version_major": 2,
       "version_minor": 0
      },
      "text/plain": [
       "Loading audio info from CSV:   0%|          | 0/26200 [00:00<?, ?it/s]"
      ]
     },
     "metadata": {},
     "output_type": "display_data"
    },
    {
     "name": "stdout",
     "output_type": "stream",
     "text": [
      "Model loaded from conformerv411.pt\n"
     ]
    },
    {
     "data": {
      "application/vnd.jupyter.widget-view+json": {
       "model_id": "18931a263b69418995230ca9db0ad3e9",
       "version_major": 2,
       "version_minor": 0
      },
      "text/plain": [
       "Predicting:   0%|          | 0/205 [00:00<?, ?it/s]"
      ]
     },
     "metadata": {},
     "output_type": "display_data"
    },
    {
     "name": "stdout",
     "output_type": "stream",
     "text": [
      "Prediction completed.\n",
      "Warning: Only one class present in y_true. Some metrics (ROC AUC, EER) will be set to NaN.\n",
      "Evaluation Metrics:\n",
      "Accuracy: 0.9958\n",
      "Precision: 0.0000\n",
      "Recall: 0.0000\n",
      "F1 Score: 0.0000\n",
      "AUC Score: NaN\n",
      "Average Precision: NaN\n",
      "EER: NaN\n",
      "Confusion Matrix:\n",
      "[[26091   109]\n",
      " [    0     0]]\n"
     ]
    }
   ],
   "source": [
    "Predict_module = PredictDataModule(\n",
    "    csv_file=\"/home/jupyter/Data/meta_npy.csv\",  #--meta_file\n",
    "    allowed_set=[\"test\"],  #训练还是测试\n",
    "    allowed_data_source=[\"gen\"],\n",
    "    # ['itw', 'gen', 'LJSpeech', 'vox', 'diffusion-based'] 去掉diffusion-based train的话应该就能得到不太好的eer泛化\n",
    "    batch_size=128,  #训练batch_size\n",
    "    num_workers_csv=96,  #多线程读取csv的\n",
    "    num_workers_dataset=0\n",
    ")\n",
    "\n",
    "Predict_module.setup()\n",
    "predict_loader = Predict_module.get_loader()\n",
    "evaluator = ModelEvaluation(trainer.model, device, predict_loader, weight_path=\"conformerv411.pt\", threshold=0.9)\n",
    "evaluator.load_model()\n",
    "evaluator.predict()\n",
    "evaluator.evaluate()"
   ]
  },
  {
   "cell_type": "code",
   "execution_count": 30,
   "id": "8374fe2b-47c1-4dbd-b5eb-677f4365e71b",
   "metadata": {},
   "outputs": [
    {
     "data": {
      "application/vnd.jupyter.widget-view+json": {
       "model_id": "874792526e654b209a4317aec21963a9",
       "version_major": 2,
       "version_minor": 0
      },
      "text/plain": [
       "Loading audio info from CSV:   0%|          | 0/19409 [00:00<?, ?it/s]"
      ]
     },
     "metadata": {},
     "output_type": "display_data"
    },
    {
     "name": "stdout",
     "output_type": "stream",
     "text": [
      "Model loaded from conformerv411.pt\n"
     ]
    },
    {
     "data": {
      "application/vnd.jupyter.widget-view+json": {
       "model_id": "cfc5d3e534a548d982b9c4d8736ea16d",
       "version_major": 2,
       "version_minor": 0
      },
      "text/plain": [
       "Predicting:   0%|          | 0/152 [00:00<?, ?it/s]"
      ]
     },
     "metadata": {},
     "output_type": "display_data"
    },
    {
     "name": "stdout",
     "output_type": "stream",
     "text": [
      "Prediction completed.\n",
      "Evaluation Metrics:\n",
      "Accuracy: 0.9423\n",
      "Precision: 0.9981\n",
      "Recall: 0.8492\n",
      "F1 Score: 0.9176\n",
      "AUC Score: 0.9937787855618345\n",
      "Average Precision: 0.9911564895207587\n",
      "EER: 0.03821920079588791\n",
      "Confusion Matrix:\n",
      "[[12050    12]\n",
      " [ 1108  6239]]\n"
     ]
    },
    {
     "data": {
      "image/png": "[encoded data removed]",
      "text/plain": [
       "<Figure size 800x600 with 1 Axes>"
      ]
     },
     "metadata": {},
     "output_type": "display_data"
    },
    {
     "data": {
      "image/png": "[encoded data removed]",
      "text/plain": [
       "<Figure size 800x600 with 1 Axes>"
      ]
     },
     "metadata": {},
     "output_type": "display_data"
    }
   ],
   "source": [
    "Predict_module = PredictDataModule(\n",
    "    csv_file=\"/home/jupyter/Data/meta_npy.csv\",  #--meta_file\n",
    "    allowed_set=[\"in-test\"],  #训练还是测试\n",
    "    allowed_data_source='all',\n",
    "    # ['itw', 'gen', 'LJSpeech', 'vox', 'diffusion-based'] 去掉diffusion-based train的话应该就能得到不太好的eer泛化\n",
    "    batch_size=128,  #训练batch_size\n",
    "    num_workers_csv=96,  #多线程读取csv的\n",
    "    num_workers_dataset=0\n",
    ")\n",
    "\n",
    "Predict_module.setup()\n",
    "predict_loader = Predict_module.get_loader()\n",
    "evaluator = ModelEvaluation(trainer.model, device, predict_loader, weight_path=\"conformerv411.pt\", threshold=0.9)\n",
    "evaluator.load_model()\n",
    "evaluator.predict()\n",
    "evaluator.evaluate()"
   ]
  },
  {
   "cell_type": "code",
   "execution_count": 31,
   "id": "e15df979-32e4-4a77-98fb-245545cc723d",
   "metadata": {},
   "outputs": [
    {
     "data": {
      "application/vnd.jupyter.widget-view+json": {
       "model_id": "5699ecfea55f490c9597866ea7309fbd",
       "version_major": 2,
       "version_minor": 0
      },
      "text/plain": [
       "Loading audio info from CSV:   0%|          | 0/800 [00:00<?, ?it/s]"
      ]
     },
     "metadata": {},
     "output_type": "display_data"
    },
    {
     "name": "stdout",
     "output_type": "stream",
     "text": [
      "Model loaded from conformerv411.pt\n"
     ]
    },
    {
     "data": {
      "application/vnd.jupyter.widget-view+json": {
       "model_id": "3fc446e952b64a8ca46645217b8d9720",
       "version_major": 2,
       "version_minor": 0
      },
      "text/plain": [
       "Predicting:   0%|          | 0/7 [00:00<?, ?it/s]"
      ]
     },
     "metadata": {},
     "output_type": "display_data"
    },
    {
     "name": "stdout",
     "output_type": "stream",
     "text": [
      "Prediction completed.\n",
      "Evaluation Metrics:\n",
      "Accuracy: 0.8425\n",
      "Precision: 0.9721\n",
      "Recall: 0.7857\n",
      "F1 Score: 0.8690\n",
      "AUC Score: 0.9640542587812815\n",
      "Average Precision: 0.9680796674318677\n",
      "EER: 0.1044776119402985\n",
      "Confusion Matrix:\n",
      "[[256  12]\n",
      " [114 418]]\n"
     ]
    },
    {
     "data": {
      "image/png": "[encoded data removed]",
      "text/plain": [
       "<Figure size 800x600 with 1 Axes>"
      ]
     },
     "metadata": {},
     "output_type": "display_data"
    },
    {
     "data": {
      "image/png": "[encoded data removed]",
      "text/plain": [
       "<Figure size 800x600 with 1 Axes>"
      ]
     },
     "metadata": {},
     "output_type": "display_data"
    }
   ],
   "source": [
    "Predict_module = PredictDataModule(\n",
    "    csv_file=\"/home/jupyter/Data/meta_npy.csv\",  #--meta_file\n",
    "    allowed_set=[\"in-test\"],  #训练还是测试\n",
    "    allowed_data_source=['itw'],\n",
    "    # ['itw', 'gen', 'LJSpeech', 'vox', 'diffusion-based'] 去掉diffusion-based train的话应该就能得到不太好的eer泛化\n",
    "    batch_size=128,  #训练batch_size\n",
    "    num_workers_csv=96,  #多线程读取csv的\n",
    "    num_workers_dataset=0\n",
    ")\n",
    "\n",
    "Predict_module.setup()\n",
    "predict_loader = Predict_module.get_loader()\n",
    "evaluator = ModelEvaluation(trainer.model, device, predict_loader, weight_path=\"conformerv411.pt\", threshold=0.9)\n",
    "evaluator.load_model()\n",
    "evaluator.predict()\n",
    "evaluator.evaluate()"
   ]
  },
  {
   "cell_type": "code",
   "execution_count": 33,
   "id": "6817b9ee-ffb5-4b1c-bfe1-7aa6f6554b71",
   "metadata": {},
   "outputs": [
    {
     "data": {
      "application/vnd.jupyter.widget-view+json": {
       "model_id": "c0206f996976409d83f935b2bcf1249f",
       "version_major": 2,
       "version_minor": 0
      },
      "text/plain": [
       "Loading audio info from CSV:   0%|          | 0/11794 [00:00<?, ?it/s]"
      ]
     },
     "metadata": {},
     "output_type": "display_data"
    },
    {
     "name": "stdout",
     "output_type": "stream",
     "text": [
      "Model loaded from conformerv411.pt\n"
     ]
    },
    {
     "data": {
      "application/vnd.jupyter.widget-view+json": {
       "model_id": "97a5c677f5bd431494f3bb7140bc6e8d",
       "version_major": 2,
       "version_minor": 0
      },
      "text/plain": [
       "Predicting:   0%|          | 0/93 [00:00<?, ?it/s]"
      ]
     },
     "metadata": {},
     "output_type": "display_data"
    },
    {
     "name": "stdout",
     "output_type": "stream",
     "text": [
      "Prediction completed.\n",
      "Warning: Only one class present in y_true. Some metrics (ROC AUC, EER) will be set to NaN.\n",
      "Evaluation Metrics:\n",
      "Accuracy: 1.0000\n",
      "Precision: 0.0000\n",
      "Recall: 0.0000\n",
      "F1 Score: 0.0000\n",
      "AUC Score: NaN\n",
      "Average Precision: NaN\n",
      "EER: NaN\n",
      "Confusion Matrix:\n",
      "[[11794]]\n"
     ]
    },
    {
     "name": "stderr",
     "output_type": "stream",
     "text": [
      "/opt/conda/lib/python3.10/site-packages/sklearn/metrics/_classification.py:407: UserWarning: A single label was found in 'y_true' and 'y_pred'. For the confusion matrix to have the correct shape, use the 'labels' parameter to pass all known labels.\n",
      "  warnings.warn(\n"
     ]
    }
   ],
   "source": [
    "Predict_module = PredictDataModule(\n",
    "    csv_file=\"/home/jupyter/Data/meta_npy.csv\",  #--meta_file\n",
    "    allowed_set=[\"in-test\"],  #训练还是测试\n",
    "    allowed_data_source=['gen', 'diffusion-based'],\n",
    "    # ['itw', 'gen', 'LJSpeech', 'vox', 'diffusion-based'] 去掉diffusion-based train的话应该就能得到不太好的eer泛化\n",
    "    batch_size=128,  #训练batch_size\n",
    "    num_workers_csv=96,  #多线程读取csv的\n",
    "    num_workers_dataset=0\n",
    ")\n",
    "\n",
    "Predict_module.setup()\n",
    "predict_loader = Predict_module.get_loader()\n",
    "evaluator = ModelEvaluation(trainer.model, device, predict_loader, weight_path=\"conformerv411.pt\", threshold=0.9)\n",
    "evaluator.load_model()\n",
    "evaluator.predict()\n",
    "evaluator.evaluate()"
   ]
  },
  {
   "cell_type": "code",
   "execution_count": 34,
   "id": "16be561a-4285-42a8-8ce3-fcab7fa66655",
   "metadata": {},
   "outputs": [
    {
     "data": {
      "application/vnd.jupyter.widget-view+json": {
       "model_id": "017f3650e35b4b738543cca5536781aa",
       "version_major": 2,
       "version_minor": 0
      },
      "text/plain": [
       "Loading audio info from CSV:   0%|          | 0/6160 [00:00<?, ?it/s]"
      ]
     },
     "metadata": {},
     "output_type": "display_data"
    },
    {
     "name": "stdout",
     "output_type": "stream",
     "text": [
      "Model loaded from conformerv411.pt\n"
     ]
    },
    {
     "data": {
      "application/vnd.jupyter.widget-view+json": {
       "model_id": "c1ca70f3531a4885a413154fd74ea587",
       "version_major": 2,
       "version_minor": 0
      },
      "text/plain": [
       "Predicting:   0%|          | 0/49 [00:00<?, ?it/s]"
      ]
     },
     "metadata": {},
     "output_type": "display_data"
    },
    {
     "name": "stdout",
     "output_type": "stream",
     "text": [
      "Prediction completed.\n",
      "Warning: Only one class present in y_true. Some metrics (ROC AUC, EER) will be set to NaN.\n",
      "Evaluation Metrics:\n",
      "Accuracy: 0.9450\n",
      "Precision: 1.0000\n",
      "Recall: 0.9450\n",
      "F1 Score: 0.9717\n",
      "AUC Score: NaN\n",
      "Average Precision: NaN\n",
      "EER: NaN\n",
      "Confusion Matrix:\n",
      "[[   0    0]\n",
      " [ 339 5821]]\n"
     ]
    }
   ],
   "source": [
    "Predict_module = PredictDataModule(\n",
    "    csv_file=\"/home/jupyter/Data/meta_npy.csv\",  #--meta_file\n",
    "    allowed_set=[\"in-test\"],  #训练还是测试\n",
    "    allowed_data_source=['vox'],\n",
    "    # ['itw', 'gen', 'LJSpeech', 'vox', 'diffusion-based'] 去掉diffusion-based train的话应该就能得到不太好的eer泛化\n",
    "    batch_size=128,  #训练batch_size\n",
    "    num_workers_csv=96,  #多线程读取csv的\n",
    "    num_workers_dataset=0\n",
    ")\n",
    "\n",
    "Predict_module.setup()\n",
    "predict_loader = Predict_module.get_loader()\n",
    "evaluator = ModelEvaluation(trainer.model, device, predict_loader, weight_path=\"conformerv411.pt\", threshold=0.9)\n",
    "evaluator.load_model()\n",
    "evaluator.predict()\n",
    "evaluator.evaluate()"
   ]
  },
  {
   "cell_type": "code",
   "execution_count": 29,
   "id": "a0e3ef61-99e9-41be-91cf-3de58ca63fa0",
   "metadata": {},
   "outputs": [
    {
     "data": {
      "application/vnd.jupyter.widget-view+json": {
       "model_id": "dc35891571f24b4291f8f335f6af0a8d",
       "version_major": 2,
       "version_minor": 0
      },
      "text/plain": [
       "Loading audio info from CSV:   0%|          | 0/631 [00:00<?, ?it/s]"
      ]
     },
     "metadata": {},
     "output_type": "display_data"
    },
    {
     "name": "stdout",
     "output_type": "stream",
     "text": [
      "Model loaded from conformerv411.pt\n"
     ]
    },
    {
     "data": {
      "application/vnd.jupyter.widget-view+json": {
       "model_id": "07a9bfefdd1848faa10881e06fddb72b",
       "version_major": 2,
       "version_minor": 0
      },
      "text/plain": [
       "Predicting:   0%|          | 0/5 [00:00<?, ?it/s]"
      ]
     },
     "metadata": {},
     "output_type": "display_data"
    },
    {
     "name": "stdout",
     "output_type": "stream",
     "text": [
      "Prediction completed.\n",
      "Warning: Only one class present in y_true. Some metrics (ROC AUC, EER) will be set to NaN.\n",
      "Evaluation Metrics:\n",
      "Accuracy: 0.7290\n",
      "Precision: 0.0000\n",
      "Recall: 0.0000\n",
      "F1 Score: 0.0000\n",
      "AUC Score: NaN\n",
      "Average Precision: NaN\n",
      "EER: NaN\n",
      "Confusion Matrix:\n",
      "[[460 171]\n",
      " [  0   0]]\n"
     ]
    }
   ],
   "source": [
    "Predict_module = PredictDataModule(\n",
    "    csv_file=\"/home/jupyter/Data/11lab_npy.csv\",  #--meta_file\n",
    "    allowed_set=[\"test\"],  #训练还是测试\n",
    "    allowed_data_source='all',\n",
    "    # ['itw', 'gen', 'LJSpeech', 'vox', 'diffusion-based'] 去掉diffusion-based train的话应该就能得到不太好的eer泛化\n",
    "    batch_size=128,  #训练batch_size\n",
    "    num_workers_csv=96,  #多线程读取csv的\n",
    "    num_workers_dataset=0\n",
    ")\n",
    "\n",
    "Predict_module.setup()\n",
    "predict_loader = Predict_module.get_loader()\n",
    "evaluator = ModelEvaluation(trainer.model, device, predict_loader, weight_path=\"conformerv411.pt\", threshold=0.9)\n",
    "evaluator.load_model()\n",
    "evaluator.predict()\n",
    "evaluator.evaluate()"
   ]
  },
  {
   "cell_type": "code",
   "execution_count": 33,
   "id": "b9d29ffe-aa5c-415b-a470-82f0c24c9f34",
   "metadata": {},
   "outputs": [
    {
     "data": {
      "application/vnd.jupyter.widget-view+json": {
       "model_id": "444da28d06c44aca98291258e624d5f0",
       "version_major": 2,
       "version_minor": 0
      },
      "text/plain": [
       "0it [00:00, ?it/s]"
      ]
     },
     "metadata": {},
     "output_type": "display_data"
    }
   ],
   "source": [
    "import progressbar\n",
    "\n",
    "\n",
    "class NPYPredictDataset(Dataset):\n",
    "    def __init__(self, csv_file):\n",
    "        self.df = pd.read_csv(csv_file)\n",
    "\n",
    "    def __len__(self):\n",
    "        return len(self.df)\n",
    "\n",
    "    def __getitem__(self, idx):\n",
    "        row = self.df.iloc[idx]\n",
    "        # 构造 npy 文件的完整路径：以 absolute_path 为根目录，加上 relative_path（即文件名）\n",
    "        absolute_path = row[\"npy_path\"]\n",
    "        wav_name = row[\"relative_path\"]\n",
    "        # full_path = os.path.join(absolute_path, relative_path)\n",
    "\n",
    "        try:\n",
    "            data = np.load(absolute_path)\n",
    "        except Exception as e:\n",
    "            print(f\"Error loading {absolute_path}: {e}\")\n",
    "            # # 默认返回一个全 0 的数组，形状可根据实际情况调整\n",
    "            # data = np.zeros((1, 40, 400), dtype=np.float32)\n",
    "\n",
    "        # 如果数据仅为二维形状 (n_mfcc, frames)，扩展 channel 维度\n",
    "        if data.ndim == 2:\n",
    "            data = np.expand_dims(data, axis=0)\n",
    "\n",
    "        tensor_data = torch.tensor(data, dtype=torch.float32)\n",
    "        return tensor_data, wav_name\n",
    "\n",
    "\n",
    "# -------------------------------------------\n",
    "# 批量预测函数\n",
    "# -------------------------------------------\n",
    "def predict_npy_files(model, device, csv_file, batch_size=16, threshold=0.9):\n",
    "    dataset = NPYPredictDataset(csv_file)\n",
    "    loader = DataLoader(dataset, batch_size=batch_size, shuffle=False)\n",
    "\n",
    "    model.eval()\n",
    "    results = []\n",
    "    with torch.no_grad():\n",
    "        for i, batch in tqdm(enumerate(loader)):\n",
    "            inputs, wavs = batch  # wavs 为 CSV 中的 relative_path（文件名）\n",
    "            inputs = inputs.to(device)\n",
    "            outputs = model(inputs).squeeze(1)\n",
    "            probs = torch.sigmoid(outputs).cpu().numpy()\n",
    "            preds = (probs >= threshold).astype(int)\n",
    "\n",
    "            for wav, prob, pred in zip(wavs, probs, preds):\n",
    "                results.append((wav, prob, int(pred)))\n",
    "    return results\n",
    "\n",
    "\n",
    "# -------------------------------------------\n",
    "# 示例：加载模型，预测并输出结果\n",
    "# -------------------------------------------\n",
    "if __name__ == \"__main__\":\n",
    "    device = torch.device(\"cuda\" if torch.cuda.is_available() else \"cpu\")\n",
    "    model = Conformer(input_dim=40, d_model=32, d_ff=64, num_heads=4, num_layers=6, dropout=0.1, kernel_size=7,\n",
    "                      num_classes=1).to(device)\n",
    "    model.load_state_dict(torch.load(\"conformerv411.pt\", map_location=device))\n",
    "    model.eval()\n",
    "\n",
    "    csv_file = \"../Data/11lab_npy.csv\"\n",
    "\n",
    "    results = predict_npy_files(model, device, csv_file, batch_size=1, threshold=0.9)\n",
    "    pd.DataFrame(results, columns=['wav', 'prob', 'pred']).to_csv('11lab_res.csv', index=False)"
   ]
  },
  {
   "cell_type": "code",
   "execution_count": 34,
   "id": "2baa2c4f-70e7-4f2d-8552-778b709d61cf",
   "metadata": {},
   "outputs": [],
   "source": [
    "res = pd.read_csv('11lab_res.csv')"
   ]
  },
  {
   "cell_type": "code",
   "execution_count": 35,
   "id": "293a6366-b37d-403d-8b40-82e531385a14",
   "metadata": {},
   "outputs": [
    {
     "data": {
      "text/plain": [
       "pred\n",
       "0    460\n",
       "1    171\n",
       "Name: count, dtype: int64"
      ]
     },
     "execution_count": 35,
     "metadata": {},
     "output_type": "execute_result"
    }
   ],
   "source": [
    "res.pred.value_counts()"
   ]
  },
  {
   "cell_type": "code",
   "execution_count": null,
   "id": "d5e514c3-61cb-4bb4-8a89-dc7ea76dbc96",
   "metadata": {},
   "outputs": [],
   "source": []
  }
 ],
 "metadata": {
  "environment": {
   "kernel": "conda-base-py",
   "name": "workbench-notebooks.m128",
   "type": "gcloud",
   "uri": "us-docker.pkg.dev/deeplearning-platform-release/gcr.io/workbench-notebooks:m128"
  },
  "kernelspec": {
   "display_name": "Python 3 (ipykernel) (Local)",
   "language": "python",
   "name": "conda-base-py"
  },
  "language_info": {
   "codemirror_mode": {
    "name": "ipython",
    "version": 3
   },
   "file_extension": ".py",
   "mimetype": "text/x-python",
   "name": "python",
   "nbconvert_exporter": "python",
   "pygments_lexer": "ipython3",
   "version": "3.10.16"
  }
 },
 "nbformat": 4,
 "nbformat_minor": 5
}
