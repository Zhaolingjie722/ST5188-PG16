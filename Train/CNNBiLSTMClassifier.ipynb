{
 "cells": [
  {
   "cell_type": "code",
   "execution_count": 3,
   "id": "df7acc24-42e8-410e-9c75-77b37de2f7ca",
   "metadata": {
    "collapsed": true,
    "jupyter": {
     "outputs_hidden": true
    },
    "tags": []
   },
   "outputs": [
    {
     "name": "stdout",
     "output_type": "stream",
     "text": [
      "Requirement already satisfied: torch in /opt/conda/lib/python3.10/site-packages (2.6.0)\n",
      "Requirement already satisfied: torchvision in /opt/conda/lib/python3.10/site-packages (0.21.0)\n",
      "Requirement already satisfied: google-cloud-storage in /opt/conda/lib/python3.10/site-packages (2.14.0)\n",
      "Requirement already satisfied: filelock in /opt/conda/lib/python3.10/site-packages (from torch) (3.17.0)\n",
      "Requirement already satisfied: typing-extensions>=4.10.0 in /opt/conda/lib/python3.10/site-packages (from torch) (4.12.2)\n",
      "Requirement already satisfied: networkx in /opt/conda/lib/python3.10/site-packages (from torch) (3.4.2)\n",
      "Requirement already satisfied: jinja2 in /opt/conda/lib/python3.10/site-packages (from torch) (3.1.5)\n",
      "Requirement already satisfied: fsspec in /opt/conda/lib/python3.10/site-packages (from torch) (2025.2.0)\n",
      "Requirement already satisfied: nvidia-cuda-nvrtc-cu12==12.4.127 in /opt/conda/lib/python3.10/site-packages (from torch) (12.4.127)\n",
      "Requirement already satisfied: nvidia-cuda-runtime-cu12==12.4.127 in /opt/conda/lib/python3.10/site-packages (from torch) (12.4.127)\n",
      "Requirement already satisfied: nvidia-cuda-cupti-cu12==12.4.127 in /opt/conda/lib/python3.10/site-packages (from torch) (12.4.127)\n",
      "Requirement already satisfied: nvidia-cudnn-cu12==9.1.0.70 in /opt/conda/lib/python3.10/site-packages (from torch) (9.1.0.70)\n",
      "Requirement already satisfied: nvidia-cublas-cu12==12.4.5.8 in /opt/conda/lib/python3.10/site-packages (from torch) (12.4.5.8)\n",
      "Requirement already satisfied: nvidia-cufft-cu12==11.2.1.3 in /opt/conda/lib/python3.10/site-packages (from torch) (11.2.1.3)\n",
      "Requirement already satisfied: nvidia-curand-cu12==10.3.5.147 in /opt/conda/lib/python3.10/site-packages (from torch) (10.3.5.147)\n",
      "Requirement already satisfied: nvidia-cusolver-cu12==11.6.1.9 in /opt/conda/lib/python3.10/site-packages (from torch) (11.6.1.9)\n",
      "Requirement already satisfied: nvidia-cusparse-cu12==12.3.1.170 in /opt/conda/lib/python3.10/site-packages (from torch) (12.3.1.170)\n",
      "Requirement already satisfied: nvidia-cusparselt-cu12==0.6.2 in /opt/conda/lib/python3.10/site-packages (from torch) (0.6.2)\n",
      "Requirement already satisfied: nvidia-nccl-cu12==2.21.5 in /opt/conda/lib/python3.10/site-packages (from torch) (2.21.5)\n",
      "Requirement already satisfied: nvidia-nvtx-cu12==12.4.127 in /opt/conda/lib/python3.10/site-packages (from torch) (12.4.127)\n",
      "Requirement already satisfied: nvidia-nvjitlink-cu12==12.4.127 in /opt/conda/lib/python3.10/site-packages (from torch) (12.4.127)\n",
      "Requirement already satisfied: triton==3.2.0 in /opt/conda/lib/python3.10/site-packages (from torch) (3.2.0)\n",
      "Requirement already satisfied: sympy==1.13.1 in /opt/conda/lib/python3.10/site-packages (from torch) (1.13.1)\n",
      "Requirement already satisfied: mpmath<1.4,>=1.1.0 in /opt/conda/lib/python3.10/site-packages (from sympy==1.13.1->torch) (1.3.0)\n",
      "Requirement already satisfied: numpy in /opt/conda/lib/python3.10/site-packages (from torchvision) (1.26.4)\n",
      "Requirement already satisfied: pillow!=8.3.*,>=5.3.0 in /opt/conda/lib/python3.10/site-packages (from torchvision) (11.1.0)\n",
      "Requirement already satisfied: google-auth<3.0dev,>=2.23.3 in /opt/conda/lib/python3.10/site-packages (from google-cloud-storage) (2.38.0)\n",
      "Requirement already satisfied: google-api-core!=2.0.*,!=2.1.*,!=2.2.*,!=2.3.0,<3.0.0dev,>=1.31.5 in /opt/conda/lib/python3.10/site-packages (from google-cloud-storage) (1.34.1)\n",
      "Requirement already satisfied: google-cloud-core<3.0dev,>=2.3.0 in /opt/conda/lib/python3.10/site-packages (from google-cloud-storage) (2.4.1)\n",
      "Requirement already satisfied: google-resumable-media>=2.6.0 in /opt/conda/lib/python3.10/site-packages (from google-cloud-storage) (2.7.2)\n",
      "Requirement already satisfied: requests<3.0.0dev,>=2.18.0 in /opt/conda/lib/python3.10/site-packages (from google-cloud-storage) (2.32.3)\n",
      "Requirement already satisfied: google-crc32c<2.0dev,>=1.0 in /opt/conda/lib/python3.10/site-packages (from google-cloud-storage) (1.6.0)\n",
      "Requirement already satisfied: googleapis-common-protos<2.0dev,>=1.56.2 in /opt/conda/lib/python3.10/site-packages (from google-api-core!=2.0.*,!=2.1.*,!=2.2.*,!=2.3.0,<3.0.0dev,>=1.31.5->google-cloud-storage) (1.67.0rc1)\n",
      "Requirement already satisfied: protobuf!=3.20.0,!=3.20.1,!=4.21.0,!=4.21.1,!=4.21.2,!=4.21.3,!=4.21.4,!=4.21.5,<4.0.0dev,>=3.19.5 in /opt/conda/lib/python3.10/site-packages (from google-api-core!=2.0.*,!=2.1.*,!=2.2.*,!=2.3.0,<3.0.0dev,>=1.31.5->google-cloud-storage) (3.20.3)\n",
      "Requirement already satisfied: cachetools<6.0,>=2.0.0 in /opt/conda/lib/python3.10/site-packages (from google-auth<3.0dev,>=2.23.3->google-cloud-storage) (5.5.1)\n",
      "Requirement already satisfied: pyasn1-modules>=0.2.1 in /opt/conda/lib/python3.10/site-packages (from google-auth<3.0dev,>=2.23.3->google-cloud-storage) (0.4.1)\n",
      "Requirement already satisfied: rsa<5,>=3.1.4 in /opt/conda/lib/python3.10/site-packages (from google-auth<3.0dev,>=2.23.3->google-cloud-storage) (4.9)\n",
      "Requirement already satisfied: charset_normalizer<4,>=2 in /opt/conda/lib/python3.10/site-packages (from requests<3.0.0dev,>=2.18.0->google-cloud-storage) (3.4.1)\n",
      "Requirement already satisfied: idna<4,>=2.5 in /opt/conda/lib/python3.10/site-packages (from requests<3.0.0dev,>=2.18.0->google-cloud-storage) (3.10)\n",
      "Requirement already satisfied: urllib3<3,>=1.21.1 in /opt/conda/lib/python3.10/site-packages (from requests<3.0.0dev,>=2.18.0->google-cloud-storage) (1.26.20)\n",
      "Requirement already satisfied: certifi>=2017.4.17 in /opt/conda/lib/python3.10/site-packages (from requests<3.0.0dev,>=2.18.0->google-cloud-storage) (2024.12.14)\n",
      "Requirement already satisfied: MarkupSafe>=2.0 in /opt/conda/lib/python3.10/site-packages (from jinja2->torch) (3.0.2)\n",
      "Requirement already satisfied: pyasn1<0.7.0,>=0.4.6 in /opt/conda/lib/python3.10/site-packages (from pyasn1-modules>=0.2.1->google-auth<3.0dev,>=2.23.3->google-cloud-storage) (0.6.1)\n",
      "Requirement already satisfied: opencv-python in /opt/conda/lib/python3.10/site-packages (4.11.0.86)\n",
      "Requirement already satisfied: numpy>=1.21.2 in /opt/conda/lib/python3.10/site-packages (from opencv-python) (1.26.4)\n",
      "Collecting wandb\n",
      "  Downloading wandb-0.19.8-py3-none-manylinux_2_17_x86_64.manylinux2014_x86_64.whl.metadata (10 kB)\n",
      "Requirement already satisfied: click!=8.0.0,>=7.1 in /opt/conda/lib/python3.10/site-packages (from wandb) (8.1.8)\n",
      "Collecting docker-pycreds>=0.4.0 (from wandb)\n",
      "  Downloading docker_pycreds-0.4.0-py2.py3-none-any.whl.metadata (1.8 kB)\n",
      "Requirement already satisfied: gitpython!=3.1.29,>=1.0.0 in /opt/conda/lib/python3.10/site-packages (from wandb) (3.1.44)\n",
      "Requirement already satisfied: platformdirs in /opt/conda/lib/python3.10/site-packages (from wandb) (4.3.6)\n",
      "Requirement already satisfied: protobuf!=4.21.0,!=5.28.0,<6,>=3.19.0 in /opt/conda/lib/python3.10/site-packages (from wandb) (3.20.3)\n",
      "Requirement already satisfied: psutil>=5.0.0 in /opt/conda/lib/python3.10/site-packages (from wandb) (5.9.3)\n",
      "Requirement already satisfied: pydantic<3,>=2.6 in /opt/conda/lib/python3.10/site-packages (from wandb) (2.10.6)\n",
      "Requirement already satisfied: pyyaml in /opt/conda/lib/python3.10/site-packages (from wandb) (6.0.2)\n",
      "Requirement already satisfied: requests<3,>=2.0.0 in /opt/conda/lib/python3.10/site-packages (from wandb) (2.32.3)\n",
      "Collecting sentry-sdk>=2.0.0 (from wandb)\n",
      "  Downloading sentry_sdk-2.23.1-py2.py3-none-any.whl.metadata (10 kB)\n",
      "Collecting setproctitle (from wandb)\n",
      "  Downloading setproctitle-1.3.5-cp310-cp310-manylinux_2_5_x86_64.manylinux1_x86_64.manylinux_2_17_x86_64.manylinux2014_x86_64.whl.metadata (10 kB)\n",
      "Requirement already satisfied: setuptools in /opt/conda/lib/python3.10/site-packages (from wandb) (75.8.0)\n",
      "Requirement already satisfied: typing-extensions<5,>=4.4 in /opt/conda/lib/python3.10/site-packages (from wandb) (4.12.2)\n",
      "Requirement already satisfied: six>=1.4.0 in /opt/conda/lib/python3.10/site-packages (from docker-pycreds>=0.4.0->wandb) (1.17.0)\n",
      "Requirement already satisfied: gitdb<5,>=4.0.1 in /opt/conda/lib/python3.10/site-packages (from gitpython!=3.1.29,>=1.0.0->wandb) (4.0.12)\n",
      "Requirement already satisfied: annotated-types>=0.6.0 in /opt/conda/lib/python3.10/site-packages (from pydantic<3,>=2.6->wandb) (0.7.0)\n",
      "Requirement already satisfied: pydantic-core==2.27.2 in /opt/conda/lib/python3.10/site-packages (from pydantic<3,>=2.6->wandb) (2.27.2)\n",
      "Requirement already satisfied: charset_normalizer<4,>=2 in /opt/conda/lib/python3.10/site-packages (from requests<3,>=2.0.0->wandb) (3.4.1)\n",
      "Requirement already satisfied: idna<4,>=2.5 in /opt/conda/lib/python3.10/site-packages (from requests<3,>=2.0.0->wandb) (3.10)\n",
      "Requirement already satisfied: urllib3<3,>=1.21.1 in /opt/conda/lib/python3.10/site-packages (from requests<3,>=2.0.0->wandb) (1.26.20)\n",
      "Requirement already satisfied: certifi>=2017.4.17 in /opt/conda/lib/python3.10/site-packages (from requests<3,>=2.0.0->wandb) (2024.12.14)\n",
      "Requirement already satisfied: smmap<6,>=3.0.1 in /opt/conda/lib/python3.10/site-packages (from gitdb<5,>=4.0.1->gitpython!=3.1.29,>=1.0.0->wandb) (5.0.2)\n",
      "Downloading wandb-0.19.8-py3-none-manylinux_2_17_x86_64.manylinux2014_x86_64.whl (20.8 MB)\n",
      "\u001B[2K   \u001B[90m━━━━━━━━━━━━━━━━━━━━━━━━━━━━━━━━━━━━━━━━\u001B[0m \u001B[32m20.8/20.8 MB\u001B[0m \u001B[31m141.4 MB/s\u001B[0m eta \u001B[36m0:00:00\u001B[0m\n",
      "\u001B[?25hDownloading docker_pycreds-0.4.0-py2.py3-none-any.whl (9.0 kB)\n",
      "Downloading sentry_sdk-2.23.1-py2.py3-none-any.whl (336 kB)\n",
      "Downloading setproctitle-1.3.5-cp310-cp310-manylinux_2_5_x86_64.manylinux1_x86_64.manylinux_2_17_x86_64.manylinux2014_x86_64.whl (30 kB)\n",
      "Installing collected packages: setproctitle, sentry-sdk, docker-pycreds, wandb\n",
      "Successfully installed docker-pycreds-0.4.0 sentry-sdk-2.23.1 setproctitle-1.3.5 wandb-0.19.8\n"
     ]
    }
   ],
   "source": [
    "# !pip install torch torchvision google-cloud-storage\n",
    "# !pip install opencv-python\n",
    "# !pip install wandb\n",
    "# !pip install librosa"
   ]
  },
  {
   "cell_type": "code",
   "execution_count": 1,
   "id": "f3f875e6-c640-4ef5-9cdc-e3f1d6307672",
   "metadata": {
    "tags": []
   },
   "outputs": [],
   "source": [
    "import cv2\n",
    "import gc\n",
    "import io\n",
    "import librosa\n",
    "import librosa.display\n",
    "import matplotlib.pyplot as plt\n",
    "import numpy as np\n",
    "import pandas as pd\n",
    "import tempfile\n",
    "import torch\n",
    "import torch.nn as nn\n",
    "import torch.nn.functional as F\n",
    "import torch.optim as optim\n",
    "import wandb\n",
    "from concurrent.futures import ThreadPoolExecutor, as_completed\n",
    "from sklearn.metrics import (roc_curve, recall_score, precision_score, accuracy_score, roc_auc_score,\n",
    "                             average_precision_score, confusion_matrix, classification_report, precision_recall_curve)\n",
    "from sklearn.model_selection import GroupKFold\n",
    "from sklearn.model_selection import train_test_split\n",
    "from torch.utils.data import Dataset, DataLoader, Subset\n",
    "from tqdm.notebook import tqdm"
   ]
  },
  {
   "cell_type": "code",
   "execution_count": 3,
   "id": "dcf14223-4df1-4d06-86c6-444d463841de",
   "metadata": {},
   "outputs": [],
   "source": [
    "# ------------------------------\n",
    "# 1. CSVAudioLoader 从Meta_csv读取音频\n",
    "# ------------------------------\n",
    "class CSVAudioLoader:\n",
    "    def __init__(self, target_sr=16000, max_workers=96):\n",
    "        \"\"\"\n",
    "        Initialize CSVAudioLoader\n",
    "        :param target_sr: target sampling rate, default 16000\n",
    "        :param max_workers: maximum number of threads in multithreading, default 96\n",
    "        \"\"\"\n",
    "        self.target_sr = target_sr\n",
    "        self.max_workers = max_workers\n",
    "\n",
    "    def load_audio_from_csv(self, csv_file, allowed_set=None, allowed_data_source=\"all\"):\n",
    "        \"\"\"\n",
    "        Load audio data from a CSV file and filter records based on allowed_set and allowed_data_source.\n",
    "        The CSV file should contain the following fields:\n",
    "        - absolute_path: absolute path to the audio file\n",
    "        - data_source: data source (e.g. \"itw\")\n",
    "        - speaker: speaker information\n",
    "        - label_set: label and dataset combination (e.g. (1, 'train'))\n",
    "        - Set: dataset partition (e.g. \"train\", \"test\", \"in-test\")\n",
    "        \n",
    "        :param csv_file: CSV file path\n",
    "        :param allowed_set: list of Set values ​​allowed to be loaded (e.g. [\"train\", \"test\", \"in-test\"]), if None, no Set filtering is performed\n",
    "        :param allowed_data_source: list of data_source values ​​allowed to be loaded, if set to \"all\", no filtering is performed, otherwise it must be a list, e.g. [\"itw\"]\n",
    "        :return: Returns a list with each element as a tuple, (absolute_path, audio, sr, speaker, label)\n",
    "         \"\"\"\n",
    "\n",
    "        df = pd.read_csv(csv_file)\n",
    "        # 根据 allowed_set 过滤数据（假设 CSV 中的列名为 \"Set\"）\n",
    "        if allowed_set is not None:\n",
    "            df = df[df[\"Set\"].isin(allowed_set)]\n",
    "        # 根据 allowed_data_source 过滤数据（当其不等于 \"all\" 时）\n",
    "        if allowed_data_source != \"all\":\n",
    "            df = df[df[\"data_source\"].isin(allowed_data_source)]\n",
    "\n",
    "        def load_audio(row):\n",
    "            file_path = row[\"absolute_path\"]\n",
    "            try:\n",
    "                audio, sr = librosa.load(file_path, sr=self.target_sr, mono=True)\n",
    "                return (file_path, audio, sr, row[\"speaker\"], row['label'])\n",
    "            except Exception as e:\n",
    "                print(f\"Error loading audio from {file_path}: {e}\")\n",
    "                return None\n",
    "\n",
    "        records = []\n",
    "        with ThreadPoolExecutor(max_workers=self.max_workers) as executor:\n",
    "            futures = {executor.submit(load_audio, row): idx for idx, row in df.iterrows()}\n",
    "            for future in tqdm(as_completed(futures), total=len(futures), desc=\"Loading audio from CSV\"):\n",
    "                result = future.result()\n",
    "                if result is not None:\n",
    "                    records.append(result)\n",
    "        return records"
   ]
  },
  {
   "cell_type": "code",
   "execution_count": 4,
   "id": "67129269-0244-4f3f-9eaa-d023667f9de1",
   "metadata": {},
   "outputs": [
    {
     "data": {
      "application/vnd.jupyter.widget-view+json": {
       "model_id": "dd420cf007e241a58a8e3d1b55702759",
       "version_major": 2,
       "version_minor": 0
      },
      "text/plain": [
       "Loading audio from CSV:   0%|          | 0/15205 [00:00<?, ?it/s]"
      ]
     },
     "metadata": {},
     "output_type": "display_data"
    }
   ],
   "source": [
    "audio_loader = CSVAudioLoader(target_sr=16000, max_workers=96)\n",
    "train_audio = audio_loader.load_audio_from_csv(csv_file=\"../Data/meta_final.csv\", allowed_set=[\"train\"],\n",
    "                                               allowed_data_source=[\"itw\"])"
   ]
  },
  {
   "cell_type": "code",
   "execution_count": 5,
   "id": "c439466e-07ac-4bae-8af7-888ddaf08a9e",
   "metadata": {
    "tags": []
   },
   "outputs": [],
   "source": [
    "# ------------------------------\n",
    "# 3. 定义 MFCCExtractor \n",
    "# ------------------------------\n",
    "class MFCCExtractor:\n",
    "    def __init__(self, n_mfcc=60, hop_length=512, n_fft=1024, target_frames=400, max_workers=80, **kwargs):\n",
    "        \"\"\"\n",
    "        初始化 MFCC 提取器，可自定义 MFCC 参数，并将输出统一调整为 (n_mfcc, target_frames)\n",
    "        :param n_mfcc: MFCC 数量，默认 60\n",
    "        :param hop_length: 帧移，默认 512\n",
    "        :param n_fft: FFT 点数，默认 1024\n",
    "        :param target_frames: 目标时间帧数，默认 400（仅用于 extract_features 中的 resize）\n",
    "        :param max_workers: 多线程时的线程数，默认 80\n",
    "        :param kwargs: 其他参数传给 librosa.feature.mfcc\n",
    "        \"\"\"\n",
    "        self.n_mfcc = n_mfcc\n",
    "        self.hop_length = hop_length\n",
    "        self.n_fft = n_fft\n",
    "        self.target_frames = target_frames\n",
    "        self.max_workers = max_workers\n",
    "        self.kwargs = kwargs\n",
    "\n",
    "    def extract_features(self, audio, sr):\n",
    "        \"\"\"\n",
    "        对单个音频信号提取 MFCC 特征，并通过 cv2.resize 调整输出为固定尺寸 (n_mfcc, target_frames)\n",
    "        :param audio: 音频信号 (numpy 数组)\n",
    "        :param sr: 采样率\n",
    "        :return: MFCC 特征矩阵 (numpy 数组)，shape 为 (n_mfcc, target_frames)\n",
    "        \"\"\"\n",
    "        mfccs = librosa.feature.mfcc(\n",
    "            y=audio,\n",
    "            sr=sr,\n",
    "            n_mfcc=self.n_mfcc,\n",
    "            hop_length=self.hop_length,\n",
    "            n_fft=self.n_fft,\n",
    "            **self.kwargs\n",
    "        )\n",
    "        resized_mfcc = cv2.resize(mfccs.astype(np.float32), (self.target_frames, self.n_mfcc),\n",
    "                                  interpolation=cv2.INTER_LINEAR)\n",
    "        return resized_mfcc\n",
    "\n",
    "    def extract_batch(self, audio_data):\n",
    "        \"\"\"\n",
    "        对一批音频数据进行批量 MFCC 特征提取，使用多线程方式。\n",
    "        每个音频数据应为至少包含以下字段的元组：\n",
    "          (file_path, audio, sr, data_source, speaker, Set, label)\n",
    "        提取后返回 (mfcc_features, speaker, label) 供后续防止 speaker 泄露和标签保存使用。\n",
    "        :param audio_data: 列表，每个元素至少包含 (file_path, audio, sr, speaker, label)\n",
    "        :return: 列表，每个元素为 (mfcc_features, speaker, label)\n",
    "        \"\"\"\n",
    "\n",
    "        def process_row(row):\n",
    "            # row 中的顺序: 0: file_path, 1: audio, 2: sr, 3: speaker 4: label\n",
    "            audio = row[1]\n",
    "            sr = row[2]\n",
    "            mfcc_features = self.extract_features(audio, sr)\n",
    "            speaker = row[3]\n",
    "            label = row[4]\n",
    "            return (mfcc_features, speaker, label)\n",
    "\n",
    "        features = []\n",
    "        with ThreadPoolExecutor(max_workers=self.max_workers) as executor:\n",
    "            futures = {executor.submit(process_row, row): row for row in audio_data}\n",
    "            for future in tqdm(as_completed(futures), total=len(futures), desc=\"Extracting MFCC features\"):\n",
    "                try:\n",
    "                    result = future.result()\n",
    "                    features.append(result)\n",
    "                except Exception as e:\n",
    "                    print(f\"Error extracting features: {e}\")\n",
    "        return features\n"
   ]
  },
  {
   "cell_type": "code",
   "execution_count": 7,
   "id": "521f969a-4b2b-4c67-ac10-9832bba3cf57",
   "metadata": {},
   "outputs": [
    {
     "data": {
      "text/plain": [
       "0"
      ]
     },
     "execution_count": 7,
     "metadata": {},
     "output_type": "execute_result"
    }
   ],
   "source": [
    "gc.collect()"
   ]
  },
  {
   "cell_type": "code",
   "execution_count": 9,
   "id": "2b4883f6-6d45-4d12-9b56-63eb9f2ce3aa",
   "metadata": {},
   "outputs": [
    {
     "data": {
      "application/vnd.jupyter.widget-view+json": {
       "model_id": "8502ae254ad44caabfc0c8e19c57e01b",
       "version_major": 2,
       "version_minor": 0
      },
      "text/plain": [
       "Extracting MFCC features:   0%|          | 0/15205 [00:00<?, ?it/s]"
      ]
     },
     "metadata": {},
     "output_type": "display_data"
    }
   ],
   "source": [
    "# 初始化 MFCCExtractor，并设置所需的参数，例如 n_mfcc, hop_length, n_fft 等\n",
    "mfcc_extractor = MFCCExtractor(n_mfcc=60, hop_length=256, n_fft=1024, max_workers=96)\n",
    "mfcc_features = mfcc_extractor.extract_batch(train_audio)"
   ]
  },
  {
   "cell_type": "code",
   "execution_count": 10,
   "id": "8da1c541-1dfa-4ad0-b097-425aecae66b5",
   "metadata": {
    "tags": []
   },
   "outputs": [
    {
     "data": {
      "image/png": "[encoded data removed]",
      "text/plain": [
       "<Figure size 1000x400 with 2 Axes>"
      ]
     },
     "metadata": {},
     "output_type": "display_data"
    }
   ],
   "source": [
    "def visualize_feature(feature, sr=16000, hop_length=512, title=\"MFCC Feature\"):\n",
    "    \"\"\"\n",
    "    可视化单个 MFCC 特征矩阵\n",
    "\n",
    "    :param feature: MFCC 特征矩阵，形状为 (n_mfcc, target_frames) 例如 (60, 400)\n",
    "    :param sr: 采样率（用于时间轴标注）\n",
    "    :param hop_length: 帧移（用于时间轴标注）\n",
    "    :param title: 图像标题\n",
    "    \"\"\"\n",
    "    plt.figure(figsize=(10, 4))\n",
    "    # 使用 librosa.display.specshow 显示，x_axis='time' 会根据 sr 和 hop_length 自动计算时间轴\n",
    "    librosa.display.specshow(feature, x_axis='time', sr=sr, hop_length=hop_length)\n",
    "    plt.colorbar(format='%+2.0f dB')\n",
    "    plt.title(title)\n",
    "    plt.tight_layout()\n",
    "    plt.show()\n",
    "\n",
    "\n",
    "# ------------------------------\n",
    "demo_feature, speaker, label = mfcc_features[0]\n",
    "visualize_feature(demo_feature, sr=16000, hop_length=512, title=\"Resized MFCC Feature\")\n"
   ]
  },
  {
   "cell_type": "code",
   "execution_count": 11,
   "id": "1e588ac5-adc8-4daa-ab13-526a02fa3469",
   "metadata": {
    "editable": true,
    "slideshow": {
     "slide_type": ""
    },
    "tags": []
   },
   "outputs": [],
   "source": [
    "# ------------------------------\n",
    "# 4. 定义 Dataset 类 & GroupKFold\n",
    "# ------------------------------\n",
    "class AudioMFCCDataset(Dataset):\n",
    "    \"\"\"\n",
    "    AudioMFCCDataset 用于加载 MFCC 特征及对应标签和 speaker 信息。\n",
    "\n",
    "    输入数据格式：\n",
    "      - samples: 列表，每个元素为 (mfcc_features, speaker, label)\n",
    "        其中 mfcc_features 为提取好的 MFCC 特征（形状为 (n_mfcc, target_frames)），\n",
    "        speaker 为说话人标识，\n",
    "        label 为音频对应的标签（例如 1 表示真实，0 表示伪造）\n",
    "      \n",
    "    可选参数 transform 可用于对特征进行预处理或数据增强。\n",
    "    \"\"\"\n",
    "\n",
    "    def __init__(self, samples, transform=None):\n",
    "        \"\"\"\n",
    "        初始化 AudioMFCCDataset\n",
    "\n",
    "        :param samples: list，每个元素为 (mfcc_features, speaker, label)\n",
    "        :param transform: 可选，传入一个函数或 transform 对象，对特征进行预处理\n",
    "        \"\"\"\n",
    "        self.samples = samples\n",
    "        self.transform = transform\n",
    "\n",
    "    def __len__(self):\n",
    "        return len(self.samples)\n",
    "\n",
    "    def __getitem__(self, index):\n",
    "        \"\"\"\n",
    "        获取指定索引处的样本数据\n",
    "\n",
    "        :param index: int，样本索引\n",
    "        :return: tuple (features, label, speaker)\n",
    "                 features: torch.Tensor 类型，形状为 (1, n_mfcc, target_frames)\n",
    "                 label: torch.Tensor 类型的标签（0 或 1）\n",
    "                 speaker: 原始的 speaker 信息（字符串）\n",
    "        \"\"\"\n",
    "        if index < 0 or index >= len(self.samples):\n",
    "            raise IndexError(\"Index {} out of range\".format(index))\n",
    "\n",
    "        mfcc_features, speaker, label = self.samples[index]\n",
    "\n",
    "        # 如果定义了数据变换，则应用该变换\n",
    "        if self.transform:\n",
    "            mfcc_features = self.transform(mfcc_features)\n",
    "\n",
    "        # 转换为 tensor\n",
    "        features = torch.tensor(mfcc_features, dtype=torch.float32)\n",
    "\n",
    "        # 确保 features 为 3D: (channels, n_mfcc, target_frames)\n",
    "        if features.dim() == 2:\n",
    "            features = features.unsqueeze(0)\n",
    "        elif features.dim() == 3 and features.shape[0] != 1:\n",
    "            features = features[0:1, ...]\n",
    "\n",
    "        label = torch.tensor(label, dtype=torch.long)\n",
    "        return features, label, speaker\n",
    "\n",
    "    def get_group_splits(self, n_splits=5, random_state=None):\n",
    "        \"\"\"\n",
    "        使用 GroupKFold 根据 speaker 信息划分训练和验证集合，防止同一 speaker 出现在不同 Fold 中。\n",
    "        \n",
    "        :param n_splits: 拆分的 Fold 数量，默认 5\n",
    "        :param random_state: 随机种子，GroupKFold 本身不支持随机种子，如果需要随机打乱，请先自行打乱数据。\n",
    "        :return: 返回一个列表，每个元素为 (train_idx, valid_idx)\n",
    "        \"\"\"\n",
    "        n_samples = len(self)\n",
    "        indices = np.arange(n_samples)\n",
    "        # 每个样本的 speaker 信息存放在 self.samples 中，格式为 (mfcc_features, speaker, label)\n",
    "        groups = [self.samples[i][1] for i in range(n_samples)]\n",
    "        gkf = GroupKFold(n_splits=n_splits)\n",
    "        splits = list(gkf.split(indices, groups=groups))\n",
    "        return splits\n",
    "\n"
   ]
  },
  {
   "cell_type": "code",
   "execution_count": 18,
   "id": "8cfe05cf-39b0-4c02-89ad-11c6a26586fb",
   "metadata": {
    "tags": []
   },
   "outputs": [
    {
     "name": "stdout",
     "output_type": "stream",
     "text": [
      "--device_available: cuda--\n"
     ]
    }
   ],
   "source": [
    "# ----------------------------------------\n",
    "# 5. Define a simple CNN&LSTM Model\n",
    "# ----------------------------------------\n",
    "device = torch.device(\"cuda\" if torch.cuda.is_available() else \"cpu\")\n",
    "print(f\"--device_available: {device}--\")\n",
    "\n",
    "\n",
    "class CNNBiLSTMClassifier(nn.Module):\n",
    "    def __init__(self, lstm_hidden_size=128, lstm_num_layers=1):\n",
    "        \"\"\"\n",
    "        构造函数：\n",
    "          lstm_hidden_size: BiLSTM 隐藏层单元数\n",
    "          lstm_num_layers: BiLSTM 层数\n",
    "        \"\"\"\n",
    "        super(CNNBiLSTMClassifier, self).__init__()\n",
    "\n",
    "        # CNN 部分\n",
    "        self.conv1 = nn.Conv2d(in_channels=1, out_channels=32, kernel_size=3, padding=1)\n",
    "        # 此处采用池化核大小 (2,1) 主要降低高度维度\n",
    "        self.pool1 = nn.MaxPool2d(kernel_size=(2, 1))\n",
    "        self.conv2 = nn.Conv2d(in_channels=32, out_channels=64, kernel_size=3, padding=1)\n",
    "        self.pool2 = nn.MaxPool2d(kernel_size=(2, 1))\n",
    "\n",
    "        # 使用自适应平均池化将高度降到1，保留宽度（时间步数）\n",
    "        self.adaptive_pool = nn.AdaptiveAvgPool2d((1, None))\n",
    "        self.dropout = nn.Dropout(0.5)\n",
    "\n",
    "        # BiLSTM 部分\n",
    "        # 输入特征数为 64（CNN 输出通道数）\n",
    "        self.bilstm = nn.LSTM(input_size=64,\n",
    "                              hidden_size=lstm_hidden_size,\n",
    "                              num_layers=lstm_num_layers,\n",
    "                              bidirectional=True,\n",
    "                              batch_first=False)  # LSTM 要求输入形状为 (seq_len, batch, feature)\n",
    "\n",
    "        # 全连接层，将 BiLSTM 双向（即 hidden_size * 2）的隐藏状态映射到1个输出\n",
    "        self.fc = nn.Linear(lstm_hidden_size * 2, 1)\n",
    "\n",
    "    def forward(self, x):\n",
    "        \"\"\"\n",
    "        输入 x: (batch, 1, 60, 400)\n",
    "        \"\"\"\n",
    "        # CNN 部分：提取局部特征\n",
    "        x = torch.relu(self.conv1(x))  # -> (batch, 32, 60, 400)\n",
    "        x = self.pool1(x)  # -> (batch, 32, 30, 400)\n",
    "        x = torch.relu(self.conv2(x))  # -> (batch, 64, 30, 400)\n",
    "        x = self.pool2(x)  # -> (batch, 64, 15, 400)\n",
    "\n",
    "        # 自适应平均池化将高度降为 1，保留宽度（即时间步数），得到 (batch, 64, 1, 400)\n",
    "        x = self.adaptive_pool(x)\n",
    "        x = x.squeeze(2)  # -> (batch, 64, 400)\n",
    "\n",
    "        # LSTM 要求输入形状为 (seq_len, batch, feature)，此处将宽度作为时间步长\n",
    "        x = x.permute(2, 0, 1)  # -> (400, batch, 64)\n",
    "\n",
    "        # BiLSTM 层：输出全部时间步的特征以及最后的隐藏状态\n",
    "        lstm_out, (h_n, c_n) = self.bilstm(x)\n",
    "\n",
    "        # h_n shape: (num_layers * num_directions, batch, hidden_size)\n",
    "        # 这里采用单层双向 LSTM 的情况，即 h_n 的形状为 (2, batch, lstm_hidden_size)\n",
    "        # 拼接正反向最后一层的隐藏状态作为整体特征向量\n",
    "        if self.bilstm.bidirectional:\n",
    "            # 注意：对于多层的情况，可选择只取最后一层\n",
    "            h_forward = h_n[0]  # (batch, lstm_hidden_size)\n",
    "            h_backward = h_n[1]  # (batch, lstm_hidden_size)\n",
    "            h = torch.cat((h_forward, h_backward), dim=1)  # -> (batch, lstm_hidden_size*2)\n",
    "        else:\n",
    "            h = h_n[-1]  # (batch, lstm_hidden_size)\n",
    "\n",
    "        h = self.dropout(h)\n",
    "        out = self.fc(h)  # (batch, 1)\n",
    "        out = torch.sigmoid(out)\n",
    "\n",
    "        return out\n",
    "\n",
    "\n",
    "\n",
    "\n",
    "\n"
   ]
  },
  {
   "cell_type": "code",
   "execution_count": 19,
   "id": "2cf09e9a-31fa-4df7-aa39-40ebdd6d3c76",
   "metadata": {},
   "outputs": [
    {
     "name": "stdout",
     "output_type": "stream",
     "text": [
      "CNNBiLSTMClassifier(\n",
      "  (conv1): Conv2d(1, 32, kernel_size=(3, 3), stride=(1, 1), padding=(1, 1))\n",
      "  (pool1): MaxPool2d(kernel_size=(2, 1), stride=(2, 1), padding=0, dilation=1, ceil_mode=False)\n",
      "  (conv2): Conv2d(32, 64, kernel_size=(3, 3), stride=(1, 1), padding=(1, 1))\n",
      "  (pool2): MaxPool2d(kernel_size=(2, 1), stride=(2, 1), padding=0, dilation=1, ceil_mode=False)\n",
      "  (adaptive_pool): AdaptiveAvgPool2d(output_size=(1, None))\n",
      "  (dropout): Dropout(p=0.5, inplace=False)\n",
      "  (bilstm): LSTM(64, 128, bidirectional=True)\n",
      "  (fc): Linear(in_features=256, out_features=1, bias=True)\n",
      ")\n",
      "模型输出: tensor([[0.4660],\n",
      "        [0.4506]], device='cuda:0', grad_fn=<SigmoidBackward0>)\n"
     ]
    }
   ],
   "source": [
    "model = CNNBiLSTMClassifier(lstm_hidden_size=128, lstm_num_layers=1).to(device)\n",
    "print(model)\n",
    "\n",
    "dummy_input = torch.randn(2, 1, 60, 400).to(device)\n",
    "output = model(dummy_input)\n",
    "print(\"model output:\", output)"
   ]
  },
  {
   "cell_type": "code",
   "execution_count": 20,
   "id": "5887cee8-fb1d-4c4a-83da-5a4bc9bffd9f",
   "metadata": {
    "tags": []
   },
   "outputs": [],
   "source": [
    "# ----------------------------------------\n",
    "# 5. Define CNNLSTMTrainer\n",
    "# ----------------------------------------\n",
    "class CNNTrainer:\n",
    "    \"\"\"\n",
    "    Trainer 类整合了模型定义、训练过程、早停、checkpoint 保存以及 wandb 可视化。\n",
    "    使用 CNNClassifier 模型进行训练。\n",
    "    \"\"\"\n",
    "\n",
    "    def __init__(self, train_dataloader, val_dataloader=None, device=None, lr=0.001, patience=4,\n",
    "                 checkpoint_path=\"CNNBiLSTM.pt\", project_name=\"DeepFake4Celeb_CNNBiLSTM\"):\n",
    "        self.train_dataloader = train_dataloader\n",
    "        self.val_dataloader = val_dataloader\n",
    "        self.device = device if device else torch.device(\"cuda\" if torch.cuda.is_available() else \"cpu\")\n",
    "        self.checkpoint_path = checkpoint_path\n",
    "        self.patience = patience\n",
    "\n",
    "        # 使用 CNNBiLSTMClassifier 模型\n",
    "        self.model = CNNBiLSTMClassifier().to(self.device)\n",
    "\n",
    "        # 定义损失函数和优化器\n",
    "        self.criterion = nn.BCELoss()\n",
    "        self.optimizer = optim.Adam(self.model.parameters(), lr=lr)\n",
    "\n",
    "        # 初始化 wandb\n",
    "        wandb.init(project=project_name)\n",
    "        wandb.watch(self.model, log=\"all\")\n",
    "\n",
    "        # 用于保存最佳模型指标（以验证 loss 为标准）\n",
    "        self.best_val_loss = float('inf')\n",
    "        self.no_improve_count = 0\n",
    "\n",
    "    def train_one_epoch(self):\n",
    "        self.model.train()\n",
    "        running_loss = 0.0\n",
    "        running_correct = 0\n",
    "        total_samples = 0\n",
    "\n",
    "        progress_bar = tqdm(self.train_dataloader, desc=\"Training\", leave=False)\n",
    "        # 假设 DataLoader 返回 (features, labels, speaker)，这里忽略 speaker\n",
    "        for features, labels, _ in progress_bar:\n",
    "            features = features.to(self.device)\n",
    "            labels = labels.to(self.device).float()\n",
    "\n",
    "            self.optimizer.zero_grad()\n",
    "            outputs = self.model(features).squeeze(1)\n",
    "            loss = self.criterion(outputs, labels)\n",
    "            loss.backward()\n",
    "            self.optimizer.step()\n",
    "\n",
    "            running_loss += loss.item() * labels.size(0)\n",
    "            preds = (outputs >= 0.5).long()\n",
    "            running_correct += (preds == labels.long()).sum().item()\n",
    "            total_samples += labels.size(0)\n",
    "\n",
    "            progress_bar.set_postfix(loss=loss.item())\n",
    "\n",
    "        epoch_loss = running_loss / total_samples\n",
    "        epoch_acc = running_correct / total_samples\n",
    "        return epoch_loss, epoch_acc\n",
    "\n",
    "    def validate_one_epoch(self):\n",
    "        if self.val_dataloader is None:\n",
    "            return None, None\n",
    "\n",
    "        self.model.eval()\n",
    "        running_loss = 0.0\n",
    "        running_correct = 0\n",
    "        total_samples = 0\n",
    "\n",
    "        progress_bar = tqdm(self.val_dataloader, desc=\"Validating\", leave=False)\n",
    "        with torch.no_grad():\n",
    "            for features, labels, _ in progress_bar:\n",
    "                features = features.to(self.device)\n",
    "                labels = labels.to(self.device).float()\n",
    "\n",
    "                outputs = self.model(features).squeeze(1)\n",
    "                loss = self.criterion(outputs, labels)\n",
    "                running_loss += loss.item() * labels.size(0)\n",
    "\n",
    "                preds = (outputs >= 0.5).long()\n",
    "                running_correct += (preds == labels.long()).sum().item()\n",
    "                total_samples += labels.size(0)\n",
    "\n",
    "                progress_bar.set_postfix(loss=loss.item())\n",
    "\n",
    "        val_loss = running_loss / total_samples\n",
    "        val_acc = running_correct / total_samples\n",
    "        return val_loss, val_acc\n",
    "\n",
    "    def save_model(self, filepath):\n",
    "        \"\"\"保存当前模型参数到指定文件\"\"\"\n",
    "        torch.save(self.model.state_dict(), filepath)\n",
    "        print(f\"Model saved to {filepath}\")\n",
    "\n",
    "    def load_model(self, filepath):\n",
    "        \"\"\"加载模型参数\"\"\"\n",
    "        self.model.load_state_dict(torch.load(filepath, map_location=self.device))\n",
    "        self.model.to(self.device)\n",
    "        print(f\"Model loaded from {filepath}\")\n",
    "\n",
    "    def predict(self, test_dataloader):\n",
    "        \"\"\"\n",
    "        对测试数据进行预测，返回预测结果列表\n",
    "        \"\"\"\n",
    "        self.model.eval()\n",
    "        predictions = []\n",
    "        with torch.no_grad():\n",
    "            for features, _, _ in test_dataloader:\n",
    "                features = features.to(self.device)\n",
    "                outputs = self.model(features).squeeze(1)\n",
    "                preds = (outputs >= 0.5).long().cpu().numpy()\n",
    "                predictions.extend(preds)\n",
    "        return predictions\n",
    "\n",
    "    def fit(self, num_epochs=20):\n",
    "        for epoch in range(num_epochs):\n",
    "            train_loss, train_acc = self.train_one_epoch()\n",
    "            val_loss, val_acc = self.validate_one_epoch()\n",
    "\n",
    "            if val_loss is not None:\n",
    "                print(\n",
    "                    f\"Epoch [{epoch + 1}/{num_epochs}] | Train Loss: {train_loss:.4f}, Train Acc: {train_acc:.4f} | Val Loss: {val_loss:.4f}, Val Acc: {val_acc:.4f}\")\n",
    "            else:\n",
    "                print(f\"Epoch [{epoch + 1}/{num_epochs}] | Train Loss: {train_loss:.4f}, Train Acc: {train_acc:.4f}\")\n",
    "\n",
    "            # 若验证 loss 改进，则保存最佳模型，并重置未改进计数器；否则累计未改进轮数\n",
    "            if val_loss is not None:\n",
    "                if val_loss < self.best_val_loss:\n",
    "                    self.best_val_loss = val_loss\n",
    "                    self.no_improve_count = 0\n",
    "                    self.save_model(self.checkpoint_path)\n",
    "                else:\n",
    "                    self.no_improve_count += 1\n",
    "                    print(f\"No improvement count: {self.no_improve_count}/{self.patience}\")\n",
    "                    if self.no_improve_count >= self.patience:\n",
    "                        print(\"Early stopping triggered.\")\n",
    "                        break\n",
    "\n",
    "            log_dict = {\n",
    "                \"train_loss\": train_loss,\n",
    "                \"train_acc\": train_acc,\n",
    "                \"epoch\": epoch + 1\n",
    "            }\n",
    "            if val_loss is not None:\n",
    "                log_dict[\"val_loss\"] = val_loss\n",
    "                log_dict[\"val_acc\"] = val_acc\n",
    "\n",
    "            wandb.log(log_dict)"
   ]
  },
  {
   "cell_type": "code",
   "execution_count": 14,
   "id": "08ff8768-d030-41f4-aceb-c9b16a6a0272",
   "metadata": {},
   "outputs": [
    {
     "name": "stdout",
     "output_type": "stream",
     "text": [
      "Train samples: 11755, Validation samples: 3450\n"
     ]
    }
   ],
   "source": [
    "# ------------------------------\n",
    "# 构造数据集和 DataLoader\n",
    "# ------------------------------\n",
    "dataset = AudioMFCCDataset(mfcc_features)\n",
    "\n",
    "# 使用 GroupKFold 划分，防止同一 speaker 出现在训练和验证集中\n",
    "splits = dataset.get_group_splits(n_splits=6)\n",
    "train_idx, valid_idx = splits[0]  # 取第一个拆分\n",
    "print(f\"Train samples: {len(train_idx)}, Validation samples: {len(valid_idx)}\")\n",
    "\n",
    "from torch.utils.data import Subset\n",
    "\n",
    "train_dataset = Subset(dataset, train_idx)\n",
    "valid_dataset = Subset(dataset, valid_idx)\n",
    "\n",
    "# 构造 DataLoader\n",
    "train_loader = DataLoader(train_dataset, batch_size=32, shuffle=True, num_workers=16)\n",
    "valid_loader = DataLoader(valid_dataset, batch_size=32, shuffle=False, num_workers=16)"
   ]
  },
  {
   "cell_type": "code",
   "execution_count": 21,
   "id": "602c26d1-6047-47ca-9e2f-4e08a8a4c884",
   "metadata": {
    "tags": []
   },
   "outputs": [
    {
     "data": {
      "application/vnd.jupyter.widget-view+json": {
       "model_id": "d3ba31d5418b41baa420e08ba1962d7b",
       "version_major": 2,
       "version_minor": 0
      },
      "text/plain": [
       "Training:   0%|          | 0/368 [00:00<?, ?it/s]"
      ]
     },
     "metadata": {},
     "output_type": "display_data"
    },
    {
     "data": {
      "application/vnd.jupyter.widget-view+json": {
       "model_id": "dffbfd8a6240401ba71ac44d896a96f1",
       "version_major": 2,
       "version_minor": 0
      },
      "text/plain": [
       "Validating:   0%|          | 0/108 [00:00<?, ?it/s]"
      ]
     },
     "metadata": {},
     "output_type": "display_data"
    },
    {
     "name": "stdout",
     "output_type": "stream",
     "text": [
      "Epoch [1/50] | Train Loss: 0.3001, Train Acc: 0.8809 | Val Loss: 0.2017, Val Acc: 0.9090\n",
      "Model saved to deepfake_detection_best.pt\n"
     ]
    },
    {
     "data": {
      "application/vnd.jupyter.widget-view+json": {
       "model_id": "1726b7ecaf654e07b06e6c0deebc8712",
       "version_major": 2,
       "version_minor": 0
      },
      "text/plain": [
       "Training:   0%|          | 0/368 [00:00<?, ?it/s]"
      ]
     },
     "metadata": {},
     "output_type": "display_data"
    },
    {
     "data": {
      "application/vnd.jupyter.widget-view+json": {
       "model_id": "b21c4e97d0a0456a9bc93f35cf32517b",
       "version_major": 2,
       "version_minor": 0
      },
      "text/plain": [
       "Validating:   0%|          | 0/108 [00:00<?, ?it/s]"
      ]
     },
     "metadata": {},
     "output_type": "display_data"
    },
    {
     "name": "stdout",
     "output_type": "stream",
     "text": [
      "Epoch [2/50] | Train Loss: 0.1057, Train Acc: 0.9660 | Val Loss: 0.0842, Val Acc: 0.9629\n",
      "Model saved to deepfake_detection_best.pt\n"
     ]
    },
    {
     "data": {
      "application/vnd.jupyter.widget-view+json": {
       "model_id": "97036ffb9c5b487e8fd9ca10d06f7931",
       "version_major": 2,
       "version_minor": 0
      },
      "text/plain": [
       "Training:   0%|          | 0/368 [00:00<?, ?it/s]"
      ]
     },
     "metadata": {},
     "output_type": "display_data"
    },
    {
     "data": {
      "application/vnd.jupyter.widget-view+json": {
       "model_id": "0671ddebe0234a5cb7e5dfebe49f14e8",
       "version_major": 2,
       "version_minor": 0
      },
      "text/plain": [
       "Validating:   0%|          | 0/108 [00:00<?, ?it/s]"
      ]
     },
     "metadata": {},
     "output_type": "display_data"
    },
    {
     "name": "stdout",
     "output_type": "stream",
     "text": [
      "Epoch [3/50] | Train Loss: 0.0773, Train Acc: 0.9768 | Val Loss: 0.1009, Val Acc: 0.9548\n",
      "No improvement count: 1/5\n"
     ]
    },
    {
     "data": {
      "application/vnd.jupyter.widget-view+json": {
       "model_id": "ce002621c674417cbe9e7d6040c59747",
       "version_major": 2,
       "version_minor": 0
      },
      "text/plain": [
       "Training:   0%|          | 0/368 [00:00<?, ?it/s]"
      ]
     },
     "metadata": {},
     "output_type": "display_data"
    },
    {
     "data": {
      "application/vnd.jupyter.widget-view+json": {
       "model_id": "2217e0a353d74905abeb38b60bc35b5f",
       "version_major": 2,
       "version_minor": 0
      },
      "text/plain": [
       "Validating:   0%|          | 0/108 [00:00<?, ?it/s]"
      ]
     },
     "metadata": {},
     "output_type": "display_data"
    },
    {
     "name": "stdout",
     "output_type": "stream",
     "text": [
      "Epoch [4/50] | Train Loss: 0.0703, Train Acc: 0.9784 | Val Loss: 0.1050, Val Acc: 0.9496\n",
      "No improvement count: 2/5\n"
     ]
    },
    {
     "data": {
      "application/vnd.jupyter.widget-view+json": {
       "model_id": "8e96ea16f141479b8b04b9fe87be4942",
       "version_major": 2,
       "version_minor": 0
      },
      "text/plain": [
       "Training:   0%|          | 0/368 [00:00<?, ?it/s]"
      ]
     },
     "metadata": {},
     "output_type": "display_data"
    },
    {
     "data": {
      "application/vnd.jupyter.widget-view+json": {
       "model_id": "b6414d4afd53438fa2c47228f9372d33",
       "version_major": 2,
       "version_minor": 0
      },
      "text/plain": [
       "Validating:   0%|          | 0/108 [00:00<?, ?it/s]"
      ]
     },
     "metadata": {},
     "output_type": "display_data"
    },
    {
     "name": "stdout",
     "output_type": "stream",
     "text": [
      "Epoch [5/50] | Train Loss: 0.0628, Train Acc: 0.9819 | Val Loss: 0.1229, Val Acc: 0.9487\n",
      "No improvement count: 3/5\n"
     ]
    },
    {
     "data": {
      "application/vnd.jupyter.widget-view+json": {
       "model_id": "d5dd5615d3014069843723c16398311a",
       "version_major": 2,
       "version_minor": 0
      },
      "text/plain": [
       "Training:   0%|          | 0/368 [00:00<?, ?it/s]"
      ]
     },
     "metadata": {},
     "output_type": "display_data"
    },
    {
     "data": {
      "application/vnd.jupyter.widget-view+json": {
       "model_id": "14edf716b2f1417398f17e98813892c2",
       "version_major": 2,
       "version_minor": 0
      },
      "text/plain": [
       "Validating:   0%|          | 0/108 [00:00<?, ?it/s]"
      ]
     },
     "metadata": {},
     "output_type": "display_data"
    },
    {
     "name": "stdout",
     "output_type": "stream",
     "text": [
      "Epoch [6/50] | Train Loss: 0.0593, Train Acc: 0.9820 | Val Loss: 0.0654, Val Acc: 0.9754\n",
      "Model saved to deepfake_detection_best.pt\n"
     ]
    },
    {
     "data": {
      "application/vnd.jupyter.widget-view+json": {
       "model_id": "dd4216f7c383496d934563594e65b47f",
       "version_major": 2,
       "version_minor": 0
      },
      "text/plain": [
       "Training:   0%|          | 0/368 [00:00<?, ?it/s]"
      ]
     },
     "metadata": {},
     "output_type": "display_data"
    },
    {
     "data": {
      "application/vnd.jupyter.widget-view+json": {
       "model_id": "909b4bf734b24c53bf1d613a0711c7fd",
       "version_major": 2,
       "version_minor": 0
      },
      "text/plain": [
       "Validating:   0%|          | 0/108 [00:00<?, ?it/s]"
      ]
     },
     "metadata": {},
     "output_type": "display_data"
    },
    {
     "name": "stdout",
     "output_type": "stream",
     "text": [
      "Epoch [7/50] | Train Loss: 0.0571, Train Acc: 0.9824 | Val Loss: 0.1154, Val Acc: 0.9513\n",
      "No improvement count: 1/5\n"
     ]
    },
    {
     "data": {
      "application/vnd.jupyter.widget-view+json": {
       "model_id": "355a8128392e4090a0ffaeb80f24e35b",
       "version_major": 2,
       "version_minor": 0
      },
      "text/plain": [
       "Training:   0%|          | 0/368 [00:00<?, ?it/s]"
      ]
     },
     "metadata": {},
     "output_type": "display_data"
    },
    {
     "data": {
      "application/vnd.jupyter.widget-view+json": {
       "model_id": "18803420cd88478d962b17f55592574f",
       "version_major": 2,
       "version_minor": 0
      },
      "text/plain": [
       "Validating:   0%|          | 0/108 [00:00<?, ?it/s]"
      ]
     },
     "metadata": {},
     "output_type": "display_data"
    },
    {
     "name": "stdout",
     "output_type": "stream",
     "text": [
      "Epoch [8/50] | Train Loss: 0.0512, Train Acc: 0.9841 | Val Loss: 0.1619, Val Acc: 0.9296\n",
      "No improvement count: 2/5\n"
     ]
    },
    {
     "data": {
      "application/vnd.jupyter.widget-view+json": {
       "model_id": "69faba6d7f284666aadb320c4aefa63e",
       "version_major": 2,
       "version_minor": 0
      },
      "text/plain": [
       "Training:   0%|          | 0/368 [00:00<?, ?it/s]"
      ]
     },
     "metadata": {},
     "output_type": "display_data"
    },
    {
     "data": {
      "application/vnd.jupyter.widget-view+json": {
       "model_id": "798045b0582648e3b15c0c0f4253f735",
       "version_major": 2,
       "version_minor": 0
      },
      "text/plain": [
       "Validating:   0%|          | 0/108 [00:00<?, ?it/s]"
      ]
     },
     "metadata": {},
     "output_type": "display_data"
    },
    {
     "name": "stdout",
     "output_type": "stream",
     "text": [
      "Epoch [9/50] | Train Loss: 0.0441, Train Acc: 0.9855 | Val Loss: 0.0417, Val Acc: 0.9800\n",
      "Model saved to deepfake_detection_best.pt\n"
     ]
    },
    {
     "data": {
      "application/vnd.jupyter.widget-view+json": {
       "model_id": "e0f458b901db4767a8f57e8f3cc7f5ad",
       "version_major": 2,
       "version_minor": 0
      },
      "text/plain": [
       "Training:   0%|          | 0/368 [00:00<?, ?it/s]"
      ]
     },
     "metadata": {},
     "output_type": "display_data"
    },
    {
     "data": {
      "application/vnd.jupyter.widget-view+json": {
       "model_id": "c156b248dce44eaf92a09a2a39d3ff7f",
       "version_major": 2,
       "version_minor": 0
      },
      "text/plain": [
       "Validating:   0%|          | 0/108 [00:00<?, ?it/s]"
      ]
     },
     "metadata": {},
     "output_type": "display_data"
    },
    {
     "name": "stdout",
     "output_type": "stream",
     "text": [
      "Epoch [10/50] | Train Loss: 0.0436, Train Acc: 0.9869 | Val Loss: 0.0694, Val Acc: 0.9655\n",
      "No improvement count: 1/5\n"
     ]
    },
    {
     "data": {
      "application/vnd.jupyter.widget-view+json": {
       "model_id": "13e2197c1c19479ba75d350f7a19dd89",
       "version_major": 2,
       "version_minor": 0
      },
      "text/plain": [
       "Training:   0%|          | 0/368 [00:00<?, ?it/s]"
      ]
     },
     "metadata": {},
     "output_type": "display_data"
    },
    {
     "data": {
      "application/vnd.jupyter.widget-view+json": {
       "model_id": "5fdeafd61bb741128790eca540494dd9",
       "version_major": 2,
       "version_minor": 0
      },
      "text/plain": [
       "Validating:   0%|          | 0/108 [00:00<?, ?it/s]"
      ]
     },
     "metadata": {},
     "output_type": "display_data"
    },
    {
     "name": "stdout",
     "output_type": "stream",
     "text": [
      "Epoch [11/50] | Train Loss: 0.0357, Train Acc: 0.9877 | Val Loss: 0.1065, Val Acc: 0.9603\n",
      "No improvement count: 2/5\n"
     ]
    },
    {
     "data": {
      "application/vnd.jupyter.widget-view+json": {
       "model_id": "dc90a8360934484fa0013fe318b2084b",
       "version_major": 2,
       "version_minor": 0
      },
      "text/plain": [
       "Training:   0%|          | 0/368 [00:00<?, ?it/s]"
      ]
     },
     "metadata": {},
     "output_type": "display_data"
    },
    {
     "data": {
      "application/vnd.jupyter.widget-view+json": {
       "model_id": "6dba5d00db384aae88101c14749b5c17",
       "version_major": 2,
       "version_minor": 0
      },
      "text/plain": [
       "Validating:   0%|          | 0/108 [00:00<?, ?it/s]"
      ]
     },
     "metadata": {},
     "output_type": "display_data"
    },
    {
     "name": "stdout",
     "output_type": "stream",
     "text": [
      "Epoch [12/50] | Train Loss: 0.0416, Train Acc: 0.9853 | Val Loss: 0.0668, Val Acc: 0.9693\n",
      "No improvement count: 3/5\n"
     ]
    },
    {
     "data": {
      "application/vnd.jupyter.widget-view+json": {
       "model_id": "2b885a84faa041cfb570f4115650e8ad",
       "version_major": 2,
       "version_minor": 0
      },
      "text/plain": [
       "Training:   0%|          | 0/368 [00:00<?, ?it/s]"
      ]
     },
     "metadata": {},
     "output_type": "display_data"
    },
    {
     "data": {
      "application/vnd.jupyter.widget-view+json": {
       "model_id": "04508c2332ec493e93fc73f848bde0bc",
       "version_major": 2,
       "version_minor": 0
      },
      "text/plain": [
       "Validating:   0%|          | 0/108 [00:00<?, ?it/s]"
      ]
     },
     "metadata": {},
     "output_type": "display_data"
    },
    {
     "name": "stdout",
     "output_type": "stream",
     "text": [
      "Epoch [13/50] | Train Loss: 0.0327, Train Acc: 0.9891 | Val Loss: 0.1269, Val Acc: 0.9467\n",
      "No improvement count: 4/5\n"
     ]
    },
    {
     "data": {
      "application/vnd.jupyter.widget-view+json": {
       "model_id": "926b7fb4795741f3ba5058e52f3af8e6",
       "version_major": 2,
       "version_minor": 0
      },
      "text/plain": [
       "Training:   0%|          | 0/368 [00:00<?, ?it/s]"
      ]
     },
     "metadata": {},
     "output_type": "display_data"
    },
    {
     "data": {
      "application/vnd.jupyter.widget-view+json": {
       "model_id": "90b9abae7c314415bc1c366a6aea9977",
       "version_major": 2,
       "version_minor": 0
      },
      "text/plain": [
       "Validating:   0%|          | 0/108 [00:00<?, ?it/s]"
      ]
     },
     "metadata": {},
     "output_type": "display_data"
    },
    {
     "name": "stdout",
     "output_type": "stream",
     "text": [
      "Epoch [14/50] | Train Loss: 0.0333, Train Acc: 0.9884 | Val Loss: 0.0860, Val Acc: 0.9614\n",
      "No improvement count: 5/5\n",
      "Early stopping triggered.\n"
     ]
    }
   ],
   "source": [
    "trainer = CNNTrainer(\n",
    "    train_dataloader=train_loader,\n",
    "    val_dataloader=valid_loader,\n",
    "    device=device,\n",
    "    lr=0.0001,\n",
    "    patience=5,\n",
    "    checkpoint_path=\"CNNBiLSTM.pt\",\n",
    "    project_name=\"DeepFake4Celeb_CNNBiLSTM\"\n",
    ")\n",
    "\n",
    "trainer.fit(num_epochs=50)"
   ]
  },
  {
   "cell_type": "markdown",
   "id": "951eac73-63fc-4c0e-a7c7-849d92821fe1",
   "metadata": {},
   "source": [
    "# Evaluation on Test"
   ]
  },
  {
   "cell_type": "code",
   "execution_count": 79,
   "id": "c4b97852-18d3-4e44-b448-fb0b7609bc09",
   "metadata": {},
   "outputs": [
    {
     "name": "stdout",
     "output_type": "stream",
     "text": [
      "Model loaded from deepfake_detection_best.pt\n"
     ]
    }
   ],
   "source": [
    "test_audio = audio_loader.load_audio_from_csv(csv_file=\"../Data/meta_fianl.csv\", allowed_set=[\"test\"],\n",
    "                                              allowed_data_source=\"all\")\n",
    "mfcc4test = mfcc_extractor.extract_batch(test_audio)\n",
    "mfcc4test_dataset = AudioMFCCDataset(mfcc4test)\n",
    "test_dataloader = DataLoader(mfcc4test_dataset, batch_size=32, shuffle=False)\n",
    "trainer.load_model(\"CNNBiLSTM.pt\")"
   ]
  },
  {
   "cell_type": "code",
   "execution_count": 80,
   "id": "9f9fb87a-f3b8-4b85-8866-936a87a9a544",
   "metadata": {},
   "outputs": [
    {
     "name": "stdout",
     "output_type": "stream",
     "text": [
      "Test DataLoader type: <class 'torch.utils.data.dataloader.DataLoader'>\n",
      "Number of batches: 1893\n",
      "\n",
      "Batch 0:\n",
      " - Features shape: torch.Size([32, 1, 60, 400])\n",
      " - Labels shape: torch.Size([32])\n",
      " - Speakers sample: ljspeech_waveglow\n",
      "\n",
      "Batch 1:\n",
      " - Features shape: torch.Size([32, 1, 60, 400])\n",
      " - Labels shape: torch.Size([32])\n",
      " - Speakers sample: Eddie_Izzard\n"
     ]
    }
   ],
   "source": [
    "# 打印 test_dataloader 的类型和长度（batch 数量）\n",
    "print(\"Test DataLoader type:\", type(test_dataloader))\n",
    "print(\"Number of batches:\", len(test_dataloader))\n",
    "\n",
    "# 遍历前几个 batch 并打印信息\n",
    "for i, batch in enumerate(test_dataloader):\n",
    "    print(f\"\\nBatch {i}:\")\n",
    "    # 假设每个 batch 返回 (features, labels, speaker)\n",
    "    if isinstance(batch, (list, tuple)) and len(batch) >= 2:\n",
    "        features = batch[0]\n",
    "        labels = batch[1]\n",
    "        print(\" - Features shape:\", features.shape)\n",
    "        print(\" - Labels shape:\", labels.shape)\n",
    "        # speaker 信息可能是列表或 tensor，这里只打印第一个 sample 的 speaker 信息\n",
    "        if len(batch) >= 3:\n",
    "            speakers = batch[2]\n",
    "            print(\" - Speakers sample:\", speakers[0])\n",
    "    else:\n",
    "        print(\" - Batch content:\", batch)\n",
    "\n",
    "    # 仅打印前 2 个 batch 的信息\n",
    "    if i >= 1:\n",
    "        break"
   ]
  },
  {
   "cell_type": "code",
   "execution_count": 90,
   "id": "2639df33-33d1-4151-b578-17ddf0aa8516",
   "metadata": {
    "tags": []
   },
   "outputs": [],
   "source": [
    "def evaluate_model(trainer, test_dataloader):\n",
    "    \"\"\"\n",
    "    对测试集进行评估，计算 recall, precision, accuracy, AUC, PR AUC, EER, 混淆矩阵等指标，\n",
    "    并绘制 Precision-Recall 曲线和 ROC 曲线。\n",
    "\n",
    "    参数：\n",
    "    ------\n",
    "    trainer : CNNTrainer 实例\n",
    "        包含训练好模型和设备信息\n",
    "    test_dataloader : DataLoader\n",
    "        测试数据的 DataLoader，建议返回格式为 (features, speaker, labels)\n",
    "    返回：\n",
    "    ------\n",
    "    metrics : dict\n",
    "        包含各项评估指标的字典，方便 wandb.log() 记录\n",
    "    \"\"\"\n",
    "    from sklearn.metrics import (roc_curve, precision_recall_curve, roc_auc_score,\n",
    "                                 average_precision_score, confusion_matrix,\n",
    "                                 classification_report, accuracy_score, recall_score, precision_score)\n",
    "    import numpy as np\n",
    "    import matplotlib.pyplot as plt\n",
    "\n",
    "    trainer.model.eval()\n",
    "    all_preds = []\n",
    "    all_probs = []\n",
    "    all_labels = []\n",
    "\n",
    "    with torch.no_grad():\n",
    "        for batch in tqdm(test_dataloader, desc=\"Evaluating\", leave=False):\n",
    "            # 如果返回的是 (features, speaker, labels) 则解包为 features, speaker, labels\n",
    "            if len(batch) == 3:\n",
    "                features, labels, _ = batch\n",
    "            else:\n",
    "                features, labels = batch\n",
    "\n",
    "            # 如果 labels 不是 Tensor，则尝试转换为 Tensor\n",
    "            if not isinstance(labels, torch.Tensor):\n",
    "                try:\n",
    "                    # 如果 labels 是列表或 tuple，且元素为字符串，则先转换为 float\n",
    "                    if isinstance(labels, (list, tuple)) and isinstance(labels[0], str):\n",
    "                        labels = torch.tensor([float(l) for l in labels], dtype=torch.float32)\n",
    "                    else:\n",
    "                        labels = torch.tensor(labels, dtype=torch.float32)\n",
    "                except Exception as e:\n",
    "                    print(\"Error converting labels to tensor:\", e)\n",
    "                    continue\n",
    "\n",
    "            features = features.to(trainer.device)\n",
    "            labels = labels.to(trainer.device).float()\n",
    "\n",
    "            outputs = trainer.model(features).squeeze(1)  # 输出形状 (batch,)\n",
    "            probs = outputs.cpu().numpy()  # 概率值\n",
    "            preds = (outputs >= 0.5).long().cpu().numpy()  # 二分类预测\n",
    "\n",
    "            all_preds.extend(preds)\n",
    "            all_probs.extend(probs)\n",
    "            all_labels.extend(labels.cpu().numpy())\n",
    "\n",
    "    all_preds = np.array(all_preds)\n",
    "    all_probs = np.array(all_probs)\n",
    "    all_labels = np.array(all_labels)\n",
    "\n",
    "    recall_val = recall_score(all_labels, all_preds)\n",
    "    precision_val = precision_score(all_labels, all_preds)\n",
    "    accuracy_val = accuracy_score(all_labels, all_preds)\n",
    "    auc_score = roc_auc_score(all_labels, all_probs)\n",
    "    average_precision = average_precision_score(all_labels, all_probs)\n",
    "    conf_matrix = confusion_matrix(all_labels, all_preds)\n",
    "    report = classification_report(all_labels, all_preds)\n",
    "\n",
    "    # 计算 Precision-Recall 曲线数据\n",
    "    precision_curve, recall_curve, _ = precision_recall_curve(all_labels, all_probs)\n",
    "\n",
    "    # 计算 ROC 曲线数据\n",
    "    fpr, tpr, thresholds = roc_curve(all_labels, all_probs)\n",
    "    fnr = 1 - tpr\n",
    "    abs_diffs = np.abs(fpr - fnr)\n",
    "    idx_eer = np.nanargmin(abs_diffs)\n",
    "    eer = fpr[idx_eer]\n",
    "\n",
    "    print(\"Accuracy: {:.4f}\".format(accuracy_val))\n",
    "    print(\"Precision: {:.4f}\".format(precision_val))\n",
    "    print(\"Recall: {:.4f}\".format(recall_val))\n",
    "    print(\"AUC: {:.4f}\".format(auc_score))\n",
    "    print(\"Average Precision (PR AUC): {:.4f}\".format(average_precision))\n",
    "    print(\"EER: {:.4f}\".format(eer))\n",
    "    print(\"Confusion Matrix:\\n\", conf_matrix)\n",
    "    print(\"Classification Report:\\n\", report)\n",
    "\n",
    "    # 绘制 Precision-Recall 曲线\n",
    "    plt.figure(figsize=(12, 5))\n",
    "    plt.subplot(1, 2, 1)\n",
    "    plt.plot(recall_curve, precision_curve, marker='.', label=\"PR Curve\")\n",
    "    plt.xlabel(\"Recall\")\n",
    "    plt.ylabel(\"Precision\")\n",
    "    plt.title(\"Precision-Recall Curve\")\n",
    "    plt.legend()\n",
    "    plt.grid(True)\n",
    "\n",
    "    # 绘制 ROC 曲线\n",
    "    plt.subplot(1, 2, 2)\n",
    "    plt.plot(fpr, tpr, marker='.', label=\"ROC Curve (AUC = {:.4f})\".format(auc_score))\n",
    "    plt.plot([0, 1], [0, 1], linestyle='--', color='gray', label=\"Random\")\n",
    "    plt.xlabel(\"False Positive Rate\")\n",
    "    plt.ylabel(\"True Positive Rate\")\n",
    "    plt.title(\"ROC Curve\")\n",
    "    plt.legend()\n",
    "    plt.grid(True)\n",
    "\n",
    "    plt.tight_layout()\n",
    "    plt.show()\n",
    "\n",
    "    metrics = {\n",
    "        \"accuracy\": accuracy_val,\n",
    "        \"precision\": precision_val,\n",
    "        \"recall\": recall_val,\n",
    "        \"auc\": auc_score,\n",
    "        \"average_precision\": average_precision,\n",
    "        \"eer\": eer,\n",
    "        \"confusion_matrix\": conf_matrix.tolist(),\n",
    "        \"classification_report\": report\n",
    "    }\n",
    "    return metrics"
   ]
  },
  {
   "cell_type": "code",
   "execution_count": 91,
   "id": "2b00da9e-61da-4f4c-9481-e42e180a5e92",
   "metadata": {},
   "outputs": [
    {
     "data": {
      "application/vnd.jupyter.widget-view+json": {
       "model_id": "39cebda31c1b4f23ae1995256f602b8b",
       "version_major": 2,
       "version_minor": 0
      },
      "text/plain": [
       "Evaluating:   0%|          | 0/1893 [00:00<?, ?it/s]"
      ]
     },
     "metadata": {},
     "output_type": "display_data"
    },
    {
     "name": "stdout",
     "output_type": "stream",
     "text": [
      "Accuracy: 0.5531\n",
      "Precision: 0.5585\n",
      "Recall: 0.9336\n",
      "AUC: 0.5905\n",
      "Average Precision (PR AUC): 0.6776\n",
      "EER: 0.4435\n",
      "Confusion Matrix:\n",
      " [[ 2084 24836]\n",
      " [ 2236 31415]]\n",
      "Classification Report:\n",
      "               precision    recall  f1-score   support\n",
      "\n",
      "         0.0       0.48      0.08      0.13     26920\n",
      "         1.0       0.56      0.93      0.70     33651\n",
      "\n",
      "    accuracy                           0.55     60571\n",
      "   macro avg       0.52      0.51      0.42     60571\n",
      "weighted avg       0.52      0.55      0.45     60571\n",
      "\n"
     ]
    },
    {
     "data": {
      "image/png": "[encoded data removed]",
      "text/plain": [
       "<Figure size 1200x500 with 2 Axes>"
      ]
     },
     "metadata": {},
     "output_type": "display_data"
    }
   ],
   "source": [
    "# 使用示例：\n",
    "# 假设 test_dataloader 已构造好，并且 trainer 是训练好的 CNNTrainer 对象\n",
    "metrics = evaluate_model(trainer, test_dataloader)\n",
    "\n",
    "# 记录指标到 wandb\n",
    "wandb.log(metrics)"
   ]
  },
  {
   "cell_type": "code",
   "execution_count": 87,
   "id": "e488d638-c474-4e10-a06d-36a6ac77d041",
   "metadata": {
    "tags": []
   },
   "outputs": [
    {
     "data": {
      "text/plain": [
       "{'accuracy': 0.5530534414158591,\n",
       " 'precision': 0.5584789603740378,\n",
       " 'recall': 0.9335532376452409,\n",
       " 'auc': 0.5904901441565006,\n",
       " 'average_precision': 0.6775763370530046,\n",
       " 'eer': 0.44346210995542346,\n",
       " 'confusion_matrix': [[2084, 24836], [2236, 31415]],\n",
       " 'classification_report': '              precision    recall  f1-score   support\\n\\n         0.0       0.48      0.08      0.13     26920\\n         1.0       0.56      0.93      0.70     33651\\n\\n    accuracy                           0.55     60571\\n   macro avg       0.52      0.51      0.42     60571\\nweighted avg       0.52      0.55      0.45     60571\\n'}"
      ]
     },
     "execution_count": 87,
     "metadata": {},
     "output_type": "execute_result"
    }
   ],
   "source": [
    "metrics"
   ]
  },
  {
   "cell_type": "code",
   "execution_count": null,
   "id": "2b2d4fd7-93bc-4775-a8b4-778bb30eb588",
   "metadata": {},
   "outputs": [],
   "source": []
  }
 ],
 "metadata": {
  "environment": {
   "kernel": "conda-base-py",
   "name": "workbench-notebooks.m128",
   "type": "gcloud",
   "uri": "us-docker.pkg.dev/deeplearning-platform-release/gcr.io/workbench-notebooks:m128"
  },
  "kernelspec": {
   "display_name": "Python 3 (ipykernel) (Local)",
   "language": "python",
   "name": "conda-base-py"
  },
  "language_info": {
   "codemirror_mode": {
    "name": "ipython",
    "version": 3
   },
   "file_extension": ".py",
   "mimetype": "text/x-python",
   "name": "python",
   "nbconvert_exporter": "python",
   "pygments_lexer": "ipython3",
   "version": "3.10.16"
  }
 },
 "nbformat": 4,
 "nbformat_minor": 5
}
